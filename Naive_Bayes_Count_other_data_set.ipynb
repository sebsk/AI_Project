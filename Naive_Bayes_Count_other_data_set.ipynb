{
 "cells": [
  {
   "cell_type": "code",
   "execution_count": 77,
   "metadata": {},
   "outputs": [],
   "source": [
    "from sklearn.naive_bayes import MultinomialNB\n",
    "import pandas as pd\n",
    "import numpy as np\n",
    "import matplotlib.pyplot as plt\n",
    "from sklearn.feature_extraction.text import CountVectorizer\n",
    "from sklearn.feature_extraction.text import TfidfVectorizer\n",
    "from sklearn.feature_extraction.text import HashingVectorizer\n",
    "from sklearn.model_selection import train_test_split\n",
    "from sklearn import metrics\n",
    "# plt.style.use('ggplot')\n",
    "# % matplotlib inline"
   ]
  },
  {
   "cell_type": "code",
   "execution_count": 78,
   "metadata": {},
   "outputs": [
    {
     "data": {
      "text/plain": [
       "Related and informative          685\n",
       "Related - but not informative    268\n",
       "Not related                      238\n",
       "Not applicable                     9\n",
       "Name: Informativeness, dtype: int64"
      ]
     },
     "execution_count": 78,
     "metadata": {},
     "output_type": "execute_result"
    }
   ],
   "source": [
    "df = pd.read_csv('CrisisLexT26/2012_Colorado_wildfires/2012_Colorado_wildfires-tweets_labeled.csv') # change the file location if needed\n",
    "\n",
    "col_dict = {}\n",
    "for old_feature in df.columns.values:\n",
    "    col_dict.update({old_feature: old_feature.replace(' ','')})\n",
    "df.rename(columns=col_dict, inplace=True)\n",
    "\n",
    "df.Informativeness.value_counts()"
   ]
  },
  {
   "cell_type": "code",
   "execution_count": 79,
   "metadata": {},
   "outputs": [
    {
     "data": {
      "text/plain": [
       "Related and informative          622\n",
       "Related - but not informative    257\n",
       "Not related                      238\n",
       "Name: Informativeness, dtype: int64"
      ]
     },
     "execution_count": 79,
     "metadata": {},
     "output_type": "execute_result"
    }
   ],
   "source": [
    "df = df[df.InformationSource != 'Government']\n",
    "df = df[df.Informativeness!='Not applicable'].reset_index(drop=True)\n",
    "df.Informativeness.value_counts()"
   ]
  },
  {
   "cell_type": "code",
   "execution_count": 80,
   "metadata": {},
   "outputs": [
    {
     "data": {
      "text/html": [
       "<div>\n",
       "<style scoped>\n",
       "    .dataframe tbody tr th:only-of-type {\n",
       "        vertical-align: middle;\n",
       "    }\n",
       "\n",
       "    .dataframe tbody tr th {\n",
       "        vertical-align: top;\n",
       "    }\n",
       "\n",
       "    .dataframe thead th {\n",
       "        text-align: right;\n",
       "    }\n",
       "</style>\n",
       "<table border=\"1\" class=\"dataframe\">\n",
       "  <thead>\n",
       "    <tr style=\"text-align: right;\">\n",
       "      <th></th>\n",
       "      <th>TweetID</th>\n",
       "      <th>TweetText</th>\n",
       "      <th>InformationSource</th>\n",
       "      <th>InformationType</th>\n",
       "      <th>Informativeness</th>\n",
       "      <th>label</th>\n",
       "    </tr>\n",
       "  </thead>\n",
       "  <tbody>\n",
       "    <tr>\n",
       "      <th>0</th>\n",
       "      <td>211040709124440064</td>\n",
       "      <td>#Intern #US #TATTOO #Wisconsin #Ohio #NC #PA #...</td>\n",
       "      <td>Not labeled</td>\n",
       "      <td>Not labeled</td>\n",
       "      <td>Not related</td>\n",
       "      <td>Not related or not informative</td>\n",
       "    </tr>\n",
       "    <tr>\n",
       "      <th>1</th>\n",
       "      <td>211111710294163457</td>\n",
       "      <td>RT @Jack4Ward: Get in on the fun every Thursda...</td>\n",
       "      <td>Not labeled</td>\n",
       "      <td>Not labeled</td>\n",
       "      <td>Not related</td>\n",
       "      <td>Not related or not informative</td>\n",
       "    </tr>\n",
       "    <tr>\n",
       "      <th>2</th>\n",
       "      <td>211157222699433985</td>\n",
       "      <td>Welcome to our newest STUDENTathlete- Reagan B...</td>\n",
       "      <td>Not labeled</td>\n",
       "      <td>Not labeled</td>\n",
       "      <td>Not related</td>\n",
       "      <td>Not related or not informative</td>\n",
       "    </tr>\n",
       "    <tr>\n",
       "      <th>3</th>\n",
       "      <td>211162553659830272</td>\n",
       "      <td>Denver Post: #Colorado governor signs bill cre...</td>\n",
       "      <td>Not labeled</td>\n",
       "      <td>Not labeled</td>\n",
       "      <td>Not related</td>\n",
       "      <td>Not related or not informative</td>\n",
       "    </tr>\n",
       "    <tr>\n",
       "      <th>4</th>\n",
       "      <td>211216962162933761</td>\n",
       "      <td>Pretty sure I'm going to live in Manitou Sprin...</td>\n",
       "      <td>Not labeled</td>\n",
       "      <td>Not labeled</td>\n",
       "      <td>Not related</td>\n",
       "      <td>Not related or not informative</td>\n",
       "    </tr>\n",
       "  </tbody>\n",
       "</table>\n",
       "</div>"
      ],
      "text/plain": [
       "              TweetID                                          TweetText  \\\n",
       "0  211040709124440064  #Intern #US #TATTOO #Wisconsin #Ohio #NC #PA #...   \n",
       "1  211111710294163457  RT @Jack4Ward: Get in on the fun every Thursda...   \n",
       "2  211157222699433985  Welcome to our newest STUDENTathlete- Reagan B...   \n",
       "3  211162553659830272  Denver Post: #Colorado governor signs bill cre...   \n",
       "4  211216962162933761  Pretty sure I'm going to live in Manitou Sprin...   \n",
       "\n",
       "  InformationSource InformationType Informativeness  \\\n",
       "0       Not labeled     Not labeled     Not related   \n",
       "1       Not labeled     Not labeled     Not related   \n",
       "2       Not labeled     Not labeled     Not related   \n",
       "3       Not labeled     Not labeled     Not related   \n",
       "4       Not labeled     Not labeled     Not related   \n",
       "\n",
       "                            label  \n",
       "0  Not related or not informative  \n",
       "1  Not related or not informative  \n",
       "2  Not related or not informative  \n",
       "3  Not related or not informative  \n",
       "4  Not related or not informative  "
      ]
     },
     "execution_count": 80,
     "metadata": {},
     "output_type": "execute_result"
    }
   ],
   "source": [
    "label = ['Not related or not informative'] * df.shape[0]\n",
    "idx = df.index[df.Informativeness == 'Related and informative'].tolist()\n",
    "for i in idx: label[i] = 'Related and informative'\n",
    "df['label'] = pd.Series(label)\n",
    "\n",
    "df.head()"
   ]
  },
  {
   "cell_type": "code",
   "execution_count": 81,
   "metadata": {},
   "outputs": [
    {
     "data": {
      "text/html": [
       "<div>\n",
       "<style scoped>\n",
       "    .dataframe tbody tr th:only-of-type {\n",
       "        vertical-align: middle;\n",
       "    }\n",
       "\n",
       "    .dataframe tbody tr th {\n",
       "        vertical-align: top;\n",
       "    }\n",
       "\n",
       "    .dataframe thead th {\n",
       "        text-align: right;\n",
       "    }\n",
       "</style>\n",
       "<table border=\"1\" class=\"dataframe\">\n",
       "  <thead>\n",
       "    <tr style=\"text-align: right;\">\n",
       "      <th></th>\n",
       "      <th>TweetID</th>\n",
       "      <th>TweetText</th>\n",
       "      <th>InformationSource</th>\n",
       "      <th>InformationType</th>\n",
       "      <th>Informativeness</th>\n",
       "      <th>label</th>\n",
       "      <th>ProcessedText</th>\n",
       "    </tr>\n",
       "  </thead>\n",
       "  <tbody>\n",
       "    <tr>\n",
       "      <th>0</th>\n",
       "      <td>211040709124440064</td>\n",
       "      <td>#Intern #US #TATTOO #Wisconsin #Ohio #NC #PA #...</td>\n",
       "      <td>Not labeled</td>\n",
       "      <td>Not labeled</td>\n",
       "      <td>Not related</td>\n",
       "      <td>Not related or not informative</td>\n",
       "      <td>#intern #us #tattoo #wisconsin #ohio #nc #pa #...</td>\n",
       "    </tr>\n",
       "    <tr>\n",
       "      <th>1</th>\n",
       "      <td>211111710294163457</td>\n",
       "      <td>RT @Jack4Ward: Get in on the fun every Thursda...</td>\n",
       "      <td>Not labeled</td>\n",
       "      <td>Not labeled</td>\n",
       "      <td>Not related</td>\n",
       "      <td>Not related or not informative</td>\n",
       "      <td>rt @jack4ward : get fun every thursday @csinde...</td>\n",
       "    </tr>\n",
       "    <tr>\n",
       "      <th>2</th>\n",
       "      <td>211157222699433985</td>\n",
       "      <td>Welcome to our newest STUDENTathlete- Reagan B...</td>\n",
       "      <td>Not labeled</td>\n",
       "      <td>Not labeled</td>\n",
       "      <td>Not related</td>\n",
       "      <td>Not related or not informative</td>\n",
       "      <td>welcome newest studentathlete - reagan biechle...</td>\n",
       "    </tr>\n",
       "    <tr>\n",
       "      <th>3</th>\n",
       "      <td>211162553659830272</td>\n",
       "      <td>Denver Post: #Colorado governor signs bill cre...</td>\n",
       "      <td>Not labeled</td>\n",
       "      <td>Not labeled</td>\n",
       "      <td>Not related</td>\n",
       "      <td>Not related or not informative</td>\n",
       "      <td>denver post : #colorado governor sign bill cre...</td>\n",
       "    </tr>\n",
       "    <tr>\n",
       "      <th>4</th>\n",
       "      <td>211216962162933761</td>\n",
       "      <td>Pretty sure I'm going to live in Manitou Sprin...</td>\n",
       "      <td>Not labeled</td>\n",
       "      <td>Not labeled</td>\n",
       "      <td>Not related</td>\n",
       "      <td>Not related or not informative</td>\n",
       "      <td>pretty sure i'm going live manitou spring , co...</td>\n",
       "    </tr>\n",
       "  </tbody>\n",
       "</table>\n",
       "</div>"
      ],
      "text/plain": [
       "              TweetID                                          TweetText  \\\n",
       "0  211040709124440064  #Intern #US #TATTOO #Wisconsin #Ohio #NC #PA #...   \n",
       "1  211111710294163457  RT @Jack4Ward: Get in on the fun every Thursda...   \n",
       "2  211157222699433985  Welcome to our newest STUDENTathlete- Reagan B...   \n",
       "3  211162553659830272  Denver Post: #Colorado governor signs bill cre...   \n",
       "4  211216962162933761  Pretty sure I'm going to live in Manitou Sprin...   \n",
       "\n",
       "  InformationSource InformationType Informativeness  \\\n",
       "0       Not labeled     Not labeled     Not related   \n",
       "1       Not labeled     Not labeled     Not related   \n",
       "2       Not labeled     Not labeled     Not related   \n",
       "3       Not labeled     Not labeled     Not related   \n",
       "4       Not labeled     Not labeled     Not related   \n",
       "\n",
       "                            label  \\\n",
       "0  Not related or not informative   \n",
       "1  Not related or not informative   \n",
       "2  Not related or not informative   \n",
       "3  Not related or not informative   \n",
       "4  Not related or not informative   \n",
       "\n",
       "                                       ProcessedText  \n",
       "0  #intern #us #tattoo #wisconsin #ohio #nc #pa #...  \n",
       "1  rt @jack4ward : get fun every thursday @csinde...  \n",
       "2  welcome newest studentathlete - reagan biechle...  \n",
       "3  denver post : #colorado governor sign bill cre...  \n",
       "4  pretty sure i'm going live manitou spring , co...  "
      ]
     },
     "execution_count": 81,
     "metadata": {},
     "output_type": "execute_result"
    }
   ],
   "source": [
    "from nltk.tokenize import TweetTokenizer\n",
    "from nltk.stem import WordNetLemmatizer\n",
    "from nltk.tokenize import regexp_tokenize\n",
    "from nltk.corpus import stopwords\n",
    "from sklearn.feature_extraction.text import HashingVectorizer\n",
    "import preprocessor as p\n",
    "\n",
    "emoji_re = \"['\\U0001F300-\\U0001F5FF'|'\\U0001F600-\\U0001F64F'|'\\U0001F680-\\U0001F6FF'|'\\u2600-\\u26FF\\u2700-\\u27BF']\"\n",
    "emojis = [regexp_tokenize(t, emoji_re) for t in df.TweetText]\n",
    "p.set_options(p.OPT.URL, p.OPT.EMOJI, p.OPT.SMILEY)\n",
    "all_tweets = [p.clean(t).lower() for t in df.TweetText]\n",
    "\n",
    "tknzr = TweetTokenizer()\n",
    "all_tokens = [tknzr.tokenize(t) for t in all_tweets]\n",
    "en_stop = set(stopwords.words('english'))\n",
    "lemmatizer = WordNetLemmatizer()\n",
    "processed_texts = []  # preprocessed tweets\n",
    "\n",
    "for i in range(len(all_tokens)):\n",
    "    processed_texts.append(' '.join([lemmatizer.lemmatize(t) for t in all_tokens[i] if t not in en_stop ]))\n",
    "\n",
    "df['ProcessedText'] = pd.Series(processed_texts)\n",
    "df.head()"
   ]
  },
  {
   "cell_type": "code",
   "execution_count": 82,
   "metadata": {},
   "outputs": [],
   "source": [
    "split_percentage = 0.25\n",
    "X_train2, X_test2, y_train2, y_test2 = train_test_split(df.ProcessedText, df.label, test_size=split_percentage, random_state=42) \n",
    "count_pp_vec = CountVectorizer(analyzer='word')\n",
    "X_count_pp_train = count_pp_vec.fit_transform(X_train2)  \n",
    "X_count_pp_test = count_pp_vec.transform(X_test2)"
   ]
  },
  {
   "cell_type": "code",
   "execution_count": 83,
   "metadata": {},
   "outputs": [
    {
     "name": "stdout",
     "output_type": "stream",
     "text": [
      "[0.80952381 0.89285714 0.70238095 0.85714286 0.88095238 0.80952381\n",
      " 0.83333333 0.80722892 0.77108434 0.87951807]\n",
      "Mean score: 0.824 (+/-0.018)\n",
      "Accuracy for training: 0.968936678614\n",
      "Accuracy for testing: 0.814285714286\n"
     ]
    }
   ],
   "source": [
    "mnb_count_pp = MultinomialNB(1.2, False)  \n",
    "mnb_count_pp.fit(X_count_pp_train, y_train2)\n",
    "\n",
    "from sklearn.cross_validation import cross_val_score, KFold \n",
    "from scipy.stats import sem \n",
    "\n",
    "def evaluate_cross_validation(clf, X, y, K):\n",
    "    cv = KFold(len(y), K, shuffle=True, random_state=0)  \n",
    "    scores = cross_val_score(clf, X, y, cv=cv) \n",
    "    print scores\n",
    "    print (\"Mean score: {0:.3f} (+/-{1:.3f})\").format(np.mean(scores), sem(scores))\n",
    "\n",
    "evaluate_cross_validation(mnb_count_pp, X_count_pp_train, y_train2, 10)\n",
    "\n",
    "print 'Accuracy for training: {}'.format(mnb_count_pp.score(X_count_pp_train, y_train2))\n",
    "print 'Accuracy for testing: {}'.format(mnb_count_pp.score(X_count_pp_test, y_test2))"
   ]
  },
  {
   "cell_type": "code",
   "execution_count": 84,
   "metadata": {},
   "outputs": [
    {
     "name": "stdout",
     "output_type": "stream",
     "text": [
      "Classification Report:\n",
      "                                precision    recall  f1-score   support\n",
      "\n",
      "Not related or not informative       0.86      0.74      0.80       137\n",
      "       Related and informative       0.78      0.88      0.83       143\n",
      "\n",
      "                   avg / total       0.82      0.81      0.81       280\n",
      "\n",
      "Confusion Matrix:\n",
      "[[102  35]\n",
      " [ 17 126]]\n"
     ]
    }
   ],
   "source": [
    "y_count_pp_predict = mnb_count_pp.predict(X_count_pp_test) \n",
    "print \"Classification Report:\" \n",
    "print metrics.classification_report(y_test2,y_count_pp_predict) \n",
    "print \"Confusion Matrix:\" \n",
    "print metrics.confusion_matrix(y_test2,y_count_pp_predict)"
   ]
  },
  {
   "cell_type": "code",
   "execution_count": 85,
   "metadata": {},
   "outputs": [
    {
     "data": {
      "text/plain": [
       "(280, 2772)"
      ]
     },
     "execution_count": 85,
     "metadata": {},
     "output_type": "execute_result"
    }
   ],
   "source": [
    "X_count_pp_test.shape"
   ]
  },
  {
   "cell_type": "code",
   "execution_count": 86,
   "metadata": {},
   "outputs": [
    {
     "data": {
      "image/png": "[encoded data removed]",
      "text/plain": [
       "<matplotlib.figure.Figure at 0xdfe42b0>"
      ]
     },
     "metadata": {},
     "output_type": "display_data"
    },
    {
     "name": "stdout",
     "output_type": "stream",
     "text": [
      "[0.7857142857142857, 0.7928571428571428, 0.8142857142857143, 0.8107142857142857, 0.8, 0.8107142857142857, 0.8178571428571428, 0.8035714285714286, 0.8, 0.8107142857142857, 0.8071428571428572, 0.8142857142857143, 0.8178571428571428, 0.8178571428571428, 0.8142857142857143, 0.8142857142857143, 0.8178571428571428, 0.8178571428571428, 0.8142857142857143, 0.8178571428571428, 0.8142857142857143, 0.8107142857142857, 0.8107142857142857, 0.8071428571428572, 0.8107142857142857, 0.8142857142857143, 0.8142857142857143, 0.8142857142857143]\n"
     ]
    }
   ],
   "source": [
    "k = range(100,2900,100)\n",
    "k_score = []\n",
    "for i in k:  \n",
    "    count_pp_vec = CountVectorizer(analyzer='word', max_features = i)  \n",
    "    X_count_pp_train = count_pp_vec.fit_transform(X_train2)\n",
    "    X_count_pp_test = count_pp_vec.transform(X_test2)\n",
    "    mnb_count_pp = MultinomialNB(1.2, False)  \n",
    "    mnb_count_pp.fit(X_count_pp_train, y_train2)\n",
    "    score = mnb_count_pp.score(X_count_pp_test, y_test2) \n",
    "    k_score.append(score)  \n",
    "plt.plot(k,k_score)  \n",
    "plt.show()\n",
    "print k_score"
   ]
  },
  {
   "cell_type": "code",
   "execution_count": 87,
   "metadata": {},
   "outputs": [
    {
     "data": {
      "text/html": [
       "<div>\n",
       "<style scoped>\n",
       "    .dataframe tbody tr th:only-of-type {\n",
       "        vertical-align: middle;\n",
       "    }\n",
       "\n",
       "    .dataframe tbody tr th {\n",
       "        vertical-align: top;\n",
       "    }\n",
       "\n",
       "    .dataframe thead th {\n",
       "        text-align: right;\n",
       "    }\n",
       "</style>\n",
       "<table border=\"1\" class=\"dataframe\">\n",
       "  <thead>\n",
       "    <tr style=\"text-align: right;\">\n",
       "      <th></th>\n",
       "      <th>TweetID</th>\n",
       "      <th>TweetText</th>\n",
       "      <th>InformationSource</th>\n",
       "      <th>InformationType</th>\n",
       "      <th>Informativeness</th>\n",
       "      <th>label</th>\n",
       "      <th>ProcessedText</th>\n",
       "    </tr>\n",
       "  </thead>\n",
       "  <tbody>\n",
       "    <tr>\n",
       "      <th>0</th>\n",
       "      <td>211040709124440064</td>\n",
       "      <td>#Intern #US #TATTOO #Wisconsin #Ohio #NC #PA #...</td>\n",
       "      <td>Not labeled</td>\n",
       "      <td>Not labeled</td>\n",
       "      <td>Not related</td>\n",
       "      <td>Not related or not informative</td>\n",
       "      <td>#intern #us #tattoo #wisconsin #ohio #nc #pa #...</td>\n",
       "    </tr>\n",
       "    <tr>\n",
       "      <th>1</th>\n",
       "      <td>211111710294163457</td>\n",
       "      <td>RT @Jack4Ward: Get in on the fun every Thursda...</td>\n",
       "      <td>Not labeled</td>\n",
       "      <td>Not labeled</td>\n",
       "      <td>Not related</td>\n",
       "      <td>Not related or not informative</td>\n",
       "      <td>rt @jack4ward : get in on the fun every thursd...</td>\n",
       "    </tr>\n",
       "    <tr>\n",
       "      <th>2</th>\n",
       "      <td>211157222699433985</td>\n",
       "      <td>Welcome to our newest STUDENTathlete- Reagan B...</td>\n",
       "      <td>Not labeled</td>\n",
       "      <td>Not labeled</td>\n",
       "      <td>Not related</td>\n",
       "      <td>Not related or not informative</td>\n",
       "      <td>welcome to our newest studentathlete - reagan ...</td>\n",
       "    </tr>\n",
       "    <tr>\n",
       "      <th>3</th>\n",
       "      <td>211162553659830272</td>\n",
       "      <td>Denver Post: #Colorado governor signs bill cre...</td>\n",
       "      <td>Not labeled</td>\n",
       "      <td>Not labeled</td>\n",
       "      <td>Not related</td>\n",
       "      <td>Not related or not informative</td>\n",
       "      <td>denver post : #colorado governor sign bill cre...</td>\n",
       "    </tr>\n",
       "    <tr>\n",
       "      <th>4</th>\n",
       "      <td>211216962162933761</td>\n",
       "      <td>Pretty sure I'm going to live in Manitou Sprin...</td>\n",
       "      <td>Not labeled</td>\n",
       "      <td>Not labeled</td>\n",
       "      <td>Not related</td>\n",
       "      <td>Not related or not informative</td>\n",
       "      <td>pretty sure i'm going to live in manitou sprin...</td>\n",
       "    </tr>\n",
       "  </tbody>\n",
       "</table>\n",
       "</div>"
      ],
      "text/plain": [
       "              TweetID                                          TweetText  \\\n",
       "0  211040709124440064  #Intern #US #TATTOO #Wisconsin #Ohio #NC #PA #...   \n",
       "1  211111710294163457  RT @Jack4Ward: Get in on the fun every Thursda...   \n",
       "2  211157222699433985  Welcome to our newest STUDENTathlete- Reagan B...   \n",
       "3  211162553659830272  Denver Post: #Colorado governor signs bill cre...   \n",
       "4  211216962162933761  Pretty sure I'm going to live in Manitou Sprin...   \n",
       "\n",
       "  InformationSource InformationType Informativeness  \\\n",
       "0       Not labeled     Not labeled     Not related   \n",
       "1       Not labeled     Not labeled     Not related   \n",
       "2       Not labeled     Not labeled     Not related   \n",
       "3       Not labeled     Not labeled     Not related   \n",
       "4       Not labeled     Not labeled     Not related   \n",
       "\n",
       "                            label  \\\n",
       "0  Not related or not informative   \n",
       "1  Not related or not informative   \n",
       "2  Not related or not informative   \n",
       "3  Not related or not informative   \n",
       "4  Not related or not informative   \n",
       "\n",
       "                                       ProcessedText  \n",
       "0  #intern #us #tattoo #wisconsin #ohio #nc #pa #...  \n",
       "1  rt @jack4ward : get in on the fun every thursd...  \n",
       "2  welcome to our newest studentathlete - reagan ...  \n",
       "3  denver post : #colorado governor sign bill cre...  \n",
       "4  pretty sure i'm going to live in manitou sprin...  "
      ]
     },
     "execution_count": 87,
     "metadata": {},
     "output_type": "execute_result"
    }
   ],
   "source": [
    "p.set_options(p.OPT.URL, p.OPT.EMOJI, p.OPT.SMILEY)\n",
    "all_tweets = [p.clean(t).lower() for t in df.TweetText]\n",
    "\n",
    "tknzr = TweetTokenizer()\n",
    "all_tokens = [tknzr.tokenize(t) for t in all_tweets]\n",
    "#en_stop = set(stopwords.words('english'))\n",
    "lemmatizer = WordNetLemmatizer()\n",
    "processed_texts = []  # preprocessed tweets\n",
    "\n",
    "for i in range(len(all_tokens)):\n",
    "    processed_texts.append(' '.join([lemmatizer.lemmatize(t) for t in all_tokens[i]]))\n",
    "\n",
    "df['ProcessedText'] = pd.Series(processed_texts)\n",
    "df.head()"
   ]
  },
  {
   "cell_type": "code",
   "execution_count": 88,
   "metadata": {},
   "outputs": [],
   "source": [
    "split_percentage = 0.25\n",
    "X_train2, X_test2, y_train2, y_test2 = train_test_split(df.ProcessedText, df.label, test_size=split_percentage, random_state=42) \n",
    "count_pp_vec = CountVectorizer(analyzer='word')\n",
    "X_count_pp_train = count_pp_vec.fit_transform(X_train2)  \n",
    "X_count_pp_test = count_pp_vec.transform(X_test2)"
   ]
  },
  {
   "cell_type": "code",
   "execution_count": 89,
   "metadata": {},
   "outputs": [
    {
     "name": "stdout",
     "output_type": "stream",
     "text": [
      "[0.8452381  0.88095238 0.73809524 0.85714286 0.86904762 0.82142857\n",
      " 0.88095238 0.78313253 0.77108434 0.90361446]\n",
      "Mean score: 0.835 (+/-0.017)\n",
      "Accuracy for training: 0.967741935484\n",
      "Accuracy for testing: 0.825\n"
     ]
    }
   ],
   "source": [
    "mnb_count_pp = MultinomialNB(1, False)  \n",
    "mnb_count_pp.fit(X_count_pp_train, y_train2)\n",
    "\n",
    "evaluate_cross_validation(mnb_count_pp, X_count_pp_train, y_train2, 10)\n",
    "\n",
    "print 'Accuracy for training: {}'.format(mnb_count_pp.score(X_count_pp_train, y_train2))\n",
    "print 'Accuracy for testing: {}'.format(mnb_count_pp.score(X_count_pp_test, y_test2))"
   ]
  },
  {
   "cell_type": "code",
   "execution_count": 90,
   "metadata": {},
   "outputs": [
    {
     "name": "stdout",
     "output_type": "stream",
     "text": [
      "Classification Report:\n",
      "                                precision    recall  f1-score   support\n",
      "\n",
      "Not related or not informative       0.85      0.77      0.81       137\n",
      "       Related and informative       0.80      0.87      0.84       143\n",
      "\n",
      "                   avg / total       0.83      0.82      0.82       280\n",
      "\n",
      "Confusion Matrix:\n",
      "[[106  31]\n",
      " [ 18 125]]\n"
     ]
    }
   ],
   "source": [
    "y_count_pp_predict = mnb_count_pp.predict(X_count_pp_test) \n",
    "print \"Classification Report:\" \n",
    "print metrics.classification_report(y_test2,y_count_pp_predict) \n",
    "print \"Confusion Matrix:\" \n",
    "print metrics.confusion_matrix(y_test2,y_count_pp_predict)"
   ]
  },
  {
   "cell_type": "code",
   "execution_count": 91,
   "metadata": {},
   "outputs": [
    {
     "data": {
      "text/plain": [
       "(280, 2864)"
      ]
     },
     "execution_count": 91,
     "metadata": {},
     "output_type": "execute_result"
    }
   ],
   "source": [
    "X_count_pp_test.shape"
   ]
  },
  {
   "cell_type": "code",
   "execution_count": 92,
   "metadata": {},
   "outputs": [
    {
     "data": {
      "image/png": "[encoded data removed]",
      "text/plain": [
       "<matplotlib.figure.Figure at 0x14bf9cc0>"
      ]
     },
     "metadata": {},
     "output_type": "display_data"
    },
    {
     "name": "stdout",
     "output_type": "stream",
     "text": [
      "[0.8071428571428572, 0.8071428571428572, 0.8071428571428572, 0.8285714285714286, 0.8357142857142857, 0.8357142857142857, 0.8392857142857143, 0.8392857142857143, 0.8392857142857143, 0.8321428571428572, 0.8285714285714286, 0.825, 0.8285714285714286, 0.8285714285714286, 0.8285714285714286, 0.8285714285714286, 0.825, 0.825, 0.8214285714285714, 0.8214285714285714, 0.8214285714285714, 0.8214285714285714, 0.825, 0.8285714285714286, 0.825, 0.825, 0.8285714285714286, 0.8214285714285714, 0.825]\n"
     ]
    }
   ],
   "source": [
    "k = range(100,3000,100)\n",
    "k_score = []\n",
    "for i in k:  \n",
    "    count_pp_vec = CountVectorizer(analyzer='word', max_features = i)  \n",
    "    X_count_pp_train = count_pp_vec.fit_transform(X_train2)\n",
    "    X_count_pp_test = count_pp_vec.transform(X_test2)\n",
    "    mnb_count_pp = MultinomialNB(1, False)  \n",
    "    mnb_count_pp.fit(X_count_pp_train, y_train2)\n",
    "    score = mnb_count_pp.score(X_count_pp_test, y_test2) \n",
    "    k_score.append(score)  \n",
    "plt.plot(k,k_score)  \n",
    "plt.show()\n",
    "print k_score"
   ]
  },
  {
   "cell_type": "markdown",
   "metadata": {},
   "source": [
    "### Test other data set"
   ]
  },
  {
   "cell_type": "markdown",
   "metadata": {},
   "source": [
    "### Colorado floods"
   ]
  },
  {
   "cell_type": "code",
   "execution_count": 93,
   "metadata": {},
   "outputs": [
    {
     "data": {
      "text/plain": [
       "Related and informative          768\n",
       "Related - but not informative    157\n",
       "Not related                       70\n",
       "Not applicable                     5\n",
       "Name: Informativeness, dtype: int64"
      ]
     },
     "execution_count": 93,
     "metadata": {},
     "output_type": "execute_result"
    }
   ],
   "source": [
    "df = pd.read_csv('CrisisLexT26/2013_Colorado_floods/2013_Colorado_floods-tweets_labeled.csv') # change the file location if needed\n",
    "\n",
    "col_dict = {}\n",
    "for old_feature in df.columns.values:\n",
    "    col_dict.update({old_feature: old_feature.replace(' ','')})\n",
    "df.rename(columns=col_dict, inplace=True)\n",
    "\n",
    "df.Informativeness.value_counts()"
   ]
  },
  {
   "cell_type": "code",
   "execution_count": 94,
   "metadata": {},
   "outputs": [
    {
     "data": {
      "text/plain": [
       "Related and informative          691\n",
       "Related - but not informative    156\n",
       "Not related                       70\n",
       "Name: Informativeness, dtype: int64"
      ]
     },
     "execution_count": 94,
     "metadata": {},
     "output_type": "execute_result"
    }
   ],
   "source": [
    "df = df[df.InformationSource != 'Government']\n",
    "df = df[df.Informativeness!='Not applicable'].reset_index(drop=True)\n",
    "df.Informativeness.value_counts()"
   ]
  },
  {
   "cell_type": "code",
   "execution_count": 95,
   "metadata": {},
   "outputs": [
    {
     "data": {
      "text/html": [
       "<div>\n",
       "<style scoped>\n",
       "    .dataframe tbody tr th:only-of-type {\n",
       "        vertical-align: middle;\n",
       "    }\n",
       "\n",
       "    .dataframe tbody tr th {\n",
       "        vertical-align: top;\n",
       "    }\n",
       "\n",
       "    .dataframe thead th {\n",
       "        text-align: right;\n",
       "    }\n",
       "</style>\n",
       "<table border=\"1\" class=\"dataframe\">\n",
       "  <thead>\n",
       "    <tr style=\"text-align: right;\">\n",
       "      <th></th>\n",
       "      <th>TweetID</th>\n",
       "      <th>TweetText</th>\n",
       "      <th>InformationSource</th>\n",
       "      <th>InformationType</th>\n",
       "      <th>Informativeness</th>\n",
       "      <th>label</th>\n",
       "    </tr>\n",
       "  </thead>\n",
       "  <tbody>\n",
       "    <tr>\n",
       "      <th>0</th>\n",
       "      <td>376843697943769088</td>\n",
       "      <td>#Longmont #CO The Tiny Tim Center is now #hiri...</td>\n",
       "      <td>Not labeled</td>\n",
       "      <td>Not labeled</td>\n",
       "      <td>Not related</td>\n",
       "      <td>Not related or not informative</td>\n",
       "    </tr>\n",
       "    <tr>\n",
       "      <th>1</th>\n",
       "      <td>378011169883037697</td>\n",
       "      <td>RT @dlfluegge: Crazy Flooding in Boulder, Colo...</td>\n",
       "      <td>Media</td>\n",
       "      <td>Sympathy and support</td>\n",
       "      <td>Related - but not informative</td>\n",
       "      <td>Not related or not informative</td>\n",
       "    </tr>\n",
       "    <tr>\n",
       "      <th>2</th>\n",
       "      <td>378020179214491649</td>\n",
       "      <td>Here's the #boulderflood video that's circulat...</td>\n",
       "      <td>Outsiders</td>\n",
       "      <td>Other Useful Information</td>\n",
       "      <td>Related and informative</td>\n",
       "      <td>Related and informative</td>\n",
       "    </tr>\n",
       "    <tr>\n",
       "      <th>3</th>\n",
       "      <td>378026101588496385</td>\n",
       "      <td>RT @passantino: Video: Severe flooding hits ne...</td>\n",
       "      <td>Media</td>\n",
       "      <td>Other Useful Information</td>\n",
       "      <td>Related and informative</td>\n",
       "      <td>Related and informative</td>\n",
       "    </tr>\n",
       "    <tr>\n",
       "      <th>4</th>\n",
       "      <td>378029784204206080</td>\n",
       "      <td>Crazy Flooding in Boulder, Colorado http://t.c...</td>\n",
       "      <td>Media</td>\n",
       "      <td>Other Useful Information</td>\n",
       "      <td>Related and informative</td>\n",
       "      <td>Related and informative</td>\n",
       "    </tr>\n",
       "  </tbody>\n",
       "</table>\n",
       "</div>"
      ],
      "text/plain": [
       "              TweetID                                          TweetText  \\\n",
       "0  376843697943769088  #Longmont #CO The Tiny Tim Center is now #hiri...   \n",
       "1  378011169883037697  RT @dlfluegge: Crazy Flooding in Boulder, Colo...   \n",
       "2  378020179214491649  Here's the #boulderflood video that's circulat...   \n",
       "3  378026101588496385  RT @passantino: Video: Severe flooding hits ne...   \n",
       "4  378029784204206080  Crazy Flooding in Boulder, Colorado http://t.c...   \n",
       "\n",
       "  InformationSource           InformationType                Informativeness  \\\n",
       "0       Not labeled               Not labeled                    Not related   \n",
       "1             Media      Sympathy and support  Related - but not informative   \n",
       "2         Outsiders  Other Useful Information        Related and informative   \n",
       "3             Media  Other Useful Information        Related and informative   \n",
       "4             Media  Other Useful Information        Related and informative   \n",
       "\n",
       "                            label  \n",
       "0  Not related or not informative  \n",
       "1  Not related or not informative  \n",
       "2         Related and informative  \n",
       "3         Related and informative  \n",
       "4         Related and informative  "
      ]
     },
     "execution_count": 95,
     "metadata": {},
     "output_type": "execute_result"
    }
   ],
   "source": [
    "label = ['Not related or not informative'] * df.shape[0]\n",
    "idx = df.index[df.Informativeness == 'Related and informative'].tolist()\n",
    "for i in idx: label[i] = 'Related and informative'\n",
    "df['label'] = pd.Series(label)\n",
    "\n",
    "df.head()"
   ]
  },
  {
   "cell_type": "code",
   "execution_count": 96,
   "metadata": {},
   "outputs": [
    {
     "data": {
      "text/html": [
       "<div>\n",
       "<style scoped>\n",
       "    .dataframe tbody tr th:only-of-type {\n",
       "        vertical-align: middle;\n",
       "    }\n",
       "\n",
       "    .dataframe tbody tr th {\n",
       "        vertical-align: top;\n",
       "    }\n",
       "\n",
       "    .dataframe thead th {\n",
       "        text-align: right;\n",
       "    }\n",
       "</style>\n",
       "<table border=\"1\" class=\"dataframe\">\n",
       "  <thead>\n",
       "    <tr style=\"text-align: right;\">\n",
       "      <th></th>\n",
       "      <th>TweetID</th>\n",
       "      <th>TweetText</th>\n",
       "      <th>InformationSource</th>\n",
       "      <th>InformationType</th>\n",
       "      <th>Informativeness</th>\n",
       "      <th>label</th>\n",
       "      <th>ProcessedText</th>\n",
       "    </tr>\n",
       "  </thead>\n",
       "  <tbody>\n",
       "    <tr>\n",
       "      <th>0</th>\n",
       "      <td>376843697943769088</td>\n",
       "      <td>#Longmont #CO The Tiny Tim Center is now #hiri...</td>\n",
       "      <td>Not labeled</td>\n",
       "      <td>Not labeled</td>\n",
       "      <td>Not related</td>\n",
       "      <td>Not related or not informative</td>\n",
       "      <td>#longmont #co the tiny tim center is now #hiri...</td>\n",
       "    </tr>\n",
       "    <tr>\n",
       "      <th>1</th>\n",
       "      <td>378011169883037697</td>\n",
       "      <td>RT @dlfluegge: Crazy Flooding in Boulder, Colo...</td>\n",
       "      <td>Media</td>\n",
       "      <td>Sympathy and support</td>\n",
       "      <td>Related - but not informative</td>\n",
       "      <td>Not related or not informative</td>\n",
       "      <td>rt @dlfluegge : crazy flooding in boulder , co...</td>\n",
       "    </tr>\n",
       "    <tr>\n",
       "      <th>2</th>\n",
       "      <td>378020179214491649</td>\n",
       "      <td>Here's the #boulderflood video that's circulat...</td>\n",
       "      <td>Outsiders</td>\n",
       "      <td>Other Useful Information</td>\n",
       "      <td>Related and informative</td>\n",
       "      <td>Related and informative</td>\n",
       "      <td>here's the #boulderflood video that's circulat...</td>\n",
       "    </tr>\n",
       "    <tr>\n",
       "      <th>3</th>\n",
       "      <td>378026101588496385</td>\n",
       "      <td>RT @passantino: Video: Severe flooding hits ne...</td>\n",
       "      <td>Media</td>\n",
       "      <td>Other Useful Information</td>\n",
       "      <td>Related and informative</td>\n",
       "      <td>Related and informative</td>\n",
       "      <td>rt @passantino : video : severe flooding hit n...</td>\n",
       "    </tr>\n",
       "    <tr>\n",
       "      <th>4</th>\n",
       "      <td>378029784204206080</td>\n",
       "      <td>Crazy Flooding in Boulder, Colorado http://t.c...</td>\n",
       "      <td>Media</td>\n",
       "      <td>Other Useful Information</td>\n",
       "      <td>Related and informative</td>\n",
       "      <td>Related and informative</td>\n",
       "      <td>crazy flooding in boulder , colorado</td>\n",
       "    </tr>\n",
       "  </tbody>\n",
       "</table>\n",
       "</div>"
      ],
      "text/plain": [
       "              TweetID                                          TweetText  \\\n",
       "0  376843697943769088  #Longmont #CO The Tiny Tim Center is now #hiri...   \n",
       "1  378011169883037697  RT @dlfluegge: Crazy Flooding in Boulder, Colo...   \n",
       "2  378020179214491649  Here's the #boulderflood video that's circulat...   \n",
       "3  378026101588496385  RT @passantino: Video: Severe flooding hits ne...   \n",
       "4  378029784204206080  Crazy Flooding in Boulder, Colorado http://t.c...   \n",
       "\n",
       "  InformationSource           InformationType                Informativeness  \\\n",
       "0       Not labeled               Not labeled                    Not related   \n",
       "1             Media      Sympathy and support  Related - but not informative   \n",
       "2         Outsiders  Other Useful Information        Related and informative   \n",
       "3             Media  Other Useful Information        Related and informative   \n",
       "4             Media  Other Useful Information        Related and informative   \n",
       "\n",
       "                            label  \\\n",
       "0  Not related or not informative   \n",
       "1  Not related or not informative   \n",
       "2         Related and informative   \n",
       "3         Related and informative   \n",
       "4         Related and informative   \n",
       "\n",
       "                                       ProcessedText  \n",
       "0  #longmont #co the tiny tim center is now #hiri...  \n",
       "1  rt @dlfluegge : crazy flooding in boulder , co...  \n",
       "2  here's the #boulderflood video that's circulat...  \n",
       "3  rt @passantino : video : severe flooding hit n...  \n",
       "4               crazy flooding in boulder , colorado  "
      ]
     },
     "execution_count": 96,
     "metadata": {},
     "output_type": "execute_result"
    }
   ],
   "source": [
    "p.set_options(p.OPT.URL, p.OPT.EMOJI, p.OPT.SMILEY)\n",
    "all_tweets = [p.clean(t).lower() for t in df.TweetText]\n",
    "\n",
    "tknzr = TweetTokenizer()\n",
    "all_tokens = [tknzr.tokenize(t) for t in all_tweets]\n",
    "#en_stop = set(stopwords.words('english'))\n",
    "lemmatizer = WordNetLemmatizer()\n",
    "processed_texts = []  # preprocessed tweets\n",
    "\n",
    "for i in range(len(all_tokens)):\n",
    "    processed_texts.append(' '.join([lemmatizer.lemmatize(t) for t in all_tokens[i]]))\n",
    "\n",
    "df['ProcessedText'] = pd.Series(processed_texts)\n",
    "df.head()"
   ]
  },
  {
   "cell_type": "code",
   "execution_count": 106,
   "metadata": {},
   "outputs": [
    {
     "name": "stdout",
     "output_type": "stream",
     "text": [
      "Classification Report:\n",
      "                                precision    recall  f1-score   support\n",
      "\n",
      "Not related or not informative       0.42      0.64      0.51       226\n",
      "       Related and informative       0.86      0.72      0.78       691\n",
      "\n",
      "                   avg / total       0.75      0.70      0.71       917\n",
      "\n",
      "Confusion Matrix:\n",
      "[[144  82]\n",
      " [196 495]]\n",
      "Accuracy:\n",
      "0.6968375136314068\n"
     ]
    }
   ],
   "source": [
    "X_count_pp_test = count_pp_vec.transform(df.ProcessedText)\n",
    "\n",
    "y_count_pp_predict = mnb_count_pp.predict(X_count_pp_test)\n",
    "\n",
    "print \"Classification Report:\" \n",
    "print metrics.classification_report(df.label,y_count_pp_predict) \n",
    "print \"Confusion Matrix:\" \n",
    "print metrics.confusion_matrix(df.label,y_count_pp_predict)\n",
    "print \"Accuracy:\"\n",
    "print metrics.accuracy_score(df.label,y_count_pp_predict)"
   ]
  },
  {
   "cell_type": "code",
   "execution_count": null,
   "metadata": {},
   "outputs": [],
   "source": []
  }
 ],
 "metadata": {
  "kernelspec": {
   "display_name": "Python 2",
   "language": "python",
   "name": "python2"
  },
  "language_info": {
   "codemirror_mode": {
    "name": "ipython",
    "version": 2
   },
   "file_extension": ".py",
   "mimetype": "text/x-python",
   "name": "python",
   "nbconvert_exporter": "python",
   "pygments_lexer": "ipython2",
   "version": "2.7.14"
  }
 },
 "nbformat": 4,
 "nbformat_minor": 2
}
