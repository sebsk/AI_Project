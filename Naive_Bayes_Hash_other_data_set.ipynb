{
 "cells": [
  {
   "cell_type": "code",
   "execution_count": 199,
   "metadata": {},
   "outputs": [],
   "source": [
    "from sklearn.naive_bayes import MultinomialNB\n",
    "import pandas as pd\n",
    "import numpy as np\n",
    "import matplotlib.pyplot as plt\n",
    "from sklearn.feature_extraction.text import CountVectorizer\n",
    "from sklearn.feature_extraction.text import TfidfVectorizer\n",
    "from sklearn.feature_extraction.text import HashingVectorizer\n",
    "from sklearn.model_selection import train_test_split\n",
    "from sklearn import metrics\n",
    "# plt.style.use('ggplot')\n",
    "# % matplotlib inline"
   ]
  },
  {
   "cell_type": "code",
   "execution_count": 200,
   "metadata": {},
   "outputs": [
    {
     "data": {
      "text/plain": [
       "Related and informative          685\n",
       "Related - but not informative    268\n",
       "Not related                      238\n",
       "Not applicable                     9\n",
       "Name: Informativeness, dtype: int64"
      ]
     },
     "execution_count": 200,
     "metadata": {},
     "output_type": "execute_result"
    }
   ],
   "source": [
    "df = pd.read_csv('CrisisLexT26/2012_Colorado_wildfires/2012_Colorado_wildfires-tweets_labeled.csv') # change the file location if needed\n",
    "\n",
    "col_dict = {}\n",
    "for old_feature in df.columns.values:\n",
    "    col_dict.update({old_feature: old_feature.replace(' ','')})\n",
    "df.rename(columns=col_dict, inplace=True)\n",
    "\n",
    "df.Informativeness.value_counts()"
   ]
  },
  {
   "cell_type": "code",
   "execution_count": 201,
   "metadata": {},
   "outputs": [
    {
     "data": {
      "text/plain": [
       "Related and informative          622\n",
       "Related - but not informative    257\n",
       "Not related                      238\n",
       "Name: Informativeness, dtype: int64"
      ]
     },
     "execution_count": 201,
     "metadata": {},
     "output_type": "execute_result"
    }
   ],
   "source": [
    "df = df[df.InformationSource != 'Government']\n",
    "df = df[df.Informativeness!='Not applicable'].reset_index(drop=True)\n",
    "df.Informativeness.value_counts()"
   ]
  },
  {
   "cell_type": "code",
   "execution_count": 202,
   "metadata": {},
   "outputs": [
    {
     "data": {
      "text/html": [
       "<div>\n",
       "<style scoped>\n",
       "    .dataframe tbody tr th:only-of-type {\n",
       "        vertical-align: middle;\n",
       "    }\n",
       "\n",
       "    .dataframe tbody tr th {\n",
       "        vertical-align: top;\n",
       "    }\n",
       "\n",
       "    .dataframe thead th {\n",
       "        text-align: right;\n",
       "    }\n",
       "</style>\n",
       "<table border=\"1\" class=\"dataframe\">\n",
       "  <thead>\n",
       "    <tr style=\"text-align: right;\">\n",
       "      <th></th>\n",
       "      <th>TweetID</th>\n",
       "      <th>TweetText</th>\n",
       "      <th>InformationSource</th>\n",
       "      <th>InformationType</th>\n",
       "      <th>Informativeness</th>\n",
       "      <th>label</th>\n",
       "    </tr>\n",
       "  </thead>\n",
       "  <tbody>\n",
       "    <tr>\n",
       "      <th>0</th>\n",
       "      <td>211040709124440064</td>\n",
       "      <td>#Intern #US #TATTOO #Wisconsin #Ohio #NC #PA #...</td>\n",
       "      <td>Not labeled</td>\n",
       "      <td>Not labeled</td>\n",
       "      <td>Not related</td>\n",
       "      <td>Not related or not informative</td>\n",
       "    </tr>\n",
       "    <tr>\n",
       "      <th>1</th>\n",
       "      <td>211111710294163457</td>\n",
       "      <td>RT @Jack4Ward: Get in on the fun every Thursda...</td>\n",
       "      <td>Not labeled</td>\n",
       "      <td>Not labeled</td>\n",
       "      <td>Not related</td>\n",
       "      <td>Not related or not informative</td>\n",
       "    </tr>\n",
       "    <tr>\n",
       "      <th>2</th>\n",
       "      <td>211157222699433985</td>\n",
       "      <td>Welcome to our newest STUDENTathlete- Reagan B...</td>\n",
       "      <td>Not labeled</td>\n",
       "      <td>Not labeled</td>\n",
       "      <td>Not related</td>\n",
       "      <td>Not related or not informative</td>\n",
       "    </tr>\n",
       "    <tr>\n",
       "      <th>3</th>\n",
       "      <td>211162553659830272</td>\n",
       "      <td>Denver Post: #Colorado governor signs bill cre...</td>\n",
       "      <td>Not labeled</td>\n",
       "      <td>Not labeled</td>\n",
       "      <td>Not related</td>\n",
       "      <td>Not related or not informative</td>\n",
       "    </tr>\n",
       "    <tr>\n",
       "      <th>4</th>\n",
       "      <td>211216962162933761</td>\n",
       "      <td>Pretty sure I'm going to live in Manitou Sprin...</td>\n",
       "      <td>Not labeled</td>\n",
       "      <td>Not labeled</td>\n",
       "      <td>Not related</td>\n",
       "      <td>Not related or not informative</td>\n",
       "    </tr>\n",
       "  </tbody>\n",
       "</table>\n",
       "</div>"
      ],
      "text/plain": [
       "              TweetID                                          TweetText  \\\n",
       "0  211040709124440064  #Intern #US #TATTOO #Wisconsin #Ohio #NC #PA #...   \n",
       "1  211111710294163457  RT @Jack4Ward: Get in on the fun every Thursda...   \n",
       "2  211157222699433985  Welcome to our newest STUDENTathlete- Reagan B...   \n",
       "3  211162553659830272  Denver Post: #Colorado governor signs bill cre...   \n",
       "4  211216962162933761  Pretty sure I'm going to live in Manitou Sprin...   \n",
       "\n",
       "  InformationSource InformationType Informativeness  \\\n",
       "0       Not labeled     Not labeled     Not related   \n",
       "1       Not labeled     Not labeled     Not related   \n",
       "2       Not labeled     Not labeled     Not related   \n",
       "3       Not labeled     Not labeled     Not related   \n",
       "4       Not labeled     Not labeled     Not related   \n",
       "\n",
       "                            label  \n",
       "0  Not related or not informative  \n",
       "1  Not related or not informative  \n",
       "2  Not related or not informative  \n",
       "3  Not related or not informative  \n",
       "4  Not related or not informative  "
      ]
     },
     "execution_count": 202,
     "metadata": {},
     "output_type": "execute_result"
    }
   ],
   "source": [
    "label = ['Not related or not informative'] * df.shape[0]\n",
    "idx = df.index[df.Informativeness == 'Related and informative'].tolist()\n",
    "for i in idx: label[i] = 'Related and informative'\n",
    "df['label'] = pd.Series(label)\n",
    "\n",
    "df.head()"
   ]
  },
  {
   "cell_type": "code",
   "execution_count": 203,
   "metadata": {},
   "outputs": [
    {
     "data": {
      "text/html": [
       "<div>\n",
       "<style scoped>\n",
       "    .dataframe tbody tr th:only-of-type {\n",
       "        vertical-align: middle;\n",
       "    }\n",
       "\n",
       "    .dataframe tbody tr th {\n",
       "        vertical-align: top;\n",
       "    }\n",
       "\n",
       "    .dataframe thead th {\n",
       "        text-align: right;\n",
       "    }\n",
       "</style>\n",
       "<table border=\"1\" class=\"dataframe\">\n",
       "  <thead>\n",
       "    <tr style=\"text-align: right;\">\n",
       "      <th></th>\n",
       "      <th>TweetID</th>\n",
       "      <th>TweetText</th>\n",
       "      <th>InformationSource</th>\n",
       "      <th>InformationType</th>\n",
       "      <th>Informativeness</th>\n",
       "      <th>label</th>\n",
       "      <th>ProcessedText</th>\n",
       "    </tr>\n",
       "  </thead>\n",
       "  <tbody>\n",
       "    <tr>\n",
       "      <th>0</th>\n",
       "      <td>211040709124440064</td>\n",
       "      <td>#Intern #US #TATTOO #Wisconsin #Ohio #NC #PA #...</td>\n",
       "      <td>Not labeled</td>\n",
       "      <td>Not labeled</td>\n",
       "      <td>Not related</td>\n",
       "      <td>Not related or not informative</td>\n",
       "      <td>#intern #us #tattoo #wisconsin #ohio #nc #pa #...</td>\n",
       "    </tr>\n",
       "    <tr>\n",
       "      <th>1</th>\n",
       "      <td>211111710294163457</td>\n",
       "      <td>RT @Jack4Ward: Get in on the fun every Thursda...</td>\n",
       "      <td>Not labeled</td>\n",
       "      <td>Not labeled</td>\n",
       "      <td>Not related</td>\n",
       "      <td>Not related or not informative</td>\n",
       "      <td>rt @jack4ward : get fun every thursday @csinde...</td>\n",
       "    </tr>\n",
       "    <tr>\n",
       "      <th>2</th>\n",
       "      <td>211157222699433985</td>\n",
       "      <td>Welcome to our newest STUDENTathlete- Reagan B...</td>\n",
       "      <td>Not labeled</td>\n",
       "      <td>Not labeled</td>\n",
       "      <td>Not related</td>\n",
       "      <td>Not related or not informative</td>\n",
       "      <td>welcome newest studentathlete - reagan biechle...</td>\n",
       "    </tr>\n",
       "    <tr>\n",
       "      <th>3</th>\n",
       "      <td>211162553659830272</td>\n",
       "      <td>Denver Post: #Colorado governor signs bill cre...</td>\n",
       "      <td>Not labeled</td>\n",
       "      <td>Not labeled</td>\n",
       "      <td>Not related</td>\n",
       "      <td>Not related or not informative</td>\n",
       "      <td>denver post : #colorado governor sign bill cre...</td>\n",
       "    </tr>\n",
       "    <tr>\n",
       "      <th>4</th>\n",
       "      <td>211216962162933761</td>\n",
       "      <td>Pretty sure I'm going to live in Manitou Sprin...</td>\n",
       "      <td>Not labeled</td>\n",
       "      <td>Not labeled</td>\n",
       "      <td>Not related</td>\n",
       "      <td>Not related or not informative</td>\n",
       "      <td>pretty sure i'm going live manitou spring , co...</td>\n",
       "    </tr>\n",
       "  </tbody>\n",
       "</table>\n",
       "</div>"
      ],
      "text/plain": [
       "              TweetID                                          TweetText  \\\n",
       "0  211040709124440064  #Intern #US #TATTOO #Wisconsin #Ohio #NC #PA #...   \n",
       "1  211111710294163457  RT @Jack4Ward: Get in on the fun every Thursda...   \n",
       "2  211157222699433985  Welcome to our newest STUDENTathlete- Reagan B...   \n",
       "3  211162553659830272  Denver Post: #Colorado governor signs bill cre...   \n",
       "4  211216962162933761  Pretty sure I'm going to live in Manitou Sprin...   \n",
       "\n",
       "  InformationSource InformationType Informativeness  \\\n",
       "0       Not labeled     Not labeled     Not related   \n",
       "1       Not labeled     Not labeled     Not related   \n",
       "2       Not labeled     Not labeled     Not related   \n",
       "3       Not labeled     Not labeled     Not related   \n",
       "4       Not labeled     Not labeled     Not related   \n",
       "\n",
       "                            label  \\\n",
       "0  Not related or not informative   \n",
       "1  Not related or not informative   \n",
       "2  Not related or not informative   \n",
       "3  Not related or not informative   \n",
       "4  Not related or not informative   \n",
       "\n",
       "                                       ProcessedText  \n",
       "0  #intern #us #tattoo #wisconsin #ohio #nc #pa #...  \n",
       "1  rt @jack4ward : get fun every thursday @csinde...  \n",
       "2  welcome newest studentathlete - reagan biechle...  \n",
       "3  denver post : #colorado governor sign bill cre...  \n",
       "4  pretty sure i'm going live manitou spring , co...  "
      ]
     },
     "execution_count": 203,
     "metadata": {},
     "output_type": "execute_result"
    }
   ],
   "source": [
    "from nltk.tokenize import TweetTokenizer\n",
    "from nltk.stem import WordNetLemmatizer\n",
    "from nltk.tokenize import regexp_tokenize\n",
    "from nltk.corpus import stopwords\n",
    "from sklearn.feature_extraction.text import HashingVectorizer\n",
    "import preprocessor as p\n",
    "\n",
    "emoji_re = \"['\\U0001F300-\\U0001F5FF'|'\\U0001F600-\\U0001F64F'|'\\U0001F680-\\U0001F6FF'|'\\u2600-\\u26FF\\u2700-\\u27BF']\"\n",
    "emojis = [regexp_tokenize(t, emoji_re) for t in df.TweetText]\n",
    "p.set_options(p.OPT.URL, p.OPT.EMOJI, p.OPT.SMILEY)\n",
    "all_tweets = [p.clean(t).lower() for t in df.TweetText]\n",
    "\n",
    "tknzr = TweetTokenizer()\n",
    "all_tokens = [tknzr.tokenize(t) for t in all_tweets]\n",
    "en_stop = set(stopwords.words('english'))\n",
    "lemmatizer = WordNetLemmatizer()\n",
    "processed_texts = []  # preprocessed tweets\n",
    "\n",
    "for i in range(len(all_tokens)):\n",
    "    processed_texts.append(' '.join([lemmatizer.lemmatize(t) for t in all_tokens[i] if t not in en_stop ]))\n",
    "\n",
    "df['ProcessedText'] = pd.Series(processed_texts)\n",
    "df.head()"
   ]
  },
  {
   "cell_type": "code",
   "execution_count": 204,
   "metadata": {},
   "outputs": [
    {
     "name": "stderr",
     "output_type": "stream",
     "text": [
      "D:\\Anaconda2\\lib\\site-packages\\sklearn\\feature_extraction\\hashing.py:94: DeprecationWarning: the option non_negative=True has been deprecated in 0.19 and will be removed in version 0.21.\n",
      "  \" in version 0.21.\", DeprecationWarning)\n",
      "D:\\Anaconda2\\lib\\site-packages\\sklearn\\feature_extraction\\hashing.py:94: DeprecationWarning: the option non_negative=True has been deprecated in 0.19 and will be removed in version 0.21.\n",
      "  \" in version 0.21.\", DeprecationWarning)\n",
      "D:\\Anaconda2\\lib\\site-packages\\sklearn\\feature_extraction\\hashing.py:94: DeprecationWarning: the option non_negative=True has been deprecated in 0.19 and will be removed in version 0.21.\n",
      "  \" in version 0.21.\", DeprecationWarning)\n"
     ]
    }
   ],
   "source": [
    "split_percentage = 0.25\n",
    "X_train2, X_test2, y_train2, y_test2 = train_test_split(df.ProcessedText, df.label, test_size=split_percentage, random_state=42) \n",
    "hash_pp_vec = HashingVectorizer(analyzer='word', non_negative=True)\n",
    "X_hash_pp_train = hash_pp_vec.fit_transform(X_train2)  \n",
    "X_hash_pp_test = hash_pp_vec.transform(X_test2)"
   ]
  },
  {
   "cell_type": "code",
   "execution_count": 205,
   "metadata": {},
   "outputs": [
    {
     "name": "stdout",
     "output_type": "stream",
     "text": [
      "[0.78571429 0.85714286 0.72619048 0.9047619  0.8452381  0.72619048\n",
      " 0.78571429 0.81927711 0.69879518 0.8313253 ]\n",
      "Mean score: 0.7980 (+/-0.0209)\n",
      "Accuracy for training: 0.986857825568\n",
      "Accuracy for testing: 0.760714285714\n"
     ]
    }
   ],
   "source": [
    "mnb_hash_pp = MultinomialNB(0.01, False)\n",
    "mnb_hash_pp.fit(X_hash_pp_train, y_train2)\n",
    "\n",
    "from sklearn.cross_validation import cross_val_score, KFold \n",
    "from scipy.stats import sem \n",
    "\n",
    "def evaluate_cross_validation(clf, X, y, K):\n",
    "    cv = KFold(len(y), K, shuffle=True, random_state=0)  \n",
    "    scores = cross_val_score(clf, X, y, cv=cv) \n",
    "    print scores\n",
    "    print (\"Mean score: {0:.4f} (+/-{1:.4f})\").format(np.mean(scores), sem(scores))\n",
    "\n",
    "evaluate_cross_validation(mnb_hash_pp, X_hash_pp_train, y_train2, 10)\n",
    "\n",
    "print 'Accuracy for training: {}'.format(mnb_hash_pp.score(X_hash_pp_train, y_train2))\n",
    "print 'Accuracy for testing: {}'.format(mnb_hash_pp.score(X_hash_pp_test, y_test2))"
   ]
  },
  {
   "cell_type": "code",
   "execution_count": 206,
   "metadata": {},
   "outputs": [
    {
     "name": "stdout",
     "output_type": "stream",
     "text": [
      "Classification Report:\n",
      "                                precision    recall  f1-score   support\n",
      "\n",
      "Not related or not informative       0.87      0.60      0.71       137\n",
      "       Related and informative       0.70      0.92      0.80       143\n",
      "\n",
      "                   avg / total       0.79      0.76      0.75       280\n",
      "\n",
      "Confusion Matrix:\n",
      "[[ 82  55]\n",
      " [ 12 131]]\n"
     ]
    }
   ],
   "source": [
    "y_hash_pp_predict = mnb_hash_pp.predict(X_hash_pp_test) \n",
    "print \"Classification Report:\" \n",
    "print metrics.classification_report(y_test2,y_hash_pp_predict) \n",
    "print \"Confusion Matrix:\" \n",
    "print metrics.confusion_matrix(y_test2,y_hash_pp_predict)"
   ]
  },
  {
   "cell_type": "code",
   "execution_count": 207,
   "metadata": {},
   "outputs": [
    {
     "data": {
      "text/plain": [
       "(280, 1048576)"
      ]
     },
     "execution_count": 207,
     "metadata": {},
     "output_type": "execute_result"
    }
   ],
   "source": [
    "X_hash_pp_test.shape"
   ]
  },
  {
   "cell_type": "code",
   "execution_count": 208,
   "metadata": {},
   "outputs": [
    {
     "name": "stderr",
     "output_type": "stream",
     "text": [
      "D:\\Anaconda2\\lib\\site-packages\\sklearn\\feature_extraction\\hashing.py:94: DeprecationWarning: the option non_negative=True has been deprecated in 0.19 and will be removed in version 0.21.\n",
      "  \" in version 0.21.\", DeprecationWarning)\n",
      "D:\\Anaconda2\\lib\\site-packages\\sklearn\\feature_extraction\\hashing.py:94: DeprecationWarning: the option non_negative=True has been deprecated in 0.19 and will be removed in version 0.21.\n",
      "  \" in version 0.21.\", DeprecationWarning)\n",
      "D:\\Anaconda2\\lib\\site-packages\\sklearn\\feature_extraction\\hashing.py:94: DeprecationWarning: the option non_negative=True has been deprecated in 0.19 and will be removed in version 0.21.\n",
      "  \" in version 0.21.\", DeprecationWarning)\n",
      "D:\\Anaconda2\\lib\\site-packages\\sklearn\\feature_extraction\\hashing.py:94: DeprecationWarning: the option non_negative=True has been deprecated in 0.19 and will be removed in version 0.21.\n",
      "  \" in version 0.21.\", DeprecationWarning)\n",
      "D:\\Anaconda2\\lib\\site-packages\\sklearn\\feature_extraction\\hashing.py:94: DeprecationWarning: the option non_negative=True has been deprecated in 0.19 and will be removed in version 0.21.\n",
      "  \" in version 0.21.\", DeprecationWarning)\n",
      "D:\\Anaconda2\\lib\\site-packages\\sklearn\\feature_extraction\\hashing.py:94: DeprecationWarning: the option non_negative=True has been deprecated in 0.19 and will be removed in version 0.21.\n",
      "  \" in version 0.21.\", DeprecationWarning)\n",
      "D:\\Anaconda2\\lib\\site-packages\\sklearn\\feature_extraction\\hashing.py:94: DeprecationWarning: the option non_negative=True has been deprecated in 0.19 and will be removed in version 0.21.\n",
      "  \" in version 0.21.\", DeprecationWarning)\n",
      "D:\\Anaconda2\\lib\\site-packages\\sklearn\\feature_extraction\\hashing.py:94: DeprecationWarning: the option non_negative=True has been deprecated in 0.19 and will be removed in version 0.21.\n",
      "  \" in version 0.21.\", DeprecationWarning)\n",
      "D:\\Anaconda2\\lib\\site-packages\\sklearn\\feature_extraction\\hashing.py:94: DeprecationWarning: the option non_negative=True has been deprecated in 0.19 and will be removed in version 0.21.\n",
      "  \" in version 0.21.\", DeprecationWarning)\n",
      "D:\\Anaconda2\\lib\\site-packages\\sklearn\\feature_extraction\\hashing.py:94: DeprecationWarning: the option non_negative=True has been deprecated in 0.19 and will be removed in version 0.21.\n",
      "  \" in version 0.21.\", DeprecationWarning)\n",
      "D:\\Anaconda2\\lib\\site-packages\\sklearn\\feature_extraction\\hashing.py:94: DeprecationWarning: the option non_negative=True has been deprecated in 0.19 and will be removed in version 0.21.\n",
      "  \" in version 0.21.\", DeprecationWarning)\n",
      "D:\\Anaconda2\\lib\\site-packages\\sklearn\\feature_extraction\\hashing.py:94: DeprecationWarning: the option non_negative=True has been deprecated in 0.19 and will be removed in version 0.21.\n",
      "  \" in version 0.21.\", DeprecationWarning)\n",
      "D:\\Anaconda2\\lib\\site-packages\\sklearn\\feature_extraction\\hashing.py:94: DeprecationWarning: the option non_negative=True has been deprecated in 0.19 and will be removed in version 0.21.\n",
      "  \" in version 0.21.\", DeprecationWarning)\n",
      "D:\\Anaconda2\\lib\\site-packages\\sklearn\\feature_extraction\\hashing.py:94: DeprecationWarning: the option non_negative=True has been deprecated in 0.19 and will be removed in version 0.21.\n",
      "  \" in version 0.21.\", DeprecationWarning)\n",
      "D:\\Anaconda2\\lib\\site-packages\\sklearn\\feature_extraction\\hashing.py:94: DeprecationWarning: the option non_negative=True has been deprecated in 0.19 and will be removed in version 0.21.\n",
      "  \" in version 0.21.\", DeprecationWarning)\n",
      "D:\\Anaconda2\\lib\\site-packages\\sklearn\\feature_extraction\\hashing.py:94: DeprecationWarning: the option non_negative=True has been deprecated in 0.19 and will be removed in version 0.21.\n",
      "  \" in version 0.21.\", DeprecationWarning)\n",
      "D:\\Anaconda2\\lib\\site-packages\\sklearn\\feature_extraction\\hashing.py:94: DeprecationWarning: the option non_negative=True has been deprecated in 0.19 and will be removed in version 0.21.\n",
      "  \" in version 0.21.\", DeprecationWarning)\n",
      "D:\\Anaconda2\\lib\\site-packages\\sklearn\\feature_extraction\\hashing.py:94: DeprecationWarning: the option non_negative=True has been deprecated in 0.19 and will be removed in version 0.21.\n",
      "  \" in version 0.21.\", DeprecationWarning)\n",
      "D:\\Anaconda2\\lib\\site-packages\\sklearn\\feature_extraction\\hashing.py:94: DeprecationWarning: the option non_negative=True has been deprecated in 0.19 and will be removed in version 0.21.\n",
      "  \" in version 0.21.\", DeprecationWarning)\n",
      "D:\\Anaconda2\\lib\\site-packages\\sklearn\\feature_extraction\\hashing.py:94: DeprecationWarning: the option non_negative=True has been deprecated in 0.19 and will be removed in version 0.21.\n",
      "  \" in version 0.21.\", DeprecationWarning)\n",
      "D:\\Anaconda2\\lib\\site-packages\\sklearn\\feature_extraction\\hashing.py:94: DeprecationWarning: the option non_negative=True has been deprecated in 0.19 and will be removed in version 0.21.\n",
      "  \" in version 0.21.\", DeprecationWarning)\n",
      "D:\\Anaconda2\\lib\\site-packages\\sklearn\\feature_extraction\\hashing.py:94: DeprecationWarning: the option non_negative=True has been deprecated in 0.19 and will be removed in version 0.21.\n",
      "  \" in version 0.21.\", DeprecationWarning)\n",
      "D:\\Anaconda2\\lib\\site-packages\\sklearn\\feature_extraction\\hashing.py:94: DeprecationWarning: the option non_negative=True has been deprecated in 0.19 and will be removed in version 0.21.\n",
      "  \" in version 0.21.\", DeprecationWarning)\n",
      "D:\\Anaconda2\\lib\\site-packages\\sklearn\\feature_extraction\\hashing.py:94: DeprecationWarning: the option non_negative=True has been deprecated in 0.19 and will be removed in version 0.21.\n",
      "  \" in version 0.21.\", DeprecationWarning)\n",
      "D:\\Anaconda2\\lib\\site-packages\\sklearn\\feature_extraction\\hashing.py:94: DeprecationWarning: the option non_negative=True has been deprecated in 0.19 and will be removed in version 0.21.\n",
      "  \" in version 0.21.\", DeprecationWarning)\n",
      "D:\\Anaconda2\\lib\\site-packages\\sklearn\\feature_extraction\\hashing.py:94: DeprecationWarning: the option non_negative=True has been deprecated in 0.19 and will be removed in version 0.21.\n",
      "  \" in version 0.21.\", DeprecationWarning)\n",
      "D:\\Anaconda2\\lib\\site-packages\\sklearn\\feature_extraction\\hashing.py:94: DeprecationWarning: the option non_negative=True has been deprecated in 0.19 and will be removed in version 0.21.\n",
      "  \" in version 0.21.\", DeprecationWarning)\n",
      "D:\\Anaconda2\\lib\\site-packages\\sklearn\\feature_extraction\\hashing.py:94: DeprecationWarning: the option non_negative=True has been deprecated in 0.19 and will be removed in version 0.21.\n",
      "  \" in version 0.21.\", DeprecationWarning)\n",
      "D:\\Anaconda2\\lib\\site-packages\\sklearn\\feature_extraction\\hashing.py:94: DeprecationWarning: the option non_negative=True has been deprecated in 0.19 and will be removed in version 0.21.\n",
      "  \" in version 0.21.\", DeprecationWarning)\n",
      "D:\\Anaconda2\\lib\\site-packages\\sklearn\\feature_extraction\\hashing.py:94: DeprecationWarning: the option non_negative=True has been deprecated in 0.19 and will be removed in version 0.21.\n",
      "  \" in version 0.21.\", DeprecationWarning)\n",
      "D:\\Anaconda2\\lib\\site-packages\\sklearn\\feature_extraction\\hashing.py:94: DeprecationWarning: the option non_negative=True has been deprecated in 0.19 and will be removed in version 0.21.\n",
      "  \" in version 0.21.\", DeprecationWarning)\n",
      "D:\\Anaconda2\\lib\\site-packages\\sklearn\\feature_extraction\\hashing.py:94: DeprecationWarning: the option non_negative=True has been deprecated in 0.19 and will be removed in version 0.21.\n",
      "  \" in version 0.21.\", DeprecationWarning)\n",
      "D:\\Anaconda2\\lib\\site-packages\\sklearn\\feature_extraction\\hashing.py:94: DeprecationWarning: the option non_negative=True has been deprecated in 0.19 and will be removed in version 0.21.\n",
      "  \" in version 0.21.\", DeprecationWarning)\n"
     ]
    },
    {
     "data": {
      "image/png": "[encoded data removed]",
      "text/plain": [
       "<matplotlib.figure.Figure at 0x1649c9e8>"
      ]
     },
     "metadata": {},
     "output_type": "display_data"
    },
    {
     "name": "stdout",
     "output_type": "stream",
     "text": [
      "[0.7535714285714286, 0.7571428571428571, 0.7607142857142857, 0.7607142857142857, 0.7642857142857142, 0.7714285714285715, 0.7607142857142857, 0.7642857142857142, 0.7607142857142857, 0.7607142857142857, 0.7607142857142857]\n"
     ]
    }
   ],
   "source": [
    "k = range(100000,1200000,100000)\n",
    "k_score = []\n",
    "for i in k:  \n",
    "    hash_pp_vec = HashingVectorizer(analyzer='word', n_features = i, non_negative=True)  \n",
    "    X_hash_pp_train = hash_pp_vec.fit_transform(X_train2)\n",
    "    X_hash_pp_test = hash_pp_vec.transform(X_test2)\n",
    "    mnb_hash_pp = MultinomialNB(0.01, False)  \n",
    "    mnb_hash_pp.fit(X_hash_pp_train, y_train2)\n",
    "    score = mnb_hash_pp.score(X_hash_pp_test, y_test2) \n",
    "    k_score.append(score)  \n",
    "plt.plot(k,k_score)  \n",
    "plt.show()\n",
    "print k_score"
   ]
  },
  {
   "cell_type": "code",
   "execution_count": 209,
   "metadata": {},
   "outputs": [
    {
     "data": {
      "text/html": [
       "<div>\n",
       "<style scoped>\n",
       "    .dataframe tbody tr th:only-of-type {\n",
       "        vertical-align: middle;\n",
       "    }\n",
       "\n",
       "    .dataframe tbody tr th {\n",
       "        vertical-align: top;\n",
       "    }\n",
       "\n",
       "    .dataframe thead th {\n",
       "        text-align: right;\n",
       "    }\n",
       "</style>\n",
       "<table border=\"1\" class=\"dataframe\">\n",
       "  <thead>\n",
       "    <tr style=\"text-align: right;\">\n",
       "      <th></th>\n",
       "      <th>TweetID</th>\n",
       "      <th>TweetText</th>\n",
       "      <th>InformationSource</th>\n",
       "      <th>InformationType</th>\n",
       "      <th>Informativeness</th>\n",
       "      <th>label</th>\n",
       "      <th>ProcessedText</th>\n",
       "    </tr>\n",
       "  </thead>\n",
       "  <tbody>\n",
       "    <tr>\n",
       "      <th>0</th>\n",
       "      <td>211040709124440064</td>\n",
       "      <td>#Intern #US #TATTOO #Wisconsin #Ohio #NC #PA #...</td>\n",
       "      <td>Not labeled</td>\n",
       "      <td>Not labeled</td>\n",
       "      <td>Not related</td>\n",
       "      <td>Not related or not informative</td>\n",
       "      <td>#intern #us #tattoo #wisconsin #ohio #nc #pa #...</td>\n",
       "    </tr>\n",
       "    <tr>\n",
       "      <th>1</th>\n",
       "      <td>211111710294163457</td>\n",
       "      <td>RT @Jack4Ward: Get in on the fun every Thursda...</td>\n",
       "      <td>Not labeled</td>\n",
       "      <td>Not labeled</td>\n",
       "      <td>Not related</td>\n",
       "      <td>Not related or not informative</td>\n",
       "      <td>rt @jack4ward : get in on the fun every thursd...</td>\n",
       "    </tr>\n",
       "    <tr>\n",
       "      <th>2</th>\n",
       "      <td>211157222699433985</td>\n",
       "      <td>Welcome to our newest STUDENTathlete- Reagan B...</td>\n",
       "      <td>Not labeled</td>\n",
       "      <td>Not labeled</td>\n",
       "      <td>Not related</td>\n",
       "      <td>Not related or not informative</td>\n",
       "      <td>welcome to our newest studentathlete - reagan ...</td>\n",
       "    </tr>\n",
       "    <tr>\n",
       "      <th>3</th>\n",
       "      <td>211162553659830272</td>\n",
       "      <td>Denver Post: #Colorado governor signs bill cre...</td>\n",
       "      <td>Not labeled</td>\n",
       "      <td>Not labeled</td>\n",
       "      <td>Not related</td>\n",
       "      <td>Not related or not informative</td>\n",
       "      <td>denver post : #colorado governor sign bill cre...</td>\n",
       "    </tr>\n",
       "    <tr>\n",
       "      <th>4</th>\n",
       "      <td>211216962162933761</td>\n",
       "      <td>Pretty sure I'm going to live in Manitou Sprin...</td>\n",
       "      <td>Not labeled</td>\n",
       "      <td>Not labeled</td>\n",
       "      <td>Not related</td>\n",
       "      <td>Not related or not informative</td>\n",
       "      <td>pretty sure i'm going to live in manitou sprin...</td>\n",
       "    </tr>\n",
       "  </tbody>\n",
       "</table>\n",
       "</div>"
      ],
      "text/plain": [
       "              TweetID                                          TweetText  \\\n",
       "0  211040709124440064  #Intern #US #TATTOO #Wisconsin #Ohio #NC #PA #...   \n",
       "1  211111710294163457  RT @Jack4Ward: Get in on the fun every Thursda...   \n",
       "2  211157222699433985  Welcome to our newest STUDENTathlete- Reagan B...   \n",
       "3  211162553659830272  Denver Post: #Colorado governor signs bill cre...   \n",
       "4  211216962162933761  Pretty sure I'm going to live in Manitou Sprin...   \n",
       "\n",
       "  InformationSource InformationType Informativeness  \\\n",
       "0       Not labeled     Not labeled     Not related   \n",
       "1       Not labeled     Not labeled     Not related   \n",
       "2       Not labeled     Not labeled     Not related   \n",
       "3       Not labeled     Not labeled     Not related   \n",
       "4       Not labeled     Not labeled     Not related   \n",
       "\n",
       "                            label  \\\n",
       "0  Not related or not informative   \n",
       "1  Not related or not informative   \n",
       "2  Not related or not informative   \n",
       "3  Not related or not informative   \n",
       "4  Not related or not informative   \n",
       "\n",
       "                                       ProcessedText  \n",
       "0  #intern #us #tattoo #wisconsin #ohio #nc #pa #...  \n",
       "1  rt @jack4ward : get in on the fun every thursd...  \n",
       "2  welcome to our newest studentathlete - reagan ...  \n",
       "3  denver post : #colorado governor sign bill cre...  \n",
       "4  pretty sure i'm going to live in manitou sprin...  "
      ]
     },
     "execution_count": 209,
     "metadata": {},
     "output_type": "execute_result"
    }
   ],
   "source": [
    "p.set_options(p.OPT.URL, p.OPT.EMOJI, p.OPT.SMILEY)\n",
    "all_tweets = [p.clean(t).lower() for t in df.TweetText]\n",
    "\n",
    "tknzr = TweetTokenizer()\n",
    "all_tokens = [tknzr.tokenize(t) for t in all_tweets]\n",
    "#en_stop = set(stopwords.words('english'))\n",
    "lemmatizer = WordNetLemmatizer()\n",
    "processed_texts = []  # preprocessed tweets\n",
    "\n",
    "for i in range(len(all_tokens)):\n",
    "    processed_texts.append(' '.join([lemmatizer.lemmatize(t) for t in all_tokens[i]]))\n",
    "\n",
    "df['ProcessedText'] = pd.Series(processed_texts)\n",
    "df.head()"
   ]
  },
  {
   "cell_type": "code",
   "execution_count": 210,
   "metadata": {},
   "outputs": [
    {
     "name": "stderr",
     "output_type": "stream",
     "text": [
      "D:\\Anaconda2\\lib\\site-packages\\sklearn\\feature_extraction\\hashing.py:94: DeprecationWarning: the option non_negative=True has been deprecated in 0.19 and will be removed in version 0.21.\n",
      "  \" in version 0.21.\", DeprecationWarning)\n",
      "D:\\Anaconda2\\lib\\site-packages\\sklearn\\feature_extraction\\hashing.py:94: DeprecationWarning: the option non_negative=True has been deprecated in 0.19 and will be removed in version 0.21.\n",
      "  \" in version 0.21.\", DeprecationWarning)\n",
      "D:\\Anaconda2\\lib\\site-packages\\sklearn\\feature_extraction\\hashing.py:94: DeprecationWarning: the option non_negative=True has been deprecated in 0.19 and will be removed in version 0.21.\n",
      "  \" in version 0.21.\", DeprecationWarning)\n"
     ]
    }
   ],
   "source": [
    "split_percentage = 0.25\n",
    "X_train2, X_test2, y_train2, y_test2 = train_test_split(df.ProcessedText, df.label, test_size=split_percentage, random_state=42) \n",
    "hash_pp_vec = HashingVectorizer(analyzer='word', non_negative=True)\n",
    "X_hash_pp_train = hash_pp_vec.fit_transform(X_train2)  \n",
    "X_hash_pp_test = hash_pp_vec.transform(X_test2)"
   ]
  },
  {
   "cell_type": "code",
   "execution_count": 211,
   "metadata": {},
   "outputs": [
    {
     "name": "stdout",
     "output_type": "stream",
     "text": [
      "[0.78571429 0.85714286 0.73809524 0.8452381  0.85714286 0.72619048\n",
      " 0.82142857 0.77108434 0.71084337 0.84337349]\n",
      "Mean score: 0.7956 (+/-0.0179)\n",
      "Accuracy for training: 0.972520908005\n",
      "Accuracy for testing: 0.789285714286\n"
     ]
    }
   ],
   "source": [
    "mnb_hash_pp = MultinomialNB(0.1, False)  \n",
    "mnb_hash_pp.fit(X_hash_pp_train, y_train2)\n",
    "\n",
    "evaluate_cross_validation(mnb_hash_pp, X_hash_pp_train, y_train2, 10)\n",
    "\n",
    "print 'Accuracy for training: {}'.format(mnb_hash_pp.score(X_hash_pp_train, y_train2))\n",
    "print 'Accuracy for testing: {}'.format(mnb_hash_pp.score(X_hash_pp_test, y_test2))"
   ]
  },
  {
   "cell_type": "code",
   "execution_count": 212,
   "metadata": {},
   "outputs": [
    {
     "name": "stdout",
     "output_type": "stream",
     "text": [
      "Classification Report:\n",
      "                                precision    recall  f1-score   support\n",
      "\n",
      "Not related or not informative       0.93      0.61      0.74       137\n",
      "       Related and informative       0.72      0.96      0.82       143\n",
      "\n",
      "                   avg / total       0.82      0.79      0.78       280\n",
      "\n",
      "Confusion Matrix:\n",
      "[[ 84  53]\n",
      " [  6 137]]\n"
     ]
    }
   ],
   "source": [
    "y_hash_pp_predict = mnb_hash_pp.predict(X_hash_pp_test) \n",
    "print \"Classification Report:\" \n",
    "print metrics.classification_report(y_test2,y_hash_pp_predict) \n",
    "print \"Confusion Matrix:\" \n",
    "print metrics.confusion_matrix(y_test2,y_hash_pp_predict)"
   ]
  },
  {
   "cell_type": "code",
   "execution_count": 213,
   "metadata": {},
   "outputs": [
    {
     "data": {
      "text/plain": [
       "(280, 1048576)"
      ]
     },
     "execution_count": 213,
     "metadata": {},
     "output_type": "execute_result"
    }
   ],
   "source": [
    "X_hash_pp_test.shape"
   ]
  },
  {
   "cell_type": "code",
   "execution_count": 214,
   "metadata": {},
   "outputs": [
    {
     "name": "stderr",
     "output_type": "stream",
     "text": [
      "D:\\Anaconda2\\lib\\site-packages\\sklearn\\feature_extraction\\hashing.py:94: DeprecationWarning: the option non_negative=True has been deprecated in 0.19 and will be removed in version 0.21.\n",
      "  \" in version 0.21.\", DeprecationWarning)\n",
      "D:\\Anaconda2\\lib\\site-packages\\sklearn\\feature_extraction\\hashing.py:94: DeprecationWarning: the option non_negative=True has been deprecated in 0.19 and will be removed in version 0.21.\n",
      "  \" in version 0.21.\", DeprecationWarning)\n",
      "D:\\Anaconda2\\lib\\site-packages\\sklearn\\feature_extraction\\hashing.py:94: DeprecationWarning: the option non_negative=True has been deprecated in 0.19 and will be removed in version 0.21.\n",
      "  \" in version 0.21.\", DeprecationWarning)\n",
      "D:\\Anaconda2\\lib\\site-packages\\sklearn\\feature_extraction\\hashing.py:94: DeprecationWarning: the option non_negative=True has been deprecated in 0.19 and will be removed in version 0.21.\n",
      "  \" in version 0.21.\", DeprecationWarning)\n",
      "D:\\Anaconda2\\lib\\site-packages\\sklearn\\feature_extraction\\hashing.py:94: DeprecationWarning: the option non_negative=True has been deprecated in 0.19 and will be removed in version 0.21.\n",
      "  \" in version 0.21.\", DeprecationWarning)\n",
      "D:\\Anaconda2\\lib\\site-packages\\sklearn\\feature_extraction\\hashing.py:94: DeprecationWarning: the option non_negative=True has been deprecated in 0.19 and will be removed in version 0.21.\n",
      "  \" in version 0.21.\", DeprecationWarning)\n",
      "D:\\Anaconda2\\lib\\site-packages\\sklearn\\feature_extraction\\hashing.py:94: DeprecationWarning: the option non_negative=True has been deprecated in 0.19 and will be removed in version 0.21.\n",
      "  \" in version 0.21.\", DeprecationWarning)\n",
      "D:\\Anaconda2\\lib\\site-packages\\sklearn\\feature_extraction\\hashing.py:94: DeprecationWarning: the option non_negative=True has been deprecated in 0.19 and will be removed in version 0.21.\n",
      "  \" in version 0.21.\", DeprecationWarning)\n",
      "D:\\Anaconda2\\lib\\site-packages\\sklearn\\feature_extraction\\hashing.py:94: DeprecationWarning: the option non_negative=True has been deprecated in 0.19 and will be removed in version 0.21.\n",
      "  \" in version 0.21.\", DeprecationWarning)\n",
      "D:\\Anaconda2\\lib\\site-packages\\sklearn\\feature_extraction\\hashing.py:94: DeprecationWarning: the option non_negative=True has been deprecated in 0.19 and will be removed in version 0.21.\n",
      "  \" in version 0.21.\", DeprecationWarning)\n",
      "D:\\Anaconda2\\lib\\site-packages\\sklearn\\feature_extraction\\hashing.py:94: DeprecationWarning: the option non_negative=True has been deprecated in 0.19 and will be removed in version 0.21.\n",
      "  \" in version 0.21.\", DeprecationWarning)\n",
      "D:\\Anaconda2\\lib\\site-packages\\sklearn\\feature_extraction\\hashing.py:94: DeprecationWarning: the option non_negative=True has been deprecated in 0.19 and will be removed in version 0.21.\n",
      "  \" in version 0.21.\", DeprecationWarning)\n",
      "D:\\Anaconda2\\lib\\site-packages\\sklearn\\feature_extraction\\hashing.py:94: DeprecationWarning: the option non_negative=True has been deprecated in 0.19 and will be removed in version 0.21.\n",
      "  \" in version 0.21.\", DeprecationWarning)\n",
      "D:\\Anaconda2\\lib\\site-packages\\sklearn\\feature_extraction\\hashing.py:94: DeprecationWarning: the option non_negative=True has been deprecated in 0.19 and will be removed in version 0.21.\n",
      "  \" in version 0.21.\", DeprecationWarning)\n",
      "D:\\Anaconda2\\lib\\site-packages\\sklearn\\feature_extraction\\hashing.py:94: DeprecationWarning: the option non_negative=True has been deprecated in 0.19 and will be removed in version 0.21.\n",
      "  \" in version 0.21.\", DeprecationWarning)\n",
      "D:\\Anaconda2\\lib\\site-packages\\sklearn\\feature_extraction\\hashing.py:94: DeprecationWarning: the option non_negative=True has been deprecated in 0.19 and will be removed in version 0.21.\n",
      "  \" in version 0.21.\", DeprecationWarning)\n",
      "D:\\Anaconda2\\lib\\site-packages\\sklearn\\feature_extraction\\hashing.py:94: DeprecationWarning: the option non_negative=True has been deprecated in 0.19 and will be removed in version 0.21.\n",
      "  \" in version 0.21.\", DeprecationWarning)\n",
      "D:\\Anaconda2\\lib\\site-packages\\sklearn\\feature_extraction\\hashing.py:94: DeprecationWarning: the option non_negative=True has been deprecated in 0.19 and will be removed in version 0.21.\n",
      "  \" in version 0.21.\", DeprecationWarning)\n",
      "D:\\Anaconda2\\lib\\site-packages\\sklearn\\feature_extraction\\hashing.py:94: DeprecationWarning: the option non_negative=True has been deprecated in 0.19 and will be removed in version 0.21.\n",
      "  \" in version 0.21.\", DeprecationWarning)\n",
      "D:\\Anaconda2\\lib\\site-packages\\sklearn\\feature_extraction\\hashing.py:94: DeprecationWarning: the option non_negative=True has been deprecated in 0.19 and will be removed in version 0.21.\n",
      "  \" in version 0.21.\", DeprecationWarning)\n",
      "D:\\Anaconda2\\lib\\site-packages\\sklearn\\feature_extraction\\hashing.py:94: DeprecationWarning: the option non_negative=True has been deprecated in 0.19 and will be removed in version 0.21.\n",
      "  \" in version 0.21.\", DeprecationWarning)\n",
      "D:\\Anaconda2\\lib\\site-packages\\sklearn\\feature_extraction\\hashing.py:94: DeprecationWarning: the option non_negative=True has been deprecated in 0.19 and will be removed in version 0.21.\n",
      "  \" in version 0.21.\", DeprecationWarning)\n",
      "D:\\Anaconda2\\lib\\site-packages\\sklearn\\feature_extraction\\hashing.py:94: DeprecationWarning: the option non_negative=True has been deprecated in 0.19 and will be removed in version 0.21.\n",
      "  \" in version 0.21.\", DeprecationWarning)\n",
      "D:\\Anaconda2\\lib\\site-packages\\sklearn\\feature_extraction\\hashing.py:94: DeprecationWarning: the option non_negative=True has been deprecated in 0.19 and will be removed in version 0.21.\n",
      "  \" in version 0.21.\", DeprecationWarning)\n",
      "D:\\Anaconda2\\lib\\site-packages\\sklearn\\feature_extraction\\hashing.py:94: DeprecationWarning: the option non_negative=True has been deprecated in 0.19 and will be removed in version 0.21.\n",
      "  \" in version 0.21.\", DeprecationWarning)\n",
      "D:\\Anaconda2\\lib\\site-packages\\sklearn\\feature_extraction\\hashing.py:94: DeprecationWarning: the option non_negative=True has been deprecated in 0.19 and will be removed in version 0.21.\n",
      "  \" in version 0.21.\", DeprecationWarning)\n",
      "D:\\Anaconda2\\lib\\site-packages\\sklearn\\feature_extraction\\hashing.py:94: DeprecationWarning: the option non_negative=True has been deprecated in 0.19 and will be removed in version 0.21.\n",
      "  \" in version 0.21.\", DeprecationWarning)\n",
      "D:\\Anaconda2\\lib\\site-packages\\sklearn\\feature_extraction\\hashing.py:94: DeprecationWarning: the option non_negative=True has been deprecated in 0.19 and will be removed in version 0.21.\n",
      "  \" in version 0.21.\", DeprecationWarning)\n",
      "D:\\Anaconda2\\lib\\site-packages\\sklearn\\feature_extraction\\hashing.py:94: DeprecationWarning: the option non_negative=True has been deprecated in 0.19 and will be removed in version 0.21.\n",
      "  \" in version 0.21.\", DeprecationWarning)\n",
      "D:\\Anaconda2\\lib\\site-packages\\sklearn\\feature_extraction\\hashing.py:94: DeprecationWarning: the option non_negative=True has been deprecated in 0.19 and will be removed in version 0.21.\n",
      "  \" in version 0.21.\", DeprecationWarning)\n",
      "D:\\Anaconda2\\lib\\site-packages\\sklearn\\feature_extraction\\hashing.py:94: DeprecationWarning: the option non_negative=True has been deprecated in 0.19 and will be removed in version 0.21.\n",
      "  \" in version 0.21.\", DeprecationWarning)\n",
      "D:\\Anaconda2\\lib\\site-packages\\sklearn\\feature_extraction\\hashing.py:94: DeprecationWarning: the option non_negative=True has been deprecated in 0.19 and will be removed in version 0.21.\n",
      "  \" in version 0.21.\", DeprecationWarning)\n",
      "D:\\Anaconda2\\lib\\site-packages\\sklearn\\feature_extraction\\hashing.py:94: DeprecationWarning: the option non_negative=True has been deprecated in 0.19 and will be removed in version 0.21.\n",
      "  \" in version 0.21.\", DeprecationWarning)\n"
     ]
    },
    {
     "data": {
      "image/png": "[encoded data removed]",
      "text/plain": [
       "<matplotlib.figure.Figure at 0x1620be10>"
      ]
     },
     "metadata": {},
     "output_type": "display_data"
    },
    {
     "name": "stdout",
     "output_type": "stream",
     "text": [
      "[0.7928571428571428, 0.7928571428571428, 0.7892857142857143, 0.7964285714285714, 0.7892857142857143, 0.7892857142857143, 0.7928571428571428, 0.7928571428571428, 0.7857142857142857, 0.7928571428571428, 0.7928571428571428]\n"
     ]
    }
   ],
   "source": [
    "k = range(100000,1200000,100000)\n",
    "k_score = []\n",
    "for i in k:  \n",
    "    hash_pp_vec = HashingVectorizer(analyzer='word', n_features = i, non_negative=True)  \n",
    "    X_hash_pp_train = hash_pp_vec.fit_transform(X_train2)\n",
    "    X_hash_pp_test = hash_pp_vec.transform(X_test2)\n",
    "    mnb_hash_pp = MultinomialNB(0.1, False)  \n",
    "    mnb_hash_pp.fit(X_hash_pp_train, y_train2)\n",
    "    score = mnb_hash_pp.score(X_hash_pp_test, y_test2) \n",
    "    k_score.append(score)  \n",
    "plt.plot(k,k_score)  \n",
    "plt.show()\n",
    "print k_score"
   ]
  },
  {
   "cell_type": "markdown",
   "metadata": {},
   "source": [
    "### Test other data set"
   ]
  },
  {
   "cell_type": "markdown",
   "metadata": {},
   "source": [
    "### Colorado floods"
   ]
  },
  {
   "cell_type": "code",
   "execution_count": 215,
   "metadata": {},
   "outputs": [
    {
     "data": {
      "text/plain": [
       "Related and informative          768\n",
       "Related - but not informative    157\n",
       "Not related                       70\n",
       "Not applicable                     5\n",
       "Name: Informativeness, dtype: int64"
      ]
     },
     "execution_count": 215,
     "metadata": {},
     "output_type": "execute_result"
    }
   ],
   "source": [
    "df = pd.read_csv('CrisisLexT26/2013_Colorado_floods/2013_Colorado_floods-tweets_labeled.csv') # change the file location if needed\n",
    "\n",
    "col_dict = {}\n",
    "for old_feature in df.columns.values:\n",
    "    col_dict.update({old_feature: old_feature.replace(' ','')})\n",
    "df.rename(columns=col_dict, inplace=True)\n",
    "\n",
    "df.Informativeness.value_counts()"
   ]
  },
  {
   "cell_type": "code",
   "execution_count": 216,
   "metadata": {},
   "outputs": [
    {
     "data": {
      "text/plain": [
       "Related and informative          691\n",
       "Related - but not informative    156\n",
       "Not related                       70\n",
       "Name: Informativeness, dtype: int64"
      ]
     },
     "execution_count": 216,
     "metadata": {},
     "output_type": "execute_result"
    }
   ],
   "source": [
    "df = df[df.InformationSource != 'Government']\n",
    "df = df[df.Informativeness!='Not applicable'].reset_index(drop=True)\n",
    "df.Informativeness.value_counts()"
   ]
  },
  {
   "cell_type": "code",
   "execution_count": 217,
   "metadata": {},
   "outputs": [
    {
     "data": {
      "text/html": [
       "<div>\n",
       "<style scoped>\n",
       "    .dataframe tbody tr th:only-of-type {\n",
       "        vertical-align: middle;\n",
       "    }\n",
       "\n",
       "    .dataframe tbody tr th {\n",
       "        vertical-align: top;\n",
       "    }\n",
       "\n",
       "    .dataframe thead th {\n",
       "        text-align: right;\n",
       "    }\n",
       "</style>\n",
       "<table border=\"1\" class=\"dataframe\">\n",
       "  <thead>\n",
       "    <tr style=\"text-align: right;\">\n",
       "      <th></th>\n",
       "      <th>TweetID</th>\n",
       "      <th>TweetText</th>\n",
       "      <th>InformationSource</th>\n",
       "      <th>InformationType</th>\n",
       "      <th>Informativeness</th>\n",
       "      <th>label</th>\n",
       "    </tr>\n",
       "  </thead>\n",
       "  <tbody>\n",
       "    <tr>\n",
       "      <th>0</th>\n",
       "      <td>376843697943769088</td>\n",
       "      <td>#Longmont #CO The Tiny Tim Center is now #hiri...</td>\n",
       "      <td>Not labeled</td>\n",
       "      <td>Not labeled</td>\n",
       "      <td>Not related</td>\n",
       "      <td>Not related or not informative</td>\n",
       "    </tr>\n",
       "    <tr>\n",
       "      <th>1</th>\n",
       "      <td>378011169883037697</td>\n",
       "      <td>RT @dlfluegge: Crazy Flooding in Boulder, Colo...</td>\n",
       "      <td>Media</td>\n",
       "      <td>Sympathy and support</td>\n",
       "      <td>Related - but not informative</td>\n",
       "      <td>Not related or not informative</td>\n",
       "    </tr>\n",
       "    <tr>\n",
       "      <th>2</th>\n",
       "      <td>378020179214491649</td>\n",
       "      <td>Here's the #boulderflood video that's circulat...</td>\n",
       "      <td>Outsiders</td>\n",
       "      <td>Other Useful Information</td>\n",
       "      <td>Related and informative</td>\n",
       "      <td>Related and informative</td>\n",
       "    </tr>\n",
       "    <tr>\n",
       "      <th>3</th>\n",
       "      <td>378026101588496385</td>\n",
       "      <td>RT @passantino: Video: Severe flooding hits ne...</td>\n",
       "      <td>Media</td>\n",
       "      <td>Other Useful Information</td>\n",
       "      <td>Related and informative</td>\n",
       "      <td>Related and informative</td>\n",
       "    </tr>\n",
       "    <tr>\n",
       "      <th>4</th>\n",
       "      <td>378029784204206080</td>\n",
       "      <td>Crazy Flooding in Boulder, Colorado http://t.c...</td>\n",
       "      <td>Media</td>\n",
       "      <td>Other Useful Information</td>\n",
       "      <td>Related and informative</td>\n",
       "      <td>Related and informative</td>\n",
       "    </tr>\n",
       "  </tbody>\n",
       "</table>\n",
       "</div>"
      ],
      "text/plain": [
       "              TweetID                                          TweetText  \\\n",
       "0  376843697943769088  #Longmont #CO The Tiny Tim Center is now #hiri...   \n",
       "1  378011169883037697  RT @dlfluegge: Crazy Flooding in Boulder, Colo...   \n",
       "2  378020179214491649  Here's the #boulderflood video that's circulat...   \n",
       "3  378026101588496385  RT @passantino: Video: Severe flooding hits ne...   \n",
       "4  378029784204206080  Crazy Flooding in Boulder, Colorado http://t.c...   \n",
       "\n",
       "  InformationSource           InformationType                Informativeness  \\\n",
       "0       Not labeled               Not labeled                    Not related   \n",
       "1             Media      Sympathy and support  Related - but not informative   \n",
       "2         Outsiders  Other Useful Information        Related and informative   \n",
       "3             Media  Other Useful Information        Related and informative   \n",
       "4             Media  Other Useful Information        Related and informative   \n",
       "\n",
       "                            label  \n",
       "0  Not related or not informative  \n",
       "1  Not related or not informative  \n",
       "2         Related and informative  \n",
       "3         Related and informative  \n",
       "4         Related and informative  "
      ]
     },
     "execution_count": 217,
     "metadata": {},
     "output_type": "execute_result"
    }
   ],
   "source": [
    "label = ['Not related or not informative'] * df.shape[0]\n",
    "idx = df.index[df.Informativeness == 'Related and informative'].tolist()\n",
    "for i in idx: label[i] = 'Related and informative'\n",
    "df['label'] = pd.Series(label)\n",
    "\n",
    "df.head()"
   ]
  },
  {
   "cell_type": "code",
   "execution_count": 218,
   "metadata": {},
   "outputs": [
    {
     "data": {
      "text/html": [
       "<div>\n",
       "<style scoped>\n",
       "    .dataframe tbody tr th:only-of-type {\n",
       "        vertical-align: middle;\n",
       "    }\n",
       "\n",
       "    .dataframe tbody tr th {\n",
       "        vertical-align: top;\n",
       "    }\n",
       "\n",
       "    .dataframe thead th {\n",
       "        text-align: right;\n",
       "    }\n",
       "</style>\n",
       "<table border=\"1\" class=\"dataframe\">\n",
       "  <thead>\n",
       "    <tr style=\"text-align: right;\">\n",
       "      <th></th>\n",
       "      <th>TweetID</th>\n",
       "      <th>TweetText</th>\n",
       "      <th>InformationSource</th>\n",
       "      <th>InformationType</th>\n",
       "      <th>Informativeness</th>\n",
       "      <th>label</th>\n",
       "      <th>ProcessedText</th>\n",
       "    </tr>\n",
       "  </thead>\n",
       "  <tbody>\n",
       "    <tr>\n",
       "      <th>0</th>\n",
       "      <td>376843697943769088</td>\n",
       "      <td>#Longmont #CO The Tiny Tim Center is now #hiri...</td>\n",
       "      <td>Not labeled</td>\n",
       "      <td>Not labeled</td>\n",
       "      <td>Not related</td>\n",
       "      <td>Not related or not informative</td>\n",
       "      <td>#longmont #co the tiny tim center is now #hiri...</td>\n",
       "    </tr>\n",
       "    <tr>\n",
       "      <th>1</th>\n",
       "      <td>378011169883037697</td>\n",
       "      <td>RT @dlfluegge: Crazy Flooding in Boulder, Colo...</td>\n",
       "      <td>Media</td>\n",
       "      <td>Sympathy and support</td>\n",
       "      <td>Related - but not informative</td>\n",
       "      <td>Not related or not informative</td>\n",
       "      <td>rt @dlfluegge : crazy flooding in boulder , co...</td>\n",
       "    </tr>\n",
       "    <tr>\n",
       "      <th>2</th>\n",
       "      <td>378020179214491649</td>\n",
       "      <td>Here's the #boulderflood video that's circulat...</td>\n",
       "      <td>Outsiders</td>\n",
       "      <td>Other Useful Information</td>\n",
       "      <td>Related and informative</td>\n",
       "      <td>Related and informative</td>\n",
       "      <td>here's the #boulderflood video that's circulat...</td>\n",
       "    </tr>\n",
       "    <tr>\n",
       "      <th>3</th>\n",
       "      <td>378026101588496385</td>\n",
       "      <td>RT @passantino: Video: Severe flooding hits ne...</td>\n",
       "      <td>Media</td>\n",
       "      <td>Other Useful Information</td>\n",
       "      <td>Related and informative</td>\n",
       "      <td>Related and informative</td>\n",
       "      <td>rt @passantino : video : severe flooding hit n...</td>\n",
       "    </tr>\n",
       "    <tr>\n",
       "      <th>4</th>\n",
       "      <td>378029784204206080</td>\n",
       "      <td>Crazy Flooding in Boulder, Colorado http://t.c...</td>\n",
       "      <td>Media</td>\n",
       "      <td>Other Useful Information</td>\n",
       "      <td>Related and informative</td>\n",
       "      <td>Related and informative</td>\n",
       "      <td>crazy flooding in boulder , colorado</td>\n",
       "    </tr>\n",
       "  </tbody>\n",
       "</table>\n",
       "</div>"
      ],
      "text/plain": [
       "              TweetID                                          TweetText  \\\n",
       "0  376843697943769088  #Longmont #CO The Tiny Tim Center is now #hiri...   \n",
       "1  378011169883037697  RT @dlfluegge: Crazy Flooding in Boulder, Colo...   \n",
       "2  378020179214491649  Here's the #boulderflood video that's circulat...   \n",
       "3  378026101588496385  RT @passantino: Video: Severe flooding hits ne...   \n",
       "4  378029784204206080  Crazy Flooding in Boulder, Colorado http://t.c...   \n",
       "\n",
       "  InformationSource           InformationType                Informativeness  \\\n",
       "0       Not labeled               Not labeled                    Not related   \n",
       "1             Media      Sympathy and support  Related - but not informative   \n",
       "2         Outsiders  Other Useful Information        Related and informative   \n",
       "3             Media  Other Useful Information        Related and informative   \n",
       "4             Media  Other Useful Information        Related and informative   \n",
       "\n",
       "                            label  \\\n",
       "0  Not related or not informative   \n",
       "1  Not related or not informative   \n",
       "2         Related and informative   \n",
       "3         Related and informative   \n",
       "4         Related and informative   \n",
       "\n",
       "                                       ProcessedText  \n",
       "0  #longmont #co the tiny tim center is now #hiri...  \n",
       "1  rt @dlfluegge : crazy flooding in boulder , co...  \n",
       "2  here's the #boulderflood video that's circulat...  \n",
       "3  rt @passantino : video : severe flooding hit n...  \n",
       "4               crazy flooding in boulder , colorado  "
      ]
     },
     "execution_count": 218,
     "metadata": {},
     "output_type": "execute_result"
    }
   ],
   "source": [
    "p.set_options(p.OPT.URL, p.OPT.EMOJI, p.OPT.SMILEY)\n",
    "all_tweets = [p.clean(t).lower() for t in df.TweetText]\n",
    "\n",
    "tknzr = TweetTokenizer()\n",
    "all_tokens = [tknzr.tokenize(t) for t in all_tweets]\n",
    "#en_stop = set(stopwords.words('english'))\n",
    "lemmatizer = WordNetLemmatizer()\n",
    "processed_texts = []  # preprocessed tweets\n",
    "\n",
    "for i in range(len(all_tokens)):\n",
    "    processed_texts.append(' '.join([lemmatizer.lemmatize(t) for t in all_tokens[i]]))\n",
    "\n",
    "df['ProcessedText'] = pd.Series(processed_texts)\n",
    "df.head()"
   ]
  },
  {
   "cell_type": "code",
   "execution_count": 219,
   "metadata": {},
   "outputs": [
    {
     "name": "stdout",
     "output_type": "stream",
     "text": [
      "Classification Report:\n",
      "                                precision    recall  f1-score   support\n",
      "\n",
      "Not related or not informative     0.5095    0.4735    0.4908       226\n",
      "       Related and informative     0.8317    0.8509    0.8412       691\n",
      "\n",
      "                   avg / total     0.7523    0.7579    0.7548       917\n",
      "\n",
      "Confusion Matrix:\n",
      "[[107 119]\n",
      " [103 588]]\n",
      "Accuracy:\n",
      "0.7579062159214831\n"
     ]
    },
    {
     "name": "stderr",
     "output_type": "stream",
     "text": [
      "D:\\Anaconda2\\lib\\site-packages\\sklearn\\feature_extraction\\hashing.py:94: DeprecationWarning: the option non_negative=True has been deprecated in 0.19 and will be removed in version 0.21.\n",
      "  \" in version 0.21.\", DeprecationWarning)\n"
     ]
    }
   ],
   "source": [
    "X_hash_pp_test = hash_pp_vec.transform(df.ProcessedText)\n",
    "\n",
    "y_hash_pp_predict = mnb_hash_pp.predict(X_hash_pp_test)\n",
    "\n",
    "print \"Classification Report:\" \n",
    "print metrics.classification_report(df.label,y_hash_pp_predict, digits=4) \n",
    "print \"Confusion Matrix:\" \n",
    "print metrics.confusion_matrix(df.label,y_hash_pp_predict)\n",
    "print \"Accuracy:\"\n",
    "print metrics.accuracy_score(df.label,y_hash_pp_predict)"
   ]
  },
  {
   "cell_type": "markdown",
   "metadata": {},
   "source": [
    "### Australia fire"
   ]
  },
  {
   "cell_type": "code",
   "execution_count": 220,
   "metadata": {},
   "outputs": [
    {
     "data": {
      "text/plain": [
       "Related and informative          704\n",
       "Related - but not informative    245\n",
       "Not related                      242\n",
       "Not applicable                     8\n",
       "Name: Informativeness, dtype: int64"
      ]
     },
     "execution_count": 220,
     "metadata": {},
     "output_type": "execute_result"
    }
   ],
   "source": [
    "df = pd.read_csv('CrisisLexT26/2013_Australia_bushfire/2013_Australia_bushfire-tweets_labeled.csv') # change the file location if needed\n",
    "\n",
    "col_dict = {}\n",
    "for old_feature in df.columns.values:\n",
    "    col_dict.update({old_feature: old_feature.replace(' ','')})\n",
    "df.rename(columns=col_dict, inplace=True)\n",
    "\n",
    "df.Informativeness.value_counts()"
   ]
  },
  {
   "cell_type": "code",
   "execution_count": 221,
   "metadata": {},
   "outputs": [
    {
     "data": {
      "text/plain": [
       "Related and informative          602\n",
       "Not related                      242\n",
       "Related - but not informative    235\n",
       "Name: Informativeness, dtype: int64"
      ]
     },
     "execution_count": 221,
     "metadata": {},
     "output_type": "execute_result"
    }
   ],
   "source": [
    "df = df[df.InformationSource != 'Government']\n",
    "df = df[df.Informativeness!='Not applicable'].reset_index(drop=True)\n",
    "df.Informativeness.value_counts()"
   ]
  },
  {
   "cell_type": "code",
   "execution_count": 222,
   "metadata": {},
   "outputs": [
    {
     "data": {
      "text/html": [
       "<div>\n",
       "<style scoped>\n",
       "    .dataframe tbody tr th:only-of-type {\n",
       "        vertical-align: middle;\n",
       "    }\n",
       "\n",
       "    .dataframe tbody tr th {\n",
       "        vertical-align: top;\n",
       "    }\n",
       "\n",
       "    .dataframe thead th {\n",
       "        text-align: right;\n",
       "    }\n",
       "</style>\n",
       "<table border=\"1\" class=\"dataframe\">\n",
       "  <thead>\n",
       "    <tr style=\"text-align: right;\">\n",
       "      <th></th>\n",
       "      <th>TweetID</th>\n",
       "      <th>TweetText</th>\n",
       "      <th>InformationSource</th>\n",
       "      <th>InformationType</th>\n",
       "      <th>Informativeness</th>\n",
       "      <th>label</th>\n",
       "    </tr>\n",
       "  </thead>\n",
       "  <tbody>\n",
       "    <tr>\n",
       "      <th>0</th>\n",
       "      <td>388923108922781697</td>\n",
       "      <td>It's ridiculous,,,RT @ThatGuyTiisetso: #redoct...</td>\n",
       "      <td>Not labeled</td>\n",
       "      <td>Not labeled</td>\n",
       "      <td>Not related</td>\n",
       "      <td>Not related or not informative</td>\n",
       "    </tr>\n",
       "    <tr>\n",
       "      <th>1</th>\n",
       "      <td>388929052247347200</td>\n",
       "      <td>A Total Fire Ban has been declared for the Gre...</td>\n",
       "      <td>Media</td>\n",
       "      <td>Caution and advice</td>\n",
       "      <td>Related and informative</td>\n",
       "      <td>Related and informative</td>\n",
       "    </tr>\n",
       "    <tr>\n",
       "      <th>2</th>\n",
       "      <td>388970580026089472</td>\n",
       "      <td>This #RedOctober shit is just the beginning of...</td>\n",
       "      <td>Not labeled</td>\n",
       "      <td>Not labeled</td>\n",
       "      <td>Not related</td>\n",
       "      <td>Not related or not informative</td>\n",
       "    </tr>\n",
       "    <tr>\n",
       "      <th>3</th>\n",
       "      <td>388972203242704896</td>\n",
       "      <td>You can't be supporting #RedOctober mr white m...</td>\n",
       "      <td>Not labeled</td>\n",
       "      <td>Not labeled</td>\n",
       "      <td>Not related</td>\n",
       "      <td>Not related or not informative</td>\n",
       "    </tr>\n",
       "    <tr>\n",
       "      <th>4</th>\n",
       "      <td>388986124107927553</td>\n",
       "      <td>RT @smh: Do not light fires in the open: RFS w...</td>\n",
       "      <td>Media</td>\n",
       "      <td>Caution and advice</td>\n",
       "      <td>Related and informative</td>\n",
       "      <td>Related and informative</td>\n",
       "    </tr>\n",
       "  </tbody>\n",
       "</table>\n",
       "</div>"
      ],
      "text/plain": [
       "              TweetID                                          TweetText  \\\n",
       "0  388923108922781697  It's ridiculous,,,RT @ThatGuyTiisetso: #redoct...   \n",
       "1  388929052247347200  A Total Fire Ban has been declared for the Gre...   \n",
       "2  388970580026089472  This #RedOctober shit is just the beginning of...   \n",
       "3  388972203242704896  You can't be supporting #RedOctober mr white m...   \n",
       "4  388986124107927553  RT @smh: Do not light fires in the open: RFS w...   \n",
       "\n",
       "  InformationSource     InformationType          Informativeness  \\\n",
       "0       Not labeled         Not labeled              Not related   \n",
       "1             Media  Caution and advice  Related and informative   \n",
       "2       Not labeled         Not labeled              Not related   \n",
       "3       Not labeled         Not labeled              Not related   \n",
       "4             Media  Caution and advice  Related and informative   \n",
       "\n",
       "                            label  \n",
       "0  Not related or not informative  \n",
       "1         Related and informative  \n",
       "2  Not related or not informative  \n",
       "3  Not related or not informative  \n",
       "4         Related and informative  "
      ]
     },
     "execution_count": 222,
     "metadata": {},
     "output_type": "execute_result"
    }
   ],
   "source": [
    "label = ['Not related or not informative'] * df.shape[0]\n",
    "idx = df.index[df.Informativeness == 'Related and informative'].tolist()\n",
    "for i in idx: label[i] = 'Related and informative'\n",
    "df['label'] = pd.Series(label)\n",
    "\n",
    "df.head()"
   ]
  },
  {
   "cell_type": "code",
   "execution_count": 223,
   "metadata": {},
   "outputs": [
    {
     "data": {
      "text/html": [
       "<div>\n",
       "<style scoped>\n",
       "    .dataframe tbody tr th:only-of-type {\n",
       "        vertical-align: middle;\n",
       "    }\n",
       "\n",
       "    .dataframe tbody tr th {\n",
       "        vertical-align: top;\n",
       "    }\n",
       "\n",
       "    .dataframe thead th {\n",
       "        text-align: right;\n",
       "    }\n",
       "</style>\n",
       "<table border=\"1\" class=\"dataframe\">\n",
       "  <thead>\n",
       "    <tr style=\"text-align: right;\">\n",
       "      <th></th>\n",
       "      <th>TweetID</th>\n",
       "      <th>TweetText</th>\n",
       "      <th>InformationSource</th>\n",
       "      <th>InformationType</th>\n",
       "      <th>Informativeness</th>\n",
       "      <th>label</th>\n",
       "      <th>ProcessedText</th>\n",
       "    </tr>\n",
       "  </thead>\n",
       "  <tbody>\n",
       "    <tr>\n",
       "      <th>0</th>\n",
       "      <td>388923108922781697</td>\n",
       "      <td>It's ridiculous,,,RT @ThatGuyTiisetso: #redoct...</td>\n",
       "      <td>Not labeled</td>\n",
       "      <td>Not labeled</td>\n",
       "      <td>Not related</td>\n",
       "      <td>Not related or not informative</td>\n",
       "      <td>it's ridiculous , , , rt @thatguytiisetso : #r...</td>\n",
       "    </tr>\n",
       "    <tr>\n",
       "      <th>1</th>\n",
       "      <td>388929052247347200</td>\n",
       "      <td>A Total Fire Ban has been declared for the Gre...</td>\n",
       "      <td>Media</td>\n",
       "      <td>Caution and advice</td>\n",
       "      <td>Related and informative</td>\n",
       "      <td>Related and informative</td>\n",
       "      <td>a total fire ban ha been declared for the grea...</td>\n",
       "    </tr>\n",
       "    <tr>\n",
       "      <th>2</th>\n",
       "      <td>388970580026089472</td>\n",
       "      <td>This #RedOctober shit is just the beginning of...</td>\n",
       "      <td>Not labeled</td>\n",
       "      <td>Not labeled</td>\n",
       "      <td>Not related</td>\n",
       "      <td>Not related or not informative</td>\n",
       "      <td>this #redoctober shit is just the beginning of...</td>\n",
       "    </tr>\n",
       "    <tr>\n",
       "      <th>3</th>\n",
       "      <td>388972203242704896</td>\n",
       "      <td>You can't be supporting #RedOctober mr white m...</td>\n",
       "      <td>Not labeled</td>\n",
       "      <td>Not labeled</td>\n",
       "      <td>Not related</td>\n",
       "      <td>Not related or not informative</td>\n",
       "      <td>you can't be supporting #redoctober mr white m...</td>\n",
       "    </tr>\n",
       "    <tr>\n",
       "      <th>4</th>\n",
       "      <td>388986124107927553</td>\n",
       "      <td>RT @smh: Do not light fires in the open: RFS w...</td>\n",
       "      <td>Media</td>\n",
       "      <td>Caution and advice</td>\n",
       "      <td>Related and informative</td>\n",
       "      <td>Related and informative</td>\n",
       "      <td>rt @smh : do not light fire in the open : rf w...</td>\n",
       "    </tr>\n",
       "  </tbody>\n",
       "</table>\n",
       "</div>"
      ],
      "text/plain": [
       "              TweetID                                          TweetText  \\\n",
       "0  388923108922781697  It's ridiculous,,,RT @ThatGuyTiisetso: #redoct...   \n",
       "1  388929052247347200  A Total Fire Ban has been declared for the Gre...   \n",
       "2  388970580026089472  This #RedOctober shit is just the beginning of...   \n",
       "3  388972203242704896  You can't be supporting #RedOctober mr white m...   \n",
       "4  388986124107927553  RT @smh: Do not light fires in the open: RFS w...   \n",
       "\n",
       "  InformationSource     InformationType          Informativeness  \\\n",
       "0       Not labeled         Not labeled              Not related   \n",
       "1             Media  Caution and advice  Related and informative   \n",
       "2       Not labeled         Not labeled              Not related   \n",
       "3       Not labeled         Not labeled              Not related   \n",
       "4             Media  Caution and advice  Related and informative   \n",
       "\n",
       "                            label  \\\n",
       "0  Not related or not informative   \n",
       "1         Related and informative   \n",
       "2  Not related or not informative   \n",
       "3  Not related or not informative   \n",
       "4         Related and informative   \n",
       "\n",
       "                                       ProcessedText  \n",
       "0  it's ridiculous , , , rt @thatguytiisetso : #r...  \n",
       "1  a total fire ban ha been declared for the grea...  \n",
       "2  this #redoctober shit is just the beginning of...  \n",
       "3  you can't be supporting #redoctober mr white m...  \n",
       "4  rt @smh : do not light fire in the open : rf w...  "
      ]
     },
     "execution_count": 223,
     "metadata": {},
     "output_type": "execute_result"
    }
   ],
   "source": [
    "p.set_options(p.OPT.URL, p.OPT.EMOJI, p.OPT.SMILEY)\n",
    "all_tweets = [p.clean(t).lower() for t in df.TweetText]\n",
    "\n",
    "tknzr = TweetTokenizer()\n",
    "all_tokens = [tknzr.tokenize(t) for t in all_tweets]\n",
    "#en_stop = set(stopwords.words('english'))\n",
    "lemmatizer = WordNetLemmatizer()\n",
    "processed_texts = []  # preprocessed tweets\n",
    "\n",
    "for i in range(len(all_tokens)):\n",
    "    processed_texts.append(' '.join([lemmatizer.lemmatize(t) for t in all_tokens[i]]))\n",
    "\n",
    "df['ProcessedText'] = pd.Series(processed_texts)\n",
    "df.head()"
   ]
  },
  {
   "cell_type": "code",
   "execution_count": 224,
   "metadata": {},
   "outputs": [
    {
     "name": "stdout",
     "output_type": "stream",
     "text": [
      "Classification Report:\n",
      "                                precision    recall  f1-score   support\n",
      "\n",
      "Not related or not informative     0.7538    0.5136    0.6110       477\n",
      "       Related and informative     0.6923    0.8671    0.7699       602\n",
      "\n",
      "                   avg / total     0.7195    0.7108    0.6996      1079\n",
      "\n",
      "Confusion Matrix:\n",
      "[[245 232]\n",
      " [ 80 522]]\n",
      "Accuracy:\n",
      "0.7108433734939759\n"
     ]
    },
    {
     "name": "stderr",
     "output_type": "stream",
     "text": [
      "D:\\Anaconda2\\lib\\site-packages\\sklearn\\feature_extraction\\hashing.py:94: DeprecationWarning: the option non_negative=True has been deprecated in 0.19 and will be removed in version 0.21.\n",
      "  \" in version 0.21.\", DeprecationWarning)\n"
     ]
    }
   ],
   "source": [
    "X_hash_pp_test = hash_pp_vec.transform(df.ProcessedText)\n",
    "\n",
    "y_hash_pp_predict = mnb_hash_pp.predict(X_hash_pp_test)\n",
    "\n",
    "print \"Classification Report:\" \n",
    "print metrics.classification_report(df.label,y_hash_pp_predict, digits=4)  \n",
    "print \"Confusion Matrix:\" \n",
    "print metrics.confusion_matrix(df.label,y_hash_pp_predict)\n",
    "print \"Accuracy:\"\n",
    "print metrics.accuracy_score(df.label,y_hash_pp_predict)"
   ]
  },
  {
   "cell_type": "markdown",
   "metadata": {},
   "source": [
    "### Australia flood"
   ]
  },
  {
   "cell_type": "code",
   "execution_count": 225,
   "metadata": {},
   "outputs": [
    {
     "data": {
      "text/plain": [
       "Related and informative          728\n",
       "Not related                      261\n",
       "Related - but not informative    191\n",
       "Not applicable                    20\n",
       "Name: Informativeness, dtype: int64"
      ]
     },
     "execution_count": 225,
     "metadata": {},
     "output_type": "execute_result"
    }
   ],
   "source": [
    "df = pd.read_csv('CrisisLexT26/2013_Queensland_floods/2013_Queensland_floods-tweets_labeled.csv') # change the file location if needed\n",
    "\n",
    "col_dict = {}\n",
    "for old_feature in df.columns.values:\n",
    "    col_dict.update({old_feature: old_feature.replace(' ','')})\n",
    "df.rename(columns=col_dict, inplace=True)\n",
    "\n",
    "df.Informativeness.value_counts()"
   ]
  },
  {
   "cell_type": "code",
   "execution_count": 226,
   "metadata": {},
   "outputs": [
    {
     "data": {
      "text/plain": [
       "Related and informative          665\n",
       "Not related                      261\n",
       "Related - but not informative    186\n",
       "Name: Informativeness, dtype: int64"
      ]
     },
     "execution_count": 226,
     "metadata": {},
     "output_type": "execute_result"
    }
   ],
   "source": [
    "df = df[df.InformationSource != 'Government']\n",
    "df = df[df.Informativeness!='Not applicable'].reset_index(drop=True)\n",
    "df.Informativeness.value_counts()"
   ]
  },
  {
   "cell_type": "code",
   "execution_count": 227,
   "metadata": {},
   "outputs": [
    {
     "data": {
      "text/html": [
       "<div>\n",
       "<style scoped>\n",
       "    .dataframe tbody tr th:only-of-type {\n",
       "        vertical-align: middle;\n",
       "    }\n",
       "\n",
       "    .dataframe tbody tr th {\n",
       "        vertical-align: top;\n",
       "    }\n",
       "\n",
       "    .dataframe thead th {\n",
       "        text-align: right;\n",
       "    }\n",
       "</style>\n",
       "<table border=\"1\" class=\"dataframe\">\n",
       "  <thead>\n",
       "    <tr style=\"text-align: right;\">\n",
       "      <th></th>\n",
       "      <th>TweetID</th>\n",
       "      <th>TweetText</th>\n",
       "      <th>InformationSource</th>\n",
       "      <th>InformationType</th>\n",
       "      <th>Informativeness</th>\n",
       "      <th>label</th>\n",
       "    </tr>\n",
       "  </thead>\n",
       "  <tbody>\n",
       "    <tr>\n",
       "      <th>0</th>\n",
       "      <td>291852896990023680</td>\n",
       "      <td>RT @AdmireAriana: Heat wave in Australia. Floo...</td>\n",
       "      <td>Not labeled</td>\n",
       "      <td>Not labeled</td>\n",
       "      <td>Not related</td>\n",
       "      <td>Not related or not informative</td>\n",
       "    </tr>\n",
       "    <tr>\n",
       "      <th>1</th>\n",
       "      <td>291853232538537984</td>\n",
       "      <td>RT @AdmireAriana: Heat wave in Australia. Floo...</td>\n",
       "      <td>Outsiders</td>\n",
       "      <td>Other Useful Information</td>\n",
       "      <td>Related - but not informative</td>\n",
       "      <td>Not related or not informative</td>\n",
       "    </tr>\n",
       "    <tr>\n",
       "      <th>2</th>\n",
       "      <td>291921947787395072</td>\n",
       "      <td>Jakarta floods leave hundreds of thousands hom...</td>\n",
       "      <td>Media</td>\n",
       "      <td>Not applicable</td>\n",
       "      <td>Related and informative</td>\n",
       "      <td>Related and informative</td>\n",
       "    </tr>\n",
       "    <tr>\n",
       "      <th>3</th>\n",
       "      <td>292248541500420096</td>\n",
       "      <td>Bush fires in Australia, deadly flooding in In...</td>\n",
       "      <td>Outsiders</td>\n",
       "      <td>Other Useful Information</td>\n",
       "      <td>Related and informative</td>\n",
       "      <td>Related and informative</td>\n",
       "    </tr>\n",
       "    <tr>\n",
       "      <th>4</th>\n",
       "      <td>293071229055799297</td>\n",
       "      <td>VIDEO - A world of contrasts. We freeze whilst...</td>\n",
       "      <td>Outsiders</td>\n",
       "      <td>Affected individuals</td>\n",
       "      <td>Related - but not informative</td>\n",
       "      <td>Not related or not informative</td>\n",
       "    </tr>\n",
       "  </tbody>\n",
       "</table>\n",
       "</div>"
      ],
      "text/plain": [
       "              TweetID                                          TweetText  \\\n",
       "0  291852896990023680  RT @AdmireAriana: Heat wave in Australia. Floo...   \n",
       "1  291853232538537984  RT @AdmireAriana: Heat wave in Australia. Floo...   \n",
       "2  291921947787395072  Jakarta floods leave hundreds of thousands hom...   \n",
       "3  292248541500420096  Bush fires in Australia, deadly flooding in In...   \n",
       "4  293071229055799297  VIDEO - A world of contrasts. We freeze whilst...   \n",
       "\n",
       "  InformationSource           InformationType                Informativeness  \\\n",
       "0       Not labeled               Not labeled                    Not related   \n",
       "1         Outsiders  Other Useful Information  Related - but not informative   \n",
       "2             Media            Not applicable        Related and informative   \n",
       "3         Outsiders  Other Useful Information        Related and informative   \n",
       "4         Outsiders      Affected individuals  Related - but not informative   \n",
       "\n",
       "                            label  \n",
       "0  Not related or not informative  \n",
       "1  Not related or not informative  \n",
       "2         Related and informative  \n",
       "3         Related and informative  \n",
       "4  Not related or not informative  "
      ]
     },
     "execution_count": 227,
     "metadata": {},
     "output_type": "execute_result"
    }
   ],
   "source": [
    "label = ['Not related or not informative'] * df.shape[0]\n",
    "idx = df.index[df.Informativeness == 'Related and informative'].tolist()\n",
    "for i in idx: label[i] = 'Related and informative'\n",
    "df['label'] = pd.Series(label)\n",
    "\n",
    "df.head()"
   ]
  },
  {
   "cell_type": "code",
   "execution_count": 228,
   "metadata": {},
   "outputs": [
    {
     "data": {
      "text/html": [
       "<div>\n",
       "<style scoped>\n",
       "    .dataframe tbody tr th:only-of-type {\n",
       "        vertical-align: middle;\n",
       "    }\n",
       "\n",
       "    .dataframe tbody tr th {\n",
       "        vertical-align: top;\n",
       "    }\n",
       "\n",
       "    .dataframe thead th {\n",
       "        text-align: right;\n",
       "    }\n",
       "</style>\n",
       "<table border=\"1\" class=\"dataframe\">\n",
       "  <thead>\n",
       "    <tr style=\"text-align: right;\">\n",
       "      <th></th>\n",
       "      <th>TweetID</th>\n",
       "      <th>TweetText</th>\n",
       "      <th>InformationSource</th>\n",
       "      <th>InformationType</th>\n",
       "      <th>Informativeness</th>\n",
       "      <th>label</th>\n",
       "      <th>ProcessedText</th>\n",
       "    </tr>\n",
       "  </thead>\n",
       "  <tbody>\n",
       "    <tr>\n",
       "      <th>0</th>\n",
       "      <td>291852896990023680</td>\n",
       "      <td>RT @AdmireAriana: Heat wave in Australia. Floo...</td>\n",
       "      <td>Not labeled</td>\n",
       "      <td>Not labeled</td>\n",
       "      <td>Not related</td>\n",
       "      <td>Not related or not informative</td>\n",
       "      <td>rt @admireariana : heat wave in australia . fl...</td>\n",
       "    </tr>\n",
       "    <tr>\n",
       "      <th>1</th>\n",
       "      <td>291853232538537984</td>\n",
       "      <td>RT @AdmireAriana: Heat wave in Australia. Floo...</td>\n",
       "      <td>Outsiders</td>\n",
       "      <td>Other Useful Information</td>\n",
       "      <td>Related - but not informative</td>\n",
       "      <td>Not related or not informative</td>\n",
       "      <td>rt @admireariana : heat wave in australia . fl...</td>\n",
       "    </tr>\n",
       "    <tr>\n",
       "      <th>2</th>\n",
       "      <td>291921947787395072</td>\n",
       "      <td>Jakarta floods leave hundreds of thousands hom...</td>\n",
       "      <td>Media</td>\n",
       "      <td>Not applicable</td>\n",
       "      <td>Related and informative</td>\n",
       "      <td>Related and informative</td>\n",
       "      <td>jakarta flood leave hundred of thousand homele...</td>\n",
       "    </tr>\n",
       "    <tr>\n",
       "      <th>3</th>\n",
       "      <td>292248541500420096</td>\n",
       "      <td>Bush fires in Australia, deadly flooding in In...</td>\n",
       "      <td>Outsiders</td>\n",
       "      <td>Other Useful Information</td>\n",
       "      <td>Related and informative</td>\n",
       "      <td>Related and informative</td>\n",
       "      <td>bush fire in australia , deadly flooding in in...</td>\n",
       "    </tr>\n",
       "    <tr>\n",
       "      <th>4</th>\n",
       "      <td>293071229055799297</td>\n",
       "      <td>VIDEO - A world of contrasts. We freeze whilst...</td>\n",
       "      <td>Outsiders</td>\n",
       "      <td>Affected individuals</td>\n",
       "      <td>Related - but not informative</td>\n",
       "      <td>Not related or not informative</td>\n",
       "      <td>video - a world of contrast . we freeze whilst...</td>\n",
       "    </tr>\n",
       "  </tbody>\n",
       "</table>\n",
       "</div>"
      ],
      "text/plain": [
       "              TweetID                                          TweetText  \\\n",
       "0  291852896990023680  RT @AdmireAriana: Heat wave in Australia. Floo...   \n",
       "1  291853232538537984  RT @AdmireAriana: Heat wave in Australia. Floo...   \n",
       "2  291921947787395072  Jakarta floods leave hundreds of thousands hom...   \n",
       "3  292248541500420096  Bush fires in Australia, deadly flooding in In...   \n",
       "4  293071229055799297  VIDEO - A world of contrasts. We freeze whilst...   \n",
       "\n",
       "  InformationSource           InformationType                Informativeness  \\\n",
       "0       Not labeled               Not labeled                    Not related   \n",
       "1         Outsiders  Other Useful Information  Related - but not informative   \n",
       "2             Media            Not applicable        Related and informative   \n",
       "3         Outsiders  Other Useful Information        Related and informative   \n",
       "4         Outsiders      Affected individuals  Related - but not informative   \n",
       "\n",
       "                            label  \\\n",
       "0  Not related or not informative   \n",
       "1  Not related or not informative   \n",
       "2         Related and informative   \n",
       "3         Related and informative   \n",
       "4  Not related or not informative   \n",
       "\n",
       "                                       ProcessedText  \n",
       "0  rt @admireariana : heat wave in australia . fl...  \n",
       "1  rt @admireariana : heat wave in australia . fl...  \n",
       "2  jakarta flood leave hundred of thousand homele...  \n",
       "3  bush fire in australia , deadly flooding in in...  \n",
       "4  video - a world of contrast . we freeze whilst...  "
      ]
     },
     "execution_count": 228,
     "metadata": {},
     "output_type": "execute_result"
    }
   ],
   "source": [
    "p.set_options(p.OPT.URL, p.OPT.EMOJI, p.OPT.SMILEY)\n",
    "all_tweets = [p.clean(t).lower() for t in df.TweetText]\n",
    "\n",
    "tknzr = TweetTokenizer()\n",
    "all_tokens = [tknzr.tokenize(t) for t in all_tweets]\n",
    "#en_stop = set(stopwords.words('english'))\n",
    "lemmatizer = WordNetLemmatizer()\n",
    "processed_texts = []  # preprocessed tweets\n",
    "\n",
    "for i in range(len(all_tokens)):\n",
    "    processed_texts.append(' '.join([lemmatizer.lemmatize(t) for t in all_tokens[i]]))\n",
    "\n",
    "df['ProcessedText'] = pd.Series(processed_texts)\n",
    "df.head()"
   ]
  },
  {
   "cell_type": "code",
   "execution_count": 229,
   "metadata": {},
   "outputs": [
    {
     "name": "stdout",
     "output_type": "stream",
     "text": [
      "Classification Report:\n",
      "                                precision    recall  f1-score   support\n",
      "\n",
      "Not related or not informative     0.6712    0.6622    0.6667       447\n",
      "       Related and informative     0.7750    0.7820    0.7784       665\n",
      "\n",
      "                   avg / total     0.7333    0.7338    0.7335      1112\n",
      "\n",
      "Confusion Matrix:\n",
      "[[296 151]\n",
      " [145 520]]\n",
      "Accuracy:\n",
      "0.7338129496402878\n"
     ]
    },
    {
     "name": "stderr",
     "output_type": "stream",
     "text": [
      "D:\\Anaconda2\\lib\\site-packages\\sklearn\\feature_extraction\\hashing.py:94: DeprecationWarning: the option non_negative=True has been deprecated in 0.19 and will be removed in version 0.21.\n",
      "  \" in version 0.21.\", DeprecationWarning)\n"
     ]
    }
   ],
   "source": [
    "X_hash_pp_test = hash_pp_vec.transform(df.ProcessedText)\n",
    "\n",
    "y_hash_pp_predict = mnb_hash_pp.predict(X_hash_pp_test)\n",
    "\n",
    "print \"Classification Report:\" \n",
    "print metrics.classification_report(df.label,y_hash_pp_predict, digits=4) \n",
    "print \"Confusion Matrix:\" \n",
    "print metrics.confusion_matrix(df.label,y_hash_pp_predict)\n",
    "print \"Accuracy:\"\n",
    "print metrics.accuracy_score(df.label,y_hash_pp_predict)"
   ]
  },
  {
   "cell_type": "code",
   "execution_count": 230,
   "metadata": {},
   "outputs": [
    {
     "data": {
      "image/png": "[encoded data removed]",
      "text/plain": [
       "<matplotlib.figure.Figure at 0x1649cc88>"
      ]
     },
     "metadata": {},
     "output_type": "display_data"
    }
   ],
   "source": [
    "import seaborn as sns\n",
    "\n",
    "sns.set()\n",
    "plt.bar([0.9,1.9,2.9], [0.7523,0.7195,0.7333], width=0.1, label='precision')\n",
    "plt.bar([1,2,3], [0.7579,0.7108,0.7338], width=0.1, label='recall')\n",
    "plt.bar([1.1,2.1,3.1], [0.7548,0.6996,0.7335], width=0.1, label='f1-score')\n",
    "plt.xticks([1,2,3], ['col_flood_13', 'aus_fire_13', 'aus_flood_13'])\n",
    "plt.ylim([0,1])\n",
    "plt.legend(loc='best')\n",
    "plt.xlabel('disaster')\n",
    "plt.ylabel('score')\n",
    "plt.show()"
   ]
  },
  {
   "cell_type": "code",
   "execution_count": null,
   "metadata": {},
   "outputs": [],
   "source": []
  },
  {
   "cell_type": "code",
   "execution_count": null,
   "metadata": {},
   "outputs": [],
   "source": []
  }
 ],
 "metadata": {
  "kernelspec": {
   "display_name": "Python 2",
   "language": "python",
   "name": "python2"
  },
  "language_info": {
   "codemirror_mode": {
    "name": "ipython",
    "version": 2
   },
   "file_extension": ".py",
   "mimetype": "text/x-python",
   "name": "python",
   "nbconvert_exporter": "python",
   "pygments_lexer": "ipython2",
   "version": "2.7.14"
  }
 },
 "nbformat": 4,
 "nbformat_minor": 2
}
