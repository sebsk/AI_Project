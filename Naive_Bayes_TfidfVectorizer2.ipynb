{
 "cells": [
  {
   "cell_type": "code",
   "execution_count": 4,
   "metadata": {},
   "outputs": [],
   "source": [
    "from sklearn.naive_bayes import MultinomialNB\n",
    "import pandas as pd\n",
    "import numpy as np\n",
    "import matplotlib.pyplot as plt\n",
    "from sklearn.feature_extraction.text import CountVectorizer\n",
    "from sklearn.feature_extraction.text import TfidfVectorizer\n",
    "from sklearn.feature_extraction.text import HashingVectorizer\n",
    "from sklearn.model_selection import train_test_split\n",
    "from sklearn import metrics\n",
    "# plt.style.use('ggplot')\n",
    "# % matplotlib inline"
   ]
  },
  {
   "cell_type": "code",
   "execution_count": 5,
   "metadata": {},
   "outputs": [
    {
     "data": {
      "text/plain": [
       "Related and informative          682\n",
       "Related - but not informative    230\n",
       "Not related                       87\n",
       "Not applicable                    33\n",
       "Name: Informativeness, dtype: int64"
      ]
     },
     "execution_count": 5,
     "metadata": {},
     "output_type": "execute_result"
    }
   ],
   "source": [
    "df = pd.read_csv('CrisisLexT26/2013_LA_airport_shootings/2013_LA_airport_shootings-tweets_labeled.csv') # change the file location if needed\n",
    "\n",
    "col_dict = {}\n",
    "for old_feature in df.columns.values:\n",
    "    col_dict.update({old_feature: old_feature.replace(' ','')})\n",
    "df.rename(columns=col_dict, inplace=True)\n",
    "\n",
    "df.Informativeness.value_counts()"
   ]
  },
  {
   "cell_type": "code",
   "execution_count": 6,
   "metadata": {},
   "outputs": [
    {
     "data": {
      "text/plain": [
       "Related and informative          646\n",
       "Related - but not informative    226\n",
       "Not related                       87\n",
       "Name: Informativeness, dtype: int64"
      ]
     },
     "execution_count": 6,
     "metadata": {},
     "output_type": "execute_result"
    }
   ],
   "source": [
    "df = df[df.InformationSource != 'Government']\n",
    "df = df[df.Informativeness!='Not applicable'].reset_index(drop=True)\n",
    "df.Informativeness.value_counts()"
   ]
  },
  {
   "cell_type": "code",
   "execution_count": 7,
   "metadata": {},
   "outputs": [
    {
     "data": {
      "text/html": [
       "<div>\n",
       "<style scoped>\n",
       "    .dataframe tbody tr th:only-of-type {\n",
       "        vertical-align: middle;\n",
       "    }\n",
       "\n",
       "    .dataframe tbody tr th {\n",
       "        vertical-align: top;\n",
       "    }\n",
       "\n",
       "    .dataframe thead th {\n",
       "        text-align: right;\n",
       "    }\n",
       "</style>\n",
       "<table border=\"1\" class=\"dataframe\">\n",
       "  <thead>\n",
       "    <tr style=\"text-align: right;\">\n",
       "      <th></th>\n",
       "      <th>TweetID</th>\n",
       "      <th>TweetText</th>\n",
       "      <th>InformationSource</th>\n",
       "      <th>InformationType</th>\n",
       "      <th>Informativeness</th>\n",
       "      <th>label</th>\n",
       "    </tr>\n",
       "  </thead>\n",
       "  <tbody>\n",
       "    <tr>\n",
       "      <th>0</th>\n",
       "      <td>396205490209693696</td>\n",
       "      <td>KING D ROYALTY http://t.co/eXjB4V0rbx … #LA #L...</td>\n",
       "      <td>Not labeled</td>\n",
       "      <td>Not labeled</td>\n",
       "      <td>Not related</td>\n",
       "      <td>Not related or not informative</td>\n",
       "    </tr>\n",
       "    <tr>\n",
       "      <th>1</th>\n",
       "      <td>396313082466541568</td>\n",
       "      <td>Something's happening @ #LAX rt now!! Re-tweet.</td>\n",
       "      <td>Outsiders</td>\n",
       "      <td>Other Useful Information</td>\n",
       "      <td>Related - but not informative</td>\n",
       "      <td>Not related or not informative</td>\n",
       "    </tr>\n",
       "    <tr>\n",
       "      <th>2</th>\n",
       "      <td>396313543865552896</td>\n",
       "      <td>#KourtneyKardashian is seen arriving at #LAX a...</td>\n",
       "      <td>Not labeled</td>\n",
       "      <td>Not labeled</td>\n",
       "      <td>Not related</td>\n",
       "      <td>Not related or not informative</td>\n",
       "    </tr>\n",
       "    <tr>\n",
       "      <th>3</th>\n",
       "      <td>396314030383443968</td>\n",
       "      <td>What the hell is going on at LAX, and why does...</td>\n",
       "      <td>Outsiders</td>\n",
       "      <td>Affected individuals</td>\n",
       "      <td>Related - but not informative</td>\n",
       "      <td>Not related or not informative</td>\n",
       "    </tr>\n",
       "    <tr>\n",
       "      <th>4</th>\n",
       "      <td>396314902794498048</td>\n",
       "      <td>RT @efink: Gunfire on the tarmac. RT @CBSLA #B...</td>\n",
       "      <td>Media</td>\n",
       "      <td>Affected individuals</td>\n",
       "      <td>Related and informative</td>\n",
       "      <td>Related and informative</td>\n",
       "    </tr>\n",
       "  </tbody>\n",
       "</table>\n",
       "</div>"
      ],
      "text/plain": [
       "              TweetID                                          TweetText  \\\n",
       "0  396205490209693696  KING D ROYALTY http://t.co/eXjB4V0rbx … #LA #L...   \n",
       "1  396313082466541568    Something's happening @ #LAX rt now!! Re-tweet.   \n",
       "2  396313543865552896  #KourtneyKardashian is seen arriving at #LAX a...   \n",
       "3  396314030383443968  What the hell is going on at LAX, and why does...   \n",
       "4  396314902794498048  RT @efink: Gunfire on the tarmac. RT @CBSLA #B...   \n",
       "\n",
       "  InformationSource           InformationType                Informativeness  \\\n",
       "0       Not labeled               Not labeled                    Not related   \n",
       "1         Outsiders  Other Useful Information  Related - but not informative   \n",
       "2       Not labeled               Not labeled                    Not related   \n",
       "3         Outsiders      Affected individuals  Related - but not informative   \n",
       "4             Media      Affected individuals        Related and informative   \n",
       "\n",
       "                            label  \n",
       "0  Not related or not informative  \n",
       "1  Not related or not informative  \n",
       "2  Not related or not informative  \n",
       "3  Not related or not informative  \n",
       "4         Related and informative  "
      ]
     },
     "execution_count": 7,
     "metadata": {},
     "output_type": "execute_result"
    }
   ],
   "source": [
    "label = ['Not related or not informative'] * df.shape[0]\n",
    "idx = df.index[df.Informativeness == 'Related and informative'].tolist()\n",
    "for i in idx: label[i] = 'Related and informative'\n",
    "df['label'] = pd.Series(label)\n",
    "\n",
    "df.head()"
   ]
  },
  {
   "cell_type": "code",
   "execution_count": 9,
   "metadata": {},
   "outputs": [
    {
     "data": {
      "text/html": [
       "<div>\n",
       "<style scoped>\n",
       "    .dataframe tbody tr th:only-of-type {\n",
       "        vertical-align: middle;\n",
       "    }\n",
       "\n",
       "    .dataframe tbody tr th {\n",
       "        vertical-align: top;\n",
       "    }\n",
       "\n",
       "    .dataframe thead th {\n",
       "        text-align: right;\n",
       "    }\n",
       "</style>\n",
       "<table border=\"1\" class=\"dataframe\">\n",
       "  <thead>\n",
       "    <tr style=\"text-align: right;\">\n",
       "      <th></th>\n",
       "      <th>TweetID</th>\n",
       "      <th>TweetText</th>\n",
       "      <th>InformationSource</th>\n",
       "      <th>InformationType</th>\n",
       "      <th>Informativeness</th>\n",
       "      <th>label</th>\n",
       "      <th>ProcessedText</th>\n",
       "    </tr>\n",
       "  </thead>\n",
       "  <tbody>\n",
       "    <tr>\n",
       "      <th>0</th>\n",
       "      <td>396205490209693696</td>\n",
       "      <td>KING D ROYALTY http://t.co/eXjB4V0rbx … #LA #L...</td>\n",
       "      <td>Not labeled</td>\n",
       "      <td>Not labeled</td>\n",
       "      <td>Not related</td>\n",
       "      <td>Not related or not informative</td>\n",
       "      <td>king royalty … #la #lax #oakland #sf #bayarea ...</td>\n",
       "    </tr>\n",
       "    <tr>\n",
       "      <th>1</th>\n",
       "      <td>396313082466541568</td>\n",
       "      <td>Something's happening @ #LAX rt now!! Re-tweet.</td>\n",
       "      <td>Outsiders</td>\n",
       "      <td>Other Useful Information</td>\n",
       "      <td>Related - but not informative</td>\n",
       "      <td>Not related or not informative</td>\n",
       "      <td>something's happening @ #lax rt ! ! re-tweet .</td>\n",
       "    </tr>\n",
       "    <tr>\n",
       "      <th>2</th>\n",
       "      <td>396313543865552896</td>\n",
       "      <td>#KourtneyKardashian is seen arriving at #LAX a...</td>\n",
       "      <td>Not labeled</td>\n",
       "      <td>Not labeled</td>\n",
       "      <td>Not related</td>\n",
       "      <td>Not related or not informative</td>\n",
       "      <td>#kourtneykardashian seen arriving #lax airport...</td>\n",
       "    </tr>\n",
       "    <tr>\n",
       "      <th>3</th>\n",
       "      <td>396314030383443968</td>\n",
       "      <td>What the hell is going on at LAX, and why does...</td>\n",
       "      <td>Outsiders</td>\n",
       "      <td>Affected individuals</td>\n",
       "      <td>Related - but not informative</td>\n",
       "      <td>Not related or not informative</td>\n",
       "      <td>hell going lax , something bad always happen a...</td>\n",
       "    </tr>\n",
       "    <tr>\n",
       "      <th>4</th>\n",
       "      <td>396314902794498048</td>\n",
       "      <td>RT @efink: Gunfire on the tarmac. RT @CBSLA #B...</td>\n",
       "      <td>Media</td>\n",
       "      <td>Affected individuals</td>\n",
       "      <td>Related and informative</td>\n",
       "      <td>Related and informative</td>\n",
       "      <td>rt @efink : gunfire tarmac . rt @cbsla #breaki...</td>\n",
       "    </tr>\n",
       "  </tbody>\n",
       "</table>\n",
       "</div>"
      ],
      "text/plain": [
       "              TweetID                                          TweetText  \\\n",
       "0  396205490209693696  KING D ROYALTY http://t.co/eXjB4V0rbx … #LA #L...   \n",
       "1  396313082466541568    Something's happening @ #LAX rt now!! Re-tweet.   \n",
       "2  396313543865552896  #KourtneyKardashian is seen arriving at #LAX a...   \n",
       "3  396314030383443968  What the hell is going on at LAX, and why does...   \n",
       "4  396314902794498048  RT @efink: Gunfire on the tarmac. RT @CBSLA #B...   \n",
       "\n",
       "  InformationSource           InformationType                Informativeness  \\\n",
       "0       Not labeled               Not labeled                    Not related   \n",
       "1         Outsiders  Other Useful Information  Related - but not informative   \n",
       "2       Not labeled               Not labeled                    Not related   \n",
       "3         Outsiders      Affected individuals  Related - but not informative   \n",
       "4             Media      Affected individuals        Related and informative   \n",
       "\n",
       "                            label  \\\n",
       "0  Not related or not informative   \n",
       "1  Not related or not informative   \n",
       "2  Not related or not informative   \n",
       "3  Not related or not informative   \n",
       "4         Related and informative   \n",
       "\n",
       "                                       ProcessedText  \n",
       "0  king royalty … #la #lax #oakland #sf #bayarea ...  \n",
       "1     something's happening @ #lax rt ! ! re-tweet .  \n",
       "2  #kourtneykardashian seen arriving #lax airport...  \n",
       "3  hell going lax , something bad always happen a...  \n",
       "4  rt @efink : gunfire tarmac . rt @cbsla #breaki...  "
      ]
     },
     "execution_count": 9,
     "metadata": {},
     "output_type": "execute_result"
    }
   ],
   "source": [
    "from nltk.tokenize import TweetTokenizer\n",
    "from nltk.stem import WordNetLemmatizer\n",
    "from nltk.tokenize import regexp_tokenize\n",
    "from nltk.corpus import stopwords\n",
    "from sklearn.feature_extraction.text import HashingVectorizer\n",
    "import preprocessor as p\n",
    "\n",
    "emoji_re = \"['\\U0001F300-\\U0001F5FF'|'\\U0001F600-\\U0001F64F'|'\\U0001F680-\\U0001F6FF'|'\\u2600-\\u26FF\\u2700-\\u27BF']\"\n",
    "emojis = [regexp_tokenize(t, emoji_re) for t in df.TweetText]\n",
    "p.set_options(p.OPT.URL, p.OPT.EMOJI, p.OPT.SMILEY)\n",
    "all_tweets = [p.clean(t).lower() for t in df.TweetText]\n",
    "\n",
    "tknzr = TweetTokenizer()\n",
    "all_tokens = [tknzr.tokenize(t) for t in all_tweets]\n",
    "en_stop = set(stopwords.words('english'))\n",
    "lemmatizer = WordNetLemmatizer()\n",
    "processed_texts = []  # preprocessed tweets\n",
    "\n",
    "for i in range(len(all_tokens)):\n",
    "    processed_texts.append(' '.join([lemmatizer.lemmatize(t) for t in all_tokens[i] if t not in en_stop ]))\n",
    "\n",
    "df['ProcessedText'] = pd.Series(processed_texts)\n",
    "df.head()"
   ]
  },
  {
   "cell_type": "code",
   "execution_count": 10,
   "metadata": {},
   "outputs": [],
   "source": [
    "split_percentage = 0.25\n",
    "X_train2, X_test2, y_train2, y_test2 = train_test_split(df.ProcessedText, df.label, test_size=split_percentage, random_state=42) \n",
    "tfidf_pp_vec = TfidfVectorizer(analyzer='word')\n",
    "X_tfidf_pp_train = tfidf_pp_vec.fit_transform(X_train2)  \n",
    "X_tfidf_pp_test = tfidf_pp_vec.transform(X_test2)"
   ]
  },
  {
   "cell_type": "code",
   "execution_count": 27,
   "metadata": {},
   "outputs": [
    {
     "name": "stdout",
     "output_type": "stream",
     "text": [
      "[0.93055556 0.79166667 0.83333333 0.76388889 0.86111111 0.86111111\n",
      " 0.79166667 0.84722222 0.875      0.81690141]\n",
      "Mean score: 0.837 (+/-0.015)\n",
      "Accuracy for training: 0.979137691238\n",
      "Accuracy for testing: 0.866666666667\n"
     ]
    }
   ],
   "source": [
    "mnb_tfidf_pp = MultinomialNB(0.01)  \n",
    "mnb_tfidf_pp.fit(X_tfidf_pp_train, y_train2)\n",
    "\n",
    "from sklearn.cross_validation import cross_val_score, KFold \n",
    "from scipy.stats import sem \n",
    "\n",
    "def evaluate_cross_validation(clf, X, y, K):\n",
    "    cv = KFold(len(y), K, shuffle=True, random_state=0)  \n",
    "    scores = cross_val_score(clf, X, y, cv=cv) \n",
    "    print scores\n",
    "    print (\"Mean score: {0:.3f} (+/-{1:.3f})\").format(np.mean(scores), sem(scores))\n",
    "    \n",
    "evaluate_cross_validation(mnb_tfidf_pp, X_tfidf_pp_train, y_train2, 10)\n",
    "\n",
    "print 'Accuracy for training: {}'.format(mnb_tfidf_pp.score(X_tfidf_pp_train, y_train2))\n",
    "print 'Accuracy for testing: {}'.format(mnb_tfidf_pp.score(X_tfidf_pp_test, y_test2))"
   ]
  },
  {
   "cell_type": "code",
   "execution_count": 28,
   "metadata": {},
   "outputs": [
    {
     "name": "stdout",
     "output_type": "stream",
     "text": [
      "Classification Report:\n",
      "                                precision    recall  f1-score   support\n",
      "\n",
      "Not related or not informative       0.83      0.75      0.79        80\n",
      "       Related and informative       0.88      0.93      0.90       160\n",
      "\n",
      "                   avg / total       0.87      0.87      0.86       240\n",
      "\n",
      "Confusion Matrix:\n",
      "[[ 60  20]\n",
      " [ 12 148]]\n"
     ]
    }
   ],
   "source": [
    "y_tfidf_pp_predict = mnb_tfidf_pp.predict(X_tfidf_pp_test) \n",
    "print \"Classification Report:\" \n",
    "print metrics.classification_report(y_test2,y_tfidf_pp_predict) \n",
    "print \"Confusion Matrix:\" \n",
    "print metrics.confusion_matrix(y_test2,y_tfidf_pp_predict)"
   ]
  },
  {
   "cell_type": "code",
   "execution_count": 29,
   "metadata": {},
   "outputs": [
    {
     "data": {
      "text/plain": [
       "(240, 2088)"
      ]
     },
     "execution_count": 29,
     "metadata": {},
     "output_type": "execute_result"
    }
   ],
   "source": [
    "X_tfidf_pp_test.shape"
   ]
  },
  {
   "cell_type": "code",
   "execution_count": 30,
   "metadata": {},
   "outputs": [
    {
     "data": {
      "image/png": "[encoded data removed]",
      "text/plain": [
       "<matplotlib.figure.Figure at 0xc1a50b8>"
      ]
     },
     "metadata": {},
     "output_type": "display_data"
    },
    {
     "name": "stdout",
     "output_type": "stream",
     "text": [
      "[0.825, 0.8333333333333334, 0.8375, 0.85, 0.8375, 0.8416666666666667, 0.8541666666666666, 0.8541666666666666, 0.8625, 0.8625, 0.8583333333333333, 0.8541666666666666, 0.8458333333333333, 0.8458333333333333, 0.8458333333333333, 0.85, 0.8541666666666666, 0.8541666666666666, 0.8583333333333333, 0.8666666666666667, 0.8666666666666667]\n"
     ]
    }
   ],
   "source": [
    "k = range(100,2200,100)\n",
    "k_score = []\n",
    "for i in k:  \n",
    "    tfidf_pp_vec = TfidfVectorizer(analyzer='word', max_features = i)  \n",
    "    X_tfidf_pp_train = tfidf_pp_vec.fit_transform(X_train2)\n",
    "    X_tfidf_pp_test = tfidf_pp_vec.transform(X_test2)\n",
    "    mnb_tfidf_pp = MultinomialNB(0.01)  \n",
    "    mnb_tfidf_pp.fit(X_tfidf_pp_train, y_train2)\n",
    "    score = mnb_tfidf_pp.score(X_tfidf_pp_test, y_test2) \n",
    "    k_score.append(score)  \n",
    "plt.plot(k,k_score)  \n",
    "plt.show()\n",
    "print k_score"
   ]
  },
  {
   "cell_type": "markdown",
   "metadata": {},
   "source": [
    "### cancel stop words"
   ]
  },
  {
   "cell_type": "code",
   "execution_count": 31,
   "metadata": {},
   "outputs": [
    {
     "data": {
      "text/html": [
       "<div>\n",
       "<style scoped>\n",
       "    .dataframe tbody tr th:only-of-type {\n",
       "        vertical-align: middle;\n",
       "    }\n",
       "\n",
       "    .dataframe tbody tr th {\n",
       "        vertical-align: top;\n",
       "    }\n",
       "\n",
       "    .dataframe thead th {\n",
       "        text-align: right;\n",
       "    }\n",
       "</style>\n",
       "<table border=\"1\" class=\"dataframe\">\n",
       "  <thead>\n",
       "    <tr style=\"text-align: right;\">\n",
       "      <th></th>\n",
       "      <th>TweetID</th>\n",
       "      <th>TweetText</th>\n",
       "      <th>InformationSource</th>\n",
       "      <th>InformationType</th>\n",
       "      <th>Informativeness</th>\n",
       "      <th>label</th>\n",
       "      <th>ProcessedText</th>\n",
       "    </tr>\n",
       "  </thead>\n",
       "  <tbody>\n",
       "    <tr>\n",
       "      <th>0</th>\n",
       "      <td>396205490209693696</td>\n",
       "      <td>KING D ROYALTY http://t.co/eXjB4V0rbx … #LA #L...</td>\n",
       "      <td>Not labeled</td>\n",
       "      <td>Not labeled</td>\n",
       "      <td>Not related</td>\n",
       "      <td>Not related or not informative</td>\n",
       "      <td>king d royalty … #la #lax #oakland #sf #bayare...</td>\n",
       "    </tr>\n",
       "    <tr>\n",
       "      <th>1</th>\n",
       "      <td>396313082466541568</td>\n",
       "      <td>Something's happening @ #LAX rt now!! Re-tweet.</td>\n",
       "      <td>Outsiders</td>\n",
       "      <td>Other Useful Information</td>\n",
       "      <td>Related - but not informative</td>\n",
       "      <td>Not related or not informative</td>\n",
       "      <td>something's happening @ #lax rt now ! ! re-twe...</td>\n",
       "    </tr>\n",
       "    <tr>\n",
       "      <th>2</th>\n",
       "      <td>396313543865552896</td>\n",
       "      <td>#KourtneyKardashian is seen arriving at #LAX a...</td>\n",
       "      <td>Not labeled</td>\n",
       "      <td>Not labeled</td>\n",
       "      <td>Not related</td>\n",
       "      <td>Not related or not informative</td>\n",
       "      <td>#kourtneykardashian is seen arriving at #lax a...</td>\n",
       "    </tr>\n",
       "    <tr>\n",
       "      <th>3</th>\n",
       "      <td>396314030383443968</td>\n",
       "      <td>What the hell is going on at LAX, and why does...</td>\n",
       "      <td>Outsiders</td>\n",
       "      <td>Affected individuals</td>\n",
       "      <td>Related - but not informative</td>\n",
       "      <td>Not related or not informative</td>\n",
       "      <td>what the hell is going on at lax , and why doe...</td>\n",
       "    </tr>\n",
       "    <tr>\n",
       "      <th>4</th>\n",
       "      <td>396314902794498048</td>\n",
       "      <td>RT @efink: Gunfire on the tarmac. RT @CBSLA #B...</td>\n",
       "      <td>Media</td>\n",
       "      <td>Affected individuals</td>\n",
       "      <td>Related and informative</td>\n",
       "      <td>Related and informative</td>\n",
       "      <td>rt @efink : gunfire on the tarmac . rt @cbsla ...</td>\n",
       "    </tr>\n",
       "  </tbody>\n",
       "</table>\n",
       "</div>"
      ],
      "text/plain": [
       "              TweetID                                          TweetText  \\\n",
       "0  396205490209693696  KING D ROYALTY http://t.co/eXjB4V0rbx … #LA #L...   \n",
       "1  396313082466541568    Something's happening @ #LAX rt now!! Re-tweet.   \n",
       "2  396313543865552896  #KourtneyKardashian is seen arriving at #LAX a...   \n",
       "3  396314030383443968  What the hell is going on at LAX, and why does...   \n",
       "4  396314902794498048  RT @efink: Gunfire on the tarmac. RT @CBSLA #B...   \n",
       "\n",
       "  InformationSource           InformationType                Informativeness  \\\n",
       "0       Not labeled               Not labeled                    Not related   \n",
       "1         Outsiders  Other Useful Information  Related - but not informative   \n",
       "2       Not labeled               Not labeled                    Not related   \n",
       "3         Outsiders      Affected individuals  Related - but not informative   \n",
       "4             Media      Affected individuals        Related and informative   \n",
       "\n",
       "                            label  \\\n",
       "0  Not related or not informative   \n",
       "1  Not related or not informative   \n",
       "2  Not related or not informative   \n",
       "3  Not related or not informative   \n",
       "4         Related and informative   \n",
       "\n",
       "                                       ProcessedText  \n",
       "0  king d royalty … #la #lax #oakland #sf #bayare...  \n",
       "1  something's happening @ #lax rt now ! ! re-twe...  \n",
       "2  #kourtneykardashian is seen arriving at #lax a...  \n",
       "3  what the hell is going on at lax , and why doe...  \n",
       "4  rt @efink : gunfire on the tarmac . rt @cbsla ...  "
      ]
     },
     "execution_count": 31,
     "metadata": {},
     "output_type": "execute_result"
    }
   ],
   "source": [
    "p.set_options(p.OPT.URL, p.OPT.EMOJI, p.OPT.SMILEY)\n",
    "all_tweets = [p.clean(t).lower() for t in df.TweetText]\n",
    "\n",
    "tknzr = TweetTokenizer()\n",
    "all_tokens = [tknzr.tokenize(t) for t in all_tweets]\n",
    "#en_stop = set(stopwords.words('english'))\n",
    "lemmatizer = WordNetLemmatizer()\n",
    "processed_texts = []  # preprocessed tweets\n",
    "\n",
    "for i in range(len(all_tokens)):\n",
    "    processed_texts.append(' '.join([lemmatizer.lemmatize(t) for t in all_tokens[i]]))\n",
    "\n",
    "df['ProcessedText'] = pd.Series(processed_texts)\n",
    "df.head()"
   ]
  },
  {
   "cell_type": "code",
   "execution_count": 32,
   "metadata": {},
   "outputs": [],
   "source": [
    "split_percentage = 0.25\n",
    "X_train2, X_test2, y_train2, y_test2 = train_test_split(df.ProcessedText, df.label, test_size=split_percentage, random_state=42) \n",
    "tfidf_pp_vec = TfidfVectorizer(analyzer='word')\n",
    "X_tfidf_pp_train = tfidf_pp_vec.fit_transform(X_train2)  \n",
    "X_tfidf_pp_test = tfidf_pp_vec.transform(X_test2)"
   ]
  },
  {
   "cell_type": "code",
   "execution_count": 59,
   "metadata": {},
   "outputs": [
    {
     "name": "stdout",
     "output_type": "stream",
     "text": [
      "[0.94444444 0.79166667 0.83333333 0.80555556 0.84722222 0.91666667\n",
      " 0.79166667 0.90277778 0.88888889 0.8028169 ]\n",
      "Mean score: 0.853 (+/-0.018)\n",
      "Accuracy for training: 0.977746870654\n",
      "Accuracy for testing: 0.8875\n"
     ]
    }
   ],
   "source": [
    "mnb_tfidf_pp = MultinomialNB(0.04)  \n",
    "mnb_tfidf_pp.fit(X_tfidf_pp_train, y_train2)\n",
    "\n",
    "evaluate_cross_validation(mnb_tfidf_pp, X_tfidf_pp_train, y_train2, 10)\n",
    "\n",
    "print 'Accuracy for training: {}'.format(mnb_tfidf_pp.score(X_tfidf_pp_train, y_train2))\n",
    "print 'Accuracy for testing: {}'.format(mnb_tfidf_pp.score(X_tfidf_pp_test, y_test2))"
   ]
  },
  {
   "cell_type": "code",
   "execution_count": 60,
   "metadata": {},
   "outputs": [
    {
     "name": "stdout",
     "output_type": "stream",
     "text": [
      "Classification Report:\n",
      "                                precision    recall  f1-score   support\n",
      "\n",
      "Not related or not informative       0.85      0.80      0.83        80\n",
      "       Related and informative       0.90      0.93      0.92       160\n",
      "\n",
      "                   avg / total       0.89      0.89      0.89       240\n",
      "\n",
      "Confusion Matrix:\n",
      "[[ 64  16]\n",
      " [ 11 149]]\n"
     ]
    }
   ],
   "source": [
    "y_tfidf_pp_predict = mnb_tfidf_pp.predict(X_tfidf_pp_test) \n",
    "print \"Classification Report:\" \n",
    "print metrics.classification_report(y_test2,y_tfidf_pp_predict) \n",
    "print \"Confusion Matrix:\" \n",
    "print metrics.confusion_matrix(y_test2,y_tfidf_pp_predict)"
   ]
  },
  {
   "cell_type": "code",
   "execution_count": 61,
   "metadata": {},
   "outputs": [
    {
     "data": {
      "text/plain": [
       "(240, 2187)"
      ]
     },
     "execution_count": 61,
     "metadata": {},
     "output_type": "execute_result"
    }
   ],
   "source": [
    "X_tfidf_pp_test.shape"
   ]
  },
  {
   "cell_type": "code",
   "execution_count": 63,
   "metadata": {},
   "outputs": [
    {
     "data": {
      "image/png": "[encoded data removed]",
      "text/plain": [
       "<matplotlib.figure.Figure at 0x14187198>"
      ]
     },
     "metadata": {},
     "output_type": "display_data"
    },
    {
     "name": "stdout",
     "output_type": "stream",
     "text": [
      "[0.8375, 0.8583333333333333, 0.8458333333333333, 0.8541666666666666, 0.8666666666666667, 0.8666666666666667, 0.8708333333333333, 0.8708333333333333, 0.8791666666666667, 0.8833333333333333, 0.8791666666666667, 0.875, 0.875, 0.8708333333333333, 0.8708333333333333, 0.8708333333333333, 0.875, 0.875, 0.875, 0.8791666666666667, 0.8875, 0.8875]\n"
     ]
    }
   ],
   "source": [
    "k = range(100,2300,100)\n",
    "k_score = []\n",
    "for i in k:  \n",
    "    tfidf_pp_vec = TfidfVectorizer(analyzer='word', max_features = i)  \n",
    "    X_tfidf_pp_train = tfidf_pp_vec.fit_transform(X_train2)\n",
    "    X_tfidf_pp_test = tfidf_pp_vec.transform(X_test2)\n",
    "    mnb_tfidf_pp = MultinomialNB(0.04)  \n",
    "    mnb_tfidf_pp.fit(X_tfidf_pp_train, y_train2)\n",
    "    score = mnb_tfidf_pp.score(X_tfidf_pp_test, y_test2) \n",
    "    k_score.append(score)  \n",
    "plt.plot(k,k_score)  \n",
    "plt.show()\n",
    "print k_score"
   ]
  },
  {
   "cell_type": "markdown",
   "metadata": {},
   "source": [
    "### Combine plot"
   ]
  },
  {
   "cell_type": "code",
   "execution_count": 64,
   "metadata": {},
   "outputs": [
    {
     "data": {
      "image/png": "[encoded data removed]",
      "text/plain": [
       "<matplotlib.figure.Figure at 0x141874a8>"
      ]
     },
     "metadata": {},
     "output_type": "display_data"
    }
   ],
   "source": [
    "res_count = [0.8333333333333334, 0.8583333333333333, 0.8625, 0.8625, 0.8625, 0.8541666666666666, 0.8666666666666667, 0.8708333333333333, 0.8791666666666667, 0.8875, 0.8791666666666667, 0.8791666666666667, 0.8875, 0.8875, 0.8875, 0.8875, 0.8916666666666667, 0.8916666666666667, 0.8833333333333333, 0.8833333333333333, 0.8833333333333333, 0.8833333333333333]\n",
    "res_tfidf = [0.8375, 0.8583333333333333, 0.8458333333333333, 0.8541666666666666, 0.8666666666666667, 0.8666666666666667, 0.8708333333333333, 0.8708333333333333, 0.8791666666666667, 0.8833333333333333, 0.8791666666666667, 0.875, 0.875, 0.8708333333333333, 0.8708333333333333, 0.8708333333333333, 0.875, 0.875, 0.875, 0.8791666666666667, 0.8875, 0.8875]\n",
    "l1, = plt.plot(k, res_count)\n",
    "l2, = plt.plot(k, res_tfidf)\n",
    "plt.legend(handles = [l1, l2,], labels = ['count', 'tfidf'], loc = 'best')\n",
    "plt.xlabel('max features')\n",
    "plt.ylabel('accuracy')\n",
    "plt.show()"
   ]
  }
 ],
 "metadata": {
  "kernelspec": {
   "display_name": "Python 2",
   "language": "python",
   "name": "python2"
  },
  "language_info": {
   "codemirror_mode": {
    "name": "ipython",
    "version": 2
   },
   "file_extension": ".py",
   "mimetype": "text/x-python",
   "name": "python",
   "nbconvert_exporter": "python",
   "pygments_lexer": "ipython2",
   "version": "2.7.14"
  }
 },
 "nbformat": 4,
 "nbformat_minor": 2
}
