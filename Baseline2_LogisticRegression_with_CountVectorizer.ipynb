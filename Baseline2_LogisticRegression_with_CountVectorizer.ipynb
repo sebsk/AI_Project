{
 "cells": [
  {
   "cell_type": "code",
   "execution_count": 1,
   "metadata": {},
   "outputs": [],
   "source": [
    "from sklearn.linear_model import LogisticRegression\n",
    "import pandas as pd\n",
    "import numpy as np\n",
    "import matplotlib.pyplot as plt\n",
    "from sklearn.feature_extraction.text import CountVectorizer\n",
    "from sklearn import metrics\n",
    "plt.style.use('ggplot')\n",
    "% matplotlib inline"
   ]
  },
  {
   "cell_type": "code",
   "execution_count": 2,
   "metadata": {},
   "outputs": [],
   "source": [
    "plt.style.use('ggplot')"
   ]
  },
  {
   "cell_type": "code",
   "execution_count": 8,
   "metadata": {},
   "outputs": [
    {
     "name": "stderr",
     "output_type": "stream",
     "text": [
      "/anaconda2/envs/Py27/lib/python2.7/site-packages/ipykernel_launcher.py:9: SettingWithCopyWarning: \n",
      "A value is trying to be set on a copy of a slice from a DataFrame\n",
      "\n",
      "See the caveats in the documentation: http://pandas.pydata.org/pandas-docs/stable/indexing.html#indexing-view-versus-copy\n",
      "  if __name__ == '__main__':\n"
     ]
    }
   ],
   "source": [
    "df = pd.read_csv('2012_Colorado_wildfires/2012_Colorado_wildfires-tweets_labeled.csv') # change the file location if needed\n",
    "col_dict = {}\n",
    "for old_feature in df.columns.values:\n",
    "    col_dict.update({old_feature: old_feature.replace(' ','')})\n",
    "df.rename(columns=col_dict, inplace=True)\n",
    "df = df[df.Informativeness!='Not applicable']\n",
    "df = df[df.InformationSource!='Government']\n",
    "df.Informativeness[df.Informativeness=='Not related'] = 'Not related or not informative'\n",
    "df.Informativeness[df.Informativeness=='Related - but not informative'] = 'Not related or not informative'\n",
    "count_vectorizer = CountVectorizer(stop_words = 'english')\n",
    "count_train = count_vectorizer.fit_transform(df.TweetText)\n",
    "count_train_df = pd.DataFrame(count_train.A, columns=count_vectorizer.get_feature_names())\n",
    "y_train = df.Informativeness"
   ]
  },
  {
   "cell_type": "code",
   "execution_count": 9,
   "metadata": {
    "scrolled": true
   },
   "outputs": [
    {
     "name": "stderr",
     "output_type": "stream",
     "text": [
      "/anaconda2/envs/Py27/lib/python2.7/site-packages/ipykernel_launcher.py:9: SettingWithCopyWarning: \n",
      "A value is trying to be set on a copy of a slice from a DataFrame\n",
      "\n",
      "See the caveats in the documentation: http://pandas.pydata.org/pandas-docs/stable/indexing.html#indexing-view-versus-copy\n",
      "  if __name__ == '__main__':\n"
     ]
    }
   ],
   "source": [
    "df = pd.read_csv('2013_Colorado_floods/2013_Colorado_floods-tweets_labeled.csv') # change the file location if needed\n",
    "col_dict = {}\n",
    "for old_feature in df.columns.values:\n",
    "    col_dict.update({old_feature: old_feature.replace(' ','')})\n",
    "df.rename(columns=col_dict, inplace=True)\n",
    "df = df[df.Informativeness!='Not applicable']\n",
    "df = df[df.InformationSource!='Government']\n",
    "df.Informativeness[df.Informativeness=='Not related'] = 'Not related or not informative'\n",
    "df.Informativeness[df.Informativeness=='Related - but not informative'] = 'Not related or not informative'\n",
    "count_test1 = count_vectorizer.transform(df.TweetText)\n",
    "count_test_df1 = pd.DataFrame(count_test1.A, columns=count_vectorizer.get_feature_names())\n",
    "y_test1 = df.Informativeness"
   ]
  },
  {
   "cell_type": "code",
   "execution_count": 10,
   "metadata": {},
   "outputs": [
    {
     "name": "stderr",
     "output_type": "stream",
     "text": [
      "/anaconda2/envs/Py27/lib/python2.7/site-packages/ipykernel_launcher.py:9: SettingWithCopyWarning: \n",
      "A value is trying to be set on a copy of a slice from a DataFrame\n",
      "\n",
      "See the caveats in the documentation: http://pandas.pydata.org/pandas-docs/stable/indexing.html#indexing-view-versus-copy\n",
      "  if __name__ == '__main__':\n"
     ]
    }
   ],
   "source": [
    "df = pd.read_csv('2013_Australia_bushfire/2013_Australia_bushfire-tweets_labeled.csv') # change the file location if needed\n",
    "col_dict = {}\n",
    "for old_feature in df.columns.values:\n",
    "    col_dict.update({old_feature: old_feature.replace(' ','')})\n",
    "df.rename(columns=col_dict, inplace=True)\n",
    "df = df[df.Informativeness!='Not applicable']\n",
    "df = df[df.InformationSource!='Government']\n",
    "df.Informativeness[df.Informativeness=='Not related'] = 'Not related or not informative'\n",
    "df.Informativeness[df.Informativeness=='Related - but not informative'] = 'Not related or not informative'\n",
    "count_test2 = count_vectorizer.transform(df.TweetText)\n",
    "count_test_df2 = pd.DataFrame(count_test2.A, columns=count_vectorizer.get_feature_names())\n",
    "y_test2 = df.Informativeness"
   ]
  },
  {
   "cell_type": "code",
   "execution_count": 11,
   "metadata": {},
   "outputs": [
    {
     "name": "stderr",
     "output_type": "stream",
     "text": [
      "/anaconda2/envs/Py27/lib/python2.7/site-packages/ipykernel_launcher.py:9: SettingWithCopyWarning: \n",
      "A value is trying to be set on a copy of a slice from a DataFrame\n",
      "\n",
      "See the caveats in the documentation: http://pandas.pydata.org/pandas-docs/stable/indexing.html#indexing-view-versus-copy\n",
      "  if __name__ == '__main__':\n"
     ]
    }
   ],
   "source": [
    "df = pd.read_csv('2013_Queensland_floods/2013_Queensland_floods-tweets_labeled.csv') # change the file location if needed\n",
    "col_dict = {}\n",
    "for old_feature in df.columns.values:\n",
    "    col_dict.update({old_feature: old_feature.replace(' ','')})\n",
    "df.rename(columns=col_dict, inplace=True)\n",
    "df = df[df.Informativeness!='Not applicable']\n",
    "df = df[df.InformationSource!='Government']\n",
    "df.Informativeness[df.Informativeness=='Not related'] = 'Not related or not informative'\n",
    "df.Informativeness[df.Informativeness=='Related - but not informative'] = 'Not related or not informative'\n",
    "count_test3 = count_vectorizer.transform(df.TweetText)\n",
    "count_test_df3 = pd.DataFrame(count_test3.A, columns=count_vectorizer.get_feature_names())\n",
    "y_test3 = df.Informativeness"
   ]
  },
  {
   "cell_type": "code",
   "execution_count": 12,
   "metadata": {},
   "outputs": [],
   "source": [
    "lr = LogisticRegression()\n",
    "lr.fit(count_train_df, y_train)\n",
    "y_pred1 = lr.predict(count_test_df1)\n",
    "y_pred2 = lr.predict(count_test_df2)\n",
    "y_pred3 = lr.predict(count_test_df3)\n",
    "accuracy1 = metrics.accuracy_score(y_test1, y_pred1)\n",
    "accuracy2 = metrics.accuracy_score(y_test2, y_pred2)\n",
    "accuracy3 = metrics.accuracy_score(y_test3, y_pred3)"
   ]
  },
  {
   "cell_type": "code",
   "execution_count": 13,
   "metadata": {},
   "outputs": [
    {
     "name": "stdout",
     "output_type": "stream",
     "text": [
      "0.57360959651\n",
      "0.624652455978\n",
      "0.625\n"
     ]
    }
   ],
   "source": [
    "print accuracy1\n",
    "print accuracy2\n",
    "print accuracy3"
   ]
  }
 ],
 "metadata": {
  "kernelspec": {
   "display_name": "Python 2",
   "language": "python",
   "name": "python2"
  },
  "language_info": {
   "codemirror_mode": {
    "name": "ipython",
    "version": 2
   },
   "file_extension": ".py",
   "mimetype": "text/x-python",
   "name": "python",
   "nbconvert_exporter": "python",
   "pygments_lexer": "ipython2",
   "version": "2.7.14"
  }
 },
 "nbformat": 4,
 "nbformat_minor": 2
}
