{
 "cells": [
  {
   "cell_type": "code",
   "execution_count": 8,
   "metadata": {},
   "outputs": [],
   "source": [
    "from Dataset import *\n",
    "from Model_Setting import *\n",
    "from keras.preprocessing.text import Tokenizer\n",
    "from keras.preprocessing.text import text_to_word_sequence\n",
    "from keras.preprocessing.sequence import pad_sequences\n",
    "from keras.wrappers.scikit_learn import KerasClassifier\n",
    "from keras.models import Sequential, load_model\n",
    "from keras.layers import Dense, Embedding, Conv1D, MaxPooling1D, GlobalMaxPooling1D, BatchNormalization\n",
    "from keras.callbacks import EarlyStopping, ModelCheckpoint\n",
    "from keras.utils import to_categorical\n",
    "from sklearn.preprocessing import LabelEncoder\n",
    "from sklearn.model_selection import GridSearchCV\n",
    "from sklearn.model_selection import train_test_split\n",
    "from sklearn import metrics\n",
    "import pandas as pd\n",
    "import numpy as np\n",
    "import matplotlib.pyplot as plt\n",
    "import seaborn as sns\n",
    "import itertools\n",
    "plt.style.use('ggplot')\n",
    "sns.set()\n",
    "% matplotlib inline"
   ]
  },
  {
   "cell_type": "markdown",
   "metadata": {},
   "source": [
    "Pre-trained GloVe word vectors are used to perform word embedding. Vector of length 25 is picked."
   ]
  },
  {
   "cell_type": "code",
   "execution_count": 2,
   "metadata": {},
   "outputs": [],
   "source": [
    "embedding_index, vtr_dim = import_glove(25)"
   ]
  },
  {
   "cell_type": "code",
   "execution_count": 234,
   "metadata": {},
   "outputs": [],
   "source": [
    "col_fire_12 = dataset('2012_Colorado_wildfires/2012_Colorado_wildfires-tweets_labeled.csv')\n",
    "col_flood_13 = dataset('2013_Colorado_floods/2013_Colorado_floods-tweets_labeled.csv')\n",
    "aus_fire_13 = dataset('2013_Australia_bushfire/2013_Australia_bushfire-tweets_labeled.csv')\n",
    "aus_flood_13 = dataset('2013_Queensland_floods/2013_Queensland_floods-tweets_labeled.csv')\n",
    "col_fire_12_g = col_fire_12.glove(embedding_index, vtr_dim)\n",
    "col_flood_13_g = col_flood_13.glove(embedding_index, vtr_dim)\n",
    "aus_fire_13_g = aus_fire_13.glove(embedding_index, vtr_dim)\n",
    "aus_flood_13_g = aus_flood_13.glove(embedding_index, vtr_dim)\n",
    "col_fire_12_lb = to_categorical(col_fire_12.df.label)\n",
    "col_flood_13_lb = to_categorical(col_flood_13.df.label)\n",
    "aus_fire_13_lb = to_categorical(aus_fire_13.df.label)\n",
    "aus_flood_13_lb = to_categorical(aus_flood_13.df.label)"
   ]
  },
  {
   "cell_type": "markdown",
   "metadata": {},
   "source": [
    "Some useful functions here"
   ]
  },
  {
   "cell_type": "code",
   "execution_count": 5,
   "metadata": {},
   "outputs": [],
   "source": [
    "def incremental_learning_prob(model, tweets, step=10, threshold=0.75):\n",
    "    subset_len = tweets.shape[0]/step\n",
    "    marks = [subset_len*i for i in range(step)]\n",
    "    marks.append(tweets.shape[0])\n",
    "    for i in range(step):\n",
    "        text = tweets[marks[i]: marks[i+1]]\n",
    "        y_pred = model.predict(x=text)\n",
    "        x_confident = np.asarray([text[j] for j in range(len(y_pred)) if y_pred[j][0] >= threshold or y_pred[j][1] >= threshold])\n",
    "        y_confident = [y_pred[j] for j in range(len(y_pred)) if y_pred[j][0] >= threshold or y_pred[j][1] >= threshold]\n",
    "        label = to_categorical(map(lambda x: 0 if x[0]>=threshold else 1, y_confident))\n",
    "        weight = np.array([(max(i)-0.5)/0.5 for i in y_confident])\n",
    "        model.train_on_batch(x_confident, label, sample_weight=weight)#, validation_split=0.3, epochs = 10, callbacks=[EarlyStopping(patience=3)])"
   ]
  },
  {
   "cell_type": "code",
   "execution_count": 6,
   "metadata": {},
   "outputs": [],
   "source": [
    "def incremental_learning_det(model, tweets, step=10, confidence=0.95):\n",
    "    subset_len = tweets.shape[0]/step\n",
    "    marks = [subset_len*i for i in range(step)]\n",
    "    marks.append(tweets.shape[0])\n",
    "    for i in range(step):\n",
    "        text = tweets[marks[i]: marks[i+1]]\n",
    "        y_pred = model.predict(x=text)\n",
    "        x_confident = np.asarray([text[j] for j in range(len(y_pred)) if y_pred[j][0] >= confidence or y_pred[j][1] >= confidence])\n",
    "        y_confident = [y_pred[j] for j in range(len(y_pred)) if y_pred[j][0] >= confidence or y_pred[j][1] >= confidence]\n",
    "        label = to_categorical(map(lambda x: 0 if x[0]>=confidence else 1, y_confident))\n",
    "        model.train_on_batch(x_confident, label)#, validation_split=0.3, epochs = 10, callbacks=[EarlyStopping(patience=3)])"
   ]
  },
  {
   "cell_type": "code",
   "execution_count": 126,
   "metadata": {},
   "outputs": [],
   "source": [
    "def create_cnn_model(conv=[32, 16], window=[3,3], pool=3, dropout=0.3, penalty=0.01, input_shape=25, batch_normalize=False):\n",
    "    model = Sequential()\n",
    "    model.add(Conv1D(conv[0], window[0], activation='relu', kernel_initializer = 'he_normal', \n",
    "                   kernel_regularizer=regularizers.l2(penalty), input_shape=(None,input_shape)))\n",
    "    model.add(MaxPooling1D(pool))\n",
    "    model.add(Conv1D(conv[1], window[1], activation='relu', kernel_initializer = 'he_normal', \n",
    "                   kernel_regularizer=regularizers.l2(penalty)))\n",
    "    model.add(GlobalMaxPooling1D())\n",
    "    if batch_normalize:\n",
    "        model.add(BatchNormalization())\n",
    "    model.add(Dropout(dropout))\n",
    "    model.add(Dense(2, activation='softmax'))\n",
    "    model.compile(loss='binary_crossentropy', optimizer='adam', metrics=['accuracy'])\n",
    "    return model"
   ]
  },
  {
   "cell_type": "code",
   "execution_count": null,
   "metadata": {},
   "outputs": [],
   "source": [
    "def shuffle_train(model, data, text, path, k=10, n_epoch=10):\n",
    "    min_val_loss = float('inf')\n",
    "    n_earlystopping = [5]*(k/4)+[4]*(k/4)+[3]*(k/4)+[2]*(k-k/4*3)\n",
    "    mcp_cnn = ModelCheckpoint(filepath=path, monitor='val_loss', save_best_only=True, save_weights_only=True)\n",
    "    history = {'acc':[], 'loss':[], 'val_acc':[], 'val_loss':[]}\n",
    "    ##### n_epoch*k epochs in total######\n",
    "    for i in range(k):\n",
    "        df = data.df.sample(frac=1)\n",
    "        tweet_g = text[df.index.values]\n",
    "        his = model.fit(tweet_g, to_categorical(df.label), callbacks=[EarlyStopping(monitor='val_loss', patience=n_earlystopping[i]),\n",
    "                                mcp_cnn], validation_split=0.3, batch_size=64, epochs=n_epoch)\n",
    "        for metric in ['acc', 'loss', 'val_acc', 'val_loss']:\n",
    "            history[metric].extend(his.history[metric])\n",
    "        if min(his.history['val_loss']) < min_val_loss:\n",
    "            min_val_loss = min(his.history['val_loss'])\n",
    "            model.load_weights(path)\n",
    "        if len(his.history['acc']) > n_earlystopping[i]+1:\n",
    "            stop = True\n",
    "            for j in range(1,n_earlystopping[i]+1):\n",
    "                if his.history['val_loss'][-j] < his.history['val_loss'][-j-1]:\n",
    "                    stop = False\n",
    "            if stop: break\n",
    "    model.save(path)\n",
    "    return history"
   ]
  },
  {
   "cell_type": "code",
   "execution_count": 223,
   "metadata": {},
   "outputs": [],
   "source": [
    "def metric_drawing(title, path=None, Model=None):\n",
    "    if Model is None:\n",
    "        model = load_model(path)\n",
    "    y_p1 = model.predict(col_flood_13_g)\n",
    "    y_pred1 = []\n",
    "    y_p2 = model.predict(aus_fire_13_g)\n",
    "    y_pred2 = []\n",
    "    y_p3 = model.predict(aus_flood_13_g)\n",
    "    y_pred3 = []\n",
    "    precision = []\n",
    "    recall = []\n",
    "    f1 = []\n",
    "    for y in y_p1:\n",
    "        if y[0]>y[1]:\n",
    "            y_pred1.append(0)\n",
    "        else:\n",
    "            y_pred1.append(1)\n",
    "    precision.append(metrics.precision_score(col_flood_13.df.label, y_pred1))\n",
    "    recall.append(metrics.recall_score(col_flood_13.df.label, y_pred1))\n",
    "    f1.append(metrics.f1_score(col_flood_13.df.label, y_pred1))\n",
    "    for y in y_p2:\n",
    "        if y[0]>y[1]:\n",
    "            y_pred2.append(0)\n",
    "        else:\n",
    "            y_pred2.append(1)\n",
    "    precision.append(metrics.precision_score(aus_fire_13.df.label, y_pred2))\n",
    "    recall.append(metrics.recall_score(aus_fire_13.df.label, y_pred2))\n",
    "    f1.append(metrics.f1_score(aus_fire_13.df.label, y_pred2))\n",
    "    for y in y_p3:\n",
    "        if y[0]>y[1]:\n",
    "            y_pred3.append(0)\n",
    "        else:\n",
    "            y_pred3.append(1)\n",
    "    precision.append(metrics.precision_score(aus_flood_13.df.label, y_pred3))\n",
    "    recall.append(metrics.recall_score(aus_flood_13.df.label, y_pred3))\n",
    "    f1.append(metrics.f1_score(aus_flood_13.df.label, y_pred3))\n",
    "\n",
    "    plt.bar([0.9,1.9,2.9], precision, width=0.1, label='precision')\n",
    "    plt.bar([1,2,3], recall, width=0.1, label='recall')\n",
    "    plt.bar([1.1,2.1,3.1], f1, width=0.1, label='f1-score')\n",
    "    plt.xticks([1,2,3], ['col_flood_13', 'aus_fire_13', 'aus_flood_13'])\n",
    "    plt.ylim([0,1])\n",
    "    plt.legend(loc='best')\n",
    "    plt.xlabel('disaster')\n",
    "    plt.ylabel('score')\n",
    "    plt.title(title)\n",
    "    plt.show()\n",
    "    return precision, recall, f1"
   ]
  },
  {
   "cell_type": "code",
   "execution_count": 235,
   "metadata": {},
   "outputs": [],
   "source": [
    "def plot_history(history, title):\n",
    "    plt.figure(figsize=(16,6))\n",
    "    plt.suptitle(title)\n",
    "    plt.subplot(121)\n",
    "    n_epoch = len(history.history['acc'])\n",
    "    plt.plot(range(1, n_epoch+1), history.history['loss'], label='loss')\n",
    "    plt.plot(range(1, n_epoch+1), history.history['val_loss'], label='val_loss')\n",
    "    plt.xlabel('epoch')\n",
    "    plt.ylabel('loss')\n",
    "    plt.legend()\n",
    "    plt.subplot(122)\n",
    "    plt.plot(range(1, n_epoch+1), history.history['acc'], label='acc')\n",
    "    plt.plot(range(1, n_epoch+1), history.history['val_acc'], label='val_acc')\n",
    "    plt.xlabel('epoch')\n",
    "    plt.ylabel('acc')\n",
    "    plt.legend()\n",
    "    plt.show()"
   ]
  },
  {
   "cell_type": "markdown",
   "metadata": {},
   "source": [
    "CNN: Normalization of word vector; Sample shuffle"
   ]
  },
  {
   "cell_type": "code",
   "execution_count": 170,
   "metadata": {},
   "outputs": [],
   "source": [
    "cnn_model = create_cnn_model([8,4],[3,2],3, 0.2, 0.05, 25)"
   ]
  },
  {
   "cell_type": "code",
   "execution_count": 171,
   "metadata": {
    "scrolled": true
   },
   "outputs": [
    {
     "name": "stdout",
     "output_type": "stream",
     "text": [
      "Train on 781 samples, validate on 336 samples\n",
      "Epoch 1/100\n",
      "781/781 [==============================] - 6s 8ms/step - loss: 1.7644 - acc: 0.5442 - val_loss: 1.6538 - val_acc: 0.5357\n",
      "Epoch 2/100\n",
      "781/781 [==============================] - 0s 261us/step - loss: 1.5869 - acc: 0.5160 - val_loss: 1.5425 - val_acc: 0.5179\n",
      "Epoch 3/100\n",
      "781/781 [==============================] - 0s 278us/step - loss: 1.4944 - acc: 0.5173 - val_loss: 1.4601 - val_acc: 0.5119\n",
      "Epoch 4/100\n",
      "781/781 [==============================] - 0s 315us/step - loss: 1.4110 - acc: 0.5493 - val_loss: 1.3884 - val_acc: 0.5476\n",
      "Epoch 5/100\n",
      "781/781 [==============================] - 0s 288us/step - loss: 1.3392 - acc: 0.5685 - val_loss: 1.3238 - val_acc: 0.5655\n",
      "Epoch 6/100\n",
      "781/781 [==============================] - 0s 282us/step - loss: 1.2836 - acc: 0.5723 - val_loss: 1.2652 - val_acc: 0.5536\n",
      "Epoch 7/100\n",
      "781/781 [==============================] - 0s 294us/step - loss: 1.2193 - acc: 0.5800 - val_loss: 1.2107 - val_acc: 0.5655\n",
      "Epoch 8/100\n",
      "781/781 [==============================] - 0s 284us/step - loss: 1.1718 - acc: 0.5954 - val_loss: 1.1623 - val_acc: 0.5655\n",
      "Epoch 9/100\n",
      "781/781 [==============================] - 0s 290us/step - loss: 1.1250 - acc: 0.6031 - val_loss: 1.1167 - val_acc: 0.5685\n",
      "Epoch 10/100\n",
      "781/781 [==============================] - 0s 280us/step - loss: 1.0851 - acc: 0.6018 - val_loss: 1.0755 - val_acc: 0.5744\n",
      "Epoch 11/100\n",
      "781/781 [==============================] - 0s 284us/step - loss: 1.0439 - acc: 0.6044 - val_loss: 1.0385 - val_acc: 0.5774\n",
      "Epoch 12/100\n",
      "781/781 [==============================] - 0s 281us/step - loss: 1.0162 - acc: 0.6095 - val_loss: 1.0037 - val_acc: 0.5774\n",
      "Epoch 13/100\n",
      "781/781 [==============================] - 0s 272us/step - loss: 0.9798 - acc: 0.6018 - val_loss: 0.9717 - val_acc: 0.5952\n",
      "Epoch 14/100\n",
      "781/781 [==============================] - 0s 265us/step - loss: 0.9437 - acc: 0.6428 - val_loss: 0.9421 - val_acc: 0.6071\n",
      "Epoch 15/100\n",
      "781/781 [==============================] - 0s 296us/step - loss: 0.9156 - acc: 0.6466 - val_loss: 0.9150 - val_acc: 0.6012\n",
      "Epoch 16/100\n",
      "781/781 [==============================] - 0s 292us/step - loss: 0.9017 - acc: 0.6082 - val_loss: 0.8912 - val_acc: 0.6101\n",
      "Epoch 17/100\n",
      "781/781 [==============================] - 0s 284us/step - loss: 0.8754 - acc: 0.6607 - val_loss: 0.8672 - val_acc: 0.6369\n",
      "Epoch 18/100\n",
      "781/781 [==============================] - 0s 270us/step - loss: 0.8531 - acc: 0.6697 - val_loss: 0.8468 - val_acc: 0.6369\n",
      "Epoch 19/100\n",
      "781/781 [==============================] - 0s 291us/step - loss: 0.8352 - acc: 0.6709 - val_loss: 0.8272 - val_acc: 0.6518\n",
      "Epoch 20/100\n",
      "781/781 [==============================] - 0s 310us/step - loss: 0.8188 - acc: 0.6697 - val_loss: 0.8107 - val_acc: 0.6399\n",
      "Epoch 21/100\n",
      "781/781 [==============================] - 0s 306us/step - loss: 0.7956 - acc: 0.6953 - val_loss: 0.7918 - val_acc: 0.6905\n",
      "Epoch 22/100\n",
      "781/781 [==============================] - 0s 318us/step - loss: 0.7845 - acc: 0.7042 - val_loss: 0.7767 - val_acc: 0.7083\n",
      "Epoch 23/100\n",
      "781/781 [==============================] - 0s 322us/step - loss: 0.7737 - acc: 0.7119 - val_loss: 0.7626 - val_acc: 0.7202\n",
      "Epoch 24/100\n",
      "781/781 [==============================] - 0s 303us/step - loss: 0.7586 - acc: 0.7196 - val_loss: 0.7493 - val_acc: 0.7262\n",
      "Epoch 25/100\n",
      "781/781 [==============================] - 0s 287us/step - loss: 0.7498 - acc: 0.7247 - val_loss: 0.7364 - val_acc: 0.7470\n",
      "Epoch 26/100\n",
      "781/781 [==============================] - 0s 280us/step - loss: 0.7313 - acc: 0.7183 - val_loss: 0.7250 - val_acc: 0.7262\n",
      "Epoch 27/100\n",
      "781/781 [==============================] - 0s 302us/step - loss: 0.7270 - acc: 0.7132 - val_loss: 0.7137 - val_acc: 0.7768\n",
      "Epoch 28/100\n",
      "781/781 [==============================] - 0s 283us/step - loss: 0.7215 - acc: 0.7132 - val_loss: 0.7046 - val_acc: 0.7381\n",
      "Epoch 29/100\n",
      "781/781 [==============================] - 0s 295us/step - loss: 0.7134 - acc: 0.7106 - val_loss: 0.6936 - val_acc: 0.7827\n",
      "Epoch 30/100\n",
      "781/781 [==============================] - 0s 285us/step - loss: 0.6973 - acc: 0.7542 - val_loss: 0.6865 - val_acc: 0.7440\n",
      "Epoch 31/100\n",
      "781/781 [==============================] - 0s 297us/step - loss: 0.6860 - acc: 0.7337 - val_loss: 0.6761 - val_acc: 0.8006\n",
      "Epoch 32/100\n",
      "781/781 [==============================] - 0s 294us/step - loss: 0.6788 - acc: 0.7490 - val_loss: 0.6679 - val_acc: 0.8036\n",
      "Epoch 33/100\n",
      "781/781 [==============================] - 0s 299us/step - loss: 0.6705 - acc: 0.7606 - val_loss: 0.6597 - val_acc: 0.8036\n",
      "Epoch 34/100\n",
      "781/781 [==============================] - 0s 316us/step - loss: 0.6714 - acc: 0.7490 - val_loss: 0.6532 - val_acc: 0.8036\n",
      "Epoch 35/100\n",
      "781/781 [==============================] - 0s 260us/step - loss: 0.6673 - acc: 0.7478 - val_loss: 0.6465 - val_acc: 0.8065\n",
      "Epoch 36/100\n",
      "781/781 [==============================] - 0s 247us/step - loss: 0.6622 - acc: 0.7490 - val_loss: 0.6410 - val_acc: 0.8006\n",
      "Epoch 37/100\n",
      "781/781 [==============================] - 0s 253us/step - loss: 0.6655 - acc: 0.7606 - val_loss: 0.6372 - val_acc: 0.8065\n",
      "Epoch 38/100\n",
      "781/781 [==============================] - 0s 245us/step - loss: 0.6479 - acc: 0.7695 - val_loss: 0.6337 - val_acc: 0.8036\n",
      "Epoch 39/100\n",
      "781/781 [==============================] - 0s 260us/step - loss: 0.6427 - acc: 0.7708 - val_loss: 0.6280 - val_acc: 0.8125\n",
      "Epoch 40/100\n",
      "781/781 [==============================] - 0s 239us/step - loss: 0.6412 - acc: 0.7490 - val_loss: 0.6225 - val_acc: 0.8185\n",
      "Epoch 41/100\n",
      "781/781 [==============================] - 0s 245us/step - loss: 0.6346 - acc: 0.7606 - val_loss: 0.6194 - val_acc: 0.8036\n",
      "Epoch 42/100\n",
      "781/781 [==============================] - 0s 258us/step - loss: 0.6374 - acc: 0.7414 - val_loss: 0.6141 - val_acc: 0.8036\n",
      "Epoch 43/100\n",
      "781/781 [==============================] - 0s 314us/step - loss: 0.6287 - acc: 0.7746 - val_loss: 0.6089 - val_acc: 0.8125\n",
      "Epoch 44/100\n",
      "781/781 [==============================] - 0s 250us/step - loss: 0.6270 - acc: 0.7682 - val_loss: 0.6084 - val_acc: 0.8006\n",
      "Epoch 45/100\n",
      "781/781 [==============================] - 0s 252us/step - loss: 0.6244 - acc: 0.7542 - val_loss: 0.6042 - val_acc: 0.8095\n",
      "Epoch 46/100\n",
      "781/781 [==============================] - 0s 256us/step - loss: 0.6330 - acc: 0.7618 - val_loss: 0.6028 - val_acc: 0.8095\n",
      "Epoch 47/100\n",
      "781/781 [==============================] - 0s 311us/step - loss: 0.6131 - acc: 0.7926 - val_loss: 0.5993 - val_acc: 0.8006\n",
      "Epoch 48/100\n",
      "781/781 [==============================] - 0s 286us/step - loss: 0.6069 - acc: 0.7759 - val_loss: 0.5951 - val_acc: 0.8065\n",
      "Epoch 49/100\n",
      "781/781 [==============================] - 0s 246us/step - loss: 0.6080 - acc: 0.7772 - val_loss: 0.5908 - val_acc: 0.8214\n",
      "Epoch 50/100\n",
      "781/781 [==============================] - 0s 251us/step - loss: 0.6202 - acc: 0.7631 - val_loss: 0.5903 - val_acc: 0.8125\n",
      "Epoch 51/100\n",
      "781/781 [==============================] - 0s 271us/step - loss: 0.5944 - acc: 0.7836 - val_loss: 0.5887 - val_acc: 0.8095\n",
      "Epoch 52/100\n",
      "781/781 [==============================] - 0s 271us/step - loss: 0.5976 - acc: 0.7759 - val_loss: 0.5864 - val_acc: 0.8095\n",
      "Epoch 53/100\n",
      "781/781 [==============================] - 0s 255us/step - loss: 0.5935 - acc: 0.7734 - val_loss: 0.5835 - val_acc: 0.8125\n",
      "Epoch 54/100\n",
      "781/781 [==============================] - 0s 252us/step - loss: 0.5942 - acc: 0.7926 - val_loss: 0.5837 - val_acc: 0.8006\n",
      "Epoch 55/100\n",
      "781/781 [==============================] - 0s 263us/step - loss: 0.5977 - acc: 0.7734 - val_loss: 0.5808 - val_acc: 0.8155\n",
      "Epoch 56/100\n",
      "781/781 [==============================] - 0s 255us/step - loss: 0.5867 - acc: 0.7964 - val_loss: 0.5778 - val_acc: 0.8095\n",
      "Epoch 57/100\n",
      "781/781 [==============================] - 0s 291us/step - loss: 0.5891 - acc: 0.7913 - val_loss: 0.5762 - val_acc: 0.8065\n",
      "Epoch 58/100\n",
      "781/781 [==============================] - 0s 280us/step - loss: 0.5869 - acc: 0.7887 - val_loss: 0.5740 - val_acc: 0.8065\n",
      "Epoch 59/100\n",
      "781/781 [==============================] - 0s 267us/step - loss: 0.5780 - acc: 0.8079 - val_loss: 0.5740 - val_acc: 0.8095\n",
      "Epoch 60/100\n",
      "781/781 [==============================] - 0s 254us/step - loss: 0.5874 - acc: 0.7875 - val_loss: 0.5727 - val_acc: 0.8065\n"
     ]
    },
    {
     "name": "stdout",
     "output_type": "stream",
     "text": [
      "Epoch 61/100\n",
      "781/781 [==============================] - 0s 277us/step - loss: 0.5800 - acc: 0.7913 - val_loss: 0.5711 - val_acc: 0.8244\n",
      "Epoch 62/100\n",
      "781/781 [==============================] - 0s 311us/step - loss: 0.5847 - acc: 0.7862 - val_loss: 0.5719 - val_acc: 0.8095\n",
      "Epoch 63/100\n",
      "781/781 [==============================] - 0s 261us/step - loss: 0.5715 - acc: 0.7990 - val_loss: 0.5690 - val_acc: 0.8125\n",
      "Epoch 64/100\n",
      "781/781 [==============================] - 0s 247us/step - loss: 0.5710 - acc: 0.8092 - val_loss: 0.5667 - val_acc: 0.8095\n",
      "Epoch 65/100\n",
      "781/781 [==============================] - 0s 248us/step - loss: 0.5712 - acc: 0.8067 - val_loss: 0.5662 - val_acc: 0.8125\n",
      "Epoch 66/100\n",
      "781/781 [==============================] - 0s 261us/step - loss: 0.5729 - acc: 0.8079 - val_loss: 0.5661 - val_acc: 0.8095\n",
      "Epoch 67/100\n",
      "781/781 [==============================] - 0s 256us/step - loss: 0.5583 - acc: 0.8233 - val_loss: 0.5656 - val_acc: 0.8006\n",
      "Epoch 68/100\n",
      "781/781 [==============================] - 0s 238us/step - loss: 0.5809 - acc: 0.7836 - val_loss: 0.5671 - val_acc: 0.8006\n",
      "Epoch 69/100\n",
      "781/781 [==============================] - 0s 229us/step - loss: 0.5638 - acc: 0.7951 - val_loss: 0.5659 - val_acc: 0.8155\n",
      "Epoch 70/100\n",
      "781/781 [==============================] - 0s 233us/step - loss: 0.5629 - acc: 0.8105 - val_loss: 0.5656 - val_acc: 0.8304\n",
      "Epoch 71/100\n",
      "781/781 [==============================] - 0s 237us/step - loss: 0.5680 - acc: 0.8015 - val_loss: 0.5686 - val_acc: 0.7946\n"
     ]
    }
   ],
   "source": [
    "es = EarlyStopping(monitor='val_loss', patience=4)\n",
    "mcp = ModelCheckpoint(filepath='cnn_unnormalized_unshuffle.h5', monitor='val_loss', save_best_only=True, save_weights_only=False)\n",
    "history = cnn_model.fit(col_fire_12_g, to_categorical(col_fire_12.df.label), callbacks=[es,mcp], validation_split=0.3, batch_size=64, epochs=100)"
   ]
  },
  {
   "cell_type": "code",
   "execution_count": 224,
   "metadata": {},
   "outputs": [
    {
     "data": {
      "image/png": "[encoded data removed]",
      "text/plain": [
       "<Figure size 432x288 with 1 Axes>"
      ]
     },
     "metadata": {},
     "output_type": "display_data"
    }
   ],
   "source": [
    "p, r, f = metric_drawing('CNN w/o shuffling', path='cnn_unnormalized_unshuffle.h5')"
   ]
  },
  {
   "cell_type": "code",
   "execution_count": 225,
   "metadata": {},
   "outputs": [
    {
     "name": "stdout",
     "output_type": "stream",
     "text": [
      "[0.88593750000000004, 0.76480000000000004, 0.83116883116883122] [0.82054992764109991, 0.79401993355481726, 0.76992481203007523] [0.85199098422238917, 0.77913610431947844, 0.79937548790007806]\n"
     ]
    }
   ],
   "source": [
    "print p, r, f"
   ]
  },
  {
   "cell_type": "code",
   "execution_count": 175,
   "metadata": {
    "scrolled": true
   },
   "outputs": [
    {
     "name": "stdout",
     "output_type": "stream",
     "text": [
      "917/917 [==============================] - 3s 3ms/step\n",
      "[0.58863933935290202, 0.78516902976883662]\n",
      "917/917 [==============================] - 0s 138us/step\n",
      "[0.53474661704628135, 0.80588876785082797]\n"
     ]
    }
   ],
   "source": [
    "######################try hard label incremental learning####################################\n",
    "cnn_model = load_model('cnn_unnormalized_unshuffle.h5')\n",
    "print cnn_model.evaluate(x=col_flood_13_g, y=to_categorical(col_flood_13.df.label))\n",
    "incremental_learning_det(cnn_model, col_flood_13_g, step=10, confidence=0.85)\n",
    "print cnn_model.evaluate(x=col_flood_13_g, y=to_categorical(col_flood_13.df.label))"
   ]
  },
  {
   "cell_type": "code",
   "execution_count": 176,
   "metadata": {
    "scrolled": true
   },
   "outputs": [
    {
     "name": "stdout",
     "output_type": "stream",
     "text": [
      "1079/1079 [==============================] - 3s 2ms/step\n",
      "[0.61980469172701336, 0.74884151998109794]\n",
      "1079/1079 [==============================] - 0s 129us/step\n",
      "[0.71965514017101562, 0.661723817797918]\n"
     ]
    }
   ],
   "source": [
    "cnn_model = load_model('cnn_unnormalized_unshuffle.h5')\n",
    "print cnn_model.evaluate(x=aus_fire_13_g, y=to_categorical(aus_fire_13.df.label))\n",
    "incremental_learning_det(cnn_model, aus_fire_13_g, step=10, confidence=0.85)\n",
    "print cnn_model.evaluate(x=aus_fire_13_g, y=to_categorical(aus_fire_13.df.label))"
   ]
  },
  {
   "cell_type": "code",
   "execution_count": 177,
   "metadata": {
    "scrolled": false
   },
   "outputs": [
    {
     "name": "stdout",
     "output_type": "stream",
     "text": [
      "1112/1112 [==============================] - 3s 3ms/step\n",
      "[0.62559654601186299, 0.7688848916575205]\n",
      "1112/1112 [==============================] - 0s 156us/step\n",
      "[0.64015784881097804, 0.75539568302442706]\n"
     ]
    }
   ],
   "source": [
    "cnn_model = load_model('cnn_unnormalized_unshuffle.h5')\n",
    "print cnn_model.evaluate(x=aus_flood_13_g, y=to_categorical(aus_flood_13.df.label))\n",
    "incremental_learning_det(cnn_model, aus_flood_13_g, step=10, confidence=0.85)\n",
    "print cnn_model.evaluate(x=aus_flood_13_g, y=to_categorical(aus_flood_13.df.label))"
   ]
  },
  {
   "cell_type": "code",
   "execution_count": 178,
   "metadata": {
    "scrolled": true
   },
   "outputs": [
    {
     "name": "stdout",
     "output_type": "stream",
     "text": [
      "917/917 [==============================] - 3s 3ms/step\n",
      "[0.58863933935290202, 0.78516902976883662]\n",
      "917/917 [==============================] - 0s 150us/step\n",
      "[0.5291610769968127, 0.80697928045672185]\n"
     ]
    }
   ],
   "source": [
    "######################try weighted label incremental learning####################################\n",
    "cnn_model = load_model('cnn_unnormalized_unshuffle.h5')\n",
    "print cnn_model.evaluate(x=col_flood_13_g, y=to_categorical(col_flood_13.df.label))\n",
    "incremental_learning_prob(cnn_model, col_flood_13_g, step=10, threshold=0.75)\n",
    "print cnn_model.evaluate(x=col_flood_13_g, y=to_categorical(col_flood_13.df.label))"
   ]
  },
  {
   "cell_type": "code",
   "execution_count": 179,
   "metadata": {
    "scrolled": true
   },
   "outputs": [
    {
     "name": "stdout",
     "output_type": "stream",
     "text": [
      "1079/1079 [==============================] - 3s 3ms/step\n",
      "[0.61980469172701336, 0.74884151998109794]\n",
      "1079/1079 [==============================] - 0s 138us/step\n",
      "[0.70254257622419181, 0.66821130726268929]\n"
     ]
    }
   ],
   "source": [
    "cnn_model = load_model('cnn_unnormalized_unshuffle.h5')\n",
    "print cnn_model.evaluate(x=aus_fire_13_g, y=to_categorical(aus_fire_13.df.label))\n",
    "incremental_learning_prob(cnn_model, aus_fire_13_g, step=10, threshold=0.75)\n",
    "print cnn_model.evaluate(x=aus_fire_13_g, y=to_categorical(aus_fire_13.df.label))"
   ]
  },
  {
   "cell_type": "code",
   "execution_count": 180,
   "metadata": {},
   "outputs": [
    {
     "name": "stdout",
     "output_type": "stream",
     "text": [
      "1112/1112 [==============================] - 3s 3ms/step\n",
      "[0.62559654601186299, 0.7688848916575205]\n",
      "1112/1112 [==============================] - 0s 120us/step\n",
      "[0.61845626548039823, 0.76258992848636431]\n"
     ]
    }
   ],
   "source": [
    "cnn_model = load_model('cnn_unnormalized_unshuffle.h5')\n",
    "print cnn_model.evaluate(x=aus_flood_13_g, y=to_categorical(aus_flood_13.df.label))\n",
    "incremental_learning_prob(cnn_model, aus_flood_13_g, step=10, threshold=0.75)\n",
    "print cnn_model.evaluate(x=aus_flood_13_g, y=to_categorical(aus_flood_13.df.label))"
   ]
  },
  {
   "cell_type": "code",
   "execution_count": 231,
   "metadata": {},
   "outputs": [
    {
     "data": {
      "image/png": "[encoded data removed]",
      "text/plain": [
       "<Figure size 1152x432 with 2 Axes>"
      ]
     },
     "metadata": {},
     "output_type": "display_data"
    }
   ],
   "source": [
    "plt.figure(figsize=(16,6))\n",
    "plt.suptitle('Performance of CNN w/o data shuffle')\n",
    "plt.subplot(121)\n",
    "n_epoch = len(history.history['acc'])\n",
    "plt.plot(range(1, n_epoch+1), history.history['loss'], label='loss')\n",
    "plt.plot(range(1, n_epoch+1), history.history['val_loss'], label='val_loss')\n",
    "plt.xlabel('epoch')\n",
    "plt.ylabel('loss')\n",
    "plt.legend()\n",
    "plt.subplot(122)\n",
    "plt.plot(range(1, n_epoch+1), history.history['acc'], label='acc')\n",
    "plt.plot(range(1, n_epoch+1), history.history['val_acc'], label='val_acc')\n",
    "plt.xlabel('epoch')\n",
    "plt.ylabel('acc')\n",
    "plt.legend()\n",
    "plt.show()"
   ]
  },
  {
   "cell_type": "code",
   "execution_count": 228,
   "metadata": {},
   "outputs": [
    {
     "data": {
      "image/png": "[encoded data removed]",
      "text/plain": [
       "<Figure size 432x288 with 1 Axes>"
      ]
     },
     "metadata": {},
     "output_type": "display_data"
    }
   ],
   "source": [
    "p, r, f = metric_drawing('CNN w/ shuffling', path='cnn_unnormalized_shuffle.h5')"
   ]
  },
  {
   "cell_type": "code",
   "execution_count": 229,
   "metadata": {},
   "outputs": [
    {
     "name": "stdout",
     "output_type": "stream",
     "text": [
      "[0.8505586592178771, 0.72928176795580113, 0.78393351800554012] [0.88133140376266283, 0.87707641196013286, 0.85112781954887218] [0.86567164179104483, 0.79638009049773761, 0.81614996395097328]\n"
     ]
    }
   ],
   "source": [
    "print p, r, f"
   ]
  },
  {
   "cell_type": "code",
   "execution_count": 253,
   "metadata": {},
   "outputs": [],
   "source": [
    "cnn_model2 = create_cnn_model([8,4],[3,2],3, 0.2, 0.05, 25)"
   ]
  },
  {
   "cell_type": "code",
   "execution_count": 254,
   "metadata": {
    "scrolled": true
   },
   "outputs": [
    {
     "name": "stdout",
     "output_type": "stream",
     "text": [
      "Train on 781 samples, validate on 336 samples\n",
      "Epoch 1/10\n",
      "781/781 [==============================] - 9s 12ms/step - loss: 1.5617 - acc: 0.5621 - val_loss: 1.4984 - val_acc: 0.5952\n",
      "Epoch 2/10\n",
      "781/781 [==============================] - 0s 330us/step - loss: 1.4660 - acc: 0.5723 - val_loss: 1.4089 - val_acc: 0.6101\n",
      "Epoch 3/10\n",
      "781/781 [==============================] - 0s 320us/step - loss: 1.3794 - acc: 0.5698 - val_loss: 1.3302 - val_acc: 0.5952\n",
      "Epoch 4/10\n",
      "781/781 [==============================] - 0s 353us/step - loss: 1.3030 - acc: 0.5826 - val_loss: 1.2597 - val_acc: 0.5893\n",
      "Epoch 5/10\n",
      "781/781 [==============================] - 0s 317us/step - loss: 1.2338 - acc: 0.5787 - val_loss: 1.1974 - val_acc: 0.5893\n",
      "Epoch 6/10\n",
      "781/781 [==============================] - 0s 332us/step - loss: 1.1751 - acc: 0.5928 - val_loss: 1.1415 - val_acc: 0.5952\n",
      "Epoch 7/10\n",
      "781/781 [==============================] - 0s 372us/step - loss: 1.1206 - acc: 0.5980 - val_loss: 1.0932 - val_acc: 0.5923\n",
      "Epoch 8/10\n",
      "781/781 [==============================] - 0s 321us/step - loss: 1.0767 - acc: 0.6018 - val_loss: 1.0497 - val_acc: 0.5952\n",
      "Epoch 9/10\n",
      "781/781 [==============================] - 0s 310us/step - loss: 1.0364 - acc: 0.5864 - val_loss: 1.0114 - val_acc: 0.6012\n",
      "Epoch 10/10\n",
      "781/781 [==============================] - 0s 318us/step - loss: 0.9984 - acc: 0.5864 - val_loss: 0.9770 - val_acc: 0.6012\n",
      "Train on 781 samples, validate on 336 samples\n",
      "Epoch 1/10\n",
      "781/781 [==============================] - 0s 298us/step - loss: 0.9630 - acc: 0.5954 - val_loss: 0.9479 - val_acc: 0.5685\n",
      "Epoch 2/10\n",
      "781/781 [==============================] - 0s 282us/step - loss: 0.9350 - acc: 0.6082 - val_loss: 0.9207 - val_acc: 0.5744\n",
      "Epoch 3/10\n",
      "781/781 [==============================] - 0s 270us/step - loss: 0.9100 - acc: 0.6236 - val_loss: 0.8967 - val_acc: 0.5685\n",
      "Epoch 4/10\n",
      "781/781 [==============================] - 0s 273us/step - loss: 0.8871 - acc: 0.6044 - val_loss: 0.8754 - val_acc: 0.5625\n",
      "Epoch 5/10\n",
      "781/781 [==============================] - 0s 277us/step - loss: 0.8645 - acc: 0.5980 - val_loss: 0.8555 - val_acc: 0.5625\n",
      "Epoch 6/10\n",
      "781/781 [==============================] - 0s 272us/step - loss: 0.8440 - acc: 0.6044 - val_loss: 0.8372 - val_acc: 0.5655\n",
      "Epoch 7/10\n",
      "781/781 [==============================] - 0s 285us/step - loss: 0.8266 - acc: 0.6069 - val_loss: 0.8194 - val_acc: 0.5685\n",
      "Epoch 8/10\n",
      "781/781 [==============================] - 0s 272us/step - loss: 0.8094 - acc: 0.6146 - val_loss: 0.8018 - val_acc: 0.5625\n",
      "Epoch 9/10\n",
      "781/781 [==============================] - 0s 269us/step - loss: 0.7910 - acc: 0.6120 - val_loss: 0.7853 - val_acc: 0.5655\n",
      "Epoch 10/10\n",
      "781/781 [==============================] - 0s 270us/step - loss: 0.7787 - acc: 0.6287 - val_loss: 0.7682 - val_acc: 0.6131\n",
      "Train on 781 samples, validate on 336 samples\n",
      "Epoch 1/10\n",
      "781/781 [==============================] - 0s 320us/step - loss: 0.7639 - acc: 0.6466 - val_loss: 0.7434 - val_acc: 0.6815\n",
      "Epoch 2/10\n",
      "781/781 [==============================] - 0s 311us/step - loss: 0.7454 - acc: 0.6748 - val_loss: 0.7271 - val_acc: 0.6756\n",
      "Epoch 3/10\n",
      "781/781 [==============================] - 0s 307us/step - loss: 0.7329 - acc: 0.6530 - val_loss: 0.7137 - val_acc: 0.7351\n",
      "Epoch 4/10\n",
      "781/781 [==============================] - 0s 334us/step - loss: 0.7186 - acc: 0.6889 - val_loss: 0.6994 - val_acc: 0.7470\n",
      "Epoch 5/10\n",
      "781/781 [==============================] - 0s 337us/step - loss: 0.7031 - acc: 0.7029 - val_loss: 0.6878 - val_acc: 0.7411\n",
      "Epoch 6/10\n",
      "781/781 [==============================] - 0s 342us/step - loss: 0.6968 - acc: 0.7157 - val_loss: 0.6744 - val_acc: 0.7500\n",
      "Epoch 7/10\n",
      "781/781 [==============================] - 0s 317us/step - loss: 0.6800 - acc: 0.7324 - val_loss: 0.6648 - val_acc: 0.7649\n",
      "Epoch 8/10\n",
      "781/781 [==============================] - 0s 399us/step - loss: 0.6708 - acc: 0.7350 - val_loss: 0.6539 - val_acc: 0.7589\n",
      "Epoch 9/10\n",
      "781/781 [==============================] - 0s 320us/step - loss: 0.6541 - acc: 0.7375 - val_loss: 0.6482 - val_acc: 0.7768\n",
      "Epoch 10/10\n",
      "781/781 [==============================] - 0s 363us/step - loss: 0.6501 - acc: 0.7670 - val_loss: 0.6368 - val_acc: 0.7768\n",
      "Train on 781 samples, validate on 336 samples\n",
      "Epoch 1/10\n",
      "781/781 [==============================] - 1s 703us/step - loss: 0.6527 - acc: 0.7580 - val_loss: 0.6316 - val_acc: 0.7738\n",
      "Epoch 2/10\n",
      "781/781 [==============================] - 1s 706us/step - loss: 0.6412 - acc: 0.7580 - val_loss: 0.6266 - val_acc: 0.7738\n",
      "Epoch 3/10\n",
      "781/781 [==============================] - 0s 392us/step - loss: 0.6324 - acc: 0.7631 - val_loss: 0.6234 - val_acc: 0.7738\n",
      "Epoch 4/10\n",
      "781/781 [==============================] - 0s 362us/step - loss: 0.6198 - acc: 0.7759 - val_loss: 0.6210 - val_acc: 0.7827\n",
      "Epoch 5/10\n",
      "781/781 [==============================] - 0s 373us/step - loss: 0.6185 - acc: 0.7708 - val_loss: 0.6159 - val_acc: 0.7798\n",
      "Epoch 6/10\n",
      "781/781 [==============================] - 0s 353us/step - loss: 0.6054 - acc: 0.7823 - val_loss: 0.6139 - val_acc: 0.7887\n",
      "Epoch 7/10\n",
      "781/781 [==============================] - 0s 360us/step - loss: 0.6008 - acc: 0.7977 - val_loss: 0.6108 - val_acc: 0.7887\n",
      "Epoch 8/10\n",
      "781/781 [==============================] - 0s 345us/step - loss: 0.5961 - acc: 0.7900 - val_loss: 0.6078 - val_acc: 0.7857\n",
      "Epoch 9/10\n",
      "781/781 [==============================] - 0s 386us/step - loss: 0.5898 - acc: 0.7951 - val_loss: 0.6028 - val_acc: 0.7857\n",
      "Epoch 10/10\n",
      "781/781 [==============================] - 0s 390us/step - loss: 0.5873 - acc: 0.7939 - val_loss: 0.5996 - val_acc: 0.7857\n",
      "Train on 781 samples, validate on 336 samples\n",
      "Epoch 1/10\n",
      "781/781 [==============================] - 0s 498us/step - loss: 0.6028 - acc: 0.7772 - val_loss: 0.5793 - val_acc: 0.8065\n",
      "Epoch 2/10\n",
      "781/781 [==============================] - 0s 368us/step - loss: 0.5859 - acc: 0.7875 - val_loss: 0.5728 - val_acc: 0.7887\n",
      "Epoch 3/10\n",
      "781/781 [==============================] - 0s 352us/step - loss: 0.5908 - acc: 0.7913 - val_loss: 0.5741 - val_acc: 0.8065\n",
      "Epoch 4/10\n",
      "781/781 [==============================] - 0s 526us/step - loss: 0.5796 - acc: 0.7964 - val_loss: 0.5713 - val_acc: 0.7976\n",
      "Epoch 5/10\n",
      "781/781 [==============================] - 0s 429us/step - loss: 0.5784 - acc: 0.8015 - val_loss: 0.5707 - val_acc: 0.7917\n",
      "Epoch 6/10\n",
      "781/781 [==============================] - 0s 363us/step - loss: 0.5742 - acc: 0.7849 - val_loss: 0.5694 - val_acc: 0.8065\n",
      "Epoch 7/10\n",
      "781/781 [==============================] - 0s 342us/step - loss: 0.5698 - acc: 0.7913 - val_loss: 0.5725 - val_acc: 0.8155\n",
      "Epoch 8/10\n",
      "781/781 [==============================] - 0s 463us/step - loss: 0.5612 - acc: 0.7964 - val_loss: 0.5670 - val_acc: 0.7887\n",
      "Epoch 9/10\n",
      "781/781 [==============================] - 0s 384us/step - loss: 0.5683 - acc: 0.8041 - val_loss: 0.5710 - val_acc: 0.8036\n",
      "Epoch 10/10\n",
      "781/781 [==============================] - 0s 372us/step - loss: 0.5696 - acc: 0.8054 - val_loss: 0.5669 - val_acc: 0.7798\n",
      "Train on 781 samples, validate on 336 samples\n",
      "Epoch 1/10\n",
      "781/781 [==============================] - 0s 374us/step - loss: 0.5539 - acc: 0.8054 - val_loss: 0.5804 - val_acc: 0.7738\n",
      "Epoch 2/10\n",
      "781/781 [==============================] - 0s 358us/step - loss: 0.5549 - acc: 0.8054 - val_loss: 0.6034 - val_acc: 0.7440\n",
      "Epoch 3/10\n",
      "781/781 [==============================] - 0s 365us/step - loss: 0.5520 - acc: 0.8067 - val_loss: 0.5838 - val_acc: 0.7887\n",
      "Epoch 4/10\n",
      "781/781 [==============================] - 0s 348us/step - loss: 0.5543 - acc: 0.7951 - val_loss: 0.5910 - val_acc: 0.7679\n",
      "Train on 781 samples, validate on 336 samples\n",
      "Epoch 1/10\n",
      "781/781 [==============================] - 0s 344us/step - loss: 0.5737 - acc: 0.7798 - val_loss: 0.5428 - val_acc: 0.8095\n",
      "Epoch 2/10\n",
      "781/781 [==============================] - 0s 378us/step - loss: 0.5686 - acc: 0.7990 - val_loss: 0.5492 - val_acc: 0.8095\n",
      "Epoch 3/10\n",
      "781/781 [==============================] - 0s 362us/step - loss: 0.5623 - acc: 0.8067 - val_loss: 0.5467 - val_acc: 0.8036\n",
      "Train on 781 samples, validate on 336 samples\n",
      "Epoch 1/10\n",
      "781/781 [==============================] - 0s 361us/step - loss: 0.5477 - acc: 0.8054 - val_loss: 0.5440 - val_acc: 0.8125\n",
      "Epoch 2/10\n"
     ]
    },
    {
     "name": "stdout",
     "output_type": "stream",
     "text": [
      "781/781 [==============================] - 0s 358us/step - loss: 0.5555 - acc: 0.8092 - val_loss: 0.5477 - val_acc: 0.8155\n",
      "Epoch 3/10\n",
      "781/781 [==============================] - 0s 351us/step - loss: 0.5618 - acc: 0.7849 - val_loss: 0.5484 - val_acc: 0.8244\n",
      "Train on 781 samples, validate on 336 samples\n",
      "Epoch 1/10\n",
      "781/781 [==============================] - 0s 343us/step - loss: 0.5499 - acc: 0.8054 - val_loss: 0.5297 - val_acc: 0.8274\n",
      "Epoch 2/10\n",
      "781/781 [==============================] - 0s 376us/step - loss: 0.5489 - acc: 0.8079 - val_loss: 0.5313 - val_acc: 0.8155\n",
      "Epoch 3/10\n",
      "781/781 [==============================] - 0s 344us/step - loss: 0.5348 - acc: 0.8246 - val_loss: 0.5331 - val_acc: 0.8244\n",
      "Train on 781 samples, validate on 336 samples\n",
      "Epoch 1/10\n",
      "781/781 [==============================] - 0s 331us/step - loss: 0.5700 - acc: 0.7772 - val_loss: 0.4981 - val_acc: 0.8393\n",
      "Epoch 2/10\n",
      "781/781 [==============================] - 0s 333us/step - loss: 0.5640 - acc: 0.8003 - val_loss: 0.5022 - val_acc: 0.8333\n",
      "Epoch 3/10\n",
      "781/781 [==============================] - 0s 335us/step - loss: 0.5613 - acc: 0.8143 - val_loss: 0.5043 - val_acc: 0.8393\n"
     ]
    }
   ],
   "source": [
    "history2 = shuffle_train(cnn_model2, col_fire_12, col_fire_12_g, 'cnn_unnormalized_shuffle.h5')"
   ]
  },
  {
   "cell_type": "code",
   "execution_count": 255,
   "metadata": {
    "scrolled": true
   },
   "outputs": [
    {
     "data": {
      "image/png": "[encoded data removed]",
      "text/plain": [
       "<Figure size 1152x432 with 2 Axes>"
      ]
     },
     "metadata": {},
     "output_type": "display_data"
    }
   ],
   "source": [
    "plt.figure(figsize=(16,6))\n",
    "plt.suptitle('Performance of CNN w/ data shuffle')\n",
    "plt.subplot(121)\n",
    "n_epoch2 = len(history2['acc'])\n",
    "plt.plot(range(1, n_epoch2+1), history2['loss'], label='loss')\n",
    "plt.plot(range(1, n_epoch2+1), history2['val_loss'], label='val_loss')\n",
    "plt.xlabel('epoch')\n",
    "plt.ylabel('loss')\n",
    "plt.legend()\n",
    "plt.subplot(122)\n",
    "plt.plot(range(1, n_epoch2+1), history2['acc'], label='acc')\n",
    "plt.plot(range(1, n_epoch2+1), history2['val_acc'], label='val_acc')\n",
    "plt.xlabel('epoch')\n",
    "plt.ylabel('acc')\n",
    "plt.legend()\n",
    "plt.show()"
   ]
  },
  {
   "cell_type": "code",
   "execution_count": 256,
   "metadata": {
    "scrolled": true
   },
   "outputs": [
    {
     "data": {
      "image/png": "[encoded data removed]",
      "text/plain": [
       "<Figure size 432x288 with 1 Axes>"
      ]
     },
     "metadata": {},
     "output_type": "display_data"
    }
   ],
   "source": [
    "p, r, f = metric_drawing('CNN w/ shuffling', path='cnn_unnormalized_shuffle.h5')"
   ]
  },
  {
   "cell_type": "code",
   "execution_count": 251,
   "metadata": {},
   "outputs": [
    {
     "name": "stdout",
     "output_type": "stream",
     "text": [
      "[0.87070376432078556, 0.71296296296296291, 0.82504288164665518] [0.76989869753979745, 0.76744186046511631, 0.72330827067669168] [0.81720430107526887, 0.73919999999999997, 0.77083333333333326]\n"
     ]
    }
   ],
   "source": [
    "print p, r, f"
   ]
  },
  {
   "cell_type": "code",
   "execution_count": 200,
   "metadata": {},
   "outputs": [
    {
     "name": "stdout",
     "output_type": "stream",
     "text": [
      "917/917 [==============================] - 3s 3ms/step\n",
      "[0.56928150662939059, 0.79389313003099082]\n",
      "917/917 [==============================] - 0s 151us/step\n",
      "[0.53154476381830196, 0.7949836424418858]\n"
     ]
    }
   ],
   "source": [
    "######################try hard label incremental learning####################################\n",
    "cnn_model = load_model('cnn_unnormalized_shuffle.h5')\n",
    "print cnn_model.evaluate(x=col_flood_13_g, y=to_categorical(col_flood_13.df.label))\n",
    "incremental_learning_det(cnn_model, col_flood_13_g, step=10, confidence=0.8)\n",
    "print cnn_model.evaluate(x=col_flood_13_g, y=to_categorical(col_flood_13.df.label))"
   ]
  },
  {
   "cell_type": "code",
   "execution_count": 201,
   "metadata": {},
   "outputs": [
    {
     "name": "stdout",
     "output_type": "stream",
     "text": [
      "1079/1079 [==============================] - 3s 3ms/step\n",
      "[0.62887721270516139, 0.74976830359848701]\n",
      "1079/1079 [==============================] - 0s 135us/step\n",
      "[0.72829406862462198, 0.60982391069728648]\n"
     ]
    }
   ],
   "source": [
    "cnn_model = load_model('cnn_unnormalized_shuffle.h5')\n",
    "print cnn_model.evaluate(x=aus_fire_13_g, y=to_categorical(aus_fire_13.df.label))\n",
    "incremental_learning_det(cnn_model, aus_fire_13_g, step=10, confidence=0.8)\n",
    "print cnn_model.evaluate(x=aus_fire_13_g, y=to_categorical(aus_fire_13.df.label))"
   ]
  },
  {
   "cell_type": "code",
   "execution_count": 202,
   "metadata": {
    "scrolled": true
   },
   "outputs": [
    {
     "name": "stdout",
     "output_type": "stream",
     "text": [
      "1112/1112 [==============================] - 3s 3ms/step\n",
      "[0.6217174362793243, 0.77068345280859962]\n",
      "1112/1112 [==============================] - 0s 134us/step\n",
      "[0.65512704506194852, 0.70143884934967371]\n"
     ]
    }
   ],
   "source": [
    "cnn_model = load_model('cnn_unnormalized_shuffle.h5')\n",
    "print cnn_model.evaluate(x=aus_flood_13_g, y=to_categorical(aus_flood_13.df.label))\n",
    "incremental_learning_det(cnn_model, aus_flood_13_g, step=10, confidence=0.8)\n",
    "print cnn_model.evaluate(x=aus_flood_13_g, y=to_categorical(aus_flood_13.df.label))"
   ]
  },
  {
   "cell_type": "code",
   "execution_count": 198,
   "metadata": {},
   "outputs": [
    {
     "name": "stdout",
     "output_type": "stream",
     "text": [
      "917/917 [==============================] - 3s 3ms/step\n",
      "[0.56928150662939059, 0.79389313003099082]\n",
      "917/917 [==============================] - 0s 155us/step\n",
      "[0.52765885996454542, 0.79716466752367421]\n"
     ]
    }
   ],
   "source": [
    "######################try weighted label incremental learning####################################\n",
    "cnn_model = load_model('cnn_unnormalized_shuffle.h5')\n",
    "print cnn_model.evaluate(x=col_flood_13_g, y=to_categorical(col_flood_13.df.label))\n",
    "incremental_learning_prob(cnn_model, col_flood_13_g, step=10, threshold=0.8)\n",
    "print cnn_model.evaluate(x=col_flood_13_g, y=to_categorical(col_flood_13.df.label))"
   ]
  },
  {
   "cell_type": "code",
   "execution_count": 197,
   "metadata": {
    "scrolled": true
   },
   "outputs": [
    {
     "name": "stdout",
     "output_type": "stream",
     "text": [
      "1079/1079 [==============================] - 3s 3ms/step\n",
      "[0.62887721270516139, 0.74976830359848701]\n",
      "1079/1079 [==============================] - 0s 147us/step\n",
      "[0.67435725874321895, 0.63855421736463558]\n"
     ]
    }
   ],
   "source": [
    "cnn_model = load_model('cnn_unnormalized_shuffle.h5')\n",
    "print cnn_model.evaluate(x=aus_fire_13_g, y=to_categorical(aus_fire_13.df.label))\n",
    "incremental_learning_prob(cnn_model, aus_fire_13_g, step=10, threshold=0.8)\n",
    "print cnn_model.evaluate(x=aus_fire_13_g, y=to_categorical(aus_fire_13.df.label))"
   ]
  },
  {
   "cell_type": "code",
   "execution_count": 199,
   "metadata": {
    "scrolled": false
   },
   "outputs": [
    {
     "name": "stdout",
     "output_type": "stream",
     "text": [
      "1112/1112 [==============================] - 3s 3ms/step\n",
      "[0.6217174362793243, 0.77068345280859962]\n",
      "1112/1112 [==============================] - 0s 153us/step\n",
      "[0.62506225983873542, 0.72032374057838389]\n"
     ]
    }
   ],
   "source": [
    "cnn_model = load_model('cnn_unnormalized_shuffle.h5')\n",
    "print cnn_model.evaluate(x=aus_flood_13_g, y=to_categorical(aus_flood_13.df.label))\n",
    "incremental_learning_prob(cnn_model, aus_flood_13_g, step=10, threshold=0.8)\n",
    "print cnn_model.evaluate(x=aus_flood_13_g, y=to_categorical(aus_flood_13.df.label))"
   ]
  },
  {
   "cell_type": "code",
   "execution_count": null,
   "metadata": {},
   "outputs": [],
   "source": [
    "keras.utils.plot_model(model, to_file='model.png', show_shapes=False, show_layer_names=True, rankdir='TB') # or'LR'\n",
    "\n",
    "from IPython.display import SVG\n",
    "from keras.utils.vis_utils import model_to_dot\n",
    "SVG(model_to_dot(model).create(prog='dot', format='svg'))"
   ]
  }
 ],
 "metadata": {
  "kernelspec": {
   "display_name": "Python 2",
   "language": "python",
   "name": "python2"
  },
  "language_info": {
   "codemirror_mode": {
    "name": "ipython",
    "version": 2
   },
   "file_extension": ".py",
   "mimetype": "text/x-python",
   "name": "python",
   "nbconvert_exporter": "python",
   "pygments_lexer": "ipython2",
   "version": "2.7.14"
  }
 },
 "nbformat": 4,
 "nbformat_minor": 2
}
