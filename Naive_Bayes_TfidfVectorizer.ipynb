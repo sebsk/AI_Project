{
 "cells": [
  {
   "cell_type": "code",
   "execution_count": 239,
   "metadata": {},
   "outputs": [],
   "source": [
    "from sklearn.naive_bayes import MultinomialNB\n",
    "import pandas as pd\n",
    "import numpy as np\n",
    "import matplotlib.pyplot as plt\n",
    "from sklearn.feature_extraction.text import CountVectorizer\n",
    "from sklearn.feature_extraction.text import TfidfVectorizer\n",
    "from sklearn.feature_extraction.text import HashingVectorizer\n",
    "from sklearn.model_selection import train_test_split\n",
    "from sklearn import metrics\n",
    "# plt.style.use('ggplot')\n",
    "# % matplotlib inline"
   ]
  },
  {
   "cell_type": "code",
   "execution_count": 240,
   "metadata": {},
   "outputs": [
    {
     "data": {
      "text/plain": [
       "Related - but not informative    512\n",
       "Related and informative          417\n",
       "Not applicable                    52\n",
       "Not related                       19\n",
       "Name: Informativeness, dtype: int64"
      ]
     },
     "execution_count": 240,
     "metadata": {},
     "output_type": "execute_result"
    }
   ],
   "source": [
    "df = pd.read_csv('CrisisLexT26/2013_Boston_bombings/2013_Boston_bombings-tweets_labeled.csv') # change the file location if needed\n",
    "\n",
    "col_dict = {}\n",
    "for old_feature in df.columns.values:\n",
    "    col_dict.update({old_feature: old_feature.replace(' ','')})\n",
    "df.rename(columns=col_dict, inplace=True)\n",
    "\n",
    "df.Informativeness.value_counts()"
   ]
  },
  {
   "cell_type": "code",
   "execution_count": 241,
   "metadata": {},
   "outputs": [
    {
     "data": {
      "text/plain": [
       "Related - but not informative    509\n",
       "Related and informative          392\n",
       "Not related                       19\n",
       "Name: Informativeness, dtype: int64"
      ]
     },
     "execution_count": 241,
     "metadata": {},
     "output_type": "execute_result"
    }
   ],
   "source": [
    "df = df[df.InformationSource != 'Government']\n",
    "df = df[df.Informativeness!='Not applicable'].reset_index(drop=True)\n",
    "df.Informativeness.value_counts()"
   ]
  },
  {
   "cell_type": "code",
   "execution_count": 242,
   "metadata": {},
   "outputs": [
    {
     "data": {
      "text/html": [
       "<div>\n",
       "<style scoped>\n",
       "    .dataframe tbody tr th:only-of-type {\n",
       "        vertical-align: middle;\n",
       "    }\n",
       "\n",
       "    .dataframe tbody tr th {\n",
       "        vertical-align: top;\n",
       "    }\n",
       "\n",
       "    .dataframe thead th {\n",
       "        text-align: right;\n",
       "    }\n",
       "</style>\n",
       "<table border=\"1\" class=\"dataframe\">\n",
       "  <thead>\n",
       "    <tr style=\"text-align: right;\">\n",
       "      <th></th>\n",
       "      <th>TweetID</th>\n",
       "      <th>TweetText</th>\n",
       "      <th>InformationSource</th>\n",
       "      <th>InformationType</th>\n",
       "      <th>Informativeness</th>\n",
       "      <th>label</th>\n",
       "    </tr>\n",
       "  </thead>\n",
       "  <tbody>\n",
       "    <tr>\n",
       "      <th>0</th>\n",
       "      <td>323808103780990976</td>\n",
       "      <td>RT @VitoCaro7: Good luck to @kyle_piersma toda...</td>\n",
       "      <td>Not labeled</td>\n",
       "      <td>Not labeled</td>\n",
       "      <td>Not related</td>\n",
       "      <td>Not related or not informative</td>\n",
       "    </tr>\n",
       "    <tr>\n",
       "      <th>1</th>\n",
       "      <td>323873597825355778</td>\n",
       "      <td>RT @DianneG: wow. RT @AntDeRosa Photo captures...</td>\n",
       "      <td>Outsiders</td>\n",
       "      <td>Other Useful Information</td>\n",
       "      <td>Related and informative</td>\n",
       "      <td>Related and informative</td>\n",
       "    </tr>\n",
       "    <tr>\n",
       "      <th>2</th>\n",
       "      <td>323874466063085568</td>\n",
       "      <td>Awful scenes at the #BostonMarathon. The photo...</td>\n",
       "      <td>Not applicable</td>\n",
       "      <td>Other Useful Information</td>\n",
       "      <td>Related - but not informative</td>\n",
       "      <td>Not related or not informative</td>\n",
       "    </tr>\n",
       "    <tr>\n",
       "      <th>3</th>\n",
       "      <td>323874558325161984</td>\n",
       "      <td>Holy shit RT @theoriginalwak: What the fuck ju...</td>\n",
       "      <td>Outsiders</td>\n",
       "      <td>Other Useful Information</td>\n",
       "      <td>Related - but not informative</td>\n",
       "      <td>Not related or not informative</td>\n",
       "    </tr>\n",
       "    <tr>\n",
       "      <th>4</th>\n",
       "      <td>323875384603058176</td>\n",
       "      <td>RT @russian_market: BOMB EXPLOSION IN BOSTON (...</td>\n",
       "      <td>Media</td>\n",
       "      <td>Other Useful Information</td>\n",
       "      <td>Related and informative</td>\n",
       "      <td>Related and informative</td>\n",
       "    </tr>\n",
       "  </tbody>\n",
       "</table>\n",
       "</div>"
      ],
      "text/plain": [
       "              TweetID                                          TweetText  \\\n",
       "0  323808103780990976  RT @VitoCaro7: Good luck to @kyle_piersma toda...   \n",
       "1  323873597825355778  RT @DianneG: wow. RT @AntDeRosa Photo captures...   \n",
       "2  323874466063085568  Awful scenes at the #BostonMarathon. The photo...   \n",
       "3  323874558325161984  Holy shit RT @theoriginalwak: What the fuck ju...   \n",
       "4  323875384603058176  RT @russian_market: BOMB EXPLOSION IN BOSTON (...   \n",
       "\n",
       "  InformationSource           InformationType                Informativeness  \\\n",
       "0       Not labeled               Not labeled                    Not related   \n",
       "1         Outsiders  Other Useful Information        Related and informative   \n",
       "2    Not applicable  Other Useful Information  Related - but not informative   \n",
       "3         Outsiders  Other Useful Information  Related - but not informative   \n",
       "4             Media  Other Useful Information        Related and informative   \n",
       "\n",
       "                            label  \n",
       "0  Not related or not informative  \n",
       "1         Related and informative  \n",
       "2  Not related or not informative  \n",
       "3  Not related or not informative  \n",
       "4         Related and informative  "
      ]
     },
     "execution_count": 242,
     "metadata": {},
     "output_type": "execute_result"
    }
   ],
   "source": [
    "label = ['Not related or not informative'] * df.shape[0]\n",
    "idx = df.index[df.Informativeness == 'Related and informative'].tolist()\n",
    "for i in idx: label[i] = 'Related and informative'\n",
    "df['label'] = pd.Series(label)\n",
    "\n",
    "df.head()"
   ]
  },
  {
   "cell_type": "code",
   "execution_count": 243,
   "metadata": {},
   "outputs": [],
   "source": [
    "split_percentage = 0.25\n",
    "X_train, X_test, y_train, y_test = train_test_split(df.TweetText, df.label, test_size=split_percentage, random_state=42) \n",
    "tfidf_vec = TfidfVectorizer(analyzer='word')\n",
    "X_tfidf_train = tfidf_vec.fit_transform(X_train)  \n",
    "X_tfidf_test = tfidf_vec.transform(X_test)"
   ]
  },
  {
   "cell_type": "code",
   "execution_count": 244,
   "metadata": {},
   "outputs": [
    {
     "name": "stdout",
     "output_type": "stream",
     "text": [
      "[0.73913043 0.8115942  0.82608696 0.84057971 0.76811594 0.86956522\n",
      " 0.76811594 0.8115942  0.8115942  0.82608696]\n",
      "Mean score: 0.807 (+/-0.012)\n",
      "Accuracy for training: 0.944927536232\n",
      "Accuracy for testing: 0.84347826087\n"
     ]
    }
   ],
   "source": [
    "mnb_tfidf = MultinomialNB(1)  \n",
    "mnb_tfidf.fit(X_tfidf_train, y_train)\n",
    "\n",
    "from sklearn.cross_validation import cross_val_score, KFold \n",
    "from scipy.stats import sem \n",
    "\n",
    "def evaluate_cross_validation(clf, X, y, K):\n",
    "    cv = KFold(len(y), K, shuffle=True, random_state=0)  \n",
    "    scores = cross_val_score(clf, X, y, cv=cv) \n",
    "    print scores\n",
    "    print (\"Mean score: {0:.3f} (+/-{1:.3f})\").format(np.mean(scores), sem(scores))\n",
    "\n",
    "evaluate_cross_validation(mnb_tfidf, X_tfidf_train, y_train, 10)\n",
    "\n",
    "print 'Accuracy for training: {}'.format(mnb_tfidf.score(X_tfidf_train, y_train))\n",
    "print 'Accuracy for testing: {}'.format(mnb_tfidf.score(X_tfidf_test, y_test))"
   ]
  },
  {
   "cell_type": "code",
   "execution_count": 245,
   "metadata": {},
   "outputs": [
    {
     "name": "stdout",
     "output_type": "stream",
     "text": [
      "Classification Report:\n",
      "                                precision    recall  f1-score   support\n",
      "\n",
      "Not related or not informative     0.8239    0.9424    0.8792       139\n",
      "       Related and informative     0.8873    0.6923    0.7778        91\n",
      "\n",
      "                   avg / total     0.8490    0.8435    0.8391       230\n",
      "\n",
      "Confusion Matrix:\n",
      "[[131   8]\n",
      " [ 28  63]]\n"
     ]
    }
   ],
   "source": [
    "y_tfidf_predict = mnb_tfidf.predict(X_tfidf_test) \n",
    "print \"Classification Report:\" \n",
    "print metrics.classification_report(y_test,y_tfidf_predict, digits=4) \n",
    "print \"Confusion Matrix:\" \n",
    "print metrics.confusion_matrix(y_test,y_tfidf_predict)"
   ]
  },
  {
   "cell_type": "markdown",
   "metadata": {},
   "source": [
    "### Add stop words"
   ]
  },
  {
   "cell_type": "code",
   "execution_count": 246,
   "metadata": {},
   "outputs": [],
   "source": [
    "tfidf_sw_vec = TfidfVectorizer(analyzer='word',stop_words = 'english')\n",
    "X_tfidf_sw_train = tfidf_sw_vec.fit_transform(X_train)  \n",
    "X_tfidf_sw_test = tfidf_sw_vec.transform(X_test)"
   ]
  },
  {
   "cell_type": "code",
   "execution_count": 247,
   "metadata": {},
   "outputs": [
    {
     "name": "stdout",
     "output_type": "stream",
     "text": [
      "[0.75362319 0.8115942  0.76811594 0.79710145 0.8115942  0.86956522\n",
      " 0.7826087  0.79710145 0.79710145 0.7826087 ]\n",
      "Mean score: 0.797 (+/-0.010)\n",
      "Accuracy for training: 0.963768115942\n",
      "Accuracy for testing: 0.839130434783\n"
     ]
    }
   ],
   "source": [
    "mnb_tfidf_sw = MultinomialNB(0.9)  \n",
    "mnb_tfidf_sw.fit(X_tfidf_sw_train, y_train)\n",
    "\n",
    "evaluate_cross_validation(mnb_tfidf_sw, X_tfidf_sw_train, y_train, 10)\n",
    "\n",
    "print 'Accuracy for training: {}'.format(mnb_tfidf_sw.score(X_tfidf_sw_train, y_train))\n",
    "print 'Accuracy for testing: {}'.format(mnb_tfidf_sw.score(X_tfidf_sw_test, y_test))"
   ]
  },
  {
   "cell_type": "code",
   "execution_count": 249,
   "metadata": {},
   "outputs": [
    {
     "name": "stdout",
     "output_type": "stream",
     "text": [
      "Classification Report:\n",
      "                                precision    recall  f1-score   support\n",
      "\n",
      "Not related or not informative     0.8446    0.8993    0.8711       139\n",
      "       Related and informative     0.8293    0.7473    0.7861        91\n",
      "\n",
      "                   avg / total     0.8385    0.8391    0.8375       230\n",
      "\n",
      "Confusion Matrix:\n",
      "[[125  14]\n",
      " [ 23  68]]\n"
     ]
    }
   ],
   "source": [
    "y_tfidf_sw_predict = mnb_tfidf_sw.predict(X_tfidf_sw_test) \n",
    "print \"Classification Report:\" \n",
    "print metrics.classification_report(y_test,y_tfidf_sw_predict,digits=4) \n",
    "print \"Confusion Matrix:\" \n",
    "print metrics.confusion_matrix(y_test,y_tfidf_sw_predict)"
   ]
  },
  {
   "cell_type": "markdown",
   "metadata": {},
   "source": [
    "### Token pattern"
   ]
  },
  {
   "cell_type": "code",
   "execution_count": 250,
   "metadata": {},
   "outputs": [],
   "source": [
    "tfidf_tp_vec = TfidfVectorizer(analyzer='word',stop_words = 'english',token_pattern=ur\"\\b[a-z0-9_\\-\\.]+[a-z][a-z0-9_\\-\\.]+\\b\")\n",
    "X_tfidf_tp_train = tfidf_tp_vec.fit_transform(X_train)  \n",
    "X_tfidf_tp_test = tfidf_tp_vec.transform(X_test)"
   ]
  },
  {
   "cell_type": "code",
   "execution_count": 251,
   "metadata": {},
   "outputs": [
    {
     "name": "stdout",
     "output_type": "stream",
     "text": [
      "[0.66666667 0.8115942  0.82608696 0.76811594 0.85507246 0.84057971\n",
      " 0.73913043 0.73913043 0.76811594 0.76811594]\n",
      "Mean score: 0.778 (+/-0.018)\n",
      "Accuracy for training: 0.93768115942\n",
      "Accuracy for testing: 0.839130434783\n"
     ]
    }
   ],
   "source": [
    "mnb_tfidf_tp = MultinomialNB(2.8)  \n",
    "mnb_tfidf_tp.fit(X_tfidf_tp_train, y_train)\n",
    "\n",
    "evaluate_cross_validation(mnb_tfidf_tp, X_tfidf_tp_train, y_train, 10)\n",
    "\n",
    "print 'Accuracy for training: {}'.format(mnb_tfidf_tp.score(X_tfidf_tp_train, y_train))\n",
    "print 'Accuracy for testing: {}'.format(mnb_tfidf_tp.score(X_tfidf_tp_test, y_test))"
   ]
  },
  {
   "cell_type": "markdown",
   "metadata": {},
   "source": [
    "### Pre-process"
   ]
  },
  {
   "cell_type": "code",
   "execution_count": 252,
   "metadata": {},
   "outputs": [
    {
     "data": {
      "text/html": [
       "<div>\n",
       "<style scoped>\n",
       "    .dataframe tbody tr th:only-of-type {\n",
       "        vertical-align: middle;\n",
       "    }\n",
       "\n",
       "    .dataframe tbody tr th {\n",
       "        vertical-align: top;\n",
       "    }\n",
       "\n",
       "    .dataframe thead th {\n",
       "        text-align: right;\n",
       "    }\n",
       "</style>\n",
       "<table border=\"1\" class=\"dataframe\">\n",
       "  <thead>\n",
       "    <tr style=\"text-align: right;\">\n",
       "      <th></th>\n",
       "      <th>TweetID</th>\n",
       "      <th>TweetText</th>\n",
       "      <th>InformationSource</th>\n",
       "      <th>InformationType</th>\n",
       "      <th>Informativeness</th>\n",
       "      <th>label</th>\n",
       "      <th>ProcessedText</th>\n",
       "    </tr>\n",
       "  </thead>\n",
       "  <tbody>\n",
       "    <tr>\n",
       "      <th>0</th>\n",
       "      <td>323808103780990976</td>\n",
       "      <td>RT @VitoCaro7: Good luck to @kyle_piersma toda...</td>\n",
       "      <td>Not labeled</td>\n",
       "      <td>Not labeled</td>\n",
       "      <td>Not related</td>\n",
       "      <td>Not related or not informative</td>\n",
       "      <td>rt @vitocaro7 : good luck @kyle_piersma today ...</td>\n",
       "    </tr>\n",
       "    <tr>\n",
       "      <th>1</th>\n",
       "      <td>323873597825355778</td>\n",
       "      <td>RT @DianneG: wow. RT @AntDeRosa Photo captures...</td>\n",
       "      <td>Outsiders</td>\n",
       "      <td>Other Useful Information</td>\n",
       "      <td>Related and informative</td>\n",
       "      <td>Related and informative</td>\n",
       "      <td>rt @dianneg : wow . rt @antderosa photo captur...</td>\n",
       "    </tr>\n",
       "    <tr>\n",
       "      <th>2</th>\n",
       "      <td>323874466063085568</td>\n",
       "      <td>Awful scenes at the #BostonMarathon. The photo...</td>\n",
       "      <td>Not applicable</td>\n",
       "      <td>Other Useful Information</td>\n",
       "      <td>Related - but not informative</td>\n",
       "      <td>Not related or not informative</td>\n",
       "      <td>awful scene #bostonmarathon . photo round pret...</td>\n",
       "    </tr>\n",
       "    <tr>\n",
       "      <th>3</th>\n",
       "      <td>323874558325161984</td>\n",
       "      <td>Holy shit RT @theoriginalwak: What the fuck ju...</td>\n",
       "      <td>Outsiders</td>\n",
       "      <td>Other Useful Information</td>\n",
       "      <td>Related - but not informative</td>\n",
       "      <td>Not related or not informative</td>\n",
       "      <td>holy shit rt @theoriginalwak : fuck happened ?...</td>\n",
       "    </tr>\n",
       "    <tr>\n",
       "      <th>4</th>\n",
       "      <td>323875384603058176</td>\n",
       "      <td>RT @russian_market: BOMB EXPLOSION IN BOSTON (...</td>\n",
       "      <td>Media</td>\n",
       "      <td>Other Useful Information</td>\n",
       "      <td>Related and informative</td>\n",
       "      <td>Related and informative</td>\n",
       "      <td>rt @russian_market : bomb elosion boston ( via...</td>\n",
       "    </tr>\n",
       "  </tbody>\n",
       "</table>\n",
       "</div>"
      ],
      "text/plain": [
       "              TweetID                                          TweetText  \\\n",
       "0  323808103780990976  RT @VitoCaro7: Good luck to @kyle_piersma toda...   \n",
       "1  323873597825355778  RT @DianneG: wow. RT @AntDeRosa Photo captures...   \n",
       "2  323874466063085568  Awful scenes at the #BostonMarathon. The photo...   \n",
       "3  323874558325161984  Holy shit RT @theoriginalwak: What the fuck ju...   \n",
       "4  323875384603058176  RT @russian_market: BOMB EXPLOSION IN BOSTON (...   \n",
       "\n",
       "  InformationSource           InformationType                Informativeness  \\\n",
       "0       Not labeled               Not labeled                    Not related   \n",
       "1         Outsiders  Other Useful Information        Related and informative   \n",
       "2    Not applicable  Other Useful Information  Related - but not informative   \n",
       "3         Outsiders  Other Useful Information  Related - but not informative   \n",
       "4             Media  Other Useful Information        Related and informative   \n",
       "\n",
       "                            label  \\\n",
       "0  Not related or not informative   \n",
       "1         Related and informative   \n",
       "2  Not related or not informative   \n",
       "3  Not related or not informative   \n",
       "4         Related and informative   \n",
       "\n",
       "                                       ProcessedText  \n",
       "0  rt @vitocaro7 : good luck @kyle_piersma today ...  \n",
       "1  rt @dianneg : wow . rt @antderosa photo captur...  \n",
       "2  awful scene #bostonmarathon . photo round pret...  \n",
       "3  holy shit rt @theoriginalwak : fuck happened ?...  \n",
       "4  rt @russian_market : bomb elosion boston ( via...  "
      ]
     },
     "execution_count": 252,
     "metadata": {},
     "output_type": "execute_result"
    }
   ],
   "source": [
    "from nltk.tokenize import TweetTokenizer\n",
    "from nltk.stem import WordNetLemmatizer\n",
    "from nltk.tokenize import regexp_tokenize\n",
    "from nltk.corpus import stopwords\n",
    "from sklearn.feature_extraction.text import HashingVectorizer\n",
    "import preprocessor as p\n",
    "\n",
    "emoji_re = \"['\\U0001F300-\\U0001F5FF'|'\\U0001F600-\\U0001F64F'|'\\U0001F680-\\U0001F6FF'|'\\u2600-\\u26FF\\u2700-\\u27BF']\"\n",
    "emojis = [regexp_tokenize(t, emoji_re) for t in df.TweetText]\n",
    "p.set_options(p.OPT.URL, p.OPT.EMOJI, p.OPT.SMILEY)\n",
    "all_tweets = [p.clean(t).lower() for t in df.TweetText]\n",
    "\n",
    "tknzr = TweetTokenizer()\n",
    "all_tokens = [tknzr.tokenize(t) for t in all_tweets]\n",
    "en_stop = set(stopwords.words('english'))\n",
    "lemmatizer = WordNetLemmatizer()\n",
    "processed_texts = []  # preprocessed tweets\n",
    "\n",
    "for i in range(len(all_tokens)):\n",
    "    processed_texts.append(' '.join([lemmatizer.lemmatize(t) for t in all_tokens[i] if t not in en_stop ]))\n",
    "\n",
    "df['ProcessedText'] = pd.Series(processed_texts)\n",
    "df.head()"
   ]
  },
  {
   "cell_type": "code",
   "execution_count": 253,
   "metadata": {},
   "outputs": [],
   "source": [
    "split_percentage = 0.25\n",
    "X_train2, X_test2, y_train2, y_test2 = train_test_split(df.ProcessedText, df.label, test_size=split_percentage, random_state=42) \n",
    "tfidf_pp_vec = TfidfVectorizer(analyzer='word')\n",
    "X_tfidf_pp_train = tfidf_pp_vec.fit_transform(X_train2)  \n",
    "X_tfidf_pp_test = tfidf_pp_vec.transform(X_test2)"
   ]
  },
  {
   "cell_type": "code",
   "execution_count": 254,
   "metadata": {},
   "outputs": [
    {
     "name": "stdout",
     "output_type": "stream",
     "text": [
      "[0.75362319 0.84057971 0.8115942  0.7826087  0.79710145 0.85507246\n",
      " 0.72463768 0.76811594 0.8115942  0.82608696]\n",
      "Mean score: 0.797 (+/-0.013)\n",
      "Accuracy for training: 0.959420289855\n",
      "Accuracy for testing: 0.847826086957\n"
     ]
    }
   ],
   "source": [
    "mnb_tfidf_pp = MultinomialNB(0.9)  \n",
    "mnb_tfidf_pp.fit(X_tfidf_pp_train, y_train2)\n",
    "\n",
    "evaluate_cross_validation(mnb_tfidf_pp, X_tfidf_pp_train, y_train2, 10)\n",
    "\n",
    "print 'Accuracy for training: {}'.format(mnb_tfidf_pp.score(X_tfidf_pp_train, y_train2))\n",
    "print 'Accuracy for testing: {}'.format(mnb_tfidf_pp.score(X_tfidf_pp_test, y_test2))"
   ]
  },
  {
   "cell_type": "code",
   "execution_count": 255,
   "metadata": {},
   "outputs": [
    {
     "name": "stdout",
     "output_type": "stream",
     "text": [
      "Classification Report:\n",
      "                                precision    recall  f1-score   support\n",
      "\n",
      "Not related or not informative     0.8662    0.8849    0.8754       139\n",
      "       Related and informative     0.8182    0.7912    0.8045        91\n",
      "\n",
      "                   avg / total     0.8472    0.8478    0.8474       230\n",
      "\n",
      "Confusion Matrix:\n",
      "[[123  16]\n",
      " [ 19  72]]\n"
     ]
    }
   ],
   "source": [
    "y_tfidf_pp_predict = mnb_tfidf_pp.predict(X_tfidf_pp_test) \n",
    "print \"Classification Report:\" \n",
    "print metrics.classification_report(y_test2,y_tfidf_pp_predict, digits=4) \n",
    "print \"Confusion Matrix:\" \n",
    "print metrics.confusion_matrix(y_test2,y_tfidf_pp_predict)"
   ]
  },
  {
   "cell_type": "markdown",
   "metadata": {},
   "source": [
    "### limit max features"
   ]
  },
  {
   "cell_type": "code",
   "execution_count": 256,
   "metadata": {},
   "outputs": [
    {
     "data": {
      "text/plain": [
       "(230, 2426)"
      ]
     },
     "execution_count": 256,
     "metadata": {},
     "output_type": "execute_result"
    }
   ],
   "source": [
    "X_tfidf_pp_test.shape"
   ]
  },
  {
   "cell_type": "code",
   "execution_count": 257,
   "metadata": {},
   "outputs": [
    {
     "data": {
      "image/png": "[encoded data removed]",
      "text/plain": [
       "<matplotlib.figure.Figure at 0x171b1400>"
      ]
     },
     "metadata": {},
     "output_type": "display_data"
    },
    {
     "name": "stdout",
     "output_type": "stream",
     "text": [
      "[0.8130434782608695, 0.8347826086956521, 0.8521739130434782, 0.8304347826086956, 0.8391304347826087, 0.8347826086956521, 0.8217391304347826, 0.8260869565217391, 0.8304347826086956, 0.8260869565217391, 0.8304347826086956, 0.8304347826086956, 0.8304347826086956, 0.8347826086956521, 0.8304347826086956, 0.8217391304347826, 0.8260869565217391, 0.8304347826086956, 0.8391304347826087, 0.8434782608695652, 0.8478260869565217, 0.8478260869565217, 0.8478260869565217, 0.8478260869565217, 0.8478260869565217]\n"
     ]
    }
   ],
   "source": [
    "k = range(100,2600,100)\n",
    "k_score = []\n",
    "for i in k:  \n",
    "    tfidf_pp_vec = TfidfVectorizer(analyzer='word', max_features = i)  \n",
    "    X_tfidf_pp_train = tfidf_pp_vec.fit_transform(X_train2)\n",
    "    X_tfidf_pp_test = tfidf_pp_vec.transform(X_test2)\n",
    "    mnb_tfidf_pp = MultinomialNB(0.9)  \n",
    "    mnb_tfidf_pp.fit(X_tfidf_pp_train, y_train2)\n",
    "    score = mnb_tfidf_pp.score(X_tfidf_pp_test, y_test2) \n",
    "    k_score.append(score)  \n",
    "plt.plot(k,k_score)  \n",
    "plt.show()\n",
    "print k_score"
   ]
  },
  {
   "cell_type": "markdown",
   "metadata": {},
   "source": [
    "### cancel stop words"
   ]
  },
  {
   "cell_type": "code",
   "execution_count": 258,
   "metadata": {},
   "outputs": [
    {
     "data": {
      "text/html": [
       "<div>\n",
       "<style scoped>\n",
       "    .dataframe tbody tr th:only-of-type {\n",
       "        vertical-align: middle;\n",
       "    }\n",
       "\n",
       "    .dataframe tbody tr th {\n",
       "        vertical-align: top;\n",
       "    }\n",
       "\n",
       "    .dataframe thead th {\n",
       "        text-align: right;\n",
       "    }\n",
       "</style>\n",
       "<table border=\"1\" class=\"dataframe\">\n",
       "  <thead>\n",
       "    <tr style=\"text-align: right;\">\n",
       "      <th></th>\n",
       "      <th>TweetID</th>\n",
       "      <th>TweetText</th>\n",
       "      <th>InformationSource</th>\n",
       "      <th>InformationType</th>\n",
       "      <th>Informativeness</th>\n",
       "      <th>label</th>\n",
       "      <th>ProcessedText</th>\n",
       "    </tr>\n",
       "  </thead>\n",
       "  <tbody>\n",
       "    <tr>\n",
       "      <th>0</th>\n",
       "      <td>323808103780990976</td>\n",
       "      <td>RT @VitoCaro7: Good luck to @kyle_piersma toda...</td>\n",
       "      <td>Not labeled</td>\n",
       "      <td>Not labeled</td>\n",
       "      <td>Not related</td>\n",
       "      <td>Not related or not informative</td>\n",
       "      <td>rt @vitocaro7 : good luck to @kyle_piersma tod...</td>\n",
       "    </tr>\n",
       "    <tr>\n",
       "      <th>1</th>\n",
       "      <td>323873597825355778</td>\n",
       "      <td>RT @DianneG: wow. RT @AntDeRosa Photo captures...</td>\n",
       "      <td>Outsiders</td>\n",
       "      <td>Other Useful Information</td>\n",
       "      <td>Related and informative</td>\n",
       "      <td>Related and informative</td>\n",
       "      <td>rt @dianneg : wow . rt @antderosa photo captur...</td>\n",
       "    </tr>\n",
       "    <tr>\n",
       "      <th>2</th>\n",
       "      <td>323874466063085568</td>\n",
       "      <td>Awful scenes at the #BostonMarathon. The photo...</td>\n",
       "      <td>Not applicable</td>\n",
       "      <td>Other Useful Information</td>\n",
       "      <td>Related - but not informative</td>\n",
       "      <td>Not related or not informative</td>\n",
       "      <td>awful scene at the #bostonmarathon . the photo...</td>\n",
       "    </tr>\n",
       "    <tr>\n",
       "      <th>3</th>\n",
       "      <td>323874558325161984</td>\n",
       "      <td>Holy shit RT @theoriginalwak: What the fuck ju...</td>\n",
       "      <td>Outsiders</td>\n",
       "      <td>Other Useful Information</td>\n",
       "      <td>Related - but not informative</td>\n",
       "      <td>Not related or not informative</td>\n",
       "      <td>holy shit rt @theoriginalwak : what the fuck j...</td>\n",
       "    </tr>\n",
       "    <tr>\n",
       "      <th>4</th>\n",
       "      <td>323875384603058176</td>\n",
       "      <td>RT @russian_market: BOMB EXPLOSION IN BOSTON (...</td>\n",
       "      <td>Media</td>\n",
       "      <td>Other Useful Information</td>\n",
       "      <td>Related and informative</td>\n",
       "      <td>Related and informative</td>\n",
       "      <td>rt @russian_market : bomb elosion in boston ( ...</td>\n",
       "    </tr>\n",
       "  </tbody>\n",
       "</table>\n",
       "</div>"
      ],
      "text/plain": [
       "              TweetID                                          TweetText  \\\n",
       "0  323808103780990976  RT @VitoCaro7: Good luck to @kyle_piersma toda...   \n",
       "1  323873597825355778  RT @DianneG: wow. RT @AntDeRosa Photo captures...   \n",
       "2  323874466063085568  Awful scenes at the #BostonMarathon. The photo...   \n",
       "3  323874558325161984  Holy shit RT @theoriginalwak: What the fuck ju...   \n",
       "4  323875384603058176  RT @russian_market: BOMB EXPLOSION IN BOSTON (...   \n",
       "\n",
       "  InformationSource           InformationType                Informativeness  \\\n",
       "0       Not labeled               Not labeled                    Not related   \n",
       "1         Outsiders  Other Useful Information        Related and informative   \n",
       "2    Not applicable  Other Useful Information  Related - but not informative   \n",
       "3         Outsiders  Other Useful Information  Related - but not informative   \n",
       "4             Media  Other Useful Information        Related and informative   \n",
       "\n",
       "                            label  \\\n",
       "0  Not related or not informative   \n",
       "1         Related and informative   \n",
       "2  Not related or not informative   \n",
       "3  Not related or not informative   \n",
       "4         Related and informative   \n",
       "\n",
       "                                       ProcessedText  \n",
       "0  rt @vitocaro7 : good luck to @kyle_piersma tod...  \n",
       "1  rt @dianneg : wow . rt @antderosa photo captur...  \n",
       "2  awful scene at the #bostonmarathon . the photo...  \n",
       "3  holy shit rt @theoriginalwak : what the fuck j...  \n",
       "4  rt @russian_market : bomb elosion in boston ( ...  "
      ]
     },
     "execution_count": 258,
     "metadata": {},
     "output_type": "execute_result"
    }
   ],
   "source": [
    "p.set_options(p.OPT.URL, p.OPT.EMOJI, p.OPT.SMILEY)\n",
    "all_tweets = [p.clean(t).lower() for t in df.TweetText]\n",
    "\n",
    "tknzr = TweetTokenizer()\n",
    "all_tokens = [tknzr.tokenize(t) for t in all_tweets]\n",
    "#en_stop = set(stopwords.words('english'))\n",
    "lemmatizer = WordNetLemmatizer()\n",
    "processed_texts = []  # preprocessed tweets\n",
    "\n",
    "for i in range(len(all_tokens)):\n",
    "    processed_texts.append(' '.join([lemmatizer.lemmatize(t) for t in all_tokens[i]]))\n",
    "\n",
    "df['ProcessedText'] = pd.Series(processed_texts)\n",
    "df.head()"
   ]
  },
  {
   "cell_type": "code",
   "execution_count": 259,
   "metadata": {},
   "outputs": [],
   "source": [
    "split_percentage = 0.25\n",
    "X_train2, X_test2, y_train2, y_test2 = train_test_split(df.ProcessedText, df.label, test_size=split_percentage, random_state=42) \n",
    "tfidf_pp_vec = TfidfVectorizer(analyzer='word')\n",
    "X_tfidf_pp_train = tfidf_pp_vec.fit_transform(X_train2)  \n",
    "X_tfidf_pp_test = tfidf_pp_vec.transform(X_test2)"
   ]
  },
  {
   "cell_type": "code",
   "execution_count": 260,
   "metadata": {},
   "outputs": [
    {
     "name": "stdout",
     "output_type": "stream",
     "text": [
      "[0.7826087  0.82608696 0.79710145 0.8115942  0.75362319 0.85507246\n",
      " 0.7826087  0.76811594 0.86956522 0.8115942 ]\n",
      "Mean score: 0.806 (+/-0.012)\n",
      "Accuracy for training: 0.965217391304\n",
      "Accuracy for testing: 0.865217391304\n"
     ]
    }
   ],
   "source": [
    "mnb_tfidf_pp = MultinomialNB(0.3)  \n",
    "mnb_tfidf_pp.fit(X_tfidf_pp_train, y_train2)\n",
    "\n",
    "evaluate_cross_validation(mnb_tfidf_pp, X_tfidf_pp_train, y_train2, 10)\n",
    "\n",
    "print 'Accuracy for training: {}'.format(mnb_tfidf_pp.score(X_tfidf_pp_train, y_train2))\n",
    "print 'Accuracy for testing: {}'.format(mnb_tfidf_pp.score(X_tfidf_pp_test, y_test2))"
   ]
  },
  {
   "cell_type": "code",
   "execution_count": 261,
   "metadata": {},
   "outputs": [
    {
     "name": "stdout",
     "output_type": "stream",
     "text": [
      "Classification Report:\n",
      "                                precision    recall  f1-score   support\n",
      "\n",
      "Not related or not informative     0.8506    0.9424    0.8942       139\n",
      "       Related and informative     0.8947    0.7473    0.8144        91\n",
      "\n",
      "                   avg / total     0.8681    0.8652    0.8626       230\n",
      "\n",
      "Confusion Matrix:\n",
      "[[131   8]\n",
      " [ 23  68]]\n"
     ]
    }
   ],
   "source": [
    "y_tfidf_pp_predict = mnb_tfidf_pp.predict(X_tfidf_pp_test) \n",
    "print \"Classification Report:\" \n",
    "print metrics.classification_report(y_test2,y_tfidf_pp_predict, digits=4) \n",
    "print \"Confusion Matrix:\" \n",
    "print metrics.confusion_matrix(y_test2,y_tfidf_pp_predict)"
   ]
  },
  {
   "cell_type": "code",
   "execution_count": 262,
   "metadata": {},
   "outputs": [
    {
     "data": {
      "text/plain": [
       "(230, 2517)"
      ]
     },
     "execution_count": 262,
     "metadata": {},
     "output_type": "execute_result"
    }
   ],
   "source": [
    "X_tfidf_pp_test.shape"
   ]
  },
  {
   "cell_type": "code",
   "execution_count": 263,
   "metadata": {},
   "outputs": [
    {
     "data": {
      "image/png": "[encoded data removed]",
      "text/plain": [
       "<matplotlib.figure.Figure at 0x1758f4a8>"
      ]
     },
     "metadata": {},
     "output_type": "display_data"
    },
    {
     "name": "stdout",
     "output_type": "stream",
     "text": [
      "[0.8217391304347826, 0.8478260869565217, 0.8565217391304348, 0.8478260869565217, 0.8478260869565217, 0.8434782608695652, 0.8391304347826087, 0.8434782608695652, 0.8478260869565217, 0.8478260869565217, 0.8434782608695652, 0.8434782608695652, 0.8391304347826087, 0.8391304347826087, 0.8434782608695652, 0.8434782608695652, 0.8434782608695652, 0.8521739130434782, 0.8521739130434782, 0.8521739130434782, 0.8608695652173913, 0.8608695652173913, 0.8608695652173913, 0.8652173913043478, 0.8652173913043478, 0.8652173913043478]\n"
     ]
    }
   ],
   "source": [
    "k = range(100,2700,100)\n",
    "k_score = []\n",
    "for i in k:  \n",
    "    tfidf_pp_vec = TfidfVectorizer(analyzer='word', max_features = i)  \n",
    "    X_tfidf_pp_train = tfidf_pp_vec.fit_transform(X_train2)\n",
    "    X_tfidf_pp_test = tfidf_pp_vec.transform(X_test2)\n",
    "    mnb_tfidf_pp = MultinomialNB(0.3)  \n",
    "    mnb_tfidf_pp.fit(X_tfidf_pp_train, y_train2)\n",
    "    score = mnb_tfidf_pp.score(X_tfidf_pp_test, y_test2) \n",
    "    k_score.append(score)  \n",
    "plt.plot(k,k_score)  \n",
    "plt.show()\n",
    "print k_score"
   ]
  },
  {
   "cell_type": "markdown",
   "metadata": {},
   "source": [
    "### Combine plot"
   ]
  },
  {
   "cell_type": "code",
   "execution_count": 264,
   "metadata": {},
   "outputs": [
    {
     "data": {
      "image/png": "[encoded data removed]",
      "text/plain": [
       "<matplotlib.figure.Figure at 0xc997908>"
      ]
     },
     "metadata": {},
     "output_type": "display_data"
    }
   ],
   "source": [
    "res_count = [0.8217391304347826, 0.8521739130434782, 0.8608695652173913, 0.8478260869565217, 0.8434782608695652, 0.8347826086956521, 0.8260869565217391, 0.8391304347826087, 0.8391304347826087, 0.8434782608695652, 0.8521739130434782, 0.8565217391304348, 0.8565217391304348, 0.8521739130434782, 0.8521739130434782, 0.8521739130434782, 0.8521739130434782, 0.8608695652173913, 0.8695652173913043, 0.8652173913043478, 0.8652173913043478, 0.8652173913043478, 0.8652173913043478, 0.8652173913043478, 0.8695652173913043, 0.8695652173913043]\n",
    "res_tfidf = [0.8217391304347826, 0.8478260869565217, 0.8565217391304348, 0.8478260869565217, 0.8478260869565217, 0.8434782608695652, 0.8391304347826087, 0.8434782608695652, 0.8478260869565217, 0.8478260869565217, 0.8434782608695652, 0.8434782608695652, 0.8391304347826087, 0.8391304347826087, 0.8434782608695652, 0.8434782608695652, 0.8434782608695652, 0.8521739130434782, 0.8521739130434782, 0.8521739130434782, 0.8608695652173913, 0.8608695652173913, 0.8608695652173913, 0.8652173913043478, 0.8652173913043478, 0.8652173913043478]\n",
    "l1, = plt.plot(k, res_count)\n",
    "l2, = plt.plot(k, res_tfidf)\n",
    "plt.legend(handles = [l1, l2,], labels = ['count', 'tfidf'], loc = 'best')\n",
    "plt.xlabel('max features')\n",
    "plt.ylabel('accuracy')\n",
    "plt.show()"
   ]
  },
  {
   "cell_type": "code",
   "execution_count": null,
   "metadata": {},
   "outputs": [],
   "source": []
  }
 ],
 "metadata": {
  "kernelspec": {
   "display_name": "Python 2",
   "language": "python",
   "name": "python2"
  },
  "language_info": {
   "codemirror_mode": {
    "name": "ipython",
    "version": 2
   },
   "file_extension": ".py",
   "mimetype": "text/x-python",
   "name": "python",
   "nbconvert_exporter": "python",
   "pygments_lexer": "ipython2",
   "version": "2.7.14"
  }
 },
 "nbformat": 4,
 "nbformat_minor": 2
}
