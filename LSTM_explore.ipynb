{
 "cells": [
  {
   "cell_type": "code",
   "execution_count": 1,
   "metadata": {},
   "outputs": [
    {
     "name": "stderr",
     "output_type": "stream",
     "text": [
      "Using TensorFlow backend.\n"
     ]
    }
   ],
   "source": [
    "from Dataset import *\n",
    "from Model_Setting import *\n",
    "from keras.preprocessing.text import Tokenizer\n",
    "from keras.preprocessing.text import text_to_word_sequence\n",
    "from keras.preprocessing.sequence import pad_sequences\n",
    "from keras.wrappers.scikit_learn import KerasClassifier\n",
    "from keras.models import Sequential\n",
    "from keras.layers import Dense, Embedding, LSTM, Bidirectional\n",
    "from keras.callbacks import EarlyStopping, ModelCheckpoint\n",
    "from keras.models import load_model\n",
    "from keras.utils import to_categorical\n",
    "from sklearn.preprocessing import LabelEncoder\n",
    "from sklearn.model_selection import GridSearchCV\n",
    "from sklearn.feature_extraction.text import CountVectorizer\n",
    "from sklearn.model_selection import train_test_split\n",
    "from sklearn import metrics\n",
    "import pandas as pd\n",
    "import numpy as np\n",
    "import matplotlib.pyplot as plt\n",
    "import seaborn as sns\n",
    "sns.set()\n",
    "plt.style.use('ggplot')\n",
    "% matplotlib inline"
   ]
  },
  {
   "cell_type": "code",
   "execution_count": 2,
   "metadata": {},
   "outputs": [],
   "source": [
    "embedding_index, vtr_dim = import_glove(25)"
   ]
  },
  {
   "cell_type": "code",
   "execution_count": 3,
   "metadata": {},
   "outputs": [],
   "source": [
    "col_fire_12 = dataset('2012_Colorado_wildfires/2012_Colorado_wildfires-tweets_labeled.csv')\n",
    "col_flood_13 = dataset('2013_Colorado_floods/2013_Colorado_floods-tweets_labeled.csv')\n",
    "aus_fire_13 = dataset('2013_Australia_bushfire/2013_Australia_bushfire-tweets_labeled.csv')\n",
    "aus_flood_13 = dataset('2013_Queensland_floods/2013_Queensland_floods-tweets_labeled.csv')\n",
    "col_fire_12_g = col_fire_12.glove(embedding_index, vtr_dim)\n",
    "col_flood_13_g = col_flood_13.glove(embedding_index, vtr_dim)\n",
    "aus_fire_13_g = aus_fire_13.glove(embedding_index, vtr_dim)\n",
    "aus_flood_13_g = aus_flood_13.glove(embedding_index, vtr_dim)\n",
    "col_fire_12_lb = to_categorical(col_fire_12.df.label)\n",
    "col_flood_13_lb = to_categorical(col_flood_13.df.label)\n",
    "aus_fire_13_lb = to_categorical(aus_fire_13.df.label)\n",
    "aus_flood_13_lb = to_categorical(aus_flood_13.df.label)"
   ]
  },
  {
   "cell_type": "code",
   "execution_count": 20,
   "metadata": {},
   "outputs": [],
   "source": [
    "def create_lstm_model(bidir=True, n_lstm=32, dropout=0.3, re_dropout=0.3, penalty=0.01, input_shape=25):\n",
    "    model = Sequential()\n",
    "    if bidir:\n",
    "        model.add(Bidirectional(LSTM(n_lstm, kernel_initializer='he_normal', recurrent_dropout=re_dropout, dropout=dropout, \n",
    "                                     kernel_regularizer=regularizers.l2(penalty)),input_shape=(None,input_shape)))\n",
    "    else:\n",
    "        model.add(LSTM(n_lstm, kernel_initializer='he_normal', recurrent_dropout=re_dropout, dropout=dropout, \n",
    "                                     kernel_regularizer=regularizers.l2(penalty),input_shape=(None,input_shape)))\n",
    "    #model.add(Dense(64, activation='relu',kernel_initializer='he_normal', kernel_regularizer=regularizers.l2(penalty)))\n",
    "    #model.add(Dropout(0.5))\n",
    "    model.add(Dense(2, activation='softmax'))\n",
    "    model.compile(loss='binary_crossentropy', optimizer='adam', metrics=['accuracy'])\n",
    "    return model"
   ]
  },
  {
   "cell_type": "code",
   "execution_count": 9,
   "metadata": {},
   "outputs": [],
   "source": [
    "def incremental_learning_prob(model, tweets, step=10, threshold=0.75):\n",
    "    subset_len = tweets.shape[0]/step\n",
    "    marks = [subset_len*i for i in range(step)]\n",
    "    marks.append(tweets.shape[0])\n",
    "    for i in range(step):\n",
    "        text = tweets[marks[i]: marks[i+1]]\n",
    "        y_pred = model.predict(x=text)\n",
    "        x_confident = np.asarray([text[j] for j in range(len(y_pred)) if y_pred[j][0] >= threshold or y_pred[j][1] >= threshold])\n",
    "        y_confident = [y_pred[j] for j in range(len(y_pred)) if y_pred[j][0] >= threshold or y_pred[j][1] >= threshold]\n",
    "        label = to_categorical(map(lambda x: 0 if x[0]>=threshold else 1, y_confident))\n",
    "        weight = np.array([(max(i)-0.5)/0.5 for i in y_confident])\n",
    "        model.train_on_batch(x_confident, label, sample_weight=weight)#, validation_split=0.3, epochs = 10, callbacks=[EarlyStopping(patience=3)])"
   ]
  },
  {
   "cell_type": "code",
   "execution_count": 10,
   "metadata": {},
   "outputs": [],
   "source": [
    "def incremental_learning_det(model, tweets, step=10, confidence=0.95):\n",
    "    subset_len = tweets.shape[0]/step\n",
    "    marks = [subset_len*i for i in range(step)]\n",
    "    marks.append(tweets.shape[0])\n",
    "    for i in range(step):\n",
    "        text = tweets[marks[i]: marks[i+1]]\n",
    "        y_pred = model.predict(x=text)\n",
    "        x_confident = np.asarray([text[j] for j in range(len(y_pred)) if y_pred[j][0] >= confidence or y_pred[j][1] >= confidence])\n",
    "        y_confident = [y_pred[j] for j in range(len(y_pred)) if y_pred[j][0] >= confidence or y_pred[j][1] >= confidence]\n",
    "        label = to_categorical(map(lambda x: 0 if x[0]>=confidence else 1, y_confident))\n",
    "        model.train_on_batch(x_confident, label)#, validation_split=0.3, epochs = 10, callbacks=[EarlyStopping(patience=3)])"
   ]
  },
  {
   "cell_type": "code",
   "execution_count": 11,
   "metadata": {},
   "outputs": [],
   "source": [
    "def shuffle_train(model, data, text, path, k=10, n_epoch=10):\n",
    "    min_val_loss = float('inf')\n",
    "    n_earlystopping = [5]*(k/4)+[4]*(k/4)+[3]*(k/4)+[2]*(k-k/4*3)\n",
    "    mcp_cnn = ModelCheckpoint(filepath=path, monitor='val_loss', save_best_only=True, save_weights_only=True)\n",
    "    history = {'acc':[], 'loss':[], 'val_acc':[], 'val_loss':[]}\n",
    "    ##### n_epoch*k epochs in total######\n",
    "    for i in range(k):\n",
    "        df = data.df.sample(frac=1)\n",
    "        tweet_g = text[df.index.values]\n",
    "        his = model.fit(tweet_g, to_categorical(df.label), callbacks=[EarlyStopping(monitor='val_loss', patience=n_earlystopping[i]),\n",
    "                                mcp_cnn], validation_split=0.3, batch_size=64, epochs=n_epoch)\n",
    "        for metric in ['acc', 'loss', 'val_acc', 'val_loss']:\n",
    "            history[metric].extend(his.history[metric])\n",
    "        if min(his.history['val_loss']) < min_val_loss:\n",
    "            min_val_loss = min(his.history['val_loss'])\n",
    "            model.load_weights(path)\n",
    "        if len(his.history['acc']) > n_earlystopping[i]+1:\n",
    "            stop = True\n",
    "            for j in range(1,n_earlystopping[i]+1):\n",
    "                if his.history['val_loss'][-j] < his.history['val_loss'][-j-1]:\n",
    "                    stop = False\n",
    "            if stop: break\n",
    "    model.save(path)\n",
    "    return history"
   ]
  },
  {
   "cell_type": "code",
   "execution_count": 48,
   "metadata": {},
   "outputs": [],
   "source": [
    "def metric_drawing(title, path=None, Model=None):\n",
    "    if Model is None:\n",
    "        model = load_model(path)\n",
    "    y_p1 = model.predict(col_flood_13_g)\n",
    "    y_pred1 = []\n",
    "    y_p2 = model.predict(aus_fire_13_g)\n",
    "    y_pred2 = []\n",
    "    y_p3 = model.predict(aus_flood_13_g)\n",
    "    y_pred3 = []\n",
    "    precision = []\n",
    "    recall = []\n",
    "    f1 = []\n",
    "    for y in y_p1:\n",
    "        if y[0]>y[1]:\n",
    "            y_pred1.append(0)\n",
    "        else:\n",
    "            y_pred1.append(1)\n",
    "    precision.append(metrics.precision_score(col_flood_13.df.label, y_pred1))\n",
    "    recall.append(metrics.recall_score(col_flood_13.df.label, y_pred1))\n",
    "    f1.append(metrics.f1_score(col_flood_13.df.label, y_pred1))\n",
    "    for y in y_p2:\n",
    "        if y[0]>y[1]:\n",
    "            y_pred2.append(0)\n",
    "        else:\n",
    "            y_pred2.append(1)\n",
    "    precision.append(metrics.precision_score(aus_fire_13.df.label, y_pred2))\n",
    "    recall.append(metrics.recall_score(aus_fire_13.df.label, y_pred2))\n",
    "    f1.append(metrics.f1_score(aus_fire_13.df.label, y_pred2))\n",
    "    for y in y_p3:\n",
    "        if y[0]>y[1]:\n",
    "            y_pred3.append(0)\n",
    "        else:\n",
    "            y_pred3.append(1)\n",
    "    precision.append(metrics.precision_score(aus_flood_13.df.label, y_pred3))\n",
    "    recall.append(metrics.recall_score(aus_flood_13.df.label, y_pred3))\n",
    "    f1.append(metrics.f1_score(aus_flood_13.df.label, y_pred3))\n",
    "\n",
    "    plt.bar([0.9,1.9,2.9], precision, width=0.1, label='precision')\n",
    "    plt.bar([1,2,3], recall, width=0.1, label='recall')\n",
    "    plt.bar([1.1,2.1,3.1], f1, width=0.1, label='f1-score')\n",
    "    plt.xticks([1,2,3], ['col_flood_13', 'aus_fire_13', 'aus_flood_13'])\n",
    "    plt.ylim([0,1])\n",
    "    plt.legend(loc='best')\n",
    "    plt.xlabel('disaster')\n",
    "    plt.ylabel('score')\n",
    "    plt.title(title)\n",
    "    plt.show()\n",
    "    return precision, recall, f1"
   ]
  },
  {
   "cell_type": "code",
   "execution_count": 53,
   "metadata": {},
   "outputs": [],
   "source": [
    "def plot_history(history, title, dictionary=False):\n",
    "    plt.figure(figsize=(16,6))\n",
    "    plt.suptitle(title)\n",
    "    if dictionary:\n",
    "        plt.subplot(121)\n",
    "        n_epoch = len(history['acc'])\n",
    "        plt.plot(range(1, n_epoch+1), history['loss'], label='loss')\n",
    "        plt.plot(range(1, n_epoch+1), history['val_loss'], label='val_loss')\n",
    "        plt.xlabel('epoch')\n",
    "        plt.ylabel('loss')\n",
    "        plt.legend()\n",
    "        plt.subplot(122)\n",
    "        plt.plot(range(1, n_epoch+1), history['acc'], label='acc')\n",
    "        plt.plot(range(1, n_epoch+1), history['val_acc'], label='val_acc')\n",
    "    else:\n",
    "        plt.subplot(121)\n",
    "        n_epoch = len(history.history['acc'])\n",
    "        plt.plot(range(1, n_epoch+1), history.history['loss'], label='loss')\n",
    "        plt.plot(range(1, n_epoch+1), history.history['val_loss'], label='val_loss')\n",
    "        plt.xlabel('epoch')\n",
    "        plt.ylabel('loss')\n",
    "        plt.legend()\n",
    "        plt.subplot(122)\n",
    "        plt.plot(range(1, n_epoch+1), history.history['acc'], label='acc')\n",
    "        plt.plot(range(1, n_epoch+1), history.history['val_acc'], label='val_acc')\n",
    "    plt.xlabel('epoch')\n",
    "    plt.ylabel('acc')\n",
    "    plt.legend()\n",
    "    plt.show()"
   ]
  },
  {
   "cell_type": "code",
   "execution_count": 46,
   "metadata": {},
   "outputs": [],
   "source": [
    "def increment_learning_result(path):\n",
    "    ######################try hard label incremental learning####################################\n",
    "    lstm_model = load_model(path)\n",
    "    print lstm_model.evaluate(x=col_flood_13_g, y=to_categorical(col_flood_13.df.label))\n",
    "    incremental_learning_det(lstm_model, col_flood_13_g, step=10, confidence=0.85)\n",
    "    print lstm_model.evaluate(x=col_flood_13_g, y=to_categorical(col_flood_13.df.label))\n",
    "\n",
    "    lstm_model = load_model(path)\n",
    "    print lstm_model.evaluate(x=aus_fire_13_g, y=to_categorical(aus_fire_13.df.label))\n",
    "    incremental_learning_det(lstm_model, aus_fire_13_g, step=10, confidence=0.85)\n",
    "    print lstm_model.evaluate(x=aus_fire_13_g, y=to_categorical(aus_fire_13.df.label))\n",
    "\n",
    "    lstm_model = load_model(path)\n",
    "    print lstm_model.evaluate(x=aus_flood_13_g, y=to_categorical(aus_flood_13.df.label))\n",
    "    incremental_learning_det(lstm_model, aus_flood_13_g, step=10, confidence=0.85)\n",
    "    print lstm_model.evaluate(x=aus_flood_13_g, y=to_categorical(aus_flood_13.df.label))\n",
    "\n",
    "    ######################try weighted label incremental learning####################################\n",
    "    lstm_model = load_model(path)\n",
    "    print lstm_model.evaluate(x=col_flood_13_g, y=to_categorical(col_flood_13.df.label))\n",
    "    incremental_learning_prob(lstm_model, col_flood_13_g, step=10, threshold=0.75)\n",
    "    print lstm_model.evaluate(x=col_flood_13_g, y=to_categorical(col_flood_13.df.label))\n",
    "\n",
    "    lstm_model = load_model(path)\n",
    "    print lstm_model.evaluate(x=aus_fire_13_g, y=to_categorical(aus_fire_13.df.label))\n",
    "    incremental_learning_prob(lstm_model, aus_fire_13_g, step=10, threshold=0.75)\n",
    "    print lstm_model.evaluate(x=aus_fire_13_g, y=to_categorical(aus_fire_13.df.label))\n",
    "\n",
    "    lstm_model = load_model(path)\n",
    "    print lstm_model.evaluate(x=aus_flood_13_g, y=to_categorical(aus_flood_13.df.label))\n",
    "    incremental_learning_prob(lstm_model, aus_flood_13_g, step=10, threshold=0.75)\n",
    "    print lstm_model.evaluate(x=aus_flood_13_g, y=to_categorical(aus_flood_13.df.label))"
   ]
  },
  {
   "cell_type": "code",
   "execution_count": 27,
   "metadata": {
    "scrolled": true
   },
   "outputs": [
    {
     "name": "stdout",
     "output_type": "stream",
     "text": [
      "Train on 781 samples, validate on 336 samples\n",
      "Epoch 1/100\n",
      "781/781 [==============================] - 10s 13ms/step - loss: 0.9507 - acc: 0.4302 - val_loss: 0.9305 - val_acc: 0.4048\n",
      "Epoch 2/100\n",
      "781/781 [==============================] - 5s 6ms/step - loss: 0.9186 - acc: 0.4584 - val_loss: 0.9043 - val_acc: 0.4167\n",
      "Epoch 3/100\n",
      "781/781 [==============================] - 5s 6ms/step - loss: 0.8972 - acc: 0.4789 - val_loss: 0.8803 - val_acc: 0.3929\n",
      "Epoch 4/100\n",
      "781/781 [==============================] - 5s 6ms/step - loss: 0.8680 - acc: 0.5147 - val_loss: 0.8595 - val_acc: 0.4792\n",
      "Epoch 5/100\n",
      "781/781 [==============================] - 5s 6ms/step - loss: 0.8497 - acc: 0.5314 - val_loss: 0.8409 - val_acc: 0.5238\n",
      "Epoch 6/100\n",
      "781/781 [==============================] - 5s 7ms/step - loss: 0.8339 - acc: 0.5506 - val_loss: 0.8237 - val_acc: 0.5446\n",
      "Epoch 7/100\n",
      "781/781 [==============================] - 5s 7ms/step - loss: 0.8156 - acc: 0.5557 - val_loss: 0.8082 - val_acc: 0.5536\n",
      "Epoch 8/100\n",
      "781/781 [==============================] - 5s 7ms/step - loss: 0.8042 - acc: 0.5327 - val_loss: 0.7941 - val_acc: 0.5446\n",
      "Epoch 9/100\n",
      "781/781 [==============================] - 5s 7ms/step - loss: 0.7904 - acc: 0.5493 - val_loss: 0.7810 - val_acc: 0.5446\n",
      "Epoch 10/100\n",
      "781/781 [==============================] - 5s 7ms/step - loss: 0.7748 - acc: 0.5723 - val_loss: 0.7684 - val_acc: 0.5446\n",
      "Epoch 11/100\n",
      "781/781 [==============================] - 5s 7ms/step - loss: 0.7638 - acc: 0.5839 - val_loss: 0.7561 - val_acc: 0.5506\n",
      "Epoch 12/100\n",
      "781/781 [==============================] - 6s 7ms/step - loss: 0.7524 - acc: 0.5736 - val_loss: 0.7440 - val_acc: 0.5565\n",
      "Epoch 13/100\n",
      "781/781 [==============================] - 5s 6ms/step - loss: 0.7401 - acc: 0.5839 - val_loss: 0.7329 - val_acc: 0.5625\n",
      "Epoch 14/100\n",
      "781/781 [==============================] - 5s 6ms/step - loss: 0.7320 - acc: 0.5826 - val_loss: 0.7211 - val_acc: 0.5685\n",
      "Epoch 15/100\n",
      "781/781 [==============================] - 5s 6ms/step - loss: 0.7174 - acc: 0.5941 - val_loss: 0.7101 - val_acc: 0.5833\n",
      "Epoch 16/100\n",
      "781/781 [==============================] - 5s 7ms/step - loss: 0.7077 - acc: 0.6056 - val_loss: 0.6998 - val_acc: 0.5893\n",
      "Epoch 17/100\n",
      "781/781 [==============================] - 5s 6ms/step - loss: 0.7007 - acc: 0.5980 - val_loss: 0.6883 - val_acc: 0.6101\n",
      "Epoch 18/100\n",
      "781/781 [==============================] - 5s 6ms/step - loss: 0.6889 - acc: 0.6236 - val_loss: 0.6780 - val_acc: 0.6190\n",
      "Epoch 19/100\n",
      "781/781 [==============================] - 4s 6ms/step - loss: 0.6839 - acc: 0.6261 - val_loss: 0.6673 - val_acc: 0.6667\n",
      "Epoch 20/100\n",
      "781/781 [==============================] - 4s 6ms/step - loss: 0.6677 - acc: 0.6389 - val_loss: 0.6571 - val_acc: 0.6726\n",
      "Epoch 21/100\n",
      "781/781 [==============================] - 4s 6ms/step - loss: 0.6637 - acc: 0.6543 - val_loss: 0.6465 - val_acc: 0.6845\n",
      "Epoch 22/100\n",
      "781/781 [==============================] - 4s 6ms/step - loss: 0.6550 - acc: 0.6543 - val_loss: 0.6360 - val_acc: 0.6994\n",
      "Epoch 23/100\n",
      "781/781 [==============================] - 4s 6ms/step - loss: 0.6417 - acc: 0.6850 - val_loss: 0.6256 - val_acc: 0.7024\n",
      "Epoch 24/100\n",
      "781/781 [==============================] - 4s 6ms/step - loss: 0.6291 - acc: 0.6863 - val_loss: 0.6148 - val_acc: 0.7054\n",
      "Epoch 25/100\n",
      "781/781 [==============================] - 5s 6ms/step - loss: 0.6191 - acc: 0.7106 - val_loss: 0.6041 - val_acc: 0.7113\n",
      "Epoch 26/100\n",
      "781/781 [==============================] - 5s 6ms/step - loss: 0.6073 - acc: 0.7145 - val_loss: 0.5927 - val_acc: 0.7024\n",
      "Epoch 27/100\n",
      "781/781 [==============================] - 4s 6ms/step - loss: 0.6005 - acc: 0.7081 - val_loss: 0.5817 - val_acc: 0.7113\n",
      "Epoch 28/100\n",
      "781/781 [==============================] - 5s 6ms/step - loss: 0.5982 - acc: 0.6965 - val_loss: 0.5707 - val_acc: 0.7173\n",
      "Epoch 29/100\n",
      "781/781 [==============================] - 4s 6ms/step - loss: 0.5923 - acc: 0.6965 - val_loss: 0.5597 - val_acc: 0.7292\n",
      "Epoch 30/100\n",
      "781/781 [==============================] - 4s 6ms/step - loss: 0.5696 - acc: 0.7286 - val_loss: 0.5497 - val_acc: 0.7440\n",
      "Epoch 31/100\n",
      "781/781 [==============================] - 5s 6ms/step - loss: 0.5642 - acc: 0.7362 - val_loss: 0.5397 - val_acc: 0.7440\n",
      "Epoch 32/100\n",
      "781/781 [==============================] - 5s 7ms/step - loss: 0.5614 - acc: 0.7311 - val_loss: 0.5293 - val_acc: 0.7530\n",
      "Epoch 33/100\n",
      "781/781 [==============================] - 5s 6ms/step - loss: 0.5614 - acc: 0.7311 - val_loss: 0.5211 - val_acc: 0.7381\n",
      "Epoch 34/100\n",
      "781/781 [==============================] - 5s 7ms/step - loss: 0.5511 - acc: 0.7286 - val_loss: 0.5123 - val_acc: 0.7530\n",
      "Epoch 35/100\n",
      "781/781 [==============================] - 5s 6ms/step - loss: 0.5392 - acc: 0.7337 - val_loss: 0.5041 - val_acc: 0.7679\n",
      "Epoch 36/100\n",
      "781/781 [==============================] - 4s 6ms/step - loss: 0.5340 - acc: 0.7375 - val_loss: 0.4965 - val_acc: 0.7768\n",
      "Epoch 37/100\n",
      "781/781 [==============================] - 4s 6ms/step - loss: 0.5257 - acc: 0.7529 - val_loss: 0.4901 - val_acc: 0.7738\n",
      "Epoch 38/100\n",
      "781/781 [==============================] - 4s 6ms/step - loss: 0.5090 - acc: 0.7554 - val_loss: 0.4838 - val_acc: 0.7738\n",
      "Epoch 39/100\n",
      "781/781 [==============================] - 4s 6ms/step - loss: 0.5093 - acc: 0.7618 - val_loss: 0.4774 - val_acc: 0.7768\n",
      "Epoch 40/100\n",
      "781/781 [==============================] - 5s 6ms/step - loss: 0.4907 - acc: 0.7695 - val_loss: 0.4729 - val_acc: 0.7798\n",
      "Epoch 41/100\n",
      "781/781 [==============================] - 5s 6ms/step - loss: 0.5028 - acc: 0.7631 - val_loss: 0.4681 - val_acc: 0.7917\n",
      "Epoch 42/100\n",
      "781/781 [==============================] - 5s 6ms/step - loss: 0.4931 - acc: 0.7657 - val_loss: 0.4639 - val_acc: 0.7857\n",
      "Epoch 43/100\n",
      "781/781 [==============================] - 5s 6ms/step - loss: 0.4975 - acc: 0.7606 - val_loss: 0.4609 - val_acc: 0.7887\n",
      "Epoch 44/100\n",
      "781/781 [==============================] - 5s 6ms/step - loss: 0.5190 - acc: 0.7542 - val_loss: 0.4571 - val_acc: 0.8036\n",
      "Epoch 45/100\n",
      "781/781 [==============================] - 5s 6ms/step - loss: 0.4968 - acc: 0.7529 - val_loss: 0.4547 - val_acc: 0.7946\n",
      "Epoch 46/100\n",
      "781/781 [==============================] - 4s 6ms/step - loss: 0.4950 - acc: 0.7657 - val_loss: 0.4526 - val_acc: 0.7917\n",
      "Epoch 47/100\n",
      "781/781 [==============================] - 4s 6ms/step - loss: 0.4877 - acc: 0.7759 - val_loss: 0.4500 - val_acc: 0.7917\n",
      "Epoch 48/100\n",
      "781/781 [==============================] - 4s 6ms/step - loss: 0.4784 - acc: 0.7682 - val_loss: 0.4480 - val_acc: 0.7946\n",
      "Epoch 49/100\n",
      "781/781 [==============================] - 5s 6ms/step - loss: 0.4786 - acc: 0.7670 - val_loss: 0.4459 - val_acc: 0.8006\n",
      "Epoch 50/100\n",
      "781/781 [==============================] - 5s 6ms/step - loss: 0.4872 - acc: 0.7631 - val_loss: 0.4445 - val_acc: 0.8006\n",
      "Epoch 51/100\n",
      "781/781 [==============================] - 5s 6ms/step - loss: 0.4621 - acc: 0.7798 - val_loss: 0.4405 - val_acc: 0.8006\n",
      "Epoch 52/100\n",
      "781/781 [==============================] - 5s 6ms/step - loss: 0.4772 - acc: 0.7644 - val_loss: 0.4374 - val_acc: 0.8065\n",
      "Epoch 53/100\n",
      "781/781 [==============================] - 5s 6ms/step - loss: 0.4696 - acc: 0.7862 - val_loss: 0.4358 - val_acc: 0.8065\n",
      "Epoch 54/100\n",
      "781/781 [==============================] - 4s 6ms/step - loss: 0.4809 - acc: 0.7721 - val_loss: 0.4342 - val_acc: 0.8036\n",
      "Epoch 55/100\n",
      "781/781 [==============================] - 4s 6ms/step - loss: 0.4601 - acc: 0.7836 - val_loss: 0.4352 - val_acc: 0.8095\n",
      "Epoch 56/100\n",
      "781/781 [==============================] - 4s 6ms/step - loss: 0.4643 - acc: 0.7964 - val_loss: 0.4320 - val_acc: 0.8155\n",
      "Epoch 57/100\n",
      "781/781 [==============================] - 4s 6ms/step - loss: 0.4526 - acc: 0.7887 - val_loss: 0.4295 - val_acc: 0.8095\n",
      "Epoch 58/100\n",
      "781/781 [==============================] - 4s 5ms/step - loss: 0.4491 - acc: 0.7862 - val_loss: 0.4271 - val_acc: 0.8155\n",
      "Epoch 59/100\n",
      "781/781 [==============================] - 4s 5ms/step - loss: 0.4644 - acc: 0.7721 - val_loss: 0.4264 - val_acc: 0.8244\n",
      "Epoch 60/100\n",
      "781/781 [==============================] - 4s 6ms/step - loss: 0.4502 - acc: 0.7785 - val_loss: 0.4243 - val_acc: 0.8125\n",
      "Epoch 61/100\n",
      "781/781 [==============================] - 4s 5ms/step - loss: 0.4474 - acc: 0.7875 - val_loss: 0.4238 - val_acc: 0.8155\n"
     ]
    },
    {
     "name": "stdout",
     "output_type": "stream",
     "text": [
      "Epoch 62/100\n",
      "781/781 [==============================] - 4s 5ms/step - loss: 0.4613 - acc: 0.7798 - val_loss: 0.4208 - val_acc: 0.8185\n",
      "Epoch 63/100\n",
      "781/781 [==============================] - 4s 5ms/step - loss: 0.4431 - acc: 0.7951 - val_loss: 0.4188 - val_acc: 0.8244\n",
      "Epoch 64/100\n",
      "781/781 [==============================] - 4s 5ms/step - loss: 0.4326 - acc: 0.7939 - val_loss: 0.4181 - val_acc: 0.8274\n",
      "Epoch 65/100\n",
      "781/781 [==============================] - 4s 5ms/step - loss: 0.4568 - acc: 0.7951 - val_loss: 0.4178 - val_acc: 0.8304\n",
      "Epoch 66/100\n",
      "781/781 [==============================] - 4s 6ms/step - loss: 0.4399 - acc: 0.7977 - val_loss: 0.4169 - val_acc: 0.8304\n",
      "Epoch 67/100\n",
      "781/781 [==============================] - 4s 6ms/step - loss: 0.4409 - acc: 0.7951 - val_loss: 0.4168 - val_acc: 0.8333\n",
      "Epoch 68/100\n",
      "781/781 [==============================] - 4s 6ms/step - loss: 0.4407 - acc: 0.7977 - val_loss: 0.4159 - val_acc: 0.8304\n",
      "Epoch 69/100\n",
      "781/781 [==============================] - 4s 6ms/step - loss: 0.4654 - acc: 0.7798 - val_loss: 0.4158 - val_acc: 0.8304\n",
      "Epoch 70/100\n",
      "781/781 [==============================] - 4s 6ms/step - loss: 0.4388 - acc: 0.8028 - val_loss: 0.4168 - val_acc: 0.8333\n",
      "Epoch 71/100\n",
      "781/781 [==============================] - 4s 5ms/step - loss: 0.4262 - acc: 0.7977 - val_loss: 0.4137 - val_acc: 0.8393\n",
      "Epoch 72/100\n",
      "781/781 [==============================] - 5s 7ms/step - loss: 0.4246 - acc: 0.8118 - val_loss: 0.4128 - val_acc: 0.8274\n",
      "Epoch 73/100\n",
      "781/781 [==============================] - 5s 7ms/step - loss: 0.4515 - acc: 0.7887 - val_loss: 0.4118 - val_acc: 0.8423\n",
      "Epoch 74/100\n",
      "781/781 [==============================] - 4s 5ms/step - loss: 0.4360 - acc: 0.8028 - val_loss: 0.4122 - val_acc: 0.8333\n",
      "Epoch 75/100\n",
      "781/781 [==============================] - 4s 6ms/step - loss: 0.4283 - acc: 0.8092 - val_loss: 0.4097 - val_acc: 0.8393\n",
      "Epoch 76/100\n",
      "781/781 [==============================] - 4s 6ms/step - loss: 0.4429 - acc: 0.8003 - val_loss: 0.4095 - val_acc: 0.8363\n",
      "Epoch 77/100\n",
      "781/781 [==============================] - 4s 5ms/step - loss: 0.4390 - acc: 0.7939 - val_loss: 0.4078 - val_acc: 0.8512\n",
      "Epoch 78/100\n",
      "781/781 [==============================] - 4s 5ms/step - loss: 0.4332 - acc: 0.8054 - val_loss: 0.4074 - val_acc: 0.8393\n",
      "Epoch 79/100\n",
      "781/781 [==============================] - 4s 6ms/step - loss: 0.4208 - acc: 0.8233 - val_loss: 0.4066 - val_acc: 0.8393\n",
      "Epoch 80/100\n",
      "781/781 [==============================] - 4s 6ms/step - loss: 0.4369 - acc: 0.7913 - val_loss: 0.4061 - val_acc: 0.8423\n",
      "Epoch 81/100\n",
      "781/781 [==============================] - 4s 5ms/step - loss: 0.4360 - acc: 0.8092 - val_loss: 0.4058 - val_acc: 0.8423\n",
      "Epoch 82/100\n",
      "781/781 [==============================] - 4s 5ms/step - loss: 0.4282 - acc: 0.7990 - val_loss: 0.4070 - val_acc: 0.8423\n",
      "Epoch 83/100\n",
      "781/781 [==============================] - 4s 6ms/step - loss: 0.4225 - acc: 0.8220 - val_loss: 0.4065 - val_acc: 0.8452\n",
      "Epoch 84/100\n",
      "781/781 [==============================] - 4s 5ms/step - loss: 0.4365 - acc: 0.7849 - val_loss: 0.4054 - val_acc: 0.8452\n",
      "Epoch 85/100\n",
      "781/781 [==============================] - 4s 6ms/step - loss: 0.4152 - acc: 0.8041 - val_loss: 0.4065 - val_acc: 0.8393\n",
      "Epoch 86/100\n",
      "781/781 [==============================] - 4s 5ms/step - loss: 0.4135 - acc: 0.8118 - val_loss: 0.4045 - val_acc: 0.8452\n",
      "Epoch 87/100\n",
      "781/781 [==============================] - 4s 6ms/step - loss: 0.4312 - acc: 0.7951 - val_loss: 0.4042 - val_acc: 0.8423\n",
      "Epoch 88/100\n",
      "781/781 [==============================] - 4s 5ms/step - loss: 0.4473 - acc: 0.8028 - val_loss: 0.4054 - val_acc: 0.8423\n",
      "Epoch 89/100\n",
      "781/781 [==============================] - 4s 6ms/step - loss: 0.4241 - acc: 0.8028 - val_loss: 0.4058 - val_acc: 0.8423\n",
      "Epoch 90/100\n",
      "781/781 [==============================] - 4s 5ms/step - loss: 0.4311 - acc: 0.7900 - val_loss: 0.4058 - val_acc: 0.8423\n",
      "Epoch 91/100\n",
      "781/781 [==============================] - 4s 5ms/step - loss: 0.3997 - acc: 0.8118 - val_loss: 0.4061 - val_acc: 0.8393\n",
      "CPU times: user 13min 36s, sys: 12min, total: 25min 37s\n",
      "Wall time: 7min 10s\n"
     ]
    }
   ],
   "source": [
    "%%time\n",
    "lstm_model = create_lstm_model(n_lstm=4)\n",
    "es = EarlyStopping(monitor='val_loss', patience=4)\n",
    "mcp = ModelCheckpoint(filepath='bi_lstm4.h5', monitor='val_loss', save_best_only=True, save_weights_only=False)\n",
    "history4=lstm_model.fit(col_fire_12_g, col_fire_12_lb, callbacks=[es, mcp], validation_split=0.3, batch_size=64, epochs=100)"
   ]
  },
  {
   "cell_type": "code",
   "execution_count": 32,
   "metadata": {},
   "outputs": [
    {
     "name": "stdout",
     "output_type": "stream",
     "text": [
      "Train on 781 samples, validate on 336 samples\n",
      "Epoch 1/100\n",
      "781/781 [==============================] - 9s 12ms/step - loss: 1.1390 - acc: 0.5864 - val_loss: 1.1096 - val_acc: 0.6161\n",
      "Epoch 2/100\n",
      "781/781 [==============================] - 5s 7ms/step - loss: 1.0955 - acc: 0.5864 - val_loss: 1.0668 - val_acc: 0.6071\n",
      "Epoch 3/100\n",
      "781/781 [==============================] - 5s 6ms/step - loss: 1.0482 - acc: 0.6248 - val_loss: 1.0274 - val_acc: 0.6042\n",
      "Epoch 4/100\n",
      "781/781 [==============================] - 4s 6ms/step - loss: 1.0138 - acc: 0.6056 - val_loss: 0.9902 - val_acc: 0.6220\n",
      "Epoch 5/100\n",
      "781/781 [==============================] - 5s 7ms/step - loss: 0.9761 - acc: 0.6261 - val_loss: 0.9540 - val_acc: 0.6250\n",
      "Epoch 6/100\n",
      "781/781 [==============================] - 5s 6ms/step - loss: 0.9448 - acc: 0.6312 - val_loss: 0.9197 - val_acc: 0.6280\n",
      "Epoch 7/100\n",
      "781/781 [==============================] - 4s 5ms/step - loss: 0.9064 - acc: 0.6812 - val_loss: 0.8866 - val_acc: 0.6577\n",
      "Epoch 8/100\n",
      "781/781 [==============================] - 5s 6ms/step - loss: 0.8816 - acc: 0.6517 - val_loss: 0.8553 - val_acc: 0.6607\n",
      "Epoch 9/100\n",
      "781/781 [==============================] - 4s 6ms/step - loss: 0.8498 - acc: 0.6671 - val_loss: 0.8251 - val_acc: 0.6756\n",
      "Epoch 10/100\n",
      "781/781 [==============================] - 5s 7ms/step - loss: 0.8306 - acc: 0.6722 - val_loss: 0.7987 - val_acc: 0.6905\n",
      "Epoch 11/100\n",
      "781/781 [==============================] - 5s 7ms/step - loss: 0.7978 - acc: 0.6863 - val_loss: 0.7716 - val_acc: 0.6964\n",
      "Epoch 12/100\n",
      "781/781 [==============================] - 5s 6ms/step - loss: 0.7701 - acc: 0.7068 - val_loss: 0.7422 - val_acc: 0.7143\n",
      "Epoch 13/100\n",
      "781/781 [==============================] - 4s 6ms/step - loss: 0.7572 - acc: 0.6991 - val_loss: 0.7162 - val_acc: 0.7232\n",
      "Epoch 14/100\n",
      "781/781 [==============================] - 5s 6ms/step - loss: 0.7379 - acc: 0.7042 - val_loss: 0.6920 - val_acc: 0.7292\n",
      "Epoch 15/100\n",
      "781/781 [==============================] - 5s 6ms/step - loss: 0.7180 - acc: 0.6850 - val_loss: 0.6699 - val_acc: 0.7292\n",
      "Epoch 16/100\n",
      "781/781 [==============================] - 5s 6ms/step - loss: 0.6928 - acc: 0.7222 - val_loss: 0.6478 - val_acc: 0.7470\n",
      "Epoch 17/100\n",
      "781/781 [==============================] - 5s 6ms/step - loss: 0.6626 - acc: 0.7081 - val_loss: 0.6281 - val_acc: 0.7679\n",
      "Epoch 18/100\n",
      "781/781 [==============================] - 4s 5ms/step - loss: 0.6516 - acc: 0.7375 - val_loss: 0.6113 - val_acc: 0.7560\n",
      "Epoch 19/100\n",
      "781/781 [==============================] - 4s 5ms/step - loss: 0.6354 - acc: 0.7401 - val_loss: 0.5987 - val_acc: 0.7589\n",
      "Epoch 20/100\n",
      "781/781 [==============================] - 5s 6ms/step - loss: 0.6201 - acc: 0.7234 - val_loss: 0.5796 - val_acc: 0.7827\n",
      "Epoch 21/100\n",
      "781/781 [==============================] - 4s 5ms/step - loss: 0.6160 - acc: 0.7209 - val_loss: 0.5638 - val_acc: 0.7798\n",
      "Epoch 22/100\n",
      "781/781 [==============================] - 4s 5ms/step - loss: 0.5924 - acc: 0.7426 - val_loss: 0.5492 - val_acc: 0.7946\n",
      "Epoch 23/100\n",
      "781/781 [==============================] - 4s 5ms/step - loss: 0.5936 - acc: 0.7183 - val_loss: 0.5391 - val_acc: 0.8036\n",
      "Epoch 24/100\n",
      "781/781 [==============================] - 4s 5ms/step - loss: 0.5851 - acc: 0.7503 - val_loss: 0.5304 - val_acc: 0.8006\n",
      "Epoch 25/100\n",
      "781/781 [==============================] - 4s 5ms/step - loss: 0.5674 - acc: 0.7631 - val_loss: 0.5217 - val_acc: 0.8065\n",
      "Epoch 26/100\n",
      "781/781 [==============================] - 4s 5ms/step - loss: 0.5614 - acc: 0.7606 - val_loss: 0.5124 - val_acc: 0.8095\n",
      "Epoch 27/100\n",
      "781/781 [==============================] - 4s 5ms/step - loss: 0.5570 - acc: 0.7567 - val_loss: 0.5035 - val_acc: 0.8125\n",
      "Epoch 28/100\n",
      "781/781 [==============================] - 4s 5ms/step - loss: 0.5402 - acc: 0.7606 - val_loss: 0.4950 - val_acc: 0.8155\n",
      "Epoch 29/100\n",
      "781/781 [==============================] - 4s 6ms/step - loss: 0.5230 - acc: 0.7657 - val_loss: 0.4873 - val_acc: 0.8185\n",
      "Epoch 30/100\n",
      "781/781 [==============================] - 4s 5ms/step - loss: 0.5339 - acc: 0.7567 - val_loss: 0.4808 - val_acc: 0.8274\n",
      "Epoch 31/100\n",
      "781/781 [==============================] - 4s 5ms/step - loss: 0.5112 - acc: 0.7772 - val_loss: 0.4751 - val_acc: 0.8155\n",
      "Epoch 32/100\n",
      "781/781 [==============================] - 4s 5ms/step - loss: 0.5160 - acc: 0.7644 - val_loss: 0.4684 - val_acc: 0.8214\n",
      "Epoch 33/100\n",
      "781/781 [==============================] - 4s 5ms/step - loss: 0.5020 - acc: 0.7682 - val_loss: 0.4637 - val_acc: 0.8244\n",
      "Epoch 34/100\n",
      "781/781 [==============================] - 4s 5ms/step - loss: 0.5233 - acc: 0.7452 - val_loss: 0.4585 - val_acc: 0.8185\n",
      "Epoch 35/100\n",
      "781/781 [==============================] - 5s 6ms/step - loss: 0.4904 - acc: 0.7849 - val_loss: 0.4547 - val_acc: 0.8274\n",
      "Epoch 36/100\n",
      "781/781 [==============================] - 5s 6ms/step - loss: 0.4680 - acc: 0.7862 - val_loss: 0.4502 - val_acc: 0.8214\n",
      "Epoch 37/100\n",
      "781/781 [==============================] - 5s 6ms/step - loss: 0.4974 - acc: 0.7606 - val_loss: 0.4463 - val_acc: 0.8244\n",
      "Epoch 38/100\n",
      "781/781 [==============================] - 4s 6ms/step - loss: 0.4871 - acc: 0.7759 - val_loss: 0.4417 - val_acc: 0.8274\n",
      "Epoch 39/100\n",
      "781/781 [==============================] - 4s 5ms/step - loss: 0.4946 - acc: 0.7759 - val_loss: 0.4381 - val_acc: 0.8274\n",
      "Epoch 40/100\n",
      "781/781 [==============================] - 4s 6ms/step - loss: 0.4748 - acc: 0.7798 - val_loss: 0.4348 - val_acc: 0.8304\n",
      "Epoch 41/100\n",
      "781/781 [==============================] - 4s 6ms/step - loss: 0.4718 - acc: 0.7618 - val_loss: 0.4335 - val_acc: 0.8274\n",
      "Epoch 42/100\n",
      "781/781 [==============================] - 4s 6ms/step - loss: 0.4556 - acc: 0.7875 - val_loss: 0.4287 - val_acc: 0.8274\n",
      "Epoch 43/100\n",
      "781/781 [==============================] - 4s 5ms/step - loss: 0.4762 - acc: 0.7926 - val_loss: 0.4256 - val_acc: 0.8274\n",
      "Epoch 44/100\n",
      "781/781 [==============================] - 4s 6ms/step - loss: 0.4576 - acc: 0.8028 - val_loss: 0.4238 - val_acc: 0.8274\n",
      "Epoch 45/100\n",
      "781/781 [==============================] - 5s 6ms/step - loss: 0.4865 - acc: 0.7810 - val_loss: 0.4229 - val_acc: 0.8363\n",
      "Epoch 46/100\n",
      "781/781 [==============================] - 5s 6ms/step - loss: 0.4631 - acc: 0.7926 - val_loss: 0.4203 - val_acc: 0.8393\n",
      "Epoch 47/100\n",
      "781/781 [==============================] - 4s 6ms/step - loss: 0.4597 - acc: 0.7862 - val_loss: 0.4163 - val_acc: 0.8274\n",
      "Epoch 48/100\n",
      "781/781 [==============================] - 4s 5ms/step - loss: 0.4685 - acc: 0.7580 - val_loss: 0.4136 - val_acc: 0.8363\n",
      "Epoch 49/100\n",
      "781/781 [==============================] - 4s 5ms/step - loss: 0.4643 - acc: 0.7887 - val_loss: 0.4118 - val_acc: 0.8333\n",
      "Epoch 50/100\n",
      "781/781 [==============================] - 4s 5ms/step - loss: 0.4474 - acc: 0.8003 - val_loss: 0.4118 - val_acc: 0.8393\n",
      "Epoch 51/100\n",
      "781/781 [==============================] - 4s 6ms/step - loss: 0.4610 - acc: 0.7887 - val_loss: 0.4082 - val_acc: 0.8423\n",
      "Epoch 52/100\n",
      "781/781 [==============================] - 4s 5ms/step - loss: 0.4372 - acc: 0.8028 - val_loss: 0.4065 - val_acc: 0.8423\n",
      "Epoch 53/100\n",
      "781/781 [==============================] - 4s 6ms/step - loss: 0.4477 - acc: 0.7951 - val_loss: 0.4066 - val_acc: 0.8452\n",
      "Epoch 54/100\n",
      "781/781 [==============================] - 5s 7ms/step - loss: 0.4338 - acc: 0.7964 - val_loss: 0.4044 - val_acc: 0.8482\n",
      "Epoch 55/100\n",
      "781/781 [==============================] - 6s 7ms/step - loss: 0.4589 - acc: 0.7721 - val_loss: 0.4020 - val_acc: 0.8482\n",
      "Epoch 56/100\n",
      "781/781 [==============================] - 5s 6ms/step - loss: 0.4439 - acc: 0.8041 - val_loss: 0.3999 - val_acc: 0.8482\n",
      "Epoch 57/100\n",
      "781/781 [==============================] - 5s 6ms/step - loss: 0.4298 - acc: 0.8079 - val_loss: 0.3987 - val_acc: 0.8482\n",
      "Epoch 58/100\n",
      "781/781 [==============================] - 4s 6ms/step - loss: 0.4441 - acc: 0.7887 - val_loss: 0.3966 - val_acc: 0.8482\n",
      "Epoch 59/100\n",
      "781/781 [==============================] - 4s 5ms/step - loss: 0.4312 - acc: 0.8079 - val_loss: 0.3957 - val_acc: 0.8423\n",
      "Epoch 60/100\n",
      "781/781 [==============================] - 4s 5ms/step - loss: 0.4471 - acc: 0.7977 - val_loss: 0.3944 - val_acc: 0.8452\n",
      "Epoch 61/100\n",
      "781/781 [==============================] - 4s 5ms/step - loss: 0.4381 - acc: 0.8003 - val_loss: 0.3934 - val_acc: 0.8423\n"
     ]
    },
    {
     "name": "stdout",
     "output_type": "stream",
     "text": [
      "Epoch 62/100\n",
      "781/781 [==============================] - 5s 6ms/step - loss: 0.4289 - acc: 0.8220 - val_loss: 0.3936 - val_acc: 0.8482\n",
      "Epoch 63/100\n",
      "781/781 [==============================] - 5s 6ms/step - loss: 0.4254 - acc: 0.7964 - val_loss: 0.3929 - val_acc: 0.8542\n",
      "Epoch 64/100\n",
      "781/781 [==============================] - 4s 5ms/step - loss: 0.4143 - acc: 0.8143 - val_loss: 0.3936 - val_acc: 0.8452\n",
      "Epoch 65/100\n",
      "781/781 [==============================] - 4s 5ms/step - loss: 0.4192 - acc: 0.8003 - val_loss: 0.3933 - val_acc: 0.8512\n",
      "Epoch 66/100\n",
      "781/781 [==============================] - 4s 5ms/step - loss: 0.4172 - acc: 0.7951 - val_loss: 0.3933 - val_acc: 0.8423\n",
      "Epoch 67/100\n",
      "781/781 [==============================] - 5s 6ms/step - loss: 0.4008 - acc: 0.8233 - val_loss: 0.3895 - val_acc: 0.8512\n",
      "Epoch 68/100\n",
      "781/781 [==============================] - 4s 6ms/step - loss: 0.4333 - acc: 0.7964 - val_loss: 0.3893 - val_acc: 0.8512\n",
      "Epoch 69/100\n",
      "781/781 [==============================] - 4s 6ms/step - loss: 0.4132 - acc: 0.8105 - val_loss: 0.3921 - val_acc: 0.8363\n",
      "Epoch 70/100\n",
      "781/781 [==============================] - 4s 5ms/step - loss: 0.4211 - acc: 0.8143 - val_loss: 0.3887 - val_acc: 0.8482\n",
      "Epoch 71/100\n",
      "781/781 [==============================] - 4s 5ms/step - loss: 0.4064 - acc: 0.8195 - val_loss: 0.3883 - val_acc: 0.8452\n",
      "Epoch 72/100\n",
      "781/781 [==============================] - 4s 6ms/step - loss: 0.4295 - acc: 0.8054 - val_loss: 0.3865 - val_acc: 0.8482\n",
      "Epoch 73/100\n",
      "781/781 [==============================] - 5s 6ms/step - loss: 0.4003 - acc: 0.8323 - val_loss: 0.3854 - val_acc: 0.8512\n",
      "Epoch 74/100\n",
      "781/781 [==============================] - 5s 6ms/step - loss: 0.4138 - acc: 0.8028 - val_loss: 0.3851 - val_acc: 0.8482\n",
      "Epoch 75/100\n",
      "781/781 [==============================] - 5s 6ms/step - loss: 0.4193 - acc: 0.8041 - val_loss: 0.3839 - val_acc: 0.8482\n",
      "Epoch 76/100\n",
      "781/781 [==============================] - 5s 6ms/step - loss: 0.4339 - acc: 0.7900 - val_loss: 0.3844 - val_acc: 0.8482\n",
      "Epoch 77/100\n",
      "781/781 [==============================] - 5s 6ms/step - loss: 0.3971 - acc: 0.8271 - val_loss: 0.3826 - val_acc: 0.8542\n",
      "Epoch 78/100\n",
      "781/781 [==============================] - 5s 6ms/step - loss: 0.4186 - acc: 0.7990 - val_loss: 0.3849 - val_acc: 0.8423\n",
      "Epoch 79/100\n",
      "781/781 [==============================] - 4s 5ms/step - loss: 0.4258 - acc: 0.7990 - val_loss: 0.3827 - val_acc: 0.8512\n",
      "Epoch 80/100\n",
      "781/781 [==============================] - 4s 5ms/step - loss: 0.4034 - acc: 0.8195 - val_loss: 0.3816 - val_acc: 0.8542\n",
      "Epoch 81/100\n",
      "781/781 [==============================] - 4s 5ms/step - loss: 0.4124 - acc: 0.8105 - val_loss: 0.3811 - val_acc: 0.8542\n",
      "Epoch 82/100\n",
      "781/781 [==============================] - 4s 5ms/step - loss: 0.3968 - acc: 0.8233 - val_loss: 0.3809 - val_acc: 0.8571\n",
      "Epoch 83/100\n",
      "781/781 [==============================] - 4s 5ms/step - loss: 0.4466 - acc: 0.7913 - val_loss: 0.3827 - val_acc: 0.8452\n",
      "Epoch 84/100\n",
      "781/781 [==============================] - 4s 5ms/step - loss: 0.4114 - acc: 0.7939 - val_loss: 0.3811 - val_acc: 0.8512\n",
      "Epoch 85/100\n",
      "781/781 [==============================] - 4s 5ms/step - loss: 0.4056 - acc: 0.8156 - val_loss: 0.3807 - val_acc: 0.8512\n",
      "Epoch 86/100\n",
      "781/781 [==============================] - 4s 5ms/step - loss: 0.4117 - acc: 0.8131 - val_loss: 0.3801 - val_acc: 0.8542\n",
      "Epoch 87/100\n",
      "781/781 [==============================] - 4s 5ms/step - loss: 0.4206 - acc: 0.8092 - val_loss: 0.3789 - val_acc: 0.8571\n",
      "Epoch 88/100\n",
      "781/781 [==============================] - 4s 6ms/step - loss: 0.3957 - acc: 0.8220 - val_loss: 0.3789 - val_acc: 0.8542\n",
      "Epoch 89/100\n",
      "781/781 [==============================] - 5s 6ms/step - loss: 0.4028 - acc: 0.8041 - val_loss: 0.3815 - val_acc: 0.8452\n",
      "Epoch 90/100\n",
      "781/781 [==============================] - 5s 7ms/step - loss: 0.3899 - acc: 0.8156 - val_loss: 0.3825 - val_acc: 0.8452\n",
      "Epoch 91/100\n",
      "781/781 [==============================] - 5s 7ms/step - loss: 0.4044 - acc: 0.8118 - val_loss: 0.3798 - val_acc: 0.8452\n",
      "CPU times: user 13min 26s, sys: 11min 56s, total: 25min 22s\n",
      "Wall time: 6min 59s\n"
     ]
    }
   ],
   "source": [
    "%%time\n",
    "lstm_model = create_lstm_model(n_lstm=8)\n",
    "es = EarlyStopping(monitor='val_loss', patience=4)\n",
    "mcp = ModelCheckpoint(filepath='bi_lstm8.h5', monitor='val_loss', save_best_only=True, save_weights_only=False)\n",
    "history8=lstm_model.fit(col_fire_12_g, col_fire_12_lb, callbacks=[es, mcp], validation_split=0.3, batch_size=64, epochs=100)"
   ]
  },
  {
   "cell_type": "code",
   "execution_count": 33,
   "metadata": {},
   "outputs": [
    {
     "name": "stdout",
     "output_type": "stream",
     "text": [
      "Train on 781 samples, validate on 336 samples\n",
      "Epoch 1/100\n",
      "781/781 [==============================] - 10s 13ms/step - loss: 1.7231 - acc: 0.4533 - val_loss: 1.6346 - val_acc: 0.4524\n",
      "Epoch 2/100\n",
      "781/781 [==============================] - 4s 6ms/step - loss: 1.5753 - acc: 0.4686 - val_loss: 1.5049 - val_acc: 0.5149\n",
      "Epoch 3/100\n",
      "781/781 [==============================] - 5s 6ms/step - loss: 1.4648 - acc: 0.5442 - val_loss: 1.4151 - val_acc: 0.5476\n",
      "Epoch 4/100\n",
      "781/781 [==============================] - 4s 6ms/step - loss: 1.3840 - acc: 0.5723 - val_loss: 1.3434 - val_acc: 0.5655\n",
      "Epoch 5/100\n",
      "781/781 [==============================] - 4s 6ms/step - loss: 1.3132 - acc: 0.5864 - val_loss: 1.2748 - val_acc: 0.6071\n",
      "Epoch 6/100\n",
      "781/781 [==============================] - 4s 6ms/step - loss: 1.2519 - acc: 0.6031 - val_loss: 1.2100 - val_acc: 0.6250\n",
      "Epoch 7/100\n",
      "781/781 [==============================] - 4s 5ms/step - loss: 1.1812 - acc: 0.6223 - val_loss: 1.1470 - val_acc: 0.6369\n",
      "Epoch 8/100\n",
      "781/781 [==============================] - 4s 5ms/step - loss: 1.1252 - acc: 0.6402 - val_loss: 1.0852 - val_acc: 0.6756\n",
      "Epoch 9/100\n",
      "781/781 [==============================] - 5s 7ms/step - loss: 1.0734 - acc: 0.6697 - val_loss: 1.0275 - val_acc: 0.6815\n",
      "Epoch 10/100\n",
      "781/781 [==============================] - 5s 7ms/step - loss: 1.0269 - acc: 0.6530 - val_loss: 0.9759 - val_acc: 0.6875\n",
      "Epoch 11/100\n",
      "781/781 [==============================] - 6s 7ms/step - loss: 0.9658 - acc: 0.7132 - val_loss: 0.9210 - val_acc: 0.7292\n",
      "Epoch 12/100\n",
      "781/781 [==============================] - 6s 7ms/step - loss: 0.9336 - acc: 0.7004 - val_loss: 0.8740 - val_acc: 0.7202\n",
      "Epoch 13/100\n",
      "781/781 [==============================] - 6s 7ms/step - loss: 0.8818 - acc: 0.7081 - val_loss: 0.8332 - val_acc: 0.7411\n",
      "Epoch 14/100\n",
      "781/781 [==============================] - 5s 6ms/step - loss: 0.8392 - acc: 0.7311 - val_loss: 0.8010 - val_acc: 0.7530\n",
      "Epoch 15/100\n",
      "781/781 [==============================] - 4s 5ms/step - loss: 0.8076 - acc: 0.7324 - val_loss: 0.7597 - val_acc: 0.7500\n",
      "Epoch 16/100\n",
      "781/781 [==============================] - 5s 6ms/step - loss: 0.7734 - acc: 0.7388 - val_loss: 0.7257 - val_acc: 0.7411\n",
      "Epoch 17/100\n",
      "781/781 [==============================] - 5s 6ms/step - loss: 0.7613 - acc: 0.7350 - val_loss: 0.7007 - val_acc: 0.7500\n",
      "Epoch 18/100\n",
      "781/781 [==============================] - 5s 6ms/step - loss: 0.7070 - acc: 0.7618 - val_loss: 0.6852 - val_acc: 0.7619\n",
      "Epoch 19/100\n",
      "781/781 [==============================] - 4s 6ms/step - loss: 0.6981 - acc: 0.7593 - val_loss: 0.6601 - val_acc: 0.7619\n",
      "Epoch 20/100\n",
      "781/781 [==============================] - 5s 6ms/step - loss: 0.6929 - acc: 0.7529 - val_loss: 0.6345 - val_acc: 0.7738\n",
      "Epoch 21/100\n",
      "781/781 [==============================] - 5s 6ms/step - loss: 0.6511 - acc: 0.7682 - val_loss: 0.6119 - val_acc: 0.7768\n",
      "Epoch 22/100\n",
      "781/781 [==============================] - 4s 5ms/step - loss: 0.6381 - acc: 0.7746 - val_loss: 0.5961 - val_acc: 0.7798\n",
      "Epoch 23/100\n",
      "781/781 [==============================] - 4s 6ms/step - loss: 0.6280 - acc: 0.7606 - val_loss: 0.5798 - val_acc: 0.7768\n",
      "Epoch 24/100\n",
      "781/781 [==============================] - 4s 5ms/step - loss: 0.6058 - acc: 0.7478 - val_loss: 0.5703 - val_acc: 0.7917\n",
      "Epoch 25/100\n",
      "781/781 [==============================] - 4s 6ms/step - loss: 0.5878 - acc: 0.7734 - val_loss: 0.5510 - val_acc: 0.7946\n",
      "Epoch 26/100\n",
      "781/781 [==============================] - 4s 5ms/step - loss: 0.5880 - acc: 0.7759 - val_loss: 0.5367 - val_acc: 0.7917\n",
      "Epoch 27/100\n",
      "781/781 [==============================] - 4s 6ms/step - loss: 0.5590 - acc: 0.7759 - val_loss: 0.5250 - val_acc: 0.7946\n",
      "Epoch 28/100\n",
      "781/781 [==============================] - 4s 5ms/step - loss: 0.5523 - acc: 0.7567 - val_loss: 0.5155 - val_acc: 0.8036\n",
      "Epoch 29/100\n",
      "781/781 [==============================] - 5s 6ms/step - loss: 0.5439 - acc: 0.7721 - val_loss: 0.5048 - val_acc: 0.8006\n",
      "Epoch 30/100\n",
      "781/781 [==============================] - 4s 6ms/step - loss: 0.5051 - acc: 0.8028 - val_loss: 0.4948 - val_acc: 0.8065\n",
      "Epoch 31/100\n",
      "781/781 [==============================] - 5s 6ms/step - loss: 0.5386 - acc: 0.7734 - val_loss: 0.4968 - val_acc: 0.8065\n",
      "Epoch 32/100\n",
      "781/781 [==============================] - 4s 6ms/step - loss: 0.5428 - acc: 0.7580 - val_loss: 0.4793 - val_acc: 0.8065\n",
      "Epoch 33/100\n",
      "781/781 [==============================] - 4s 5ms/step - loss: 0.5185 - acc: 0.7746 - val_loss: 0.4804 - val_acc: 0.8095\n",
      "Epoch 34/100\n",
      "781/781 [==============================] - 4s 5ms/step - loss: 0.5021 - acc: 0.7810 - val_loss: 0.4741 - val_acc: 0.8125\n",
      "Epoch 35/100\n",
      "781/781 [==============================] - 4s 6ms/step - loss: 0.4954 - acc: 0.7810 - val_loss: 0.4624 - val_acc: 0.8095\n",
      "Epoch 36/100\n",
      "781/781 [==============================] - 4s 6ms/step - loss: 0.4750 - acc: 0.8079 - val_loss: 0.4596 - val_acc: 0.8095\n",
      "Epoch 37/100\n",
      "781/781 [==============================] - 4s 5ms/step - loss: 0.4832 - acc: 0.7836 - val_loss: 0.4565 - val_acc: 0.8095\n",
      "Epoch 38/100\n",
      "781/781 [==============================] - 4s 6ms/step - loss: 0.4750 - acc: 0.8067 - val_loss: 0.4518 - val_acc: 0.8125\n",
      "Epoch 39/100\n",
      "781/781 [==============================] - 4s 5ms/step - loss: 0.4661 - acc: 0.8054 - val_loss: 0.4448 - val_acc: 0.8036\n",
      "Epoch 40/100\n",
      "781/781 [==============================] - 4s 6ms/step - loss: 0.4690 - acc: 0.7990 - val_loss: 0.4413 - val_acc: 0.8125\n",
      "Epoch 41/100\n",
      "781/781 [==============================] - 4s 5ms/step - loss: 0.4721 - acc: 0.7734 - val_loss: 0.4506 - val_acc: 0.8155\n",
      "Epoch 42/100\n",
      "781/781 [==============================] - 4s 6ms/step - loss: 0.4676 - acc: 0.7964 - val_loss: 0.4428 - val_acc: 0.8214\n",
      "Epoch 43/100\n",
      "781/781 [==============================] - 4s 6ms/step - loss: 0.4699 - acc: 0.7939 - val_loss: 0.4349 - val_acc: 0.8214\n",
      "Epoch 44/100\n",
      "781/781 [==============================] - 4s 5ms/step - loss: 0.4499 - acc: 0.8118 - val_loss: 0.4319 - val_acc: 0.8244\n",
      "Epoch 45/100\n",
      "781/781 [==============================] - 4s 5ms/step - loss: 0.4600 - acc: 0.7875 - val_loss: 0.4278 - val_acc: 0.8214\n",
      "Epoch 46/100\n",
      "781/781 [==============================] - 4s 5ms/step - loss: 0.4492 - acc: 0.7964 - val_loss: 0.4221 - val_acc: 0.8274\n",
      "Epoch 47/100\n",
      "781/781 [==============================] - 4s 6ms/step - loss: 0.4349 - acc: 0.8079 - val_loss: 0.4181 - val_acc: 0.8274\n",
      "Epoch 48/100\n",
      "781/781 [==============================] - 4s 6ms/step - loss: 0.4634 - acc: 0.7785 - val_loss: 0.4312 - val_acc: 0.8214\n",
      "Epoch 49/100\n",
      "781/781 [==============================] - 4s 5ms/step - loss: 0.4082 - acc: 0.8259 - val_loss: 0.4195 - val_acc: 0.8304\n",
      "Epoch 50/100\n",
      "781/781 [==============================] - 4s 6ms/step - loss: 0.4395 - acc: 0.7990 - val_loss: 0.4120 - val_acc: 0.8244\n",
      "Epoch 51/100\n",
      "781/781 [==============================] - 4s 5ms/step - loss: 0.4344 - acc: 0.8092 - val_loss: 0.4116 - val_acc: 0.8274\n",
      "Epoch 52/100\n",
      "781/781 [==============================] - 4s 6ms/step - loss: 0.4320 - acc: 0.7939 - val_loss: 0.4106 - val_acc: 0.8274\n",
      "Epoch 53/100\n",
      "781/781 [==============================] - 4s 5ms/step - loss: 0.4408 - acc: 0.7926 - val_loss: 0.4085 - val_acc: 0.8304\n",
      "Epoch 54/100\n",
      "781/781 [==============================] - 4s 5ms/step - loss: 0.4169 - acc: 0.8156 - val_loss: 0.4095 - val_acc: 0.8333\n",
      "Epoch 55/100\n",
      "781/781 [==============================] - 4s 5ms/step - loss: 0.4117 - acc: 0.8118 - val_loss: 0.4102 - val_acc: 0.8333\n",
      "Epoch 56/100\n",
      "781/781 [==============================] - 4s 6ms/step - loss: 0.4172 - acc: 0.8156 - val_loss: 0.4019 - val_acc: 0.8244\n",
      "Epoch 57/100\n",
      "781/781 [==============================] - 4s 5ms/step - loss: 0.4258 - acc: 0.8092 - val_loss: 0.4085 - val_acc: 0.8333\n",
      "Epoch 58/100\n",
      "781/781 [==============================] - 4s 6ms/step - loss: 0.4160 - acc: 0.8041 - val_loss: 0.4032 - val_acc: 0.8244\n",
      "Epoch 59/100\n",
      "781/781 [==============================] - 4s 6ms/step - loss: 0.4110 - acc: 0.8233 - val_loss: 0.4027 - val_acc: 0.8185\n",
      "Epoch 60/100\n",
      "781/781 [==============================] - 4s 5ms/step - loss: 0.4011 - acc: 0.8284 - val_loss: 0.4002 - val_acc: 0.8214\n",
      "Epoch 61/100\n",
      "781/781 [==============================] - 4s 5ms/step - loss: 0.4120 - acc: 0.8079 - val_loss: 0.4004 - val_acc: 0.8304\n"
     ]
    },
    {
     "name": "stdout",
     "output_type": "stream",
     "text": [
      "Epoch 62/100\n",
      "781/781 [==============================] - 4s 6ms/step - loss: 0.4169 - acc: 0.8067 - val_loss: 0.3993 - val_acc: 0.8274\n",
      "Epoch 63/100\n",
      "781/781 [==============================] - 4s 6ms/step - loss: 0.4103 - acc: 0.8118 - val_loss: 0.3967 - val_acc: 0.8244\n",
      "Epoch 64/100\n",
      "781/781 [==============================] - 4s 6ms/step - loss: 0.3962 - acc: 0.8220 - val_loss: 0.4038 - val_acc: 0.8274\n",
      "Epoch 65/100\n",
      "781/781 [==============================] - 4s 6ms/step - loss: 0.4089 - acc: 0.8182 - val_loss: 0.3966 - val_acc: 0.8244\n",
      "Epoch 66/100\n",
      "781/781 [==============================] - 4s 6ms/step - loss: 0.4054 - acc: 0.8233 - val_loss: 0.4005 - val_acc: 0.8244\n",
      "Epoch 67/100\n",
      "781/781 [==============================] - 4s 5ms/step - loss: 0.3947 - acc: 0.8348 - val_loss: 0.3989 - val_acc: 0.8304\n",
      "Epoch 68/100\n",
      "781/781 [==============================] - 4s 5ms/step - loss: 0.4036 - acc: 0.7990 - val_loss: 0.3919 - val_acc: 0.8363\n",
      "Epoch 69/100\n",
      "781/781 [==============================] - 4s 5ms/step - loss: 0.3928 - acc: 0.8246 - val_loss: 0.3917 - val_acc: 0.8274\n",
      "Epoch 70/100\n",
      "781/781 [==============================] - 4s 5ms/step - loss: 0.4021 - acc: 0.8118 - val_loss: 0.4040 - val_acc: 0.8274\n",
      "Epoch 71/100\n",
      "781/781 [==============================] - 4s 5ms/step - loss: 0.4121 - acc: 0.7990 - val_loss: 0.3938 - val_acc: 0.8244\n",
      "Epoch 72/100\n",
      "781/781 [==============================] - 5s 6ms/step - loss: 0.4018 - acc: 0.8143 - val_loss: 0.3895 - val_acc: 0.8393\n",
      "Epoch 73/100\n",
      "781/781 [==============================] - 5s 7ms/step - loss: 0.3846 - acc: 0.8387 - val_loss: 0.3914 - val_acc: 0.8304\n",
      "Epoch 74/100\n",
      "781/781 [==============================] - 5s 7ms/step - loss: 0.3922 - acc: 0.8143 - val_loss: 0.3937 - val_acc: 0.8274\n",
      "Epoch 75/100\n",
      "781/781 [==============================] - 4s 6ms/step - loss: 0.3748 - acc: 0.8310 - val_loss: 0.3965 - val_acc: 0.8333\n",
      "Epoch 76/100\n",
      "781/781 [==============================] - 5s 7ms/step - loss: 0.3734 - acc: 0.8412 - val_loss: 0.3940 - val_acc: 0.8363\n",
      "CPU times: user 11min 28s, sys: 9min 45s, total: 21min 13s\n",
      "Wall time: 5min 52s\n"
     ]
    }
   ],
   "source": [
    "%%time\n",
    "lstm_model = create_lstm_model(n_lstm=16)\n",
    "es = EarlyStopping(monitor='val_loss', patience=4)\n",
    "mcp = ModelCheckpoint(filepath='bi_lstm16.h5', monitor='val_loss', save_best_only=True, save_weights_only=False)\n",
    "history16=lstm_model.fit(col_fire_12_g, col_fire_12_lb, callbacks=[es, mcp], validation_split=0.3, batch_size=64, epochs=100)"
   ]
  },
  {
   "cell_type": "code",
   "execution_count": 30,
   "metadata": {},
   "outputs": [
    {
     "name": "stdout",
     "output_type": "stream",
     "text": [
      "Train on 781 samples, validate on 336 samples\n",
      "Epoch 1/100\n",
      "781/781 [==============================] - 8s 11ms/step - loss: 2.5745 - acc: 0.5538 - val_loss: 2.4585 - val_acc: 0.5714\n",
      "Epoch 2/100\n",
      "781/781 [==============================] - 4s 6ms/step - loss: 2.3986 - acc: 0.5903 - val_loss: 2.2984 - val_acc: 0.5744\n",
      "Epoch 3/100\n",
      "781/781 [==============================] - 4s 6ms/step - loss: 2.2464 - acc: 0.6005 - val_loss: 2.1410 - val_acc: 0.6310\n",
      "Epoch 4/100\n",
      "781/781 [==============================] - 4s 6ms/step - loss: 2.1052 - acc: 0.6415 - val_loss: 1.9968 - val_acc: 0.6815\n",
      "Epoch 5/100\n",
      "781/781 [==============================] - 4s 6ms/step - loss: 1.9586 - acc: 0.6581 - val_loss: 1.8618 - val_acc: 0.7083\n",
      "Epoch 6/100\n",
      "781/781 [==============================] - 4s 6ms/step - loss: 1.8356 - acc: 0.6850 - val_loss: 1.7385 - val_acc: 0.7083\n",
      "Epoch 7/100\n",
      "781/781 [==============================] - 4s 6ms/step - loss: 1.7138 - acc: 0.6965 - val_loss: 1.6182 - val_acc: 0.7292\n",
      "Epoch 8/100\n",
      "781/781 [==============================] - 4s 6ms/step - loss: 1.6049 - acc: 0.6978 - val_loss: 1.5037 - val_acc: 0.7292\n",
      "Epoch 9/100\n",
      "781/781 [==============================] - 5s 6ms/step - loss: 1.4956 - acc: 0.7029 - val_loss: 1.3934 - val_acc: 0.7589\n",
      "Epoch 10/100\n",
      "781/781 [==============================] - 4s 6ms/step - loss: 1.3992 - acc: 0.7311 - val_loss: 1.3047 - val_acc: 0.7619\n",
      "Epoch 11/100\n",
      "781/781 [==============================] - 5s 6ms/step - loss: 1.3068 - acc: 0.7478 - val_loss: 1.2270 - val_acc: 0.7589\n",
      "Epoch 12/100\n",
      "781/781 [==============================] - 5s 6ms/step - loss: 1.2407 - acc: 0.7311 - val_loss: 1.1309 - val_acc: 0.7976\n",
      "Epoch 13/100\n",
      "781/781 [==============================] - 5s 6ms/step - loss: 1.1743 - acc: 0.7516 - val_loss: 1.0652 - val_acc: 0.8006\n",
      "Epoch 14/100\n",
      "781/781 [==============================] - 5s 6ms/step - loss: 1.1171 - acc: 0.7439 - val_loss: 1.0197 - val_acc: 0.7857\n",
      "Epoch 15/100\n",
      "781/781 [==============================] - 5s 6ms/step - loss: 1.0569 - acc: 0.7465 - val_loss: 0.9638 - val_acc: 0.7976\n",
      "Epoch 16/100\n",
      "781/781 [==============================] - 5s 6ms/step - loss: 0.9803 - acc: 0.7670 - val_loss: 0.9005 - val_acc: 0.8095\n",
      "Epoch 17/100\n",
      "781/781 [==============================] - 5s 6ms/step - loss: 0.9544 - acc: 0.7580 - val_loss: 0.8569 - val_acc: 0.8095\n",
      "Epoch 18/100\n",
      "781/781 [==============================] - 5s 6ms/step - loss: 0.8865 - acc: 0.7823 - val_loss: 0.8160 - val_acc: 0.8214\n",
      "Epoch 19/100\n",
      "781/781 [==============================] - 5s 6ms/step - loss: 0.8742 - acc: 0.7644 - val_loss: 0.7846 - val_acc: 0.8155\n",
      "Epoch 20/100\n",
      "781/781 [==============================] - 5s 6ms/step - loss: 0.8157 - acc: 0.7682 - val_loss: 0.7610 - val_acc: 0.8155\n",
      "Epoch 21/100\n",
      "781/781 [==============================] - 5s 6ms/step - loss: 0.7832 - acc: 0.7746 - val_loss: 0.7318 - val_acc: 0.8185\n",
      "Epoch 22/100\n",
      "781/781 [==============================] - 4s 6ms/step - loss: 0.7570 - acc: 0.7836 - val_loss: 0.6835 - val_acc: 0.8125\n",
      "Epoch 23/100\n",
      "781/781 [==============================] - 4s 6ms/step - loss: 0.7278 - acc: 0.7746 - val_loss: 0.6590 - val_acc: 0.8185\n",
      "Epoch 24/100\n",
      "781/781 [==============================] - 4s 6ms/step - loss: 0.6909 - acc: 0.7900 - val_loss: 0.6292 - val_acc: 0.8155\n",
      "Epoch 25/100\n",
      "781/781 [==============================] - 4s 6ms/step - loss: 0.6801 - acc: 0.7875 - val_loss: 0.6248 - val_acc: 0.8185\n",
      "Epoch 26/100\n",
      "781/781 [==============================] - 5s 6ms/step - loss: 0.6435 - acc: 0.7926 - val_loss: 0.5869 - val_acc: 0.8244\n",
      "Epoch 27/100\n",
      "781/781 [==============================] - 4s 6ms/step - loss: 0.6227 - acc: 0.7849 - val_loss: 0.5708 - val_acc: 0.8274\n",
      "Epoch 28/100\n",
      "781/781 [==============================] - 4s 6ms/step - loss: 0.6211 - acc: 0.7875 - val_loss: 0.5625 - val_acc: 0.8185\n",
      "Epoch 29/100\n",
      "781/781 [==============================] - 4s 6ms/step - loss: 0.6034 - acc: 0.7785 - val_loss: 0.5580 - val_acc: 0.8125\n",
      "Epoch 30/100\n",
      "781/781 [==============================] - 4s 6ms/step - loss: 0.5724 - acc: 0.8028 - val_loss: 0.5173 - val_acc: 0.8333\n",
      "Epoch 31/100\n",
      "781/781 [==============================] - 4s 6ms/step - loss: 0.5483 - acc: 0.8041 - val_loss: 0.5224 - val_acc: 0.8185\n",
      "Epoch 32/100\n",
      "781/781 [==============================] - 4s 6ms/step - loss: 0.5442 - acc: 0.8105 - val_loss: 0.4988 - val_acc: 0.8304\n",
      "Epoch 33/100\n",
      "781/781 [==============================] - 5s 6ms/step - loss: 0.5192 - acc: 0.7964 - val_loss: 0.4903 - val_acc: 0.8244\n",
      "Epoch 34/100\n",
      "781/781 [==============================] - 4s 6ms/step - loss: 0.4903 - acc: 0.8259 - val_loss: 0.4731 - val_acc: 0.8363\n",
      "Epoch 35/100\n",
      "781/781 [==============================] - 4s 6ms/step - loss: 0.5131 - acc: 0.8028 - val_loss: 0.4790 - val_acc: 0.8065\n",
      "Epoch 36/100\n",
      "781/781 [==============================] - 4s 6ms/step - loss: 0.4981 - acc: 0.8079 - val_loss: 0.4601 - val_acc: 0.8274\n",
      "Epoch 37/100\n",
      "781/781 [==============================] - 5s 7ms/step - loss: 0.4897 - acc: 0.8079 - val_loss: 0.4587 - val_acc: 0.8244\n",
      "Epoch 38/100\n",
      "781/781 [==============================] - 6s 8ms/step - loss: 0.4654 - acc: 0.8259 - val_loss: 0.4432 - val_acc: 0.8393\n",
      "Epoch 39/100\n",
      "781/781 [==============================] - 5s 6ms/step - loss: 0.4717 - acc: 0.8092 - val_loss: 0.4483 - val_acc: 0.8185\n",
      "Epoch 40/100\n",
      "781/781 [==============================] - 4s 6ms/step - loss: 0.4541 - acc: 0.8143 - val_loss: 0.4353 - val_acc: 0.8333\n",
      "Epoch 41/100\n",
      "781/781 [==============================] - 4s 6ms/step - loss: 0.4482 - acc: 0.8131 - val_loss: 0.4305 - val_acc: 0.8363\n",
      "Epoch 42/100\n",
      "781/781 [==============================] - 4s 6ms/step - loss: 0.4262 - acc: 0.8310 - val_loss: 0.4382 - val_acc: 0.8214\n",
      "Epoch 43/100\n",
      "781/781 [==============================] - 6s 7ms/step - loss: 0.4426 - acc: 0.8092 - val_loss: 0.4226 - val_acc: 0.8333\n",
      "Epoch 44/100\n",
      "781/781 [==============================] - 5s 6ms/step - loss: 0.4577 - acc: 0.8079 - val_loss: 0.4264 - val_acc: 0.8363\n",
      "Epoch 45/100\n",
      "781/781 [==============================] - 4s 5ms/step - loss: 0.4458 - acc: 0.8079 - val_loss: 0.4172 - val_acc: 0.8363\n",
      "Epoch 46/100\n",
      "781/781 [==============================] - 4s 6ms/step - loss: 0.4115 - acc: 0.8361 - val_loss: 0.4092 - val_acc: 0.8333\n",
      "Epoch 47/100\n",
      "781/781 [==============================] - 4s 6ms/step - loss: 0.4112 - acc: 0.8323 - val_loss: 0.4096 - val_acc: 0.8244\n",
      "Epoch 48/100\n",
      "781/781 [==============================] - 5s 6ms/step - loss: 0.4144 - acc: 0.8105 - val_loss: 0.4207 - val_acc: 0.8244\n",
      "Epoch 49/100\n",
      "781/781 [==============================] - 5s 6ms/step - loss: 0.4159 - acc: 0.8143 - val_loss: 0.4056 - val_acc: 0.8304\n",
      "Epoch 50/100\n",
      "781/781 [==============================] - 5s 6ms/step - loss: 0.4011 - acc: 0.8271 - val_loss: 0.4044 - val_acc: 0.8333\n",
      "Epoch 51/100\n",
      "781/781 [==============================] - 5s 6ms/step - loss: 0.3995 - acc: 0.8284 - val_loss: 0.4100 - val_acc: 0.8393\n",
      "Epoch 52/100\n",
      "781/781 [==============================] - 5s 7ms/step - loss: 0.4028 - acc: 0.8143 - val_loss: 0.3960 - val_acc: 0.8274\n",
      "Epoch 53/100\n",
      "781/781 [==============================] - 4s 6ms/step - loss: 0.4021 - acc: 0.8207 - val_loss: 0.4122 - val_acc: 0.8304\n",
      "Epoch 54/100\n",
      "781/781 [==============================] - 5s 6ms/step - loss: 0.3923 - acc: 0.8220 - val_loss: 0.4049 - val_acc: 0.8333\n",
      "Epoch 55/100\n",
      "781/781 [==============================] - 4s 6ms/step - loss: 0.3886 - acc: 0.8323 - val_loss: 0.3934 - val_acc: 0.8333\n",
      "Epoch 56/100\n",
      "781/781 [==============================] - 4s 6ms/step - loss: 0.3756 - acc: 0.8310 - val_loss: 0.3940 - val_acc: 0.8304\n",
      "Epoch 57/100\n",
      "781/781 [==============================] - 4s 6ms/step - loss: 0.3785 - acc: 0.8361 - val_loss: 0.3952 - val_acc: 0.8304\n",
      "Epoch 58/100\n",
      "781/781 [==============================] - 4s 6ms/step - loss: 0.3683 - acc: 0.8361 - val_loss: 0.3909 - val_acc: 0.8363\n",
      "Epoch 59/100\n",
      "781/781 [==============================] - 4s 6ms/step - loss: 0.3658 - acc: 0.8310 - val_loss: 0.3901 - val_acc: 0.8333\n",
      "Epoch 60/100\n",
      "781/781 [==============================] - 4s 6ms/step - loss: 0.3778 - acc: 0.8412 - val_loss: 0.3943 - val_acc: 0.8274\n",
      "Epoch 61/100\n",
      "781/781 [==============================] - 4s 6ms/step - loss: 0.3761 - acc: 0.8464 - val_loss: 0.3964 - val_acc: 0.8363\n"
     ]
    },
    {
     "name": "stdout",
     "output_type": "stream",
     "text": [
      "Epoch 62/100\n",
      "781/781 [==============================] - 4s 6ms/step - loss: 0.3752 - acc: 0.8387 - val_loss: 0.3862 - val_acc: 0.8214\n",
      "Epoch 63/100\n",
      "781/781 [==============================] - 4s 6ms/step - loss: 0.3693 - acc: 0.8361 - val_loss: 0.3945 - val_acc: 0.8304\n",
      "Epoch 64/100\n",
      "781/781 [==============================] - 4s 6ms/step - loss: 0.3604 - acc: 0.8335 - val_loss: 0.3846 - val_acc: 0.8274\n",
      "Epoch 65/100\n",
      "781/781 [==============================] - 4s 6ms/step - loss: 0.3500 - acc: 0.8515 - val_loss: 0.3963 - val_acc: 0.8185\n",
      "Epoch 66/100\n",
      "781/781 [==============================] - 4s 6ms/step - loss: 0.3583 - acc: 0.8489 - val_loss: 0.3868 - val_acc: 0.8304\n",
      "Epoch 67/100\n",
      "781/781 [==============================] - 4s 6ms/step - loss: 0.3484 - acc: 0.8399 - val_loss: 0.3848 - val_acc: 0.8304\n",
      "Epoch 68/100\n",
      "781/781 [==============================] - 4s 6ms/step - loss: 0.3716 - acc: 0.8374 - val_loss: 0.3880 - val_acc: 0.8304\n",
      "CPU times: user 11min 13s, sys: 8min 51s, total: 20min 5s\n",
      "Wall time: 5min 17s\n"
     ]
    }
   ],
   "source": [
    "%%time\n",
    "lstm_model = create_lstm_model(n_lstm=32)\n",
    "es = EarlyStopping(monitor='val_loss', patience=4)\n",
    "mcp = ModelCheckpoint(filepath='bi_lstm32.h5', monitor='val_loss', save_best_only=True, save_weights_only=False)\n",
    "history32=lstm_model.fit(col_fire_12_g, col_fire_12_lb, callbacks=[es, mcp], validation_split=0.3, batch_size=64, epochs=100)"
   ]
  },
  {
   "cell_type": "code",
   "execution_count": 58,
   "metadata": {
    "scrolled": true
   },
   "outputs": [
    {
     "name": "stdout",
     "output_type": "stream",
     "text": [
      "Train on 781 samples, validate on 336 samples\n",
      "Epoch 1/100\n",
      "781/781 [==============================] - 14s 18ms/step - loss: 4.4475 - acc: 0.5915 - val_loss: 4.2545 - val_acc: 0.6071\n",
      "Epoch 2/100\n",
      "781/781 [==============================] - 4s 6ms/step - loss: 4.0936 - acc: 0.6492 - val_loss: 3.9160 - val_acc: 0.6577\n",
      "Epoch 3/100\n",
      "781/781 [==============================] - 4s 5ms/step - loss: 3.7806 - acc: 0.6735 - val_loss: 3.6042 - val_acc: 0.7054\n",
      "Epoch 4/100\n",
      "781/781 [==============================] - 4s 6ms/step - loss: 3.4802 - acc: 0.7196 - val_loss: 3.3096 - val_acc: 0.7500\n",
      "Epoch 5/100\n",
      "781/781 [==============================] - 5s 6ms/step - loss: 3.2095 - acc: 0.7375 - val_loss: 3.0429 - val_acc: 0.7708\n",
      "Epoch 6/100\n",
      "781/781 [==============================] - 5s 6ms/step - loss: 2.9840 - acc: 0.7170 - val_loss: 2.7979 - val_acc: 0.7827\n",
      "Epoch 7/100\n",
      "781/781 [==============================] - 5s 6ms/step - loss: 2.7506 - acc: 0.7362 - val_loss: 2.5992 - val_acc: 0.7827\n",
      "Epoch 8/100\n",
      "781/781 [==============================] - 4s 5ms/step - loss: 2.5392 - acc: 0.7580 - val_loss: 2.4083 - val_acc: 0.7827\n",
      "Epoch 9/100\n",
      "781/781 [==============================] - 5s 6ms/step - loss: 2.3607 - acc: 0.7580 - val_loss: 2.2341 - val_acc: 0.7917\n",
      "Epoch 10/100\n",
      "781/781 [==============================] - 5s 7ms/step - loss: 2.2083 - acc: 0.7682 - val_loss: 2.0836 - val_acc: 0.8065\n",
      "Epoch 11/100\n",
      "781/781 [==============================] - 5s 7ms/step - loss: 2.0496 - acc: 0.7810 - val_loss: 1.9306 - val_acc: 0.7976\n",
      "Epoch 12/100\n",
      "781/781 [==============================] - 5s 6ms/step - loss: 1.9129 - acc: 0.7695 - val_loss: 1.8156 - val_acc: 0.7976\n",
      "Epoch 13/100\n",
      "781/781 [==============================] - 6s 7ms/step - loss: 1.7842 - acc: 0.7849 - val_loss: 1.6825 - val_acc: 0.7976\n",
      "Epoch 14/100\n",
      "781/781 [==============================] - 5s 7ms/step - loss: 1.6741 - acc: 0.7746 - val_loss: 1.5781 - val_acc: 0.7946\n",
      "Epoch 15/100\n",
      "781/781 [==============================] - 5s 7ms/step - loss: 1.5439 - acc: 0.7964 - val_loss: 1.4770 - val_acc: 0.8006\n",
      "Epoch 16/100\n",
      "781/781 [==============================] - 5s 6ms/step - loss: 1.4585 - acc: 0.7810 - val_loss: 1.3849 - val_acc: 0.8125\n",
      "Epoch 17/100\n",
      "781/781 [==============================] - 5s 7ms/step - loss: 1.3516 - acc: 0.8079 - val_loss: 1.2965 - val_acc: 0.8214\n",
      "Epoch 18/100\n",
      "781/781 [==============================] - 5s 6ms/step - loss: 1.2893 - acc: 0.7939 - val_loss: 1.2168 - val_acc: 0.8244\n",
      "Epoch 19/100\n",
      "781/781 [==============================] - 4s 6ms/step - loss: 1.2173 - acc: 0.7772 - val_loss: 1.1505 - val_acc: 0.8095\n",
      "Epoch 20/100\n",
      "781/781 [==============================] - 4s 5ms/step - loss: 1.1551 - acc: 0.7836 - val_loss: 1.0827 - val_acc: 0.8065\n",
      "Epoch 21/100\n",
      "781/781 [==============================] - 5s 6ms/step - loss: 1.0804 - acc: 0.7939 - val_loss: 1.0429 - val_acc: 0.8036\n",
      "Epoch 22/100\n",
      "781/781 [==============================] - 5s 6ms/step - loss: 1.0279 - acc: 0.7862 - val_loss: 0.9659 - val_acc: 0.8065\n",
      "Epoch 23/100\n",
      "781/781 [==============================] - 5s 6ms/step - loss: 0.9644 - acc: 0.8003 - val_loss: 0.9278 - val_acc: 0.8065\n",
      "Epoch 24/100\n",
      "781/781 [==============================] - 4s 6ms/step - loss: 0.9282 - acc: 0.7772 - val_loss: 0.8703 - val_acc: 0.8036\n",
      "Epoch 25/100\n",
      "781/781 [==============================] - 4s 6ms/step - loss: 0.8533 - acc: 0.8131 - val_loss: 0.8282 - val_acc: 0.8036\n",
      "Epoch 26/100\n",
      "781/781 [==============================] - 4s 6ms/step - loss: 0.8259 - acc: 0.8067 - val_loss: 0.7970 - val_acc: 0.8006\n",
      "Epoch 27/100\n",
      "781/781 [==============================] - 4s 6ms/step - loss: 0.7843 - acc: 0.8156 - val_loss: 0.7480 - val_acc: 0.8065\n",
      "Epoch 28/100\n",
      "781/781 [==============================] - 4s 6ms/step - loss: 0.7489 - acc: 0.8169 - val_loss: 0.7270 - val_acc: 0.8065\n",
      "Epoch 29/100\n",
      "781/781 [==============================] - 4s 6ms/step - loss: 0.7138 - acc: 0.8143 - val_loss: 0.6917 - val_acc: 0.8155\n",
      "Epoch 30/100\n",
      "781/781 [==============================] - 4s 5ms/step - loss: 0.6854 - acc: 0.8067 - val_loss: 0.6653 - val_acc: 0.8095\n",
      "Epoch 31/100\n",
      "781/781 [==============================] - 4s 5ms/step - loss: 0.6587 - acc: 0.8079 - val_loss: 0.6391 - val_acc: 0.8214\n",
      "Epoch 32/100\n",
      "781/781 [==============================] - 4s 5ms/step - loss: 0.6137 - acc: 0.8220 - val_loss: 0.6092 - val_acc: 0.8244\n",
      "Epoch 33/100\n",
      "781/781 [==============================] - 4s 6ms/step - loss: 0.5791 - acc: 0.8374 - val_loss: 0.6138 - val_acc: 0.8065\n",
      "Epoch 34/100\n",
      "781/781 [==============================] - 5s 7ms/step - loss: 0.5845 - acc: 0.8169 - val_loss: 0.5716 - val_acc: 0.8125\n",
      "Epoch 35/100\n",
      "781/781 [==============================] - 5s 6ms/step - loss: 0.5752 - acc: 0.8220 - val_loss: 0.5638 - val_acc: 0.8155\n",
      "Epoch 36/100\n",
      "781/781 [==============================] - 5s 7ms/step - loss: 0.5242 - acc: 0.8297 - val_loss: 0.5433 - val_acc: 0.8274\n",
      "Epoch 37/100\n",
      "781/781 [==============================] - 5s 7ms/step - loss: 0.5355 - acc: 0.8284 - val_loss: 0.5268 - val_acc: 0.8304\n",
      "Epoch 38/100\n",
      "781/781 [==============================] - 5s 7ms/step - loss: 0.4919 - acc: 0.8361 - val_loss: 0.5100 - val_acc: 0.8274\n",
      "Epoch 39/100\n",
      "781/781 [==============================] - 5s 6ms/step - loss: 0.5060 - acc: 0.8207 - val_loss: 0.5014 - val_acc: 0.8185\n",
      "Epoch 40/100\n",
      "781/781 [==============================] - 4s 6ms/step - loss: 0.4801 - acc: 0.8323 - val_loss: 0.4971 - val_acc: 0.8185\n",
      "Epoch 41/100\n",
      "781/781 [==============================] - 4s 6ms/step - loss: 0.4744 - acc: 0.8195 - val_loss: 0.4830 - val_acc: 0.8155\n",
      "Epoch 42/100\n",
      "781/781 [==============================] - 4s 6ms/step - loss: 0.4435 - acc: 0.8399 - val_loss: 0.4872 - val_acc: 0.8095\n",
      "Epoch 43/100\n",
      "781/781 [==============================] - 4s 6ms/step - loss: 0.4336 - acc: 0.8464 - val_loss: 0.4616 - val_acc: 0.8185\n",
      "Epoch 44/100\n",
      "781/781 [==============================] - 4s 6ms/step - loss: 0.4361 - acc: 0.8374 - val_loss: 0.4547 - val_acc: 0.8244\n",
      "Epoch 45/100\n",
      "781/781 [==============================] - 4s 5ms/step - loss: 0.4302 - acc: 0.8233 - val_loss: 0.4431 - val_acc: 0.8185\n",
      "Epoch 46/100\n",
      "781/781 [==============================] - 4s 6ms/step - loss: 0.4292 - acc: 0.8271 - val_loss: 0.4418 - val_acc: 0.8155\n",
      "Epoch 47/100\n",
      "781/781 [==============================] - 4s 6ms/step - loss: 0.3999 - acc: 0.8515 - val_loss: 0.4309 - val_acc: 0.8155\n",
      "Epoch 48/100\n",
      "781/781 [==============================] - 4s 6ms/step - loss: 0.3986 - acc: 0.8425 - val_loss: 0.4400 - val_acc: 0.8244\n",
      "Epoch 49/100\n",
      "781/781 [==============================] - 4s 5ms/step - loss: 0.3910 - acc: 0.8348 - val_loss: 0.4275 - val_acc: 0.8333\n",
      "Epoch 50/100\n",
      "781/781 [==============================] - 4s 6ms/step - loss: 0.3874 - acc: 0.8425 - val_loss: 0.4277 - val_acc: 0.8155\n",
      "Epoch 51/100\n",
      "781/781 [==============================] - 5s 7ms/step - loss: 0.3663 - acc: 0.8630 - val_loss: 0.4169 - val_acc: 0.8214\n",
      "Epoch 52/100\n",
      "781/781 [==============================] - 4s 6ms/step - loss: 0.3785 - acc: 0.8335 - val_loss: 0.4100 - val_acc: 0.8363\n",
      "Epoch 53/100\n",
      "781/781 [==============================] - 5s 7ms/step - loss: 0.3657 - acc: 0.8476 - val_loss: 0.4118 - val_acc: 0.8274\n",
      "Epoch 54/100\n",
      "781/781 [==============================] - 5s 6ms/step - loss: 0.3625 - acc: 0.8515 - val_loss: 0.4036 - val_acc: 0.8214\n",
      "Epoch 55/100\n",
      "781/781 [==============================] - 4s 6ms/step - loss: 0.3591 - acc: 0.8451 - val_loss: 0.4358 - val_acc: 0.8214\n",
      "Epoch 56/100\n",
      "781/781 [==============================] - 4s 5ms/step - loss: 0.3503 - acc: 0.8566 - val_loss: 0.3963 - val_acc: 0.8304\n",
      "Epoch 57/100\n",
      "781/781 [==============================] - 5s 6ms/step - loss: 0.3482 - acc: 0.8592 - val_loss: 0.4068 - val_acc: 0.8244\n",
      "Epoch 58/100\n",
      "781/781 [==============================] - 4s 5ms/step - loss: 0.3266 - acc: 0.8758 - val_loss: 0.4062 - val_acc: 0.8244\n",
      "Epoch 59/100\n",
      "781/781 [==============================] - 4s 5ms/step - loss: 0.3385 - acc: 0.8528 - val_loss: 0.4027 - val_acc: 0.8304\n",
      "Epoch 60/100\n",
      "781/781 [==============================] - 4s 5ms/step - loss: 0.3357 - acc: 0.8566 - val_loss: 0.4023 - val_acc: 0.8274\n",
      "CPU times: user 12min 12s, sys: 7min 26s, total: 19min 39s\n",
      "Wall time: 4min 54s\n"
     ]
    }
   ],
   "source": [
    "%%time\n",
    "lstm_model = create_lstm_model(n_lstm=64)\n",
    "es = EarlyStopping(monitor='val_loss', patience=4)\n",
    "mcp = ModelCheckpoint(filepath='bi_lstm64.h5', monitor='val_loss', save_best_only=True, save_weights_only=False)\n",
    "history64=lstm_model.fit(col_fire_12_g, col_fire_12_lb, callbacks=[es, mcp], validation_split=0.3, batch_size=64, epochs=100)"
   ]
  },
  {
   "cell_type": "code",
   "execution_count": 34,
   "metadata": {},
   "outputs": [
    {
     "name": "stdout",
     "output_type": "stream",
     "text": [
      "Train on 781 samples, validate on 336 samples\n",
      "Epoch 1/100\n",
      "781/781 [==============================] - 13s 16ms/step - loss: 8.2983 - acc: 0.6063 - val_loss: 7.9117 - val_acc: 0.6190\n",
      "Epoch 2/100\n",
      "781/781 [==============================] - 7s 8ms/step - loss: 7.6211 - acc: 0.6543 - val_loss: 7.2312 - val_acc: 0.7083\n",
      "Epoch 3/100\n",
      "781/781 [==============================] - 6s 8ms/step - loss: 6.9888 - acc: 0.6940 - val_loss: 6.6419 - val_acc: 0.7202\n",
      "Epoch 4/100\n",
      "781/781 [==============================] - 6s 8ms/step - loss: 6.4123 - acc: 0.7337 - val_loss: 6.0875 - val_acc: 0.7560\n",
      "Epoch 5/100\n",
      "781/781 [==============================] - 7s 8ms/step - loss: 5.8953 - acc: 0.7439 - val_loss: 5.6361 - val_acc: 0.7649\n",
      "Epoch 6/100\n",
      "781/781 [==============================] - 6s 8ms/step - loss: 5.4283 - acc: 0.7759 - val_loss: 5.1479 - val_acc: 0.7887\n",
      "Epoch 7/100\n",
      "781/781 [==============================] - 6s 8ms/step - loss: 5.0117 - acc: 0.7670 - val_loss: 4.7821 - val_acc: 0.7738\n",
      "Epoch 8/100\n",
      "781/781 [==============================] - 6s 8ms/step - loss: 4.6229 - acc: 0.7644 - val_loss: 4.4037 - val_acc: 0.7738\n",
      "Epoch 9/100\n",
      "781/781 [==============================] - 6s 8ms/step - loss: 4.2598 - acc: 0.7823 - val_loss: 4.0557 - val_acc: 0.7857\n",
      "Epoch 10/100\n",
      "781/781 [==============================] - 6s 8ms/step - loss: 3.9238 - acc: 0.8092 - val_loss: 3.7652 - val_acc: 0.7857\n",
      "Epoch 11/100\n",
      "781/781 [==============================] - 6s 8ms/step - loss: 3.6315 - acc: 0.7836 - val_loss: 3.4615 - val_acc: 0.8095\n",
      "Epoch 12/100\n",
      "781/781 [==============================] - 6s 8ms/step - loss: 3.3497 - acc: 0.7951 - val_loss: 3.2160 - val_acc: 0.7917\n",
      "Epoch 13/100\n",
      "781/781 [==============================] - 6s 8ms/step - loss: 3.0950 - acc: 0.8079 - val_loss: 2.9718 - val_acc: 0.7976\n",
      "Epoch 14/100\n",
      "781/781 [==============================] - 6s 8ms/step - loss: 2.8536 - acc: 0.8054 - val_loss: 2.7471 - val_acc: 0.8244\n",
      "Epoch 15/100\n",
      "781/781 [==============================] - 7s 9ms/step - loss: 2.6579 - acc: 0.8169 - val_loss: 2.5660 - val_acc: 0.7887\n",
      "Epoch 16/100\n",
      "781/781 [==============================] - 7s 9ms/step - loss: 2.4713 - acc: 0.8067 - val_loss: 2.3692 - val_acc: 0.8214\n",
      "Epoch 17/100\n",
      "781/781 [==============================] - 6s 8ms/step - loss: 2.2751 - acc: 0.8131 - val_loss: 2.2147 - val_acc: 0.8095\n",
      "Epoch 18/100\n",
      "781/781 [==============================] - 6s 8ms/step - loss: 2.1043 - acc: 0.8220 - val_loss: 2.0564 - val_acc: 0.8125\n",
      "Epoch 19/100\n",
      "781/781 [==============================] - 6s 8ms/step - loss: 1.9561 - acc: 0.8284 - val_loss: 1.8999 - val_acc: 0.8185\n",
      "Epoch 20/100\n",
      "781/781 [==============================] - 6s 8ms/step - loss: 1.8269 - acc: 0.8079 - val_loss: 1.7717 - val_acc: 0.8155\n",
      "Epoch 21/100\n",
      "781/781 [==============================] - 7s 8ms/step - loss: 1.7004 - acc: 0.8169 - val_loss: 1.6630 - val_acc: 0.8185\n",
      "Epoch 22/100\n",
      "781/781 [==============================] - 6s 8ms/step - loss: 1.5888 - acc: 0.8233 - val_loss: 1.5457 - val_acc: 0.8185\n",
      "Epoch 23/100\n",
      "781/781 [==============================] - 6s 8ms/step - loss: 1.4780 - acc: 0.8271 - val_loss: 1.4435 - val_acc: 0.8274\n",
      "Epoch 24/100\n",
      "781/781 [==============================] - 6s 8ms/step - loss: 1.3640 - acc: 0.8246 - val_loss: 1.3522 - val_acc: 0.8333\n",
      "Epoch 25/100\n",
      "781/781 [==============================] - 6s 8ms/step - loss: 1.2568 - acc: 0.8476 - val_loss: 1.2635 - val_acc: 0.8304\n",
      "Epoch 26/100\n",
      "781/781 [==============================] - 6s 8ms/step - loss: 1.1760 - acc: 0.8297 - val_loss: 1.1914 - val_acc: 0.8214\n",
      "Epoch 27/100\n",
      "781/781 [==============================] - 7s 8ms/step - loss: 1.1397 - acc: 0.8156 - val_loss: 1.1378 - val_acc: 0.8006\n",
      "Epoch 28/100\n",
      "781/781 [==============================] - 7s 8ms/step - loss: 1.0414 - acc: 0.8374 - val_loss: 1.1229 - val_acc: 0.7798\n",
      "Epoch 29/100\n",
      "781/781 [==============================] - 6s 8ms/step - loss: 0.9937 - acc: 0.8361 - val_loss: 0.9822 - val_acc: 0.8274\n",
      "Epoch 30/100\n",
      "781/781 [==============================] - 7s 9ms/step - loss: 0.9236 - acc: 0.8348 - val_loss: 0.9784 - val_acc: 0.7857\n",
      "Epoch 31/100\n",
      "781/781 [==============================] - 6s 8ms/step - loss: 0.8682 - acc: 0.8412 - val_loss: 0.8809 - val_acc: 0.8274\n",
      "Epoch 32/100\n",
      "781/781 [==============================] - 7s 9ms/step - loss: 0.7956 - acc: 0.8604 - val_loss: 0.8996 - val_acc: 0.7946\n",
      "Epoch 33/100\n",
      "781/781 [==============================] - 7s 9ms/step - loss: 0.7364 - acc: 0.8694 - val_loss: 0.8006 - val_acc: 0.8393\n",
      "Epoch 34/100\n",
      "781/781 [==============================] - 6s 8ms/step - loss: 0.7128 - acc: 0.8617 - val_loss: 0.8009 - val_acc: 0.8185\n",
      "Epoch 35/100\n",
      "781/781 [==============================] - 6s 8ms/step - loss: 0.6583 - acc: 0.8630 - val_loss: 0.7294 - val_acc: 0.8363\n",
      "Epoch 36/100\n",
      "781/781 [==============================] - 6s 8ms/step - loss: 0.6445 - acc: 0.8476 - val_loss: 0.7219 - val_acc: 0.8125\n",
      "Epoch 37/100\n",
      "781/781 [==============================] - 7s 9ms/step - loss: 0.5747 - acc: 0.8758 - val_loss: 0.6809 - val_acc: 0.8304\n",
      "Epoch 38/100\n",
      "781/781 [==============================] - 6s 7ms/step - loss: 0.5676 - acc: 0.8668 - val_loss: 0.6500 - val_acc: 0.8363\n",
      "Epoch 39/100\n",
      "781/781 [==============================] - 6s 7ms/step - loss: 0.5546 - acc: 0.8668 - val_loss: 0.7062 - val_acc: 0.7917\n",
      "Epoch 40/100\n",
      "781/781 [==============================] - 6s 8ms/step - loss: 0.4840 - acc: 0.8860 - val_loss: 0.6033 - val_acc: 0.8304\n",
      "Epoch 41/100\n",
      "781/781 [==============================] - 6s 8ms/step - loss: 0.5008 - acc: 0.8745 - val_loss: 0.6050 - val_acc: 0.8214\n",
      "Epoch 42/100\n",
      "781/781 [==============================] - 7s 9ms/step - loss: 0.4709 - acc: 0.8643 - val_loss: 0.6007 - val_acc: 0.8036\n",
      "Epoch 43/100\n",
      "781/781 [==============================] - 7s 8ms/step - loss: 0.4388 - acc: 0.8848 - val_loss: 0.5587 - val_acc: 0.8304\n",
      "Epoch 44/100\n",
      "781/781 [==============================] - 7s 9ms/step - loss: 0.4523 - acc: 0.8592 - val_loss: 0.5687 - val_acc: 0.8125\n",
      "Epoch 45/100\n",
      "781/781 [==============================] - 6s 8ms/step - loss: 0.4017 - acc: 0.8758 - val_loss: 0.5707 - val_acc: 0.8065\n",
      "Epoch 46/100\n",
      "781/781 [==============================] - 6s 8ms/step - loss: 0.3729 - acc: 0.8924 - val_loss: 0.5131 - val_acc: 0.8363\n",
      "Epoch 47/100\n",
      "781/781 [==============================] - 7s 9ms/step - loss: 0.3786 - acc: 0.8694 - val_loss: 0.5374 - val_acc: 0.8244\n",
      "Epoch 48/100\n",
      "781/781 [==============================] - 6s 8ms/step - loss: 0.3881 - acc: 0.8732 - val_loss: 0.5036 - val_acc: 0.8214\n",
      "Epoch 49/100\n",
      "781/781 [==============================] - 7s 8ms/step - loss: 0.3496 - acc: 0.8860 - val_loss: 0.4951 - val_acc: 0.8214\n",
      "Epoch 50/100\n",
      "781/781 [==============================] - 6s 8ms/step - loss: 0.3477 - acc: 0.8809 - val_loss: 0.4866 - val_acc: 0.8214\n",
      "Epoch 51/100\n",
      "781/781 [==============================] - 7s 8ms/step - loss: 0.3675 - acc: 0.8617 - val_loss: 0.4753 - val_acc: 0.8274\n",
      "Epoch 52/100\n",
      "781/781 [==============================] - 7s 8ms/step - loss: 0.3190 - acc: 0.8950 - val_loss: 0.4620 - val_acc: 0.8304\n",
      "Epoch 53/100\n",
      "781/781 [==============================] - 8s 10ms/step - loss: 0.3141 - acc: 0.8937 - val_loss: 0.4529 - val_acc: 0.8304\n",
      "Epoch 54/100\n",
      "781/781 [==============================] - 7s 9ms/step - loss: 0.3138 - acc: 0.8822 - val_loss: 0.4882 - val_acc: 0.8155\n",
      "Epoch 55/100\n",
      "781/781 [==============================] - 7s 9ms/step - loss: 0.3005 - acc: 0.8976 - val_loss: 0.4628 - val_acc: 0.8214\n",
      "Epoch 56/100\n",
      "781/781 [==============================] - 7s 8ms/step - loss: 0.2821 - acc: 0.9052 - val_loss: 0.4705 - val_acc: 0.8185\n",
      "Epoch 57/100\n",
      "781/781 [==============================] - 6s 8ms/step - loss: 0.2814 - acc: 0.8950 - val_loss: 0.4538 - val_acc: 0.8274\n",
      "CPU times: user 23min 19s, sys: 8min 27s, total: 31min 47s\n",
      "Wall time: 6min 18s\n"
     ]
    }
   ],
   "source": [
    "%%time\n",
    "lstm_model = create_lstm_model(n_lstm=128)\n",
    "es = EarlyStopping(monitor='val_loss', patience=4)\n",
    "mcp = ModelCheckpoint(filepath='bi_lstm128.h5', monitor='val_loss', save_best_only=True, save_weights_only=False)\n",
    "history128=lstm_model.fit(col_fire_12_g, col_fire_12_lb, callbacks=[es, mcp], validation_split=0.3, batch_size=64, epochs=100)"
   ]
  },
  {
   "cell_type": "markdown",
   "metadata": {},
   "source": [
    "7min 10s 0.4042 0.8423 0.7951\n",
    "6min 59s 0.3789 0.8571 0.8092\n",
    "5min 52s 0.3895 0.8393 0.8143\n",
    "5min 17s 0.3846 0.8274 0.8335\n",
    "4min 50s 0.3914 0.8720 0.8528 2min 37s 0.3859 0.8512 0.8259\n",
    "6min 18s 0.4529 0.8304 0.8937"
   ]
  },
  {
   "cell_type": "code",
   "execution_count": null,
   "metadata": {},
   "outputs": [],
   "source": [
    "n = [4, 8, 16, 32, 64, 128]\n",
    "plt.semilogx(n, [430, 419, 352, 317, 290])\n",
    "fig, ax1 = plt.subplots()\n",
    "n = np.arange(0.01, 10.0, 0.01)\n",
    "s1 = np.exp(t)\n",
    "ax1.plot(t, s1, 'b-')\n",
    "ax1.set_xlabel('time (s)')\n",
    "# Make the y-axis label, ticks and tick labels match the line color.\n",
    "ax1.set_ylabel('exp', color='b')\n",
    "ax1.tick_params('y', colors='b')\n",
    "\n",
    "ax2 = ax1.twinx()\n",
    "s2 = np.sin(2 * np.pi * t)\n",
    "ax2.plot(t, s2, 'r.')\n",
    "ax2.set_ylabel('sin', color='r')\n",
    "ax2.tick_params('y', colors='r')\n",
    "\n",
    "fig.tight_layout()\n",
    "plt.show()"
   ]
  },
  {
   "cell_type": "code",
   "execution_count": 63,
   "metadata": {
    "scrolled": true
   },
   "outputs": [
    {
     "name": "stdout",
     "output_type": "stream",
     "text": [
      "Train on 781 samples, validate on 336 samples\n",
      "Epoch 1/100\n",
      "781/781 [==============================] - 18s 23ms/step - loss: 0.6775 - acc: 0.5480 - val_loss: 0.6390 - val_acc: 0.5952\n",
      "Epoch 2/100\n",
      "781/781 [==============================] - 4s 6ms/step - loss: 0.6175 - acc: 0.6825 - val_loss: 0.5858 - val_acc: 0.7530\n",
      "Epoch 3/100\n",
      "781/781 [==============================] - 5s 6ms/step - loss: 0.5748 - acc: 0.7350 - val_loss: 0.5402 - val_acc: 0.7738\n",
      "Epoch 4/100\n",
      "781/781 [==============================] - 5s 7ms/step - loss: 0.5386 - acc: 0.7324 - val_loss: 0.5026 - val_acc: 0.7619\n",
      "Epoch 5/100\n",
      "781/781 [==============================] - 6s 7ms/step - loss: 0.5017 - acc: 0.7606 - val_loss: 0.4606 - val_acc: 0.7798\n",
      "Epoch 6/100\n",
      "781/781 [==============================] - 5s 7ms/step - loss: 0.4742 - acc: 0.7721 - val_loss: 0.4367 - val_acc: 0.7917\n",
      "Epoch 7/100\n",
      "781/781 [==============================] - 5s 6ms/step - loss: 0.4719 - acc: 0.7708 - val_loss: 0.4436 - val_acc: 0.7917\n",
      "Epoch 8/100\n",
      "781/781 [==============================] - 6s 7ms/step - loss: 0.4630 - acc: 0.7759 - val_loss: 0.4177 - val_acc: 0.8214\n",
      "Epoch 9/100\n",
      "781/781 [==============================] - 5s 7ms/step - loss: 0.4498 - acc: 0.7810 - val_loss: 0.4277 - val_acc: 0.7946\n",
      "Epoch 10/100\n",
      "781/781 [==============================] - 5s 6ms/step - loss: 0.4277 - acc: 0.8105 - val_loss: 0.4022 - val_acc: 0.8333\n",
      "Epoch 11/100\n",
      "781/781 [==============================] - 5s 7ms/step - loss: 0.4232 - acc: 0.7977 - val_loss: 0.4230 - val_acc: 0.8155\n",
      "Epoch 12/100\n",
      "781/781 [==============================] - 5s 6ms/step - loss: 0.4203 - acc: 0.8041 - val_loss: 0.3951 - val_acc: 0.8244\n",
      "Epoch 13/100\n",
      "781/781 [==============================] - 5s 7ms/step - loss: 0.4194 - acc: 0.7990 - val_loss: 0.3927 - val_acc: 0.8125\n",
      "Epoch 14/100\n",
      "781/781 [==============================] - 6s 7ms/step - loss: 0.3977 - acc: 0.8156 - val_loss: 0.3937 - val_acc: 0.8304\n",
      "Epoch 15/100\n",
      "781/781 [==============================] - 6s 7ms/step - loss: 0.3890 - acc: 0.8284 - val_loss: 0.3837 - val_acc: 0.8393\n",
      "Epoch 16/100\n",
      "781/781 [==============================] - 5s 6ms/step - loss: 0.3899 - acc: 0.8182 - val_loss: 0.3838 - val_acc: 0.8363\n",
      "Epoch 17/100\n",
      "781/781 [==============================] - 5s 7ms/step - loss: 0.3880 - acc: 0.8246 - val_loss: 0.3801 - val_acc: 0.8393\n",
      "Epoch 18/100\n",
      "781/781 [==============================] - 4s 6ms/step - loss: 0.3896 - acc: 0.8156 - val_loss: 0.3727 - val_acc: 0.8512\n",
      "Epoch 19/100\n",
      "781/781 [==============================] - 4s 6ms/step - loss: 0.3718 - acc: 0.8259 - val_loss: 0.3719 - val_acc: 0.8512\n",
      "Epoch 20/100\n",
      "781/781 [==============================] - 4s 6ms/step - loss: 0.3869 - acc: 0.8335 - val_loss: 0.4055 - val_acc: 0.8363\n",
      "Epoch 21/100\n",
      "781/781 [==============================] - 4s 6ms/step - loss: 0.3871 - acc: 0.8271 - val_loss: 0.3789 - val_acc: 0.8304\n",
      "Epoch 22/100\n",
      "781/781 [==============================] - 5s 6ms/step - loss: 0.3571 - acc: 0.8502 - val_loss: 0.3799 - val_acc: 0.8423\n",
      "Epoch 23/100\n",
      "781/781 [==============================] - 5s 7ms/step - loss: 0.3601 - acc: 0.8374 - val_loss: 0.3748 - val_acc: 0.8512\n",
      "CPU times: user 5min 17s, sys: 3min, total: 8min 18s\n",
      "Wall time: 2min 17s\n"
     ]
    }
   ],
   "source": [
    "%%time\n",
    "lstm_model = create_lstm_model(n_lstm=64, penalty=0, dropout=0.2, re_dropout=0.2)\n",
    "es = EarlyStopping(monitor='val_loss', patience=4)\n",
    "mcp = ModelCheckpoint(filepath='bi_lstm_no_con.h5', monitor='val_loss', save_best_only=True, save_weights_only=False)\n",
    "history_try=lstm_model.fit(col_fire_12_g, col_fire_12_lb, callbacks=[es, mcp], validation_split=0.3, batch_size=64, epochs=100)"
   ]
  },
  {
   "cell_type": "code",
   "execution_count": 68,
   "metadata": {},
   "outputs": [
    {
     "data": {
      "image/png": "[encoded data removed]",
      "text/plain": [
       "<Figure size 1152x432 with 2 Axes>"
      ]
     },
     "metadata": {},
     "output_type": "display_data"
    }
   ],
   "source": [
    "plot_history(history_try,'Performance of LSTM w/o data shuffle and w/o regularizer')"
   ]
  },
  {
   "cell_type": "code",
   "execution_count": 65,
   "metadata": {},
   "outputs": [
    {
     "data": {
      "image/png": "[encoded data removed]",
      "text/plain": [
       "<Figure size 432x288 with 1 Axes>"
      ]
     },
     "metadata": {},
     "output_type": "display_data"
    }
   ],
   "source": [
    "p, r, f = metric_drawing('LSTM w/o shuffle ', path='bi_lstm_no_con.h5')"
   ]
  },
  {
   "cell_type": "code",
   "execution_count": 66,
   "metadata": {},
   "outputs": [
    {
     "name": "stdout",
     "output_type": "stream",
     "text": [
      "[0.89238410596026485, 0.77574750830564787, 0.84642857142857142] [0.78002894356005792, 0.77574750830564787, 0.71278195488721807] [0.83243243243243248, 0.77574750830564787, 0.77387755102040812]\n"
     ]
    }
   ],
   "source": [
    "print p, r, f"
   ]
  },
  {
   "cell_type": "code",
   "execution_count": 67,
   "metadata": {},
   "outputs": [
    {
     "name": "stdout",
     "output_type": "stream",
     "text": [
      "917/917 [==============================] - 6s 7ms/step\n",
      "[0.5041632603533005, 0.76335877901595184]\n",
      "917/917 [==============================] - 2s 2ms/step\n",
      "[0.46718620343972711, 0.82224645622423975]\n",
      "1079/1079 [==============================] - 7s 6ms/step\n",
      "[0.504608284250468, 0.74976830337752443]\n",
      "1079/1079 [==============================] - 2s 2ms/step\n",
      "[0.53269847683380667, 0.76088971208929468]\n",
      "1112/1112 [==============================] - 7s 7ms/step\n",
      "[0.54829769361790992, 0.75089928100434999]\n",
      "1112/1112 [==============================] - 2s 2ms/step\n",
      "[0.61113654816750995, 0.73381294964028776]\n",
      "917/917 [==============================] - 7s 8ms/step\n",
      "[0.5041632603533005, 0.76335877901595184]\n",
      "917/917 [==============================] - 2s 2ms/step\n",
      "[0.46675412377978359, 0.80370774309403759]\n",
      "1079/1079 [==============================] - 7s 6ms/step\n",
      "[0.504608284250468, 0.74976830337752443]\n",
      "1079/1079 [==============================] - 2s 2ms/step\n",
      "[0.52754312002404735, 0.7618164961486088]\n",
      "1112/1112 [==============================] - 8s 7ms/step\n",
      "[0.54829769361790992, 0.75089928100434999]\n",
      "1112/1112 [==============================] - 2s 2ms/step\n",
      "[0.58480775120447004, 0.74370503640003338]\n"
     ]
    }
   ],
   "source": [
    "increment_learning_result(path='bi_lstm_no_con.h5')"
   ]
  },
  {
   "cell_type": "code",
   "execution_count": 47,
   "metadata": {},
   "outputs": [
    {
     "name": "stdout",
     "output_type": "stream",
     "text": [
      "Train on 781 samples, validate on 336 samples\n",
      "Epoch 1/10\n",
      "781/781 [==============================] - 16s 21ms/step - loss: 4.4776 - acc: 0.5519 - val_loss: 4.2480 - val_acc: 0.6161\n",
      "Epoch 2/10\n",
      "781/781 [==============================] - 4s 6ms/step - loss: 4.1202 - acc: 0.6248 - val_loss: 3.9043 - val_acc: 0.6935\n",
      "Epoch 3/10\n",
      "781/781 [==============================] - 4s 6ms/step - loss: 3.7943 - acc: 0.6773 - val_loss: 3.5887 - val_acc: 0.7530\n",
      "Epoch 4/10\n",
      "781/781 [==============================] - 5s 6ms/step - loss: 3.4937 - acc: 0.7106 - val_loss: 3.2960 - val_acc: 0.7649\n",
      "Epoch 5/10\n",
      "781/781 [==============================] - 4s 6ms/step - loss: 3.2161 - acc: 0.7337 - val_loss: 3.0350 - val_acc: 0.7768\n",
      "Epoch 6/10\n",
      "781/781 [==============================] - 4s 6ms/step - loss: 2.9730 - acc: 0.7529 - val_loss: 2.8101 - val_acc: 0.7857\n",
      "Epoch 7/10\n",
      "781/781 [==============================] - 5s 7ms/step - loss: 2.7369 - acc: 0.7759 - val_loss: 2.6109 - val_acc: 0.7857\n",
      "Epoch 8/10\n",
      "781/781 [==============================] - 5s 7ms/step - loss: 2.5510 - acc: 0.7580 - val_loss: 2.4210 - val_acc: 0.7827\n",
      "Epoch 9/10\n",
      "781/781 [==============================] - 5s 7ms/step - loss: 2.3743 - acc: 0.7785 - val_loss: 2.2552 - val_acc: 0.7917\n",
      "Epoch 10/10\n",
      "781/781 [==============================] - 5s 6ms/step - loss: 2.2026 - acc: 0.7734 - val_loss: 2.0891 - val_acc: 0.7827\n",
      "Train on 781 samples, validate on 336 samples\n",
      "Epoch 1/10\n",
      "781/781 [==============================] - 5s 6ms/step - loss: 2.0627 - acc: 0.7798 - val_loss: 1.9017 - val_acc: 0.8185\n",
      "Epoch 2/10\n",
      "781/781 [==============================] - 5s 6ms/step - loss: 1.9153 - acc: 0.7746 - val_loss: 1.7531 - val_acc: 0.8244\n",
      "Epoch 3/10\n",
      "781/781 [==============================] - 5s 6ms/step - loss: 1.8161 - acc: 0.7644 - val_loss: 1.6511 - val_acc: 0.8185\n",
      "Epoch 4/10\n",
      "781/781 [==============================] - 6s 8ms/step - loss: 1.6877 - acc: 0.7682 - val_loss: 1.5263 - val_acc: 0.8274\n",
      "Epoch 5/10\n",
      "781/781 [==============================] - 5s 7ms/step - loss: 1.5835 - acc: 0.7900 - val_loss: 1.4205 - val_acc: 0.8304\n",
      "Epoch 6/10\n",
      "781/781 [==============================] - 5s 6ms/step - loss: 1.4843 - acc: 0.7670 - val_loss: 1.3297 - val_acc: 0.8333\n",
      "Epoch 7/10\n",
      "781/781 [==============================] - 5s 7ms/step - loss: 1.3993 - acc: 0.7798 - val_loss: 1.2479 - val_acc: 0.8333\n",
      "Epoch 8/10\n",
      "781/781 [==============================] - 5s 7ms/step - loss: 1.3262 - acc: 0.7682 - val_loss: 1.1712 - val_acc: 0.8304\n",
      "Epoch 9/10\n",
      "781/781 [==============================] - 5s 6ms/step - loss: 1.2390 - acc: 0.7734 - val_loss: 1.0945 - val_acc: 0.8423\n",
      "Epoch 10/10\n",
      "781/781 [==============================] - 5s 6ms/step - loss: 1.1650 - acc: 0.7887 - val_loss: 1.0287 - val_acc: 0.8274\n",
      "Train on 781 samples, validate on 336 samples\n",
      "Epoch 1/10\n",
      "781/781 [==============================] - 5s 6ms/step - loss: 1.0558 - acc: 0.8015 - val_loss: 1.0692 - val_acc: 0.7708\n",
      "Epoch 2/10\n",
      "781/781 [==============================] - 5s 7ms/step - loss: 0.9904 - acc: 0.7990 - val_loss: 1.0219 - val_acc: 0.7738\n",
      "Epoch 3/10\n",
      "781/781 [==============================] - 5s 7ms/step - loss: 0.9597 - acc: 0.8015 - val_loss: 0.9674 - val_acc: 0.7708\n",
      "Epoch 4/10\n",
      "781/781 [==============================] - 5s 7ms/step - loss: 0.8804 - acc: 0.8156 - val_loss: 0.9180 - val_acc: 0.7798\n",
      "Epoch 5/10\n",
      "781/781 [==============================] - 5s 6ms/step - loss: 0.8583 - acc: 0.8054 - val_loss: 0.9256 - val_acc: 0.7768\n",
      "Epoch 6/10\n",
      "781/781 [==============================] - 5s 6ms/step - loss: 0.7858 - acc: 0.8246 - val_loss: 0.8479 - val_acc: 0.7798\n",
      "Epoch 7/10\n",
      "781/781 [==============================] - 5s 6ms/step - loss: 0.7728 - acc: 0.8054 - val_loss: 0.8308 - val_acc: 0.7857\n",
      "Epoch 8/10\n",
      "781/781 [==============================] - 5s 6ms/step - loss: 0.7248 - acc: 0.8182 - val_loss: 0.7853 - val_acc: 0.7857\n",
      "Epoch 9/10\n",
      "781/781 [==============================] - 5s 6ms/step - loss: 0.6806 - acc: 0.8271 - val_loss: 0.7530 - val_acc: 0.7798\n",
      "Epoch 10/10\n",
      "781/781 [==============================] - 5s 6ms/step - loss: 0.6693 - acc: 0.8233 - val_loss: 0.7208 - val_acc: 0.7768\n",
      "Train on 781 samples, validate on 336 samples\n",
      "Epoch 1/10\n",
      "781/781 [==============================] - 5s 6ms/step - loss: 0.6598 - acc: 0.8182 - val_loss: 0.6111 - val_acc: 0.8274\n",
      "Epoch 2/10\n",
      "781/781 [==============================] - 5s 7ms/step - loss: 0.6495 - acc: 0.8079 - val_loss: 0.5651 - val_acc: 0.8363\n",
      "Epoch 3/10\n",
      "781/781 [==============================] - 5s 6ms/step - loss: 0.6134 - acc: 0.8207 - val_loss: 0.5874 - val_acc: 0.8185\n",
      "Epoch 4/10\n",
      "781/781 [==============================] - 5s 6ms/step - loss: 0.5813 - acc: 0.8041 - val_loss: 0.5352 - val_acc: 0.8274\n",
      "Epoch 5/10\n",
      "781/781 [==============================] - 4s 6ms/step - loss: 0.5655 - acc: 0.8297 - val_loss: 0.5350 - val_acc: 0.8185\n",
      "Epoch 6/10\n",
      "781/781 [==============================] - 4s 6ms/step - loss: 0.5498 - acc: 0.8335 - val_loss: 0.5110 - val_acc: 0.8363\n",
      "Epoch 7/10\n",
      "781/781 [==============================] - 4s 6ms/step - loss: 0.5126 - acc: 0.8335 - val_loss: 0.4911 - val_acc: 0.8214\n",
      "Epoch 8/10\n",
      "781/781 [==============================] - 4s 6ms/step - loss: 0.4993 - acc: 0.8310 - val_loss: 0.5039 - val_acc: 0.8185\n",
      "Epoch 9/10\n",
      "781/781 [==============================] - 5s 6ms/step - loss: 0.4950 - acc: 0.8387 - val_loss: 0.4731 - val_acc: 0.8214\n",
      "Epoch 10/10\n",
      "781/781 [==============================] - 5s 6ms/step - loss: 0.4799 - acc: 0.8246 - val_loss: 0.4719 - val_acc: 0.8185\n",
      "Train on 781 samples, validate on 336 samples\n",
      "Epoch 1/10\n",
      "781/781 [==============================] - 5s 6ms/step - loss: 0.4484 - acc: 0.8348 - val_loss: 0.4368 - val_acc: 0.8482\n",
      "Epoch 2/10\n",
      "781/781 [==============================] - 5s 6ms/step - loss: 0.4541 - acc: 0.8246 - val_loss: 0.4225 - val_acc: 0.8482\n",
      "Epoch 3/10\n",
      "781/781 [==============================] - 5s 6ms/step - loss: 0.4458 - acc: 0.8233 - val_loss: 0.4268 - val_acc: 0.8393\n",
      "Epoch 4/10\n",
      "781/781 [==============================] - 5s 7ms/step - loss: 0.4321 - acc: 0.8207 - val_loss: 0.4175 - val_acc: 0.8363\n",
      "Epoch 5/10\n",
      "781/781 [==============================] - 5s 6ms/step - loss: 0.4250 - acc: 0.8348 - val_loss: 0.4152 - val_acc: 0.8393\n",
      "Epoch 6/10\n",
      "781/781 [==============================] - 5s 6ms/step - loss: 0.4042 - acc: 0.8412 - val_loss: 0.4086 - val_acc: 0.8363\n",
      "Epoch 7/10\n",
      "781/781 [==============================] - 5s 6ms/step - loss: 0.4008 - acc: 0.8399 - val_loss: 0.4001 - val_acc: 0.8304\n",
      "Epoch 8/10\n",
      "781/781 [==============================] - 5s 6ms/step - loss: 0.3884 - acc: 0.8553 - val_loss: 0.4111 - val_acc: 0.8304\n",
      "Epoch 9/10\n",
      "781/781 [==============================] - 5s 6ms/step - loss: 0.3739 - acc: 0.8489 - val_loss: 0.3984 - val_acc: 0.8363\n",
      "Epoch 10/10\n",
      "781/781 [==============================] - 5s 6ms/step - loss: 0.3807 - acc: 0.8540 - val_loss: 0.4065 - val_acc: 0.8333\n",
      "Train on 781 samples, validate on 336 samples\n",
      "Epoch 1/10\n",
      "781/781 [==============================] - 5s 6ms/step - loss: 0.4171 - acc: 0.8207 - val_loss: 0.3042 - val_acc: 0.8958\n",
      "Epoch 2/10\n",
      "781/781 [==============================] - 5s 6ms/step - loss: 0.3998 - acc: 0.8207 - val_loss: 0.3178 - val_acc: 0.8869\n",
      "Epoch 3/10\n",
      "781/781 [==============================] - 5s 6ms/step - loss: 0.4124 - acc: 0.8207 - val_loss: 0.3045 - val_acc: 0.8929\n",
      "Epoch 4/10\n",
      "781/781 [==============================] - 5s 6ms/step - loss: 0.3829 - acc: 0.8335 - val_loss: 0.3105 - val_acc: 0.8899\n",
      "Train on 781 samples, validate on 336 samples\n",
      "Epoch 1/10\n",
      "781/781 [==============================] - 5s 6ms/step - loss: 0.3957 - acc: 0.8348 - val_loss: 0.3761 - val_acc: 0.8482\n",
      "Epoch 2/10\n",
      "781/781 [==============================] - 5s 6ms/step - loss: 0.3886 - acc: 0.8399 - val_loss: 0.3410 - val_acc: 0.8631\n",
      "Epoch 3/10\n",
      "781/781 [==============================] - 5s 6ms/step - loss: 0.3574 - acc: 0.8464 - val_loss: 0.3552 - val_acc: 0.8601\n",
      "Epoch 4/10\n",
      "781/781 [==============================] - 5s 6ms/step - loss: 0.3762 - acc: 0.8464 - val_loss: 0.3557 - val_acc: 0.8601\n",
      "CPU times: user 12min 34s, sys: 7min 34s, total: 20min 8s\n",
      "Wall time: 5min 8s\n"
     ]
    }
   ],
   "source": [
    "%%time\n",
    "lstm_model = create_lstm_model(n_lstm=64, penalty=0.01, dropout=0.3, re_dropout=0.3)\n",
    "history8=shuffle_train(lstm_model, col_fire_12, col_fire_12_g, 'lstm_shuffle.h5')"
   ]
  },
  {
   "cell_type": "code",
   "execution_count": 54,
   "metadata": {},
   "outputs": [
    {
     "data": {
      "image/png": "[encoded data removed]",
      "text/plain": [
       "<Figure size 1152x432 with 2 Axes>"
      ]
     },
     "metadata": {},
     "output_type": "display_data"
    }
   ],
   "source": [
    "plot_history(history8, 'Performance of LSTM w/ data shuffle', dictionary=True)"
   ]
  },
  {
   "cell_type": "code",
   "execution_count": 49,
   "metadata": {},
   "outputs": [
    {
     "data": {
      "image/png": "[encoded data removed]",
      "text/plain": [
       "<Figure size 432x288 with 1 Axes>"
      ]
     },
     "metadata": {},
     "output_type": "display_data"
    }
   ],
   "source": [
    "p, r, f = metric_drawing('LSTM w/ shuffle ', path='lstm_shuffle.h5')"
   ]
  },
  {
   "cell_type": "code",
   "execution_count": 50,
   "metadata": {
    "scrolled": true
   },
   "outputs": [
    {
     "name": "stdout",
     "output_type": "stream",
     "text": [
      "[0.87776141384388806, 0.76018099547511309, 0.8177905308464849] [0.86251808972503619, 0.83720930232558144, 0.8571428571428571] [0.87007299270072991, 0.79683794466403157, 0.83700440528634357]\n"
     ]
    }
   ],
   "source": [
    "print p, r, f"
   ]
  },
  {
   "cell_type": "code",
   "execution_count": 51,
   "metadata": {},
   "outputs": [
    {
     "name": "stdout",
     "output_type": "stream",
     "text": [
      "917/917 [==============================] - 5s 5ms/step\n",
      "[0.49254186079312307, 0.80588876804582688]\n",
      "917/917 [==============================] - 2s 2ms/step\n",
      "[0.55228132107005645, 0.81679389345476905]\n",
      "1079/1079 [==============================] - 6s 5ms/step\n",
      "[0.54301177626743269, 0.7618164961486088]\n",
      "1079/1079 [==============================] - 2s 2ms/step\n",
      "[0.7193687151603062, 0.77015755290339893]\n",
      "1112/1112 [==============================] - 5s 5ms/step\n",
      "[0.50576583665909525, 0.80035971223021585]\n",
      "1112/1112 [==============================] - 2s 2ms/step\n",
      "[0.62303131068353168, 0.80215827338129497]\n",
      "917/917 [==============================] - 5s 5ms/step\n",
      "[0.49254186079312307, 0.80588876804582688]\n",
      "917/917 [==============================] - 1s 2ms/step\n",
      "[0.55087009660550268, 0.81897491853655746]\n",
      "1079/1079 [==============================] - 6s 6ms/step\n",
      "[0.54301177626743269, 0.7618164961486088]\n",
      "1079/1079 [==============================] - 2s 2ms/step\n",
      "[0.70199448118837371, 0.76923076862312223]\n",
      "1112/1112 [==============================] - 6s 5ms/step\n",
      "[0.50576583665909525, 0.80035971223021585]\n",
      "1112/1112 [==============================] - 2s 2ms/step\n",
      "[0.5959499971472102, 0.80755395683453235]\n"
     ]
    }
   ],
   "source": [
    "increment_learning_result(path='lstm_shuffle.h5')"
   ]
  },
  {
   "cell_type": "code",
   "execution_count": null,
   "metadata": {},
   "outputs": [],
   "source": [
    "%%time\n",
    "lstm_model = create_lstm_model(n_lstm=64, penalty=0.01, dropout=0.3, re_dropout=0.3)\n",
    "history8=shuffle_train(lstm_model, col_fire_12, col_fire_12_g, 'lstm_shuffle.h5')"
   ]
  },
  {
   "cell_type": "code",
   "execution_count": 25,
   "metadata": {
    "scrolled": true
   },
   "outputs": [
    {
     "name": "stdout",
     "output_type": "stream",
     "text": [
      "917/917 [==============================] - 2s 2ms/step\n"
     ]
    },
    {
     "data": {
      "text/plain": [
       "[0.47805090493958285, 0.79280261749009662]"
      ]
     },
     "execution_count": 25,
     "metadata": {},
     "output_type": "execute_result"
    }
   ],
   "source": [
    "model.evaluate(x=col_flood_13_g, y=col_flood_13.label)"
   ]
  },
  {
   "cell_type": "code",
   "execution_count": 191,
   "metadata": {},
   "outputs": [
    {
     "name": "stdout",
     "output_type": "stream",
     "text": [
      "917/917 [==============================] - 2s 2ms/step\n"
     ]
    },
    {
     "data": {
      "text/plain": [
       "[2.3563455324168059, 0.75354416575790617]"
      ]
     },
     "execution_count": 191,
     "metadata": {},
     "output_type": "execute_result"
    }
   ],
   "source": [
    "model.evaluate(x=col_flood_13_g, y=col_flood_13.label)"
   ]
  },
  {
   "cell_type": "code",
   "execution_count": 26,
   "metadata": {
    "scrolled": true
   },
   "outputs": [
    {
     "name": "stdout",
     "output_type": "stream",
     "text": [
      "1079/1079 [==============================] - 2s 2ms/step\n"
     ]
    },
    {
     "data": {
      "text/plain": [
       "[0.50584490366618429, 0.76367006537204984]"
      ]
     },
     "execution_count": 26,
     "metadata": {},
     "output_type": "execute_result"
    }
   ],
   "source": [
    "model.evaluate(x=aus_fire_13_g, y=aus_fire_13.label)"
   ]
  },
  {
   "cell_type": "code",
   "execution_count": 194,
   "metadata": {},
   "outputs": [
    {
     "name": "stdout",
     "output_type": "stream",
     "text": [
      "1079/1079 [==============================] - 2s 2ms/step\n"
     ]
    },
    {
     "data": {
      "text/plain": [
       "[4.1174695312811114, 0.5579240036242753]"
      ]
     },
     "execution_count": 194,
     "metadata": {},
     "output_type": "execute_result"
    }
   ],
   "source": [
    "model.evaluate(x=aus_fire_13_g, y=aus_fire_13.label)"
   ]
  },
  {
   "cell_type": "code",
   "execution_count": 27,
   "metadata": {},
   "outputs": [
    {
     "name": "stdout",
     "output_type": "stream",
     "text": [
      "1112/1112 [==============================] - 2s 2ms/step\n"
     ]
    },
    {
     "data": {
      "text/plain": [
       "[0.47785081751912617, 0.79136690604600979]"
      ]
     },
     "execution_count": 27,
     "metadata": {},
     "output_type": "execute_result"
    }
   ],
   "source": [
    "model.evaluate(x=aus_flood_13_g, y=aus_flood_13.label)"
   ]
  },
  {
   "cell_type": "code",
   "execution_count": 52,
   "metadata": {},
   "outputs": [
    {
     "name": "stdout",
     "output_type": "stream",
     "text": [
      "1117/1117 [==============================] - 2s 2ms/step\n"
     ]
    },
    {
     "data": {
      "text/plain": [
       "[0.3666660382529936, 0.84959713491672051]"
      ]
     },
     "execution_count": 52,
     "metadata": {},
     "output_type": "execute_result"
    }
   ],
   "source": [
    "model.evaluate(x=col_fire_12_g, y=col_fire_12.label)"
   ]
  },
  {
   "cell_type": "code",
   "execution_count": 52,
   "metadata": {},
   "outputs": [
    {
     "data": {
      "text/plain": [
       "['loss', 'acc']"
      ]
     },
     "execution_count": 52,
     "metadata": {},
     "output_type": "execute_result"
    }
   ],
   "source": [
    "model.metrics_names"
   ]
  },
  {
   "cell_type": "code",
   "execution_count": null,
   "metadata": {},
   "outputs": [],
   "source": [
    "keras.utils.plot_model(model, to_file='model.png', show_shapes=False, show_layer_names=True, rankdir='TB') # or'LR'\n",
    "\n",
    "from IPython.display import SVG\n",
    "from keras.utils.vis_utils import model_to_dot\n",
    "SVG(model_to_dot(model).create(prog='dot', format='svg'))"
   ]
  },
  {
   "cell_type": "code",
   "execution_count": 195,
   "metadata": {
    "scrolled": true
   },
   "outputs": [
    {
     "name": "stdout",
     "output_type": "stream",
     "text": [
      "917/917 [==============================] - 0s 78us/step\n"
     ]
    },
    {
     "data": {
      "text/plain": [
       "[0.50540405654855225, 0.78953107999741312]"
      ]
     },
     "execution_count": 195,
     "metadata": {},
     "output_type": "execute_result"
    }
   ],
   "source": [
    "######################w/o domain adaption (baseline)####################################\n",
    "cnn_model.evaluate(x=col_flood_13_g, y=col_flood_13.label)"
   ]
  },
  {
   "cell_type": "code",
   "execution_count": 204,
   "metadata": {},
   "outputs": [
    {
     "name": "stdout",
     "output_type": "stream",
     "text": [
      "1079/1079 [==============================] - 0s 86us/step\n"
     ]
    },
    {
     "data": {
      "text/plain": [
       "[0.61565139505794686, 0.74513438418576627]"
      ]
     },
     "execution_count": 204,
     "metadata": {},
     "output_type": "execute_result"
    }
   ],
   "source": [
    "cnn_model.evaluate(x=aus_fire_13_g, y=aus_fire_13.label)"
   ]
  },
  {
   "cell_type": "code",
   "execution_count": 202,
   "metadata": {},
   "outputs": [
    {
     "name": "stdout",
     "output_type": "stream",
     "text": [
      "1079/1079 [==============================] - 0s 84us/step\n"
     ]
    },
    {
     "data": {
      "text/plain": [
       "[0.60118024729268216, 0.7479147359217837]"
      ]
     },
     "execution_count": 202,
     "metadata": {},
     "output_type": "execute_result"
    }
   ],
   "source": [
    "cnn_model.evaluate(x=aus_fire_13_g, y=aus_fire_13.label)"
   ]
  },
  {
   "cell_type": "code",
   "execution_count": 197,
   "metadata": {},
   "outputs": [
    {
     "name": "stdout",
     "output_type": "stream",
     "text": [
      "1112/1112 [==============================] - 0s 103us/step\n"
     ]
    },
    {
     "data": {
      "text/plain": [
       "[0.5857864794113653, 0.7598920863309353]"
      ]
     },
     "execution_count": 197,
     "metadata": {},
     "output_type": "execute_result"
    }
   ],
   "source": [
    "cnn_model.evaluate(x=aus_flood_13_g, y=aus_flood_13.label)"
   ]
  },
  {
   "cell_type": "code",
   "execution_count": 198,
   "metadata": {},
   "outputs": [
    {
     "name": "stdout",
     "output_type": "stream",
     "text": [
      "1117/1117 [==============================] - 0s 101us/step\n"
     ]
    },
    {
     "data": {
      "text/plain": [
       "[0.50137588747292627, 0.82005371562903118]"
      ]
     },
     "execution_count": 198,
     "metadata": {},
     "output_type": "execute_result"
    }
   ],
   "source": [
    "cnn_model.evaluate(x=col_fire_12_g, y=col_fire_12.label)"
   ]
  },
  {
   "cell_type": "code",
   "execution_count": 211,
   "metadata": {},
   "outputs": [],
   "source": [
    "######################try hard label in one go####################################\n",
    "model1 = cnn_model\n",
    "cf, lb_cf = hard_label(model1, col_flood_13_g, confidence=0.9)\n",
    "af, lb_af = hard_label(model1, aus_fire_13_g, confidence=0.9)\n",
    "qf, lb_qf = hard_label(model1, aus_flood_13_g, confidence=0.9)"
   ]
  },
  {
   "cell_type": "code",
   "execution_count": 213,
   "metadata": {},
   "outputs": [],
   "source": [
    "df = np.vstack((cf,af,qf))"
   ]
  },
  {
   "cell_type": "code",
   "execution_count": 216,
   "metadata": {},
   "outputs": [],
   "source": [
    "lb = np.vstack((lb_cf,lb_af,lb_qf))"
   ]
  },
  {
   "cell_type": "code",
   "execution_count": 217,
   "metadata": {},
   "outputs": [
    {
     "name": "stdout",
     "output_type": "stream",
     "text": [
      "Epoch 1/1\n",
      "81/81 [==============================] - 0s 265us/step - loss: 0.2679 - acc: 0.9630\n"
     ]
    },
    {
     "data": {
      "text/plain": [
       "<keras.callbacks.History at 0x1c9ccb7190>"
      ]
     },
     "execution_count": 217,
     "metadata": {},
     "output_type": "execute_result"
    }
   ],
   "source": [
    "model1.fit(df,lb)"
   ]
  },
  {
   "cell_type": "code",
   "execution_count": 218,
   "metadata": {},
   "outputs": [
    {
     "name": "stdout",
     "output_type": "stream",
     "text": [
      "917/917 [==============================] - 0s 84us/step\n"
     ]
    },
    {
     "data": {
      "text/plain": [
       "[0.52306050738175536, 0.79498364257188503]"
      ]
     },
     "execution_count": 218,
     "metadata": {},
     "output_type": "execute_result"
    }
   ],
   "source": [
    "model1.evaluate(x=col_flood_13_g, y=col_flood_13.label)"
   ]
  },
  {
   "cell_type": "code",
   "execution_count": 219,
   "metadata": {},
   "outputs": [
    {
     "name": "stdout",
     "output_type": "stream",
     "text": [
      "1079/1079 [==============================] - 0s 84us/step\n"
     ]
    },
    {
     "data": {
      "text/plain": [
       "[0.59871983798816319, 0.73030583857385178]"
      ]
     },
     "execution_count": 219,
     "metadata": {},
     "output_type": "execute_result"
    }
   ],
   "source": [
    "model1.evaluate(x=aus_fire_13_g, y=aus_fire_13.label)"
   ]
  },
  {
   "cell_type": "code",
   "execution_count": 220,
   "metadata": {},
   "outputs": [
    {
     "name": "stdout",
     "output_type": "stream",
     "text": [
      "1112/1112 [==============================] - 0s 84us/step\n"
     ]
    },
    {
     "data": {
      "text/plain": [
       "[0.61601999294843601, 0.7149280571251464]"
      ]
     },
     "execution_count": 220,
     "metadata": {},
     "output_type": "execute_result"
    }
   ],
   "source": [
    "model1.evaluate(x=aus_flood_13_g, y=aus_flood_13.label)"
   ]
  },
  {
   "cell_type": "code",
   "execution_count": null,
   "metadata": {},
   "outputs": [],
   "source": [
    "######################try weighted label incremental learning####################################"
   ]
  },
  {
   "cell_type": "code",
   "execution_count": 440,
   "metadata": {},
   "outputs": [],
   "source": [
    "incremental_learning_em_v2(cnn_model, col_flood_13_g, step=5, threshold=0.5)"
   ]
  },
  {
   "cell_type": "code",
   "execution_count": 441,
   "metadata": {},
   "outputs": [
    {
     "name": "stdout",
     "output_type": "stream",
     "text": [
      "917/917 [==============================] - 0s 92us/step\n"
     ]
    },
    {
     "data": {
      "text/plain": [
       "[0.56187313801589678, 0.75572519122969228]"
      ]
     },
     "execution_count": 441,
     "metadata": {},
     "output_type": "execute_result"
    }
   ],
   "source": [
    "cnn_model.evaluate(x=col_flood_13_g, y=col_flood_13.label)"
   ]
  },
  {
   "cell_type": "code",
   "execution_count": 442,
   "metadata": {},
   "outputs": [],
   "source": [
    "incremental_learning_em_v2(cnn_model, aus_fire_13_g, step=5, threshold=0.5)"
   ]
  },
  {
   "cell_type": "code",
   "execution_count": 443,
   "metadata": {},
   "outputs": [
    {
     "name": "stdout",
     "output_type": "stream",
     "text": [
      "1079/1079 [==============================] - 0s 98us/step\n"
     ]
    },
    {
     "data": {
      "text/plain": [
       "[0.60983065646262602, 0.68118628387212532]"
      ]
     },
     "execution_count": 443,
     "metadata": {},
     "output_type": "execute_result"
    }
   ],
   "source": [
    "cnn_model.evaluate(x=aus_fire_13_g, y=aus_fire_13.label)"
   ]
  },
  {
   "cell_type": "code",
   "execution_count": 444,
   "metadata": {},
   "outputs": [],
   "source": [
    "incremental_learning_em_v2(cnn_model, aus_flood_13_g, step=5, threshold=0.5)"
   ]
  },
  {
   "cell_type": "code",
   "execution_count": 445,
   "metadata": {},
   "outputs": [
    {
     "name": "stdout",
     "output_type": "stream",
     "text": [
      "1112/1112 [==============================] - 0s 99us/step\n"
     ]
    },
    {
     "data": {
      "text/plain": [
       "[0.6267756918351427, 0.69964028776978415]"
      ]
     },
     "execution_count": 445,
     "metadata": {},
     "output_type": "execute_result"
    }
   ],
   "source": [
    "cnn_model.evaluate(x=aus_flood_13_g, y=aus_flood_13.label)"
   ]
  },
  {
   "cell_type": "code",
   "execution_count": 446,
   "metadata": {},
   "outputs": [],
   "source": [
    "######################try hard label incremental learning with train on batch####################################"
   ]
  },
  {
   "cell_type": "code",
   "execution_count": 344,
   "metadata": {},
   "outputs": [],
   "source": [
    "incremental_learning_hl(cnn_model, col_flood_13_g, step=10, confidence=0.9)"
   ]
  },
  {
   "cell_type": "code",
   "execution_count": 345,
   "metadata": {},
   "outputs": [
    {
     "name": "stdout",
     "output_type": "stream",
     "text": [
      "917/917 [==============================] - 0s 93us/step\n"
     ]
    },
    {
     "data": {
      "text/plain": [
       "[0.50252849406348454, 0.77644492918168451]"
      ]
     },
     "execution_count": 345,
     "metadata": {},
     "output_type": "execute_result"
    }
   ],
   "source": [
    "cnn_model.evaluate(x=col_flood_13_g, y=col_flood_13.label)"
   ]
  },
  {
   "cell_type": "code",
   "execution_count": 346,
   "metadata": {},
   "outputs": [],
   "source": [
    "incremental_learning_hl(cnn_model, aus_fire_13_g, step=10, confidence=0.9)"
   ]
  },
  {
   "cell_type": "code",
   "execution_count": 347,
   "metadata": {},
   "outputs": [
    {
     "name": "stdout",
     "output_type": "stream",
     "text": [
      "1079/1079 [==============================] - 0s 90us/step\n"
     ]
    },
    {
     "data": {
      "text/plain": [
       "[0.99852934990689313, 0.56533827609878873]"
      ]
     },
     "execution_count": 347,
     "metadata": {},
     "output_type": "execute_result"
    }
   ],
   "source": [
    "cnn_model.evaluate(x=aus_fire_13_g, y=aus_fire_13.label)"
   ]
  },
  {
   "cell_type": "code",
   "execution_count": 348,
   "metadata": {},
   "outputs": [],
   "source": [
    "incremental_learning_hl(cnn_model, aus_flood_13_g, step=10, confidence=0.9)"
   ]
  },
  {
   "cell_type": "code",
   "execution_count": 349,
   "metadata": {},
   "outputs": [
    {
     "name": "stdout",
     "output_type": "stream",
     "text": [
      "1112/1112 [==============================] - 0s 94us/step\n"
     ]
    },
    {
     "data": {
      "text/plain": [
       "[1.2142007942679975, 0.5998201434560817]"
      ]
     },
     "execution_count": 349,
     "metadata": {},
     "output_type": "execute_result"
    }
   ],
   "source": [
    "cnn_model.evaluate(x=aus_flood_13_g, y=aus_flood_13.label)"
   ]
  },
  {
   "cell_type": "code",
   "execution_count": 292,
   "metadata": {},
   "outputs": [],
   "source": [
    "#WRONG#####################try hard label incremental learning with fit ####################################"
   ]
  },
  {
   "cell_type": "code",
   "execution_count": 302,
   "metadata": {},
   "outputs": [],
   "source": [
    "def incremental_learning_hl_fit(model, tweets, step=10, confidence=0.95):\n",
    "    subset_len = tweets.shape[0]/step\n",
    "    marks = [subset_len*i for i in range(step)]\n",
    "    marks.append(tweets.shape[0])\n",
    "    for i in range(step):\n",
    "        text = tweets[marks[i]: marks[i+1]]\n",
    "        y_pred = model.predict(x=text)\n",
    "        x_confident = np.asarray([text[j] for j in range(len(y_pred)) if y_pred[j][0] >= confidence or y_pred[j][1] >= confidence])\n",
    "        y_confident = [y_pred[j] for j in range(len(y_pred)) if y_pred[j][0] >= confidence or y_pred[j][1] >= confidence]\n",
    "        label = to_categorical(map(lambda x: 0 if x[0]>=confidence else 1, y_confident))\n",
    "        model.fit(x_confident, label, validation_split=0.3, epochs = 10, callbacks=[EarlyStopping(patience=3)])"
   ]
  },
  {
   "cell_type": "code",
   "execution_count": 304,
   "metadata": {},
   "outputs": [
    {
     "name": "stdout",
     "output_type": "stream",
     "text": [
      "Train on 9 samples, validate on 5 samples\n",
      "Epoch 1/10\n",
      "9/9 [==============================] - 0s 785us/step - loss: 0.1652 - acc: 0.8889 - val_loss: 0.1005 - val_acc: 1.0000\n",
      "Epoch 2/10\n",
      "9/9 [==============================] - 0s 801us/step - loss: 0.1808 - acc: 0.8889 - val_loss: 0.0998 - val_acc: 1.0000\n",
      "Epoch 3/10\n",
      "9/9 [==============================] - 0s 802us/step - loss: 0.1635 - acc: 0.8889 - val_loss: 0.0985 - val_acc: 1.0000\n",
      "Epoch 4/10\n",
      "9/9 [==============================] - 0s 819us/step - loss: 0.4816 - acc: 0.5556 - val_loss: 0.0963 - val_acc: 1.0000\n",
      "Epoch 5/10\n",
      "9/9 [==============================] - 0s 796us/step - loss: 0.2871 - acc: 0.7778 - val_loss: 0.0929 - val_acc: 1.0000\n",
      "Epoch 6/10\n",
      "9/9 [==============================] - 0s 790us/step - loss: 0.1805 - acc: 0.8889 - val_loss: 0.0890 - val_acc: 1.0000\n",
      "Epoch 7/10\n",
      "9/9 [==============================] - 0s 800us/step - loss: 0.2794 - acc: 0.7778 - val_loss: 0.0847 - val_acc: 1.0000\n",
      "Epoch 8/10\n",
      "9/9 [==============================] - 0s 915us/step - loss: 0.1846 - acc: 0.8889 - val_loss: 0.0800 - val_acc: 1.0000\n",
      "Epoch 9/10\n",
      "9/9 [==============================] - 0s 971us/step - loss: 0.5570 - acc: 0.4444 - val_loss: 0.0756 - val_acc: 1.0000\n",
      "Epoch 10/10\n",
      "9/9 [==============================] - 0s 1ms/step - loss: 0.5648 - acc: 0.4444 - val_loss: 0.0718 - val_acc: 1.0000\n",
      "Train on 28 samples, validate on 12 samples\n",
      "Epoch 1/10\n",
      "28/28 [==============================] - 0s 410us/step - loss: 0.4321 - acc: 0.6071 - val_loss: 0.0777 - val_acc: 1.0000\n",
      "Epoch 2/10\n",
      "28/28 [==============================] - 0s 459us/step - loss: 0.2142 - acc: 0.8214 - val_loss: 0.0732 - val_acc: 1.0000\n",
      "Epoch 3/10\n",
      "28/28 [==============================] - 0s 458us/step - loss: 0.1520 - acc: 0.8929 - val_loss: 0.0693 - val_acc: 1.0000\n",
      "Epoch 4/10\n",
      "28/28 [==============================] - 0s 386us/step - loss: 0.2531 - acc: 0.7857 - val_loss: 0.0658 - val_acc: 1.0000\n",
      "Epoch 5/10\n",
      "28/28 [==============================] - 0s 407us/step - loss: 0.3116 - acc: 0.7143 - val_loss: 0.0627 - val_acc: 1.0000\n",
      "Epoch 6/10\n",
      "28/28 [==============================] - 0s 384us/step - loss: 0.2465 - acc: 0.7857 - val_loss: 0.0601 - val_acc: 1.0000\n",
      "Epoch 7/10\n",
      "28/28 [==============================] - 0s 419us/step - loss: 0.3013 - acc: 0.7143 - val_loss: 0.0579 - val_acc: 1.0000\n",
      "Epoch 8/10\n",
      "28/28 [==============================] - 0s 516us/step - loss: 0.2992 - acc: 0.7143 - val_loss: 0.0560 - val_acc: 1.0000\n",
      "Epoch 9/10\n",
      "28/28 [==============================] - 0s 547us/step - loss: 0.3610 - acc: 0.6429 - val_loss: 0.0544 - val_acc: 1.0000\n",
      "Epoch 10/10\n",
      "28/28 [==============================] - 0s 409us/step - loss: 0.3909 - acc: 0.6071 - val_loss: 0.0531 - val_acc: 1.0000\n",
      "Train on 39 samples, validate on 17 samples\n",
      "Epoch 1/10\n",
      "39/39 [==============================] - 0s 603us/step - loss: 0.2136 - acc: 0.8205 - val_loss: 0.0712 - val_acc: 1.0000\n",
      "Epoch 2/10\n",
      "39/39 [==============================] - 0s 672us/step - loss: 0.2696 - acc: 0.7436 - val_loss: 0.0665 - val_acc: 1.0000\n",
      "Epoch 3/10\n",
      "39/39 [==============================] - 0s 827us/step - loss: 0.2925 - acc: 0.7179 - val_loss: 0.0628 - val_acc: 1.0000\n",
      "Epoch 4/10\n",
      "39/39 [==============================] - 0s 542us/step - loss: 0.2263 - acc: 0.7949 - val_loss: 0.0597 - val_acc: 1.0000\n",
      "Epoch 5/10\n",
      "39/39 [==============================] - 0s 631us/step - loss: 0.2471 - acc: 0.7692 - val_loss: 0.0572 - val_acc: 1.0000\n",
      "Epoch 6/10\n",
      "39/39 [==============================] - 0s 520us/step - loss: 0.3510 - acc: 0.6410 - val_loss: 0.0552 - val_acc: 1.0000\n",
      "Epoch 7/10\n",
      "39/39 [==============================] - 0s 490us/step - loss: 0.2186 - acc: 0.7949 - val_loss: 0.0535 - val_acc: 1.0000\n",
      "Epoch 8/10\n",
      "39/39 [==============================] - 0s 636us/step - loss: 0.2605 - acc: 0.7436 - val_loss: 0.0522 - val_acc: 1.0000\n",
      "Epoch 9/10\n",
      "39/39 [==============================] - 0s 524us/step - loss: 0.3437 - acc: 0.6410 - val_loss: 0.0511 - val_acc: 1.0000\n",
      "Epoch 10/10\n",
      "39/39 [==============================] - 0s 605us/step - loss: 0.2766 - acc: 0.7179 - val_loss: 0.0502 - val_acc: 1.0000\n",
      "Train on 52 samples, validate on 23 samples\n",
      "Epoch 1/10\n",
      "52/52 [==============================] - 0s 451us/step - loss: 0.3053 - acc: 0.6923 - val_loss: 0.0595 - val_acc: 1.0000\n",
      "Epoch 2/10\n",
      "52/52 [==============================] - 0s 402us/step - loss: 0.2547 - acc: 0.7500 - val_loss: 0.0579 - val_acc: 1.0000\n",
      "Epoch 3/10\n",
      "52/52 [==============================] - 0s 387us/step - loss: 0.2374 - acc: 0.7692 - val_loss: 0.0564 - val_acc: 1.0000\n",
      "Epoch 4/10\n",
      "52/52 [==============================] - 0s 442us/step - loss: 0.2354 - acc: 0.7692 - val_loss: 0.0551 - val_acc: 1.0000\n",
      "Epoch 5/10\n",
      "52/52 [==============================] - 0s 396us/step - loss: 0.2316 - acc: 0.7692 - val_loss: 0.0539 - val_acc: 1.0000\n",
      "Epoch 6/10\n",
      "52/52 [==============================] - 0s 412us/step - loss: 0.2946 - acc: 0.6923 - val_loss: 0.0528 - val_acc: 1.0000\n",
      "Epoch 7/10\n",
      "52/52 [==============================] - 0s 490us/step - loss: 0.1869 - acc: 0.8269 - val_loss: 0.0517 - val_acc: 1.0000\n",
      "Epoch 8/10\n",
      "52/52 [==============================] - 0s 380us/step - loss: 0.2288 - acc: 0.7692 - val_loss: 0.0508 - val_acc: 1.0000\n",
      "Epoch 9/10\n",
      "52/52 [==============================] - 0s 411us/step - loss: 0.2874 - acc: 0.6923 - val_loss: 0.0500 - val_acc: 1.0000\n",
      "Epoch 10/10\n",
      "52/52 [==============================] - 0s 435us/step - loss: 0.2570 - acc: 0.7308 - val_loss: 0.0493 - val_acc: 1.0000\n",
      "Train on 56 samples, validate on 25 samples\n",
      "Epoch 1/10\n",
      "56/56 [==============================] - 0s 363us/step - loss: 0.3035 - acc: 0.6786 - val_loss: 0.0485 - val_acc: 1.0000\n",
      "Epoch 2/10\n",
      "56/56 [==============================] - 0s 380us/step - loss: 0.2151 - acc: 0.7857 - val_loss: 0.0477 - val_acc: 1.0000\n",
      "Epoch 3/10\n",
      "56/56 [==============================] - 0s 419us/step - loss: 0.2563 - acc: 0.7321 - val_loss: 0.0470 - val_acc: 1.0000\n",
      "Epoch 4/10\n",
      "56/56 [==============================] - 0s 445us/step - loss: 0.2847 - acc: 0.6964 - val_loss: 0.0463 - val_acc: 1.0000\n",
      "Epoch 5/10\n",
      "56/56 [==============================] - 0s 443us/step - loss: 0.2801 - acc: 0.6964 - val_loss: 0.0457 - val_acc: 1.0000\n",
      "Epoch 6/10\n",
      "56/56 [==============================] - 0s 403us/step - loss: 0.2085 - acc: 0.7857 - val_loss: 0.0451 - val_acc: 1.0000\n",
      "Epoch 7/10\n",
      "56/56 [==============================] - 0s 405us/step - loss: 0.2775 - acc: 0.6964 - val_loss: 0.0445 - val_acc: 1.0000\n",
      "Epoch 8/10\n",
      "56/56 [==============================] - ETA: 0s - loss: 0.1384 - acc: 0.875 - 0s 411us/step - loss: 0.1920 - acc: 0.8036 - val_loss: 0.0441 - val_acc: 1.0000\n",
      "Epoch 9/10\n",
      "56/56 [==============================] - 0s 380us/step - loss: 0.2468 - acc: 0.7321 - val_loss: 0.0437 - val_acc: 1.0000\n",
      "Epoch 10/10\n",
      "56/56 [==============================] - 0s 385us/step - loss: 0.2181 - acc: 0.7679 - val_loss: 0.0433 - val_acc: 1.0000\n",
      "Train on 58 samples, validate on 26 samples\n",
      "Epoch 1/10\n",
      "58/58 [==============================] - 0s 377us/step - loss: 0.2093 - acc: 0.7759 - val_loss: 0.0474 - val_acc: 1.0000\n",
      "Epoch 2/10\n",
      "58/58 [==============================] - 0s 368us/step - loss: 0.1694 - acc: 0.8276 - val_loss: 0.0469 - val_acc: 1.0000\n",
      "Epoch 3/10\n",
      "58/58 [==============================] - 0s 410us/step - loss: 0.3459 - acc: 0.5862 - val_loss: 0.0464 - val_acc: 1.0000\n",
      "Epoch 4/10\n",
      "58/58 [==============================] - 0s 352us/step - loss: 0.1816 - acc: 0.8103 - val_loss: 0.0459 - val_acc: 1.0000\n",
      "Epoch 5/10\n",
      "58/58 [==============================] - 0s 353us/step - loss: 0.3061 - acc: 0.6379 - val_loss: 0.0456 - val_acc: 1.0000\n",
      "Epoch 6/10\n",
      "58/58 [==============================] - 0s 357us/step - loss: 0.2419 - acc: 0.7241 - val_loss: 0.0452 - val_acc: 1.0000\n",
      "Epoch 7/10\n",
      "58/58 [==============================] - 0s 397us/step - loss: 0.2168 - acc: 0.7586 - val_loss: 0.0449 - val_acc: 1.0000\n",
      "Epoch 8/10\n",
      "58/58 [==============================] - 0s 360us/step - loss: 0.2162 - acc: 0.7586 - val_loss: 0.0446 - val_acc: 1.0000\n",
      "Epoch 9/10\n",
      "58/58 [==============================] - 0s 384us/step - loss: 0.1770 - acc: 0.8103 - val_loss: 0.0443 - val_acc: 1.0000\n",
      "Epoch 10/10\n",
      "58/58 [==============================] - 0s 338us/step - loss: 0.2503 - acc: 0.7069 - val_loss: 0.0440 - val_acc: 1.0000\n"
     ]
    },
    {
     "name": "stdout",
     "output_type": "stream",
     "text": [
      "Train on 62 samples, validate on 27 samples\n",
      "Epoch 1/10\n",
      "62/62 [==============================] - 0s 356us/step - loss: 0.2389 - acc: 0.7258 - val_loss: 0.0504 - val_acc: 1.0000\n",
      "Epoch 2/10\n",
      "62/62 [==============================] - 0s 343us/step - loss: 0.2025 - acc: 0.7742 - val_loss: 0.0500 - val_acc: 1.0000\n",
      "Epoch 3/10\n",
      "62/62 [==============================] - 0s 385us/step - loss: 0.2469 - acc: 0.7097 - val_loss: 0.0495 - val_acc: 1.0000\n",
      "Epoch 4/10\n",
      "62/62 [==============================] - 0s 350us/step - loss: 0.1909 - acc: 0.7903 - val_loss: 0.0491 - val_acc: 1.0000\n",
      "Epoch 5/10\n",
      "62/62 [==============================] - 0s 377us/step - loss: 0.2108 - acc: 0.7581 - val_loss: 0.0486 - val_acc: 1.0000\n",
      "Epoch 6/10\n",
      "62/62 [==============================] - 0s 383us/step - loss: 0.1885 - acc: 0.7903 - val_loss: 0.0482 - val_acc: 1.0000\n",
      "Epoch 7/10\n",
      "62/62 [==============================] - 0s 373us/step - loss: 0.2204 - acc: 0.7419 - val_loss: 0.0478 - val_acc: 1.0000\n",
      "Epoch 8/10\n",
      "62/62 [==============================] - 0s 321us/step - loss: 0.2318 - acc: 0.8387 - val_loss: 0.0474 - val_acc: 1.0000\n",
      "Epoch 9/10\n",
      "62/62 [==============================] - 0s 334us/step - loss: 0.2186 - acc: 1.0000 - val_loss: 0.0470 - val_acc: 1.0000\n",
      "Epoch 10/10\n",
      "62/62 [==============================] - 0s 347us/step - loss: 0.1848 - acc: 1.0000 - val_loss: 0.0466 - val_acc: 1.0000\n",
      "Train on 62 samples, validate on 28 samples\n",
      "Epoch 1/10\n",
      "62/62 [==============================] - 0s 335us/step - loss: 0.2373 - acc: 1.0000 - val_loss: 0.0424 - val_acc: 1.0000\n",
      "Epoch 2/10\n",
      "62/62 [==============================] - 0s 334us/step - loss: 0.1495 - acc: 1.0000 - val_loss: 0.0421 - val_acc: 1.0000\n",
      "Epoch 3/10\n",
      "62/62 [==============================] - 0s 334us/step - loss: 0.1932 - acc: 1.0000 - val_loss: 0.0419 - val_acc: 1.0000\n",
      "Epoch 4/10\n",
      "62/62 [==============================] - 0s 338us/step - loss: 0.2024 - acc: 1.0000 - val_loss: 0.0417 - val_acc: 1.0000\n",
      "Epoch 5/10\n",
      "62/62 [==============================] - 0s 353us/step - loss: 0.2459 - acc: 1.0000 - val_loss: 0.0415 - val_acc: 1.0000\n",
      "Epoch 6/10\n",
      "62/62 [==============================] - 0s 390us/step - loss: 0.1691 - acc: 1.0000 - val_loss: 0.0413 - val_acc: 1.0000\n",
      "Epoch 7/10\n",
      "62/62 [==============================] - 0s 382us/step - loss: 0.2329 - acc: 1.0000 - val_loss: 0.0411 - val_acc: 1.0000\n",
      "Epoch 8/10\n",
      "62/62 [==============================] - 0s 398us/step - loss: 0.2108 - acc: 1.0000 - val_loss: 0.0409 - val_acc: 1.0000\n",
      "Epoch 9/10\n",
      "62/62 [==============================] - 0s 365us/step - loss: 0.2095 - acc: 1.0000 - val_loss: 0.0407 - val_acc: 1.0000\n",
      "Epoch 10/10\n",
      "62/62 [==============================] - 0s 431us/step - loss: 0.1554 - acc: 1.0000 - val_loss: 0.0406 - val_acc: 1.0000\n",
      "Train on 62 samples, validate on 27 samples\n",
      "Epoch 1/10\n",
      "62/62 [==============================] - 0s 410us/step - loss: 0.1649 - acc: 1.0000 - val_loss: 0.0420 - val_acc: 1.0000\n",
      "Epoch 2/10\n",
      "62/62 [==============================] - 0s 418us/step - loss: 0.2189 - acc: 1.0000 - val_loss: 0.0418 - val_acc: 1.0000\n",
      "Epoch 3/10\n",
      "62/62 [==============================] - 0s 386us/step - loss: 0.1331 - acc: 1.0000 - val_loss: 0.0416 - val_acc: 1.0000\n",
      "Epoch 4/10\n",
      "62/62 [==============================] - 0s 404us/step - loss: 0.1748 - acc: 1.0000 - val_loss: 0.0415 - val_acc: 1.0000\n",
      "Epoch 5/10\n",
      "62/62 [==============================] - 0s 442us/step - loss: 0.1844 - acc: 1.0000 - val_loss: 0.0413 - val_acc: 1.0000\n",
      "Epoch 6/10\n",
      "62/62 [==============================] - 0s 397us/step - loss: 0.2451 - acc: 1.0000 - val_loss: 0.0411 - val_acc: 1.0000\n",
      "Epoch 7/10\n",
      "62/62 [==============================] - 0s 345us/step - loss: 0.1724 - acc: 1.0000 - val_loss: 0.0410 - val_acc: 1.0000\n",
      "Epoch 8/10\n",
      "62/62 [==============================] - 0s 398us/step - loss: 0.2346 - acc: 1.0000 - val_loss: 0.0408 - val_acc: 1.0000\n",
      "Epoch 9/10\n",
      "62/62 [==============================] - 0s 364us/step - loss: 0.2118 - acc: 1.0000 - val_loss: 0.0407 - val_acc: 1.0000\n",
      "Epoch 10/10\n",
      "62/62 [==============================] - 0s 325us/step - loss: 0.1912 - acc: 1.0000 - val_loss: 0.0405 - val_acc: 1.0000\n",
      "Train on 68 samples, validate on 30 samples\n",
      "Epoch 1/10\n",
      "68/68 [==============================] - 0s 426us/step - loss: 0.1771 - acc: 1.0000 - val_loss: 0.0414 - val_acc: 1.0000\n",
      "Epoch 2/10\n",
      "68/68 [==============================] - 0s 419us/step - loss: 0.1853 - acc: 1.0000 - val_loss: 0.0411 - val_acc: 1.0000\n",
      "Epoch 3/10\n",
      "68/68 [==============================] - 0s 433us/step - loss: 0.2306 - acc: 1.0000 - val_loss: 0.0409 - val_acc: 1.0000\n",
      "Epoch 4/10\n",
      "68/68 [==============================] - ETA: 0s - loss: 0.1546 - acc: 1.000 - 0s 442us/step - loss: 0.1564 - acc: 1.0000 - val_loss: 0.0407 - val_acc: 1.0000\n",
      "Epoch 5/10\n",
      "68/68 [==============================] - 0s 441us/step - loss: 0.2022 - acc: 1.0000 - val_loss: 0.0404 - val_acc: 1.0000\n",
      "Epoch 6/10\n",
      "68/68 [==============================] - 0s 443us/step - loss: 0.1997 - acc: 1.0000 - val_loss: 0.0402 - val_acc: 1.0000\n",
      "Epoch 7/10\n",
      "68/68 [==============================] - 0s 436us/step - loss: 0.2078 - acc: 1.0000 - val_loss: 0.0399 - val_acc: 1.0000\n",
      "Epoch 8/10\n",
      "68/68 [==============================] - 0s 427us/step - loss: 0.1974 - acc: 1.0000 - val_loss: 0.0397 - val_acc: 1.0000\n",
      "Epoch 9/10\n",
      "68/68 [==============================] - 0s 418us/step - loss: 0.1350 - acc: 1.0000 - val_loss: 0.0394 - val_acc: 1.0000\n",
      "Epoch 10/10\n",
      "68/68 [==============================] - 0s 439us/step - loss: 0.1776 - acc: 1.0000 - val_loss: 0.0392 - val_acc: 1.0000\n"
     ]
    }
   ],
   "source": [
    "incremental_learning_hl_fit(cnn_model, col_flood_13_g, step=10, confidence=0.9)"
   ]
  },
  {
   "cell_type": "code",
   "execution_count": 305,
   "metadata": {},
   "outputs": [
    {
     "name": "stdout",
     "output_type": "stream",
     "text": [
      "917/917 [==============================] - 0s 90us/step\n"
     ]
    },
    {
     "data": {
      "text/plain": [
       "[1.2957878456072174, 0.75354416575790617]"
      ]
     },
     "execution_count": 305,
     "metadata": {},
     "output_type": "execute_result"
    }
   ],
   "source": [
    "cnn_model.evaluate(x=col_flood_13_g, y=col_flood_13.label)"
   ]
  },
  {
   "cell_type": "code",
   "execution_count": 306,
   "metadata": {},
   "outputs": [
    {
     "name": "stdout",
     "output_type": "stream",
     "text": [
      "Train on 67 samples, validate on 30 samples\n",
      "Epoch 1/10\n",
      "67/67 [==============================] - 0s 448us/step - loss: 0.2243 - acc: 1.0000 - val_loss: 0.0413 - val_acc: 1.0000\n",
      "Epoch 2/10\n",
      "67/67 [==============================] - 0s 397us/step - loss: 0.2056 - acc: 1.0000 - val_loss: 0.0408 - val_acc: 1.0000\n",
      "Epoch 3/10\n",
      "67/67 [==============================] - 0s 430us/step - loss: 0.1983 - acc: 1.0000 - val_loss: 0.0402 - val_acc: 1.0000\n",
      "Epoch 4/10\n",
      "67/67 [==============================] - 0s 407us/step - loss: 0.1790 - acc: 1.0000 - val_loss: 0.0397 - val_acc: 1.0000\n",
      "Epoch 5/10\n",
      "67/67 [==============================] - 0s 441us/step - loss: 0.1156 - acc: 1.0000 - val_loss: 0.0392 - val_acc: 1.0000\n",
      "Epoch 6/10\n",
      "67/67 [==============================] - 0s 419us/step - loss: 0.2451 - acc: 1.0000 - val_loss: 0.0388 - val_acc: 1.0000\n",
      "Epoch 7/10\n",
      "67/67 [==============================] - 0s 446us/step - loss: 0.2257 - acc: 1.0000 - val_loss: 0.0384 - val_acc: 1.0000\n",
      "Epoch 8/10\n",
      "67/67 [==============================] - 0s 464us/step - loss: 0.1486 - acc: 1.0000 - val_loss: 0.0380 - val_acc: 1.0000\n",
      "Epoch 9/10\n",
      "67/67 [==============================] - 0s 505us/step - loss: 0.1977 - acc: 1.0000 - val_loss: 0.0377 - val_acc: 1.0000\n",
      "Epoch 10/10\n",
      "67/67 [==============================] - 0s 499us/step - loss: 0.1638 - acc: 1.0000 - val_loss: 0.0373 - val_acc: 1.0000\n",
      "Train on 70 samples, validate on 30 samples\n",
      "Epoch 1/10\n",
      "70/70 [==============================] - 0s 379us/step - loss: 0.1554 - acc: 1.0000 - val_loss: 0.0402 - val_acc: 1.0000\n",
      "Epoch 2/10\n",
      "70/70 [==============================] - 0s 439us/step - loss: 0.1630 - acc: 1.0000 - val_loss: 0.0398 - val_acc: 1.0000\n",
      "Epoch 3/10\n",
      "70/70 [==============================] - 0s 398us/step - loss: 0.1862 - acc: 1.0000 - val_loss: 0.0395 - val_acc: 1.0000\n",
      "Epoch 4/10\n",
      "70/70 [==============================] - 0s 433us/step - loss: 0.1372 - acc: 1.0000 - val_loss: 0.0392 - val_acc: 1.0000\n",
      "Epoch 5/10\n",
      "70/70 [==============================] - 0s 400us/step - loss: 0.1682 - acc: 1.0000 - val_loss: 0.0389 - val_acc: 1.0000\n",
      "Epoch 6/10\n",
      "70/70 [==============================] - 0s 428us/step - loss: 0.1920 - acc: 1.0000 - val_loss: 0.0386 - val_acc: 1.0000\n",
      "Epoch 7/10\n",
      "70/70 [==============================] - 0s 415us/step - loss: 0.1518 - acc: 1.0000 - val_loss: 0.0384 - val_acc: 1.0000\n",
      "Epoch 8/10\n",
      "70/70 [==============================] - 0s 396us/step - loss: 0.1738 - acc: 1.0000 - val_loss: 0.0381 - val_acc: 1.0000\n",
      "Epoch 9/10\n",
      "70/70 [==============================] - 0s 485us/step - loss: 0.1427 - acc: 1.0000 - val_loss: 0.0379 - val_acc: 1.0000\n",
      "Epoch 10/10\n",
      "70/70 [==============================] - 0s 393us/step - loss: 0.1576 - acc: 1.0000 - val_loss: 0.0377 - val_acc: 1.0000\n",
      "Train on 74 samples, validate on 32 samples\n",
      "Epoch 1/10\n",
      "74/74 [==============================] - 0s 438us/step - loss: 0.1636 - acc: 1.0000 - val_loss: 0.0336 - val_acc: 1.0000\n",
      "Epoch 2/10\n",
      "74/74 [==============================] - 0s 386us/step - loss: 0.1411 - acc: 1.0000 - val_loss: 0.0334 - val_acc: 1.0000\n",
      "Epoch 3/10\n",
      "74/74 [==============================] - 0s 418us/step - loss: 0.1760 - acc: 1.0000 - val_loss: 0.0333 - val_acc: 1.0000\n",
      "Epoch 4/10\n",
      "74/74 [==============================] - 0s 394us/step - loss: 0.1757 - acc: 1.0000 - val_loss: 0.0332 - val_acc: 1.0000\n",
      "Epoch 5/10\n",
      "74/74 [==============================] - 0s 415us/step - loss: 0.1750 - acc: 1.0000 - val_loss: 0.0330 - val_acc: 1.0000\n",
      "Epoch 6/10\n",
      "74/74 [==============================] - 0s 385us/step - loss: 0.1599 - acc: 1.0000 - val_loss: 0.0329 - val_acc: 1.0000\n",
      "Epoch 7/10\n",
      "74/74 [==============================] - 0s 425us/step - loss: 0.2084 - acc: 1.0000 - val_loss: 0.0328 - val_acc: 1.0000\n",
      "Epoch 8/10\n",
      "74/74 [==============================] - 0s 418us/step - loss: 0.2063 - acc: 1.0000 - val_loss: 0.0326 - val_acc: 1.0000\n",
      "Epoch 9/10\n",
      "74/74 [==============================] - 0s 424us/step - loss: 0.1442 - acc: 1.0000 - val_loss: 0.0325 - val_acc: 1.0000\n",
      "Epoch 10/10\n",
      "74/74 [==============================] - 0s 398us/step - loss: 0.1564 - acc: 1.0000 - val_loss: 0.0324 - val_acc: 1.0000\n",
      "Train on 70 samples, validate on 31 samples\n",
      "Epoch 1/10\n",
      "70/70 [==============================] - 0s 389us/step - loss: 0.1488 - acc: 1.0000 - val_loss: 0.0345 - val_acc: 1.0000\n",
      "Epoch 2/10\n",
      "70/70 [==============================] - 0s 504us/step - loss: 0.1185 - acc: 1.0000 - val_loss: 0.0343 - val_acc: 1.0000\n",
      "Epoch 3/10\n",
      "70/70 [==============================] - 0s 403us/step - loss: 0.1541 - acc: 1.0000 - val_loss: 0.0341 - val_acc: 1.0000\n",
      "Epoch 4/10\n",
      "70/70 [==============================] - 0s 497us/step - loss: 0.1323 - acc: 1.0000 - val_loss: 0.0340 - val_acc: 1.0000\n",
      "Epoch 5/10\n",
      "70/70 [==============================] - 0s 472us/step - loss: 0.1601 - acc: 1.0000 - val_loss: 0.0338 - val_acc: 1.0000\n",
      "Epoch 6/10\n",
      "70/70 [==============================] - 0s 622us/step - loss: 0.1808 - acc: 1.0000 - val_loss: 0.0337 - val_acc: 1.0000\n",
      "Epoch 7/10\n",
      "70/70 [==============================] - 0s 536us/step - loss: 0.1528 - acc: 1.0000 - val_loss: 0.0335 - val_acc: 1.0000\n",
      "Epoch 8/10\n",
      "70/70 [==============================] - 0s 599us/step - loss: 0.1857 - acc: 1.0000 - val_loss: 0.0333 - val_acc: 1.0000\n",
      "Epoch 9/10\n",
      "70/70 [==============================] - 0s 532us/step - loss: 0.1427 - acc: 1.0000 - val_loss: 0.0331 - val_acc: 1.0000\n",
      "Epoch 10/10\n",
      "70/70 [==============================] - 0s 514us/step - loss: 0.1770 - acc: 1.0000 - val_loss: 0.0330 - val_acc: 1.0000\n",
      "Train on 74 samples, validate on 32 samples\n",
      "Epoch 1/10\n",
      "74/74 [==============================] - 0s 507us/step - loss: 0.1490 - acc: 1.0000 - val_loss: 0.0376 - val_acc: 1.0000\n",
      "Epoch 2/10\n",
      "74/74 [==============================] - 0s 501us/step - loss: 0.1553 - acc: 1.0000 - val_loss: 0.0374 - val_acc: 1.0000\n",
      "Epoch 3/10\n",
      "74/74 [==============================] - 0s 499us/step - loss: 0.1601 - acc: 1.0000 - val_loss: 0.0372 - val_acc: 1.0000\n",
      "Epoch 4/10\n",
      "74/74 [==============================] - 0s 471us/step - loss: 0.1295 - acc: 1.0000 - val_loss: 0.0370 - val_acc: 1.0000\n",
      "Epoch 5/10\n",
      "74/74 [==============================] - 0s 444us/step - loss: 0.1782 - acc: 1.0000 - val_loss: 0.0367 - val_acc: 1.0000\n",
      "Epoch 6/10\n",
      "74/74 [==============================] - 0s 398us/step - loss: 0.1329 - acc: 1.0000 - val_loss: 0.0365 - val_acc: 1.0000\n",
      "Epoch 7/10\n",
      "74/74 [==============================] - 0s 364us/step - loss: 0.0896 - acc: 1.0000 - val_loss: 0.0363 - val_acc: 1.0000\n",
      "Epoch 8/10\n",
      "74/74 [==============================] - 0s 388us/step - loss: 0.1394 - acc: 1.0000 - val_loss: 0.0361 - val_acc: 1.0000\n",
      "Epoch 9/10\n",
      "74/74 [==============================] - 0s 450us/step - loss: 0.1444 - acc: 1.0000 - val_loss: 0.0359 - val_acc: 1.0000\n",
      "Epoch 10/10\n",
      "74/74 [==============================] - 0s 430us/step - loss: 0.1566 - acc: 1.0000 - val_loss: 0.0357 - val_acc: 1.0000\n",
      "Train on 73 samples, validate on 32 samples\n",
      "Epoch 1/10\n",
      "73/73 [==============================] - 0s 393us/step - loss: 0.1503 - acc: 1.0000 - val_loss: 0.0306 - val_acc: 1.0000\n",
      "Epoch 2/10\n",
      "73/73 [==============================] - 0s 389us/step - loss: 0.1364 - acc: 1.0000 - val_loss: 0.0305 - val_acc: 1.0000\n",
      "Epoch 3/10\n",
      "73/73 [==============================] - 0s 392us/step - loss: 0.1118 - acc: 1.0000 - val_loss: 0.0304 - val_acc: 1.0000\n",
      "Epoch 4/10\n",
      "73/73 [==============================] - 0s 440us/step - loss: 0.1667 - acc: 1.0000 - val_loss: 0.0303 - val_acc: 1.0000\n",
      "Epoch 5/10\n",
      "73/73 [==============================] - 0s 424us/step - loss: 0.1297 - acc: 1.0000 - val_loss: 0.0302 - val_acc: 1.0000\n",
      "Epoch 6/10\n",
      "73/73 [==============================] - 0s 396us/step - loss: 0.1533 - acc: 1.0000 - val_loss: 0.0301 - val_acc: 1.0000\n",
      "Epoch 7/10\n",
      "73/73 [==============================] - 0s 407us/step - loss: 0.1524 - acc: 1.0000 - val_loss: 0.0299 - val_acc: 1.0000\n",
      "Epoch 8/10\n",
      "73/73 [==============================] - 0s 421us/step - loss: 0.1393 - acc: 1.0000 - val_loss: 0.0298 - val_acc: 1.0000\n",
      "Epoch 9/10\n",
      "73/73 [==============================] - 0s 417us/step - loss: 0.1334 - acc: 1.0000 - val_loss: 0.0297 - val_acc: 1.0000\n",
      "Epoch 10/10\n",
      "73/73 [==============================] - 0s 473us/step - loss: 0.1322 - acc: 1.0000 - val_loss: 0.0296 - val_acc: 1.0000\n",
      "Train on 74 samples, validate on 33 samples\n",
      "Epoch 1/10\n"
     ]
    },
    {
     "name": "stdout",
     "output_type": "stream",
     "text": [
      "74/74 [==============================] - 0s 451us/step - loss: 0.1364 - acc: 1.0000 - val_loss: 0.0307 - val_acc: 1.0000\n",
      "Epoch 2/10\n",
      "74/74 [==============================] - 0s 412us/step - loss: 0.1478 - acc: 1.0000 - val_loss: 0.0306 - val_acc: 1.0000\n",
      "Epoch 3/10\n",
      "74/74 [==============================] - 0s 431us/step - loss: 0.1054 - acc: 1.0000 - val_loss: 0.0305 - val_acc: 1.0000\n",
      "Epoch 4/10\n",
      "74/74 [==============================] - 0s 420us/step - loss: 0.1285 - acc: 1.0000 - val_loss: 0.0304 - val_acc: 1.0000\n",
      "Epoch 5/10\n",
      "74/74 [==============================] - 0s 449us/step - loss: 0.1694 - acc: 1.0000 - val_loss: 0.0303 - val_acc: 1.0000\n",
      "Epoch 6/10\n",
      "74/74 [==============================] - 0s 459us/step - loss: 0.1278 - acc: 1.0000 - val_loss: 0.0301 - val_acc: 1.0000\n",
      "Epoch 7/10\n",
      "74/74 [==============================] - 0s 498us/step - loss: 0.1329 - acc: 1.0000 - val_loss: 0.0300 - val_acc: 1.0000\n",
      "Epoch 8/10\n",
      "74/74 [==============================] - 0s 503us/step - loss: 0.1382 - acc: 1.0000 - val_loss: 0.0299 - val_acc: 1.0000\n",
      "Epoch 9/10\n",
      "74/74 [==============================] - 0s 466us/step - loss: 0.1259 - acc: 1.0000 - val_loss: 0.0298 - val_acc: 1.0000\n",
      "Epoch 10/10\n",
      "74/74 [==============================] - 0s 482us/step - loss: 0.1313 - acc: 1.0000 - val_loss: 0.0297 - val_acc: 1.0000\n",
      "Train on 74 samples, validate on 33 samples\n",
      "Epoch 1/10\n",
      "74/74 [==============================] - 0s 469us/step - loss: 0.1252 - acc: 1.0000 - val_loss: 0.0288 - val_acc: 1.0000\n",
      "Epoch 2/10\n",
      "74/74 [==============================] - 0s 456us/step - loss: 0.1189 - acc: 1.0000 - val_loss: 0.0287 - val_acc: 1.0000\n",
      "Epoch 3/10\n",
      "74/74 [==============================] - 0s 463us/step - loss: 0.1412 - acc: 1.0000 - val_loss: 0.0286 - val_acc: 1.0000\n",
      "Epoch 4/10\n",
      "74/74 [==============================] - 0s 466us/step - loss: 0.1237 - acc: 1.0000 - val_loss: 0.0285 - val_acc: 1.0000\n",
      "Epoch 5/10\n",
      "74/74 [==============================] - 0s 476us/step - loss: 0.1454 - acc: 1.0000 - val_loss: 0.0284 - val_acc: 1.0000\n",
      "Epoch 6/10\n",
      "74/74 [==============================] - 0s 504us/step - loss: 0.1283 - acc: 1.0000 - val_loss: 0.0283 - val_acc: 1.0000\n",
      "Epoch 7/10\n",
      "74/74 [==============================] - 0s 534us/step - loss: 0.1221 - acc: 1.0000 - val_loss: 0.0282 - val_acc: 1.0000\n",
      "Epoch 8/10\n",
      "74/74 [==============================] - 0s 437us/step - loss: 0.1165 - acc: 1.0000 - val_loss: 0.0281 - val_acc: 1.0000\n",
      "Epoch 9/10\n",
      "74/74 [==============================] - 0s 517us/step - loss: 0.1101 - acc: 1.0000 - val_loss: 0.0280 - val_acc: 1.0000\n",
      "Epoch 10/10\n",
      "74/74 [==============================] - 0s 455us/step - loss: 0.1424 - acc: 1.0000 - val_loss: 0.0279 - val_acc: 1.0000\n",
      "Train on 74 samples, validate on 32 samples\n",
      "Epoch 1/10\n",
      "74/74 [==============================] - 0s 383us/step - loss: 0.1325 - acc: 1.0000 - val_loss: 0.0268 - val_acc: 1.0000\n",
      "Epoch 2/10\n",
      "74/74 [==============================] - 0s 397us/step - loss: 0.0929 - acc: 1.0000 - val_loss: 0.0267 - val_acc: 1.0000\n",
      "Epoch 3/10\n",
      "74/74 [==============================] - 0s 414us/step - loss: 0.1423 - acc: 1.0000 - val_loss: 0.0266 - val_acc: 1.0000\n",
      "Epoch 4/10\n",
      "74/74 [==============================] - 0s 388us/step - loss: 0.1618 - acc: 1.0000 - val_loss: 0.0265 - val_acc: 1.0000\n",
      "Epoch 5/10\n",
      "74/74 [==============================] - 0s 386us/step - loss: 0.1364 - acc: 1.0000 - val_loss: 0.0264 - val_acc: 1.0000\n",
      "Epoch 6/10\n",
      "74/74 [==============================] - 0s 370us/step - loss: 0.1079 - acc: 1.0000 - val_loss: 0.0263 - val_acc: 1.0000\n",
      "Epoch 7/10\n",
      "74/74 [==============================] - 0s 343us/step - loss: 0.1386 - acc: 1.0000 - val_loss: 0.0262 - val_acc: 1.0000\n",
      "Epoch 8/10\n",
      "74/74 [==============================] - 0s 391us/step - loss: 0.1445 - acc: 1.0000 - val_loss: 0.0261 - val_acc: 1.0000\n",
      "Epoch 9/10\n",
      "74/74 [==============================] - 0s 406us/step - loss: 0.1699 - acc: 1.0000 - val_loss: 0.0260 - val_acc: 1.0000\n",
      "Epoch 10/10\n",
      "74/74 [==============================] - 0s 423us/step - loss: 0.1121 - acc: 1.0000 - val_loss: 0.0259 - val_acc: 1.0000\n",
      "Train on 80 samples, validate on 35 samples\n",
      "Epoch 1/10\n",
      "80/80 [==============================] - 0s 443us/step - loss: 0.1051 - acc: 1.0000 - val_loss: 0.0312 - val_acc: 1.0000\n",
      "Epoch 2/10\n",
      "80/80 [==============================] - 0s 471us/step - loss: 0.1106 - acc: 1.0000 - val_loss: 0.0310 - val_acc: 1.0000\n",
      "Epoch 3/10\n",
      "80/80 [==============================] - 0s 437us/step - loss: 0.1219 - acc: 1.0000 - val_loss: 0.0309 - val_acc: 1.0000\n",
      "Epoch 4/10\n",
      "80/80 [==============================] - 0s 461us/step - loss: 0.1382 - acc: 1.0000 - val_loss: 0.0307 - val_acc: 1.0000\n",
      "Epoch 5/10\n",
      "80/80 [==============================] - 0s 456us/step - loss: 0.0792 - acc: 1.0000 - val_loss: 0.0305 - val_acc: 1.0000\n",
      "Epoch 6/10\n",
      "80/80 [==============================] - 0s 461us/step - loss: 0.0797 - acc: 1.0000 - val_loss: 0.0304 - val_acc: 1.0000\n",
      "Epoch 7/10\n",
      "80/80 [==============================] - 0s 498us/step - loss: 0.1122 - acc: 1.0000 - val_loss: 0.0302 - val_acc: 1.0000\n",
      "Epoch 8/10\n",
      "80/80 [==============================] - 0s 472us/step - loss: 0.1213 - acc: 1.0000 - val_loss: 0.0301 - val_acc: 1.0000\n",
      "Epoch 9/10\n",
      "80/80 [==============================] - 0s 476us/step - loss: 0.1072 - acc: 1.0000 - val_loss: 0.0299 - val_acc: 1.0000\n",
      "Epoch 10/10\n",
      "80/80 [==============================] - 0s 490us/step - loss: 0.1391 - acc: 1.0000 - val_loss: 0.0298 - val_acc: 1.0000\n"
     ]
    }
   ],
   "source": [
    "incremental_learning_hl_fit(cnn_model, aus_fire_13_g, step=10, confidence=0.9)"
   ]
  },
  {
   "cell_type": "code",
   "execution_count": 307,
   "metadata": {},
   "outputs": [
    {
     "name": "stdout",
     "output_type": "stream",
     "text": [
      "1079/1079 [==============================] - 0s 105us/step\n"
     ]
    },
    {
     "data": {
      "text/plain": [
       "[3.0058222650045372, 0.5579240036242753]"
      ]
     },
     "execution_count": 307,
     "metadata": {},
     "output_type": "execute_result"
    }
   ],
   "source": [
    "cnn_model.evaluate(x=aus_fire_13_g, y=aus_fire_13.label)"
   ]
  },
  {
   "cell_type": "code",
   "execution_count": 308,
   "metadata": {},
   "outputs": [
    {
     "name": "stdout",
     "output_type": "stream",
     "text": [
      "Train on 77 samples, validate on 34 samples\n",
      "Epoch 1/10\n",
      "77/77 [==============================] - 0s 351us/step - loss: 0.1127 - acc: 1.0000 - val_loss: 0.0272 - val_acc: 1.0000\n",
      "Epoch 2/10\n",
      "77/77 [==============================] - 0s 344us/step - loss: 0.1016 - acc: 1.0000 - val_loss: 0.0271 - val_acc: 1.0000\n",
      "Epoch 3/10\n",
      "77/77 [==============================] - 0s 344us/step - loss: 0.0965 - acc: 1.0000 - val_loss: 0.0269 - val_acc: 1.0000\n",
      "Epoch 4/10\n",
      "77/77 [==============================] - 0s 325us/step - loss: 0.1214 - acc: 1.0000 - val_loss: 0.0268 - val_acc: 1.0000\n",
      "Epoch 5/10\n",
      "77/77 [==============================] - 0s 341us/step - loss: 0.1109 - acc: 1.0000 - val_loss: 0.0267 - val_acc: 1.0000\n",
      "Epoch 6/10\n",
      "77/77 [==============================] - 0s 368us/step - loss: 0.1201 - acc: 1.0000 - val_loss: 0.0266 - val_acc: 1.0000\n",
      "Epoch 7/10\n",
      "77/77 [==============================] - 0s 333us/step - loss: 0.1235 - acc: 1.0000 - val_loss: 0.0265 - val_acc: 1.0000\n",
      "Epoch 8/10\n",
      "77/77 [==============================] - 0s 318us/step - loss: 0.1049 - acc: 1.0000 - val_loss: 0.0264 - val_acc: 1.0000\n",
      "Epoch 9/10\n",
      "77/77 [==============================] - 0s 381us/step - loss: 0.1192 - acc: 1.0000 - val_loss: 0.0263 - val_acc: 1.0000\n",
      "Epoch 10/10\n",
      "77/77 [==============================] - 0s 362us/step - loss: 0.1267 - acc: 1.0000 - val_loss: 0.0261 - val_acc: 1.0000\n",
      "Train on 77 samples, validate on 33 samples\n",
      "Epoch 1/10\n",
      "77/77 [==============================] - 0s 394us/step - loss: 0.1081 - acc: 1.0000 - val_loss: 0.0280 - val_acc: 1.0000\n",
      "Epoch 2/10\n",
      "77/77 [==============================] - 0s 398us/step - loss: 0.1041 - acc: 1.0000 - val_loss: 0.0279 - val_acc: 1.0000\n",
      "Epoch 3/10\n",
      "77/77 [==============================] - 0s 345us/step - loss: 0.1171 - acc: 1.0000 - val_loss: 0.0277 - val_acc: 1.0000\n",
      "Epoch 4/10\n",
      "77/77 [==============================] - 0s 373us/step - loss: 0.1085 - acc: 1.0000 - val_loss: 0.0276 - val_acc: 1.0000\n",
      "Epoch 5/10\n",
      "77/77 [==============================] - 0s 340us/step - loss: 0.1440 - acc: 1.0000 - val_loss: 0.0274 - val_acc: 1.0000\n",
      "Epoch 6/10\n",
      "77/77 [==============================] - 0s 374us/step - loss: 0.0974 - acc: 1.0000 - val_loss: 0.0272 - val_acc: 1.0000\n",
      "Epoch 7/10\n",
      "77/77 [==============================] - 0s 332us/step - loss: 0.1019 - acc: 1.0000 - val_loss: 0.0270 - val_acc: 1.0000\n",
      "Epoch 8/10\n",
      "77/77 [==============================] - 0s 385us/step - loss: 0.0971 - acc: 1.0000 - val_loss: 0.0268 - val_acc: 1.0000\n",
      "Epoch 9/10\n",
      "77/77 [==============================] - 0s 314us/step - loss: 0.1187 - acc: 1.0000 - val_loss: 0.0266 - val_acc: 1.0000\n",
      "Epoch 10/10\n",
      "77/77 [==============================] - 0s 369us/step - loss: 0.0735 - acc: 1.0000 - val_loss: 0.0265 - val_acc: 1.0000\n",
      "Train on 76 samples, validate on 33 samples\n",
      "Epoch 1/10\n",
      "76/76 [==============================] - 0s 343us/step - loss: 0.1224 - acc: 1.0000 - val_loss: 0.0339 - val_acc: 1.0000\n",
      "Epoch 2/10\n",
      "76/76 [==============================] - 0s 380us/step - loss: 0.1114 - acc: 1.0000 - val_loss: 0.0335 - val_acc: 1.0000\n",
      "Epoch 3/10\n",
      "76/76 [==============================] - 0s 347us/step - loss: 0.1038 - acc: 1.0000 - val_loss: 0.0331 - val_acc: 1.0000\n",
      "Epoch 4/10\n",
      "76/76 [==============================] - 0s 383us/step - loss: 0.1246 - acc: 1.0000 - val_loss: 0.0326 - val_acc: 1.0000\n",
      "Epoch 5/10\n",
      "76/76 [==============================] - 0s 465us/step - loss: 0.1234 - acc: 1.0000 - val_loss: 0.0322 - val_acc: 1.0000\n",
      "Epoch 6/10\n",
      "76/76 [==============================] - 0s 398us/step - loss: 0.1095 - acc: 1.0000 - val_loss: 0.0318 - val_acc: 1.0000\n",
      "Epoch 7/10\n",
      "76/76 [==============================] - 0s 469us/step - loss: 0.0902 - acc: 1.0000 - val_loss: 0.0314 - val_acc: 1.0000\n",
      "Epoch 8/10\n",
      "76/76 [==============================] - 0s 426us/step - loss: 0.1080 - acc: 1.0000 - val_loss: 0.0310 - val_acc: 1.0000\n",
      "Epoch 9/10\n",
      "76/76 [==============================] - 0s 451us/step - loss: 0.1307 - acc: 1.0000 - val_loss: 0.0307 - val_acc: 1.0000\n",
      "Epoch 10/10\n",
      "76/76 [==============================] - 0s 405us/step - loss: 0.1160 - acc: 1.0000 - val_loss: 0.0304 - val_acc: 1.0000\n",
      "Train on 75 samples, validate on 33 samples\n",
      "Epoch 1/10\n",
      "75/75 [==============================] - 0s 393us/step - loss: 0.0967 - acc: 1.0000 - val_loss: 0.0329 - val_acc: 1.0000\n",
      "Epoch 2/10\n",
      "75/75 [==============================] - 0s 395us/step - loss: 0.1139 - acc: 1.0000 - val_loss: 0.0322 - val_acc: 1.0000\n",
      "Epoch 3/10\n",
      "75/75 [==============================] - 0s 398us/step - loss: 0.1262 - acc: 1.0000 - val_loss: 0.0315 - val_acc: 1.0000\n",
      "Epoch 4/10\n",
      "75/75 [==============================] - 0s 473us/step - loss: 0.0902 - acc: 1.0000 - val_loss: 0.0308 - val_acc: 1.0000\n",
      "Epoch 5/10\n",
      "75/75 [==============================] - 0s 538us/step - loss: 0.1181 - acc: 1.0000 - val_loss: 0.0301 - val_acc: 1.0000\n",
      "Epoch 6/10\n",
      "75/75 [==============================] - 0s 426us/step - loss: 0.1387 - acc: 1.0000 - val_loss: 0.0294 - val_acc: 1.0000\n",
      "Epoch 7/10\n",
      "75/75 [==============================] - 0s 452us/step - loss: 0.1214 - acc: 1.0000 - val_loss: 0.0288 - val_acc: 1.0000\n",
      "Epoch 8/10\n",
      "75/75 [==============================] - 0s 497us/step - loss: 0.0910 - acc: 1.0000 - val_loss: 0.0283 - val_acc: 1.0000\n",
      "Epoch 9/10\n",
      "75/75 [==============================] - 0s 551us/step - loss: 0.0942 - acc: 1.0000 - val_loss: 0.0278 - val_acc: 1.0000\n",
      "Epoch 10/10\n",
      "75/75 [==============================] - 0s 482us/step - loss: 0.0982 - acc: 1.0000 - val_loss: 0.0273 - val_acc: 1.0000\n",
      "Train on 77 samples, validate on 33 samples\n",
      "Epoch 1/10\n",
      "77/77 [==============================] - 0s 511us/step - loss: 0.1178 - acc: 1.0000 - val_loss: 0.0228 - val_acc: 1.0000\n",
      "Epoch 2/10\n",
      "77/77 [==============================] - 0s 490us/step - loss: 0.1139 - acc: 1.0000 - val_loss: 0.0227 - val_acc: 1.0000\n",
      "Epoch 3/10\n",
      "77/77 [==============================] - 0s 462us/step - loss: 0.1416 - acc: 1.0000 - val_loss: 0.0225 - val_acc: 1.0000\n",
      "Epoch 4/10\n",
      "77/77 [==============================] - 0s 549us/step - loss: 0.0996 - acc: 1.0000 - val_loss: 0.0224 - val_acc: 1.0000\n",
      "Epoch 5/10\n",
      "77/77 [==============================] - 0s 513us/step - loss: 0.1071 - acc: 1.0000 - val_loss: 0.0223 - val_acc: 1.0000\n",
      "Epoch 6/10\n",
      "77/77 [==============================] - 0s 502us/step - loss: 0.0794 - acc: 1.0000 - val_loss: 0.0222 - val_acc: 1.0000\n",
      "Epoch 7/10\n",
      "77/77 [==============================] - 0s 479us/step - loss: 0.1024 - acc: 1.0000 - val_loss: 0.0221 - val_acc: 1.0000\n",
      "Epoch 8/10\n",
      "77/77 [==============================] - 0s 561us/step - loss: 0.0861 - acc: 1.0000 - val_loss: 0.0220 - val_acc: 1.0000\n",
      "Epoch 9/10\n",
      "77/77 [==============================] - 0s 549us/step - loss: 0.1059 - acc: 1.0000 - val_loss: 0.0219 - val_acc: 1.0000\n",
      "Epoch 10/10\n",
      "77/77 [==============================] - 0s 483us/step - loss: 0.0904 - acc: 1.0000 - val_loss: 0.0218 - val_acc: 1.0000\n",
      "Train on 77 samples, validate on 34 samples\n",
      "Epoch 1/10\n",
      "77/77 [==============================] - 0s 506us/step - loss: 0.1001 - acc: 1.0000 - val_loss: 0.0207 - val_acc: 1.0000\n",
      "Epoch 2/10\n",
      "77/77 [==============================] - 0s 479us/step - loss: 0.0923 - acc: 1.0000 - val_loss: 0.0207 - val_acc: 1.0000\n",
      "Epoch 3/10\n",
      "77/77 [==============================] - 0s 508us/step - loss: 0.0801 - acc: 1.0000 - val_loss: 0.0206 - val_acc: 1.0000\n",
      "Epoch 4/10\n",
      "77/77 [==============================] - 0s 465us/step - loss: 0.1034 - acc: 1.0000 - val_loss: 0.0205 - val_acc: 1.0000\n",
      "Epoch 5/10\n",
      "77/77 [==============================] - 0s 406us/step - loss: 0.0915 - acc: 1.0000 - val_loss: 0.0204 - val_acc: 1.0000\n",
      "Epoch 6/10\n",
      "77/77 [==============================] - 0s 438us/step - loss: 0.1104 - acc: 1.0000 - val_loss: 0.0204 - val_acc: 1.0000\n",
      "Epoch 7/10\n",
      "77/77 [==============================] - 0s 428us/step - loss: 0.1059 - acc: 1.0000 - val_loss: 0.0203 - val_acc: 1.0000\n",
      "Epoch 8/10\n",
      "77/77 [==============================] - 0s 438us/step - loss: 0.0708 - acc: 1.0000 - val_loss: 0.0202 - val_acc: 1.0000\n",
      "Epoch 9/10\n",
      "77/77 [==============================] - 0s 415us/step - loss: 0.1128 - acc: 1.0000 - val_loss: 0.0201 - val_acc: 1.0000\n",
      "Epoch 10/10\n",
      "77/77 [==============================] - 0s 441us/step - loss: 0.0861 - acc: 1.0000 - val_loss: 0.0201 - val_acc: 1.0000\n",
      "Train on 77 samples, validate on 34 samples\n",
      "Epoch 1/10\n"
     ]
    },
    {
     "name": "stdout",
     "output_type": "stream",
     "text": [
      "77/77 [==============================] - 0s 412us/step - loss: 0.0860 - acc: 1.0000 - val_loss: 0.0198 - val_acc: 1.0000\n",
      "Epoch 2/10\n",
      "77/77 [==============================] - 0s 385us/step - loss: 0.0896 - acc: 1.0000 - val_loss: 0.0198 - val_acc: 1.0000\n",
      "Epoch 3/10\n",
      "77/77 [==============================] - 0s 416us/step - loss: 0.1037 - acc: 1.0000 - val_loss: 0.0197 - val_acc: 1.0000\n",
      "Epoch 4/10\n",
      "77/77 [==============================] - 0s 448us/step - loss: 0.0728 - acc: 1.0000 - val_loss: 0.0196 - val_acc: 1.0000\n",
      "Epoch 5/10\n",
      "77/77 [==============================] - 0s 450us/step - loss: 0.0958 - acc: 1.0000 - val_loss: 0.0195 - val_acc: 1.0000\n",
      "Epoch 6/10\n",
      "77/77 [==============================] - 0s 494us/step - loss: 0.0919 - acc: 1.0000 - val_loss: 0.0195 - val_acc: 1.0000\n",
      "Epoch 7/10\n",
      "77/77 [==============================] - 0s 589us/step - loss: 0.1059 - acc: 1.0000 - val_loss: 0.0194 - val_acc: 1.0000\n",
      "Epoch 8/10\n",
      "77/77 [==============================] - 0s 531us/step - loss: 0.1099 - acc: 1.0000 - val_loss: 0.0193 - val_acc: 1.0000\n",
      "Epoch 9/10\n",
      "77/77 [==============================] - 0s 451us/step - loss: 0.1134 - acc: 1.0000 - val_loss: 0.0192 - val_acc: 1.0000\n",
      "Epoch 10/10\n",
      "77/77 [==============================] - 0s 519us/step - loss: 0.0899 - acc: 1.0000 - val_loss: 0.0192 - val_acc: 1.0000\n",
      "Train on 77 samples, validate on 34 samples\n",
      "Epoch 1/10\n",
      "77/77 [==============================] - 0s 536us/step - loss: 0.1081 - acc: 1.0000 - val_loss: 0.0199 - val_acc: 1.0000\n",
      "Epoch 2/10\n",
      "77/77 [==============================] - 0s 483us/step - loss: 0.0893 - acc: 1.0000 - val_loss: 0.0198 - val_acc: 1.0000\n",
      "Epoch 3/10\n",
      "77/77 [==============================] - 0s 486us/step - loss: 0.0741 - acc: 1.0000 - val_loss: 0.0198 - val_acc: 1.0000\n",
      "Epoch 4/10\n",
      "77/77 [==============================] - 0s 532us/step - loss: 0.0849 - acc: 1.0000 - val_loss: 0.0197 - val_acc: 1.0000\n",
      "Epoch 5/10\n",
      "77/77 [==============================] - 0s 464us/step - loss: 0.0629 - acc: 1.0000 - val_loss: 0.0196 - val_acc: 1.0000\n",
      "Epoch 6/10\n",
      "77/77 [==============================] - 0s 502us/step - loss: 0.1131 - acc: 1.0000 - val_loss: 0.0196 - val_acc: 1.0000\n",
      "Epoch 7/10\n",
      "77/77 [==============================] - 0s 540us/step - loss: 0.0914 - acc: 1.0000 - val_loss: 0.0195 - val_acc: 1.0000\n",
      "Epoch 8/10\n",
      "77/77 [==============================] - 0s 534us/step - loss: 0.0871 - acc: 1.0000 - val_loss: 0.0194 - val_acc: 1.0000\n",
      "Epoch 9/10\n",
      "77/77 [==============================] - 0s 510us/step - loss: 0.0939 - acc: 1.0000 - val_loss: 0.0194 - val_acc: 1.0000\n",
      "Epoch 10/10\n",
      "77/77 [==============================] - 0s 555us/step - loss: 0.0796 - acc: 1.0000 - val_loss: 0.0193 - val_acc: 1.0000\n",
      "Train on 77 samples, validate on 34 samples\n",
      "Epoch 1/10\n",
      "77/77 [==============================] - 0s 468us/step - loss: 0.0683 - acc: 1.0000 - val_loss: 0.0186 - val_acc: 1.0000\n",
      "Epoch 2/10\n",
      "77/77 [==============================] - 0s 433us/step - loss: 0.0860 - acc: 1.0000 - val_loss: 0.0185 - val_acc: 1.0000\n",
      "Epoch 3/10\n",
      "77/77 [==============================] - 0s 486us/step - loss: 0.0714 - acc: 1.0000 - val_loss: 0.0185 - val_acc: 1.0000\n",
      "Epoch 4/10\n",
      "77/77 [==============================] - 0s 511us/step - loss: 0.0715 - acc: 1.0000 - val_loss: 0.0184 - val_acc: 1.0000\n",
      "Epoch 5/10\n",
      "77/77 [==============================] - 0s 443us/step - loss: 0.0781 - acc: 1.0000 - val_loss: 0.0183 - val_acc: 1.0000\n",
      "Epoch 6/10\n",
      "77/77 [==============================] - 0s 467us/step - loss: 0.0777 - acc: 1.0000 - val_loss: 0.0183 - val_acc: 1.0000\n",
      "Epoch 7/10\n",
      "77/77 [==============================] - 0s 440us/step - loss: 0.0985 - acc: 1.0000 - val_loss: 0.0182 - val_acc: 1.0000\n",
      "Epoch 8/10\n",
      "77/77 [==============================] - 0s 441us/step - loss: 0.0845 - acc: 1.0000 - val_loss: 0.0181 - val_acc: 1.0000\n",
      "Epoch 9/10\n",
      "77/77 [==============================] - 0s 445us/step - loss: 0.0843 - acc: 1.0000 - val_loss: 0.0181 - val_acc: 1.0000\n",
      "Epoch 10/10\n",
      "77/77 [==============================] - 0s 419us/step - loss: 0.0805 - acc: 1.0000 - val_loss: 0.0180 - val_acc: 1.0000\n",
      "Train on 79 samples, validate on 34 samples\n",
      "Epoch 1/10\n",
      "79/79 [==============================] - 0s 396us/step - loss: 0.0917 - acc: 1.0000 - val_loss: 0.0182 - val_acc: 1.0000\n",
      "Epoch 2/10\n",
      "79/79 [==============================] - 0s 487us/step - loss: 0.0948 - acc: 1.0000 - val_loss: 0.0181 - val_acc: 1.0000\n",
      "Epoch 3/10\n",
      "79/79 [==============================] - 0s 401us/step - loss: 0.0945 - acc: 1.0000 - val_loss: 0.0181 - val_acc: 1.0000\n",
      "Epoch 4/10\n",
      "79/79 [==============================] - 0s 399us/step - loss: 0.0743 - acc: 1.0000 - val_loss: 0.0180 - val_acc: 1.0000\n",
      "Epoch 5/10\n",
      "79/79 [==============================] - 0s 396us/step - loss: 0.0672 - acc: 1.0000 - val_loss: 0.0179 - val_acc: 1.0000\n",
      "Epoch 6/10\n",
      "79/79 [==============================] - 0s 372us/step - loss: 0.0769 - acc: 1.0000 - val_loss: 0.0179 - val_acc: 1.0000\n",
      "Epoch 7/10\n",
      "79/79 [==============================] - 0s 374us/step - loss: 0.0934 - acc: 1.0000 - val_loss: 0.0178 - val_acc: 1.0000\n",
      "Epoch 8/10\n",
      "79/79 [==============================] - 0s 403us/step - loss: 0.0633 - acc: 1.0000 - val_loss: 0.0178 - val_acc: 1.0000\n",
      "Epoch 9/10\n",
      "79/79 [==============================] - 0s 435us/step - loss: 0.0797 - acc: 1.0000 - val_loss: 0.0177 - val_acc: 1.0000\n",
      "Epoch 10/10\n",
      "79/79 [==============================] - 0s 467us/step - loss: 0.0827 - acc: 1.0000 - val_loss: 0.0176 - val_acc: 1.0000\n"
     ]
    }
   ],
   "source": [
    "incremental_learning_hl_fit(cnn_model, aus_flood_13_g, step=10, confidence=0.9)"
   ]
  },
  {
   "cell_type": "code",
   "execution_count": 309,
   "metadata": {},
   "outputs": [
    {
     "name": "stdout",
     "output_type": "stream",
     "text": [
      "1112/1112 [==============================] - 0s 97us/step\n"
     ]
    },
    {
     "data": {
      "text/plain": [
       "[2.8660263826521182, 0.59802158230500257]"
      ]
     },
     "execution_count": 309,
     "metadata": {},
     "output_type": "execute_result"
    }
   ],
   "source": [
    "cnn_model.evaluate(x=aus_flood_13_g, y=aus_flood_13.label)"
   ]
  },
  {
   "cell_type": "code",
   "execution_count": 400,
   "metadata": {},
   "outputs": [],
   "source": [
    "from Dataset_T6 import dataset_T6"
   ]
  },
  {
   "cell_type": "code",
   "execution_count": 406,
   "metadata": {},
   "outputs": [],
   "source": [
    "sandy = dataset_T6('2012_Sandy_Hurricane/2012_Sandy_Hurricane-ontopic_offtopic.csv')"
   ]
  },
  {
   "cell_type": "code",
   "execution_count": 408,
   "metadata": {},
   "outputs": [],
   "source": [
    "x = sandy.glove(embedding_index, vtr_dim)"
   ]
  },
  {
   "cell_type": "code",
   "execution_count": 414,
   "metadata": {},
   "outputs": [],
   "source": [
    "x_train, x_test, y_train, y_test = train_test_split(x, sandy.label, test_size=0.3)"
   ]
  },
  {
   "cell_type": "code",
   "execution_count": 424,
   "metadata": {
    "scrolled": false
   },
   "outputs": [
    {
     "name": "stdout",
     "output_type": "stream",
     "text": [
      "Train on 4903 samples, validate on 2102 samples\n",
      "Epoch 1/100\n",
      "4903/4903 [==============================] - 5s 941us/step - loss: 0.9947 - acc: 0.6580 - val_loss: 0.7605 - val_acc: 0.7788\n",
      "Epoch 2/100\n",
      "4903/4903 [==============================] - 1s 281us/step - loss: 0.6232 - acc: 0.8224 - val_loss: 0.4737 - val_acc: 0.8882\n",
      "Epoch 3/100\n",
      "4903/4903 [==============================] - 1s 283us/step - loss: 0.4661 - acc: 0.8805 - val_loss: 0.3919 - val_acc: 0.9115\n",
      "Epoch 4/100\n",
      "4903/4903 [==============================] - 1s 287us/step - loss: 0.4224 - acc: 0.8956 - val_loss: 0.3642 - val_acc: 0.9144\n",
      "Epoch 5/100\n",
      "4903/4903 [==============================] - 2s 320us/step - loss: 0.3913 - acc: 0.9023 - val_loss: 0.3535 - val_acc: 0.9144\n",
      "Epoch 6/100\n",
      "4903/4903 [==============================] - 1s 279us/step - loss: 0.3744 - acc: 0.9060 - val_loss: 0.3421 - val_acc: 0.9096\n",
      "Epoch 7/100\n",
      "4903/4903 [==============================] - 1s 278us/step - loss: 0.3589 - acc: 0.9078 - val_loss: 0.3304 - val_acc: 0.9125\n",
      "Epoch 8/100\n",
      "4903/4903 [==============================] - 1s 291us/step - loss: 0.3539 - acc: 0.9101 - val_loss: 0.3244 - val_acc: 0.9144\n",
      "Epoch 9/100\n",
      "4903/4903 [==============================] - 1s 296us/step - loss: 0.3426 - acc: 0.9147 - val_loss: 0.3167 - val_acc: 0.9196\n",
      "Epoch 10/100\n",
      "4903/4903 [==============================] - 1s 300us/step - loss: 0.3396 - acc: 0.9137 - val_loss: 0.3160 - val_acc: 0.9215\n",
      "Epoch 11/100\n",
      "4903/4903 [==============================] - 1s 298us/step - loss: 0.3340 - acc: 0.9225 - val_loss: 0.3184 - val_acc: 0.9129\n",
      "Epoch 12/100\n",
      "4903/4903 [==============================] - 1s 284us/step - loss: 0.3231 - acc: 0.9196 - val_loss: 0.3087 - val_acc: 0.9234\n",
      "Epoch 13/100\n",
      "4903/4903 [==============================] - 2s 325us/step - loss: 0.3183 - acc: 0.9170 - val_loss: 0.3055 - val_acc: 0.9220\n",
      "Epoch 14/100\n",
      "4903/4903 [==============================] - 1s 299us/step - loss: 0.3169 - acc: 0.9196 - val_loss: 0.3054 - val_acc: 0.9225\n",
      "Epoch 15/100\n",
      "4903/4903 [==============================] - 1s 291us/step - loss: 0.3179 - acc: 0.9229 - val_loss: 0.3073 - val_acc: 0.9234\n",
      "Epoch 16/100\n",
      "4903/4903 [==============================] - 1s 281us/step - loss: 0.3097 - acc: 0.9205 - val_loss: 0.3096 - val_acc: 0.9177\n",
      "Epoch 17/100\n",
      "4903/4903 [==============================] - 1s 281us/step - loss: 0.3133 - acc: 0.9211 - val_loss: 0.3024 - val_acc: 0.9267\n",
      "Epoch 18/100\n",
      "4903/4903 [==============================] - 1s 294us/step - loss: 0.3071 - acc: 0.9254 - val_loss: 0.3035 - val_acc: 0.9253\n",
      "Epoch 19/100\n",
      "4903/4903 [==============================] - 1s 286us/step - loss: 0.2999 - acc: 0.9288 - val_loss: 0.3053 - val_acc: 0.9229\n",
      "Epoch 20/100\n",
      "4903/4903 [==============================] - 1s 283us/step - loss: 0.3089 - acc: 0.9268 - val_loss: 0.3032 - val_acc: 0.9267\n",
      "Epoch 21/100\n",
      "4903/4903 [==============================] - 1s 287us/step - loss: 0.3106 - acc: 0.9227 - val_loss: 0.3358 - val_acc: 0.9058\n",
      "Epoch 22/100\n",
      "4903/4903 [==============================] - 1s 285us/step - loss: 0.3001 - acc: 0.9288 - val_loss: 0.3044 - val_acc: 0.9234\n"
     ]
    },
    {
     "data": {
      "text/plain": [
       "<keras.callbacks.History at 0x1cb7368310>"
      ]
     },
     "execution_count": 424,
     "metadata": {},
     "output_type": "execute_result"
    }
   ],
   "source": [
    "def create_cnn_model(n_conv1=64,n_conv2=32, n_conv3=16, window_1=3, window_2=3, window_3=3, dropout=0.3):\n",
    "    model = Sequential()\n",
    "    model.add(Conv1D(n_conv1, window_1, activation='relu', kernel_initializer = 'glorot_normal', \n",
    "                   kernel_regularizer=regularizers.l2(0.01), input_shape=(None,25)))\n",
    "    model.add(MaxPooling1D(3))\n",
    "    model.add(Conv1D(n_conv2, window_2, activation='relu', kernel_initializer = 'glorot_normal', \n",
    "                   kernel_regularizer=regularizers.l2(0.01)))\n",
    "    model.add(MaxPooling1D(3))\n",
    "    model.add(Conv1D(n_conv1, window_3, activation='relu', kernel_initializer = 'glorot_normal', \n",
    "               kernel_regularizer=regularizers.l2(0.01), input_shape=(None,25)))\n",
    "    model.add(GlobalMaxPooling1D())\n",
    "    model.add(Dropout(dropout))\n",
    "    model.add(Dense(2, activation='softmax'))\n",
    "    model.compile(loss='binary_crossentropy', optimizer='adam', metrics=['accuracy'])\n",
    "    return model\n",
    "\n",
    "cnn_model = create_cnn_model(32,16,8,3,3,3,0.5)\n",
    "cnn_model.fit(x_train, y_train, callbacks=[es], validation_split=0.3, batch_size=64, epochs=100)"
   ]
  },
  {
   "cell_type": "code",
   "execution_count": 426,
   "metadata": {},
   "outputs": [
    {
     "name": "stdout",
     "output_type": "stream",
     "text": [
      "Train on 4903 samples, validate on 2102 samples\n",
      "Epoch 1/100\n",
      "4903/4903 [==============================] - 28s 6ms/step - loss: 0.7563 - acc: 0.6041 - val_loss: 0.5615 - val_acc: 0.7712\n",
      "Epoch 2/100\n",
      "4903/4903 [==============================] - 26s 5ms/step - loss: 0.5664 - acc: 0.7277 - val_loss: 0.4552 - val_acc: 0.8083\n",
      "Epoch 3/100\n",
      "4903/4903 [==============================] - 25s 5ms/step - loss: 0.4888 - acc: 0.7987 - val_loss: 0.3317 - val_acc: 0.8839\n",
      "Epoch 4/100\n",
      "4903/4903 [==============================] - 26s 5ms/step - loss: 0.4442 - acc: 0.8338 - val_loss: 0.3129 - val_acc: 0.8958\n",
      "Epoch 5/100\n",
      "4903/4903 [==============================] - 26s 5ms/step - loss: 0.4218 - acc: 0.8485 - val_loss: 0.2885 - val_acc: 0.9072\n",
      "Epoch 6/100\n",
      "4903/4903 [==============================] - 26s 5ms/step - loss: 0.4041 - acc: 0.8550 - val_loss: 0.2821 - val_acc: 0.9091\n",
      "Epoch 7/100\n",
      "4903/4903 [==============================] - 26s 5ms/step - loss: 0.4041 - acc: 0.8585 - val_loss: 0.3075 - val_acc: 0.8944\n",
      "Epoch 8/100\n",
      "4903/4903 [==============================] - 26s 5ms/step - loss: 0.3760 - acc: 0.8744 - val_loss: 0.2822 - val_acc: 0.9063\n",
      "Epoch 9/100\n",
      "4903/4903 [==============================] - 26s 5ms/step - loss: 0.3664 - acc: 0.8788 - val_loss: 0.2613 - val_acc: 0.9120\n",
      "Epoch 10/100\n",
      "4903/4903 [==============================] - 26s 5ms/step - loss: 0.3713 - acc: 0.8766 - val_loss: 0.2584 - val_acc: 0.9106\n",
      "Epoch 11/100\n",
      "4903/4903 [==============================] - 27s 5ms/step - loss: 0.3605 - acc: 0.8809 - val_loss: 0.2433 - val_acc: 0.9153\n",
      "Epoch 12/100\n",
      "4903/4903 [==============================] - 26s 5ms/step - loss: 0.3522 - acc: 0.8864 - val_loss: 0.2359 - val_acc: 0.9253\n",
      "Epoch 13/100\n",
      "4903/4903 [==============================] - 26s 5ms/step - loss: 0.3380 - acc: 0.8860 - val_loss: 0.2330 - val_acc: 0.9239\n",
      "Epoch 14/100\n",
      "4903/4903 [==============================] - 27s 6ms/step - loss: 0.3297 - acc: 0.8897 - val_loss: 0.2418 - val_acc: 0.9144\n",
      "Epoch 15/100\n",
      "4903/4903 [==============================] - 28s 6ms/step - loss: 0.3260 - acc: 0.8929 - val_loss: 0.2338 - val_acc: 0.9172\n",
      "Epoch 16/100\n",
      "4903/4903 [==============================] - 26s 5ms/step - loss: 0.3224 - acc: 0.8913 - val_loss: 0.2386 - val_acc: 0.9144\n",
      "Epoch 17/100\n",
      "4903/4903 [==============================] - 28s 6ms/step - loss: 0.3203 - acc: 0.8944 - val_loss: 0.2400 - val_acc: 0.9125\n",
      "Epoch 18/100\n",
      "4903/4903 [==============================] - 26s 5ms/step - loss: 0.3060 - acc: 0.8958 - val_loss: 0.2516 - val_acc: 0.9101\n"
     ]
    },
    {
     "data": {
      "text/plain": [
       "<keras.callbacks.History at 0x1cba328f10>"
      ]
     },
     "execution_count": 426,
     "metadata": {},
     "output_type": "execute_result"
    }
   ],
   "source": [
    "lstm_model = Sequential()\n",
    "#model.add(Embedding(col_fire_12.vocab_size, output_dim=20, embeddings_initializer='glorot_normal'))\n",
    "lstm_model.add(Bidirectional(LSTM(32, kernel_initializer='glorot_normal', recurrent_dropout=0.5, dropout=0.5, \n",
    "                             kernel_regularizer=regularizers.l2(0.01)),input_shape=(None,25)))\n",
    "lstm_model.add(Dense(64, activation='relu',kernel_initializer='glorot_normal', kernel_regularizer=regularizers.l2(0.01)))\n",
    "lstm_model.add(Dropout(0.5))\n",
    "lstm_model.add(Dense(2, activation='softmax'))\n",
    "lstm_model.compile(loss='binary_crossentropy', optimizer='adam', metrics=['accuracy'])\n",
    "model.fit(x_train, y_train, callbacks=[es], validation_split=0.3, batch_size=64, epochs=100)"
   ]
  },
  {
   "cell_type": "code",
   "execution_count": 429,
   "metadata": {},
   "outputs": [
    {
     "name": "stdout",
     "output_type": "stream",
     "text": [
      "1079/1079 [==============================] - 2s 2ms/step\n"
     ]
    },
    {
     "data": {
      "text/plain": [
       "[1.4884668448327094, 0.56070435580221778]"
      ]
     },
     "execution_count": 429,
     "metadata": {},
     "output_type": "execute_result"
    }
   ],
   "source": [
    "lstm_model.evaluate(aus_fire_13_g, aus_fire_13.label)"
   ]
  }
 ],
 "metadata": {
  "kernelspec": {
   "display_name": "Python 2",
   "language": "python",
   "name": "python2"
  },
  "language_info": {
   "codemirror_mode": {
    "name": "ipython",
    "version": 2
   },
   "file_extension": ".py",
   "mimetype": "text/x-python",
   "name": "python",
   "nbconvert_exporter": "python",
   "pygments_lexer": "ipython2",
   "version": "2.7.14"
  }
 },
 "nbformat": 4,
 "nbformat_minor": 2
}
