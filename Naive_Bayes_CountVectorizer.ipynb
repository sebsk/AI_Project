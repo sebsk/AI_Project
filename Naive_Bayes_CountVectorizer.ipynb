{
 "cells": [
  {
   "cell_type": "code",
   "execution_count": 342,
   "metadata": {},
   "outputs": [],
   "source": [
    "from sklearn.naive_bayes import MultinomialNB\n",
    "import pandas as pd\n",
    "import numpy as np\n",
    "import matplotlib.pyplot as plt\n",
    "from sklearn.feature_extraction.text import CountVectorizer\n",
    "from sklearn.feature_extraction.text import TfidfVectorizer\n",
    "from sklearn.feature_extraction.text import HashingVectorizer\n",
    "from sklearn.model_selection import train_test_split\n",
    "from sklearn import metrics\n",
    "# plt.style.use('ggplot')\n",
    "# % matplotlib inline"
   ]
  },
  {
   "cell_type": "code",
   "execution_count": 343,
   "metadata": {},
   "outputs": [
    {
     "data": {
      "text/plain": [
       "Related - but not informative    512\n",
       "Related and informative          417\n",
       "Not applicable                    52\n",
       "Not related                       19\n",
       "Name: Informativeness, dtype: int64"
      ]
     },
     "execution_count": 343,
     "metadata": {},
     "output_type": "execute_result"
    }
   ],
   "source": [
    "df = pd.read_csv('CrisisLexT26/2013_Boston_bombings/2013_Boston_bombings-tweets_labeled.csv') # change the file location if needed\n",
    "\n",
    "col_dict = {}\n",
    "for old_feature in df.columns.values:\n",
    "    col_dict.update({old_feature: old_feature.replace(' ','')})\n",
    "df.rename(columns=col_dict, inplace=True)\n",
    "\n",
    "df.Informativeness.value_counts()"
   ]
  },
  {
   "cell_type": "code",
   "execution_count": 344,
   "metadata": {},
   "outputs": [
    {
     "data": {
      "text/plain": [
       "Related - but not informative    509\n",
       "Related and informative          392\n",
       "Not related                       19\n",
       "Name: Informativeness, dtype: int64"
      ]
     },
     "execution_count": 344,
     "metadata": {},
     "output_type": "execute_result"
    }
   ],
   "source": [
    "df = df[df.InformationSource != 'Government']\n",
    "df = df[df.Informativeness!='Not applicable'].reset_index(drop=True)\n",
    "df.Informativeness.value_counts()"
   ]
  },
  {
   "cell_type": "code",
   "execution_count": 345,
   "metadata": {},
   "outputs": [
    {
     "data": {
      "text/html": [
       "<div>\n",
       "<style scoped>\n",
       "    .dataframe tbody tr th:only-of-type {\n",
       "        vertical-align: middle;\n",
       "    }\n",
       "\n",
       "    .dataframe tbody tr th {\n",
       "        vertical-align: top;\n",
       "    }\n",
       "\n",
       "    .dataframe thead th {\n",
       "        text-align: right;\n",
       "    }\n",
       "</style>\n",
       "<table border=\"1\" class=\"dataframe\">\n",
       "  <thead>\n",
       "    <tr style=\"text-align: right;\">\n",
       "      <th></th>\n",
       "      <th>TweetID</th>\n",
       "      <th>TweetText</th>\n",
       "      <th>InformationSource</th>\n",
       "      <th>InformationType</th>\n",
       "      <th>Informativeness</th>\n",
       "      <th>label</th>\n",
       "    </tr>\n",
       "  </thead>\n",
       "  <tbody>\n",
       "    <tr>\n",
       "      <th>0</th>\n",
       "      <td>323808103780990976</td>\n",
       "      <td>RT @VitoCaro7: Good luck to @kyle_piersma toda...</td>\n",
       "      <td>Not labeled</td>\n",
       "      <td>Not labeled</td>\n",
       "      <td>Not related</td>\n",
       "      <td>Not related or not informative</td>\n",
       "    </tr>\n",
       "    <tr>\n",
       "      <th>1</th>\n",
       "      <td>323873597825355778</td>\n",
       "      <td>RT @DianneG: wow. RT @AntDeRosa Photo captures...</td>\n",
       "      <td>Outsiders</td>\n",
       "      <td>Other Useful Information</td>\n",
       "      <td>Related and informative</td>\n",
       "      <td>Related and informative</td>\n",
       "    </tr>\n",
       "    <tr>\n",
       "      <th>2</th>\n",
       "      <td>323874466063085568</td>\n",
       "      <td>Awful scenes at the #BostonMarathon. The photo...</td>\n",
       "      <td>Not applicable</td>\n",
       "      <td>Other Useful Information</td>\n",
       "      <td>Related - but not informative</td>\n",
       "      <td>Not related or not informative</td>\n",
       "    </tr>\n",
       "    <tr>\n",
       "      <th>3</th>\n",
       "      <td>323874558325161984</td>\n",
       "      <td>Holy shit RT @theoriginalwak: What the fuck ju...</td>\n",
       "      <td>Outsiders</td>\n",
       "      <td>Other Useful Information</td>\n",
       "      <td>Related - but not informative</td>\n",
       "      <td>Not related or not informative</td>\n",
       "    </tr>\n",
       "    <tr>\n",
       "      <th>4</th>\n",
       "      <td>323875384603058176</td>\n",
       "      <td>RT @russian_market: BOMB EXPLOSION IN BOSTON (...</td>\n",
       "      <td>Media</td>\n",
       "      <td>Other Useful Information</td>\n",
       "      <td>Related and informative</td>\n",
       "      <td>Related and informative</td>\n",
       "    </tr>\n",
       "  </tbody>\n",
       "</table>\n",
       "</div>"
      ],
      "text/plain": [
       "              TweetID                                          TweetText  \\\n",
       "0  323808103780990976  RT @VitoCaro7: Good luck to @kyle_piersma toda...   \n",
       "1  323873597825355778  RT @DianneG: wow. RT @AntDeRosa Photo captures...   \n",
       "2  323874466063085568  Awful scenes at the #BostonMarathon. The photo...   \n",
       "3  323874558325161984  Holy shit RT @theoriginalwak: What the fuck ju...   \n",
       "4  323875384603058176  RT @russian_market: BOMB EXPLOSION IN BOSTON (...   \n",
       "\n",
       "  InformationSource           InformationType                Informativeness  \\\n",
       "0       Not labeled               Not labeled                    Not related   \n",
       "1         Outsiders  Other Useful Information        Related and informative   \n",
       "2    Not applicable  Other Useful Information  Related - but not informative   \n",
       "3         Outsiders  Other Useful Information  Related - but not informative   \n",
       "4             Media  Other Useful Information        Related and informative   \n",
       "\n",
       "                            label  \n",
       "0  Not related or not informative  \n",
       "1         Related and informative  \n",
       "2  Not related or not informative  \n",
       "3  Not related or not informative  \n",
       "4         Related and informative  "
      ]
     },
     "execution_count": 345,
     "metadata": {},
     "output_type": "execute_result"
    }
   ],
   "source": [
    "label = ['Not related or not informative'] * df.shape[0]\n",
    "idx = df.index[df.Informativeness == 'Related and informative'].tolist()\n",
    "for i in idx: label[i] = 'Related and informative'\n",
    "df['label'] = pd.Series(label)\n",
    "\n",
    "df.head()"
   ]
  },
  {
   "cell_type": "code",
   "execution_count": 346,
   "metadata": {},
   "outputs": [],
   "source": [
    "split_percentage = 0.25\n",
    "X_train, X_test, y_train, y_test = train_test_split(df.TweetText, df.label, test_size=split_percentage, random_state=42) \n",
    "count_vec = CountVectorizer(analyzer='word')\n",
    "X_count_train = count_vec.fit_transform(X_train)  \n",
    "X_count_test = count_vec.transform(X_test)"
   ]
  },
  {
   "cell_type": "code",
   "execution_count": 347,
   "metadata": {},
   "outputs": [
    {
     "name": "stdout",
     "output_type": "stream",
     "text": [
      "[0.76811594 0.8115942  0.75362319 0.8115942  0.7826087  0.86956522\n",
      " 0.75362319 0.79710145 0.84057971 0.82608696]\n",
      "Mean score: 0.801 (+/-0.012)\n",
      "Accuracy for training: 0.952173913043\n",
      "Accuracy for testing: 0.84347826087\n"
     ]
    }
   ],
   "source": [
    "mnb_count = MultinomialNB(1.1)  \n",
    "mnb_count.fit(X_count_train, y_train)\n",
    "\n",
    "from sklearn.cross_validation import cross_val_score, KFold \n",
    "from scipy.stats import sem \n",
    "\n",
    "def evaluate_cross_validation(clf, X, y, K):\n",
    "    cv = KFold(len(y), K, shuffle=True, random_state=0)  \n",
    "    scores = cross_val_score(clf, X, y, cv=cv) \n",
    "    print scores\n",
    "    print (\"Mean score: {0:.3f} (+/-{1:.3f})\").format(np.mean(scores), sem(scores))\n",
    "\n",
    "evaluate_cross_validation(mnb_count, X_count_train, y_train, 10)\n",
    "\n",
    "print 'Accuracy for training: {}'.format(mnb_count.score(X_count_train, y_train))\n",
    "print 'Accuracy for testing: {}'.format(mnb_count.score(X_count_test, y_test))"
   ]
  },
  {
   "cell_type": "code",
   "execution_count": 349,
   "metadata": {},
   "outputs": [
    {
     "name": "stdout",
     "output_type": "stream",
     "text": [
      "Classification Report:\n",
      "                                precision    recall  f1-score   support\n",
      "\n",
      "Not related or not informative     0.8601    0.8849    0.8723       139\n",
      "       Related and informative     0.8161    0.7802    0.7978        91\n",
      "\n",
      "                   avg / total     0.8427    0.8435    0.8428       230\n",
      "\n",
      "Confusion Matrix:\n",
      "[[123  16]\n",
      " [ 20  71]]\n"
     ]
    }
   ],
   "source": [
    "y_count_predict = mnb_count.predict(X_count_test) \n",
    "print \"Classification Report:\" \n",
    "print metrics.classification_report(y_test,y_count_predict, digits=4) \n",
    "print \"Confusion Matrix:\" \n",
    "print metrics.confusion_matrix(y_test,y_count_predict)"
   ]
  },
  {
   "cell_type": "markdown",
   "metadata": {},
   "source": [
    "### Add stop words"
   ]
  },
  {
   "cell_type": "code",
   "execution_count": 350,
   "metadata": {},
   "outputs": [],
   "source": [
    "count_sw_vec = CountVectorizer(analyzer='word',stop_words = 'english')\n",
    "X_count_sw_train = count_sw_vec.fit_transform(X_train)  \n",
    "X_count_sw_test = count_sw_vec.transform(X_test)"
   ]
  },
  {
   "cell_type": "code",
   "execution_count": 351,
   "metadata": {},
   "outputs": [
    {
     "name": "stdout",
     "output_type": "stream",
     "text": [
      "[0.8115942  0.8115942  0.71014493 0.82608696 0.79710145 0.88405797\n",
      " 0.76811594 0.79710145 0.82608696 0.8115942 ]\n",
      "Mean score: 0.804 (+/-0.014)\n",
      "Accuracy for training: 0.942028985507\n",
      "Accuracy for testing: 0.834782608696\n"
     ]
    }
   ],
   "source": [
    "mnb_count_sw = MultinomialNB(2.9)  \n",
    "mnb_count_sw.fit(X_count_sw_train, y_train)\n",
    "\n",
    "evaluate_cross_validation(mnb_count_sw, X_count_sw_train, y_train, 10)\n",
    "\n",
    "print 'Accuracy for training: {}'.format(mnb_count_sw.score(X_count_sw_train, y_train))\n",
    "print 'Accuracy for testing: {}'.format(mnb_count_sw.score(X_count_sw_test, y_test))"
   ]
  },
  {
   "cell_type": "code",
   "execution_count": 352,
   "metadata": {},
   "outputs": [
    {
     "name": "stdout",
     "output_type": "stream",
     "text": [
      "Classification Report:\n",
      "                                precision    recall  f1-score   support\n",
      "\n",
      "Not related or not informative     0.8976    0.8201    0.8571       139\n",
      "       Related and informative     0.7573    0.8571    0.8041        91\n",
      "\n",
      "                   avg / total     0.8421    0.8348    0.8362       230\n",
      "\n",
      "Confusion Matrix:\n",
      "[[114  25]\n",
      " [ 13  78]]\n"
     ]
    }
   ],
   "source": [
    "y_count_sw_predict = mnb_count_sw.predict(X_count_sw_test) \n",
    "print \"Classification Report:\" \n",
    "print metrics.classification_report(y_test,y_count_sw_predict, digits=4) \n",
    "print \"Confusion Matrix:\" \n",
    "print metrics.confusion_matrix(y_test,y_count_sw_predict)"
   ]
  },
  {
   "cell_type": "code",
   "execution_count": null,
   "metadata": {},
   "outputs": [],
   "source": []
  },
  {
   "cell_type": "markdown",
   "metadata": {},
   "source": [
    "### Pre-process"
   ]
  },
  {
   "cell_type": "code",
   "execution_count": 353,
   "metadata": {},
   "outputs": [
    {
     "data": {
      "text/html": [
       "<div>\n",
       "<style scoped>\n",
       "    .dataframe tbody tr th:only-of-type {\n",
       "        vertical-align: middle;\n",
       "    }\n",
       "\n",
       "    .dataframe tbody tr th {\n",
       "        vertical-align: top;\n",
       "    }\n",
       "\n",
       "    .dataframe thead th {\n",
       "        text-align: right;\n",
       "    }\n",
       "</style>\n",
       "<table border=\"1\" class=\"dataframe\">\n",
       "  <thead>\n",
       "    <tr style=\"text-align: right;\">\n",
       "      <th></th>\n",
       "      <th>TweetID</th>\n",
       "      <th>TweetText</th>\n",
       "      <th>InformationSource</th>\n",
       "      <th>InformationType</th>\n",
       "      <th>Informativeness</th>\n",
       "      <th>label</th>\n",
       "      <th>ProcessedText</th>\n",
       "    </tr>\n",
       "  </thead>\n",
       "  <tbody>\n",
       "    <tr>\n",
       "      <th>0</th>\n",
       "      <td>323808103780990976</td>\n",
       "      <td>RT @VitoCaro7: Good luck to @kyle_piersma toda...</td>\n",
       "      <td>Not labeled</td>\n",
       "      <td>Not labeled</td>\n",
       "      <td>Not related</td>\n",
       "      <td>Not related or not informative</td>\n",
       "      <td>rt @vitocaro7 : good luck @kyle_piersma today ...</td>\n",
       "    </tr>\n",
       "    <tr>\n",
       "      <th>1</th>\n",
       "      <td>323873597825355778</td>\n",
       "      <td>RT @DianneG: wow. RT @AntDeRosa Photo captures...</td>\n",
       "      <td>Outsiders</td>\n",
       "      <td>Other Useful Information</td>\n",
       "      <td>Related and informative</td>\n",
       "      <td>Related and informative</td>\n",
       "      <td>rt @dianneg : wow . rt @antderosa photo captur...</td>\n",
       "    </tr>\n",
       "    <tr>\n",
       "      <th>2</th>\n",
       "      <td>323874466063085568</td>\n",
       "      <td>Awful scenes at the #BostonMarathon. The photo...</td>\n",
       "      <td>Not applicable</td>\n",
       "      <td>Other Useful Information</td>\n",
       "      <td>Related - but not informative</td>\n",
       "      <td>Not related or not informative</td>\n",
       "      <td>awful scene #bostonmarathon . photo round pret...</td>\n",
       "    </tr>\n",
       "    <tr>\n",
       "      <th>3</th>\n",
       "      <td>323874558325161984</td>\n",
       "      <td>Holy shit RT @theoriginalwak: What the fuck ju...</td>\n",
       "      <td>Outsiders</td>\n",
       "      <td>Other Useful Information</td>\n",
       "      <td>Related - but not informative</td>\n",
       "      <td>Not related or not informative</td>\n",
       "      <td>holy shit rt @theoriginalwak : fuck happened ?...</td>\n",
       "    </tr>\n",
       "    <tr>\n",
       "      <th>4</th>\n",
       "      <td>323875384603058176</td>\n",
       "      <td>RT @russian_market: BOMB EXPLOSION IN BOSTON (...</td>\n",
       "      <td>Media</td>\n",
       "      <td>Other Useful Information</td>\n",
       "      <td>Related and informative</td>\n",
       "      <td>Related and informative</td>\n",
       "      <td>rt @russian_market : bomb elosion boston ( via...</td>\n",
       "    </tr>\n",
       "  </tbody>\n",
       "</table>\n",
       "</div>"
      ],
      "text/plain": [
       "              TweetID                                          TweetText  \\\n",
       "0  323808103780990976  RT @VitoCaro7: Good luck to @kyle_piersma toda...   \n",
       "1  323873597825355778  RT @DianneG: wow. RT @AntDeRosa Photo captures...   \n",
       "2  323874466063085568  Awful scenes at the #BostonMarathon. The photo...   \n",
       "3  323874558325161984  Holy shit RT @theoriginalwak: What the fuck ju...   \n",
       "4  323875384603058176  RT @russian_market: BOMB EXPLOSION IN BOSTON (...   \n",
       "\n",
       "  InformationSource           InformationType                Informativeness  \\\n",
       "0       Not labeled               Not labeled                    Not related   \n",
       "1         Outsiders  Other Useful Information        Related and informative   \n",
       "2    Not applicable  Other Useful Information  Related - but not informative   \n",
       "3         Outsiders  Other Useful Information  Related - but not informative   \n",
       "4             Media  Other Useful Information        Related and informative   \n",
       "\n",
       "                            label  \\\n",
       "0  Not related or not informative   \n",
       "1         Related and informative   \n",
       "2  Not related or not informative   \n",
       "3  Not related or not informative   \n",
       "4         Related and informative   \n",
       "\n",
       "                                       ProcessedText  \n",
       "0  rt @vitocaro7 : good luck @kyle_piersma today ...  \n",
       "1  rt @dianneg : wow . rt @antderosa photo captur...  \n",
       "2  awful scene #bostonmarathon . photo round pret...  \n",
       "3  holy shit rt @theoriginalwak : fuck happened ?...  \n",
       "4  rt @russian_market : bomb elosion boston ( via...  "
      ]
     },
     "execution_count": 353,
     "metadata": {},
     "output_type": "execute_result"
    }
   ],
   "source": [
    "from nltk.tokenize import TweetTokenizer\n",
    "from nltk.stem import WordNetLemmatizer\n",
    "from nltk.tokenize import regexp_tokenize\n",
    "from nltk.corpus import stopwords\n",
    "from sklearn.feature_extraction.text import HashingVectorizer\n",
    "import preprocessor as p\n",
    "\n",
    "emoji_re = \"['\\U0001F300-\\U0001F5FF'|'\\U0001F600-\\U0001F64F'|'\\U0001F680-\\U0001F6FF'|'\\u2600-\\u26FF\\u2700-\\u27BF']\"\n",
    "emojis = [regexp_tokenize(t, emoji_re) for t in df.TweetText]\n",
    "p.set_options(p.OPT.URL, p.OPT.EMOJI, p.OPT.SMILEY)\n",
    "all_tweets = [p.clean(t).lower() for t in df.TweetText]\n",
    "\n",
    "tknzr = TweetTokenizer()\n",
    "all_tokens = [tknzr.tokenize(t) for t in all_tweets]\n",
    "en_stop = set(stopwords.words('english'))\n",
    "lemmatizer = WordNetLemmatizer()\n",
    "processed_texts = []  # preprocessed tweets\n",
    "\n",
    "for i in range(len(all_tokens)):\n",
    "    processed_texts.append(' '.join([lemmatizer.lemmatize(t) for t in all_tokens[i] if t not in en_stop ]))\n",
    "\n",
    "df['ProcessedText'] = pd.Series(processed_texts)\n",
    "df.head()"
   ]
  },
  {
   "cell_type": "code",
   "execution_count": 354,
   "metadata": {},
   "outputs": [],
   "source": [
    "split_percentage = 0.25\n",
    "X_train2, X_test2, y_train2, y_test2 = train_test_split(df.ProcessedText, df.label, test_size=split_percentage, random_state=42) \n",
    "count_pp_vec = CountVectorizer(analyzer='word')\n",
    "X_count_pp_train = count_pp_vec.fit_transform(X_train2)  \n",
    "X_count_pp_test = count_pp_vec.transform(X_test2)"
   ]
  },
  {
   "cell_type": "code",
   "execution_count": 355,
   "metadata": {},
   "outputs": [
    {
     "name": "stdout",
     "output_type": "stream",
     "text": [
      "[0.82608696 0.8115942  0.71014493 0.73913043 0.7826087  0.86956522\n",
      " 0.72463768 0.76811594 0.82608696 0.84057971]\n",
      "Mean score: 0.790 (+/-0.017)\n",
      "Accuracy for training: 0.934782608696\n",
      "Accuracy for testing: 0.847826086957\n"
     ]
    }
   ],
   "source": [
    "mnb_count_pp = MultinomialNB(3)  \n",
    "mnb_count_pp.fit(X_count_pp_train, y_train2)\n",
    "\n",
    "evaluate_cross_validation(mnb_count_pp, X_count_pp_train, y_train2, 10)\n",
    "\n",
    "print 'Accuracy for training: {}'.format(mnb_count_pp.score(X_count_pp_train, y_train2))\n",
    "print 'Accuracy for testing: {}'.format(mnb_count_pp.score(X_count_pp_test, y_test2))"
   ]
  },
  {
   "cell_type": "code",
   "execution_count": 356,
   "metadata": {},
   "outputs": [
    {
     "name": "stdout",
     "output_type": "stream",
     "text": [
      "Classification Report:\n",
      "                                precision    recall  f1-score   support\n",
      "\n",
      "Not related or not informative     0.8824    0.8633    0.8727       139\n",
      "       Related and informative     0.7979    0.8242    0.8108        91\n",
      "\n",
      "                   avg / total     0.8489    0.8478    0.8482       230\n",
      "\n",
      "Confusion Matrix:\n",
      "[[120  19]\n",
      " [ 16  75]]\n"
     ]
    }
   ],
   "source": [
    "y_count_pp_predict = mnb_count_pp.predict(X_count_pp_test) \n",
    "print \"Classification Report:\" \n",
    "print metrics.classification_report(y_test2,y_count_pp_predict, digits=4) \n",
    "print \"Confusion Matrix:\" \n",
    "print metrics.confusion_matrix(y_test2,y_count_pp_predict)"
   ]
  },
  {
   "cell_type": "markdown",
   "metadata": {},
   "source": [
    "### limit max features"
   ]
  },
  {
   "cell_type": "code",
   "execution_count": 357,
   "metadata": {},
   "outputs": [
    {
     "data": {
      "text/plain": [
       "(230, 2426)"
      ]
     },
     "execution_count": 357,
     "metadata": {},
     "output_type": "execute_result"
    }
   ],
   "source": [
    "X_count_pp_test.shape"
   ]
  },
  {
   "cell_type": "code",
   "execution_count": 358,
   "metadata": {},
   "outputs": [
    {
     "data": {
      "image/png": "[encoded data removed]",
      "text/plain": [
       "<matplotlib.figure.Figure at 0x16e02eb8>"
      ]
     },
     "metadata": {},
     "output_type": "display_data"
    },
    {
     "name": "stdout",
     "output_type": "stream",
     "text": [
      "[0.8260869565217391, 0.8347826086956521, 0.8391304347826087, 0.8434782608695652, 0.8478260869565217, 0.8478260869565217, 0.8391304347826087, 0.8434782608695652, 0.8434782608695652, 0.8434782608695652, 0.8434782608695652, 0.8434782608695652, 0.8478260869565217, 0.8391304347826087, 0.8434782608695652, 0.8478260869565217, 0.8521739130434782, 0.8521739130434782, 0.8478260869565217, 0.8478260869565217, 0.8478260869565217, 0.8478260869565217, 0.8478260869565217, 0.8478260869565217, 0.8478260869565217]\n"
     ]
    }
   ],
   "source": [
    "k = range(100,2600,100)\n",
    "k_score = []\n",
    "for i in k:  \n",
    "    count_pp_vec = CountVectorizer(analyzer='word', max_features = i)  \n",
    "    X_count_pp_train = count_pp_vec.fit_transform(X_train2)\n",
    "    X_count_pp_test = count_pp_vec.transform(X_test2)\n",
    "    mnb_count_pp = MultinomialNB(3)  \n",
    "    mnb_count_pp.fit(X_count_pp_train, y_train2)\n",
    "    score = mnb_count_pp.score(X_count_pp_test, y_test2) \n",
    "    k_score.append(score)  \n",
    "plt.plot(k,k_score)  \n",
    "plt.show()\n",
    "print k_score"
   ]
  },
  {
   "cell_type": "code",
   "execution_count": 359,
   "metadata": {},
   "outputs": [
    {
     "data": {
      "image/png": "[encoded data removed]",
      "text/plain": [
       "<matplotlib.figure.Figure at 0x14d19908>"
      ]
     },
     "metadata": {},
     "output_type": "display_data"
    },
    {
     "name": "stdout",
     "output_type": "stream",
     "text": [
      "[0.8478260869565217, 0.8478260869565217, 0.8478260869565217, 0.8478260869565217, 0.8521739130434782, 0.8521739130434782, 0.8521739130434782, 0.8521739130434782, 0.8521739130434782, 0.8521739130434782, 0.8521739130434782, 0.8521739130434782, 0.8521739130434782, 0.8521739130434782, 0.8521739130434782, 0.8521739130434782, 0.8521739130434782, 0.8521739130434782, 0.8521739130434782, 0.8521739130434782, 0.8521739130434782, 0.8521739130434782, 0.8521739130434782, 0.8521739130434782, 0.8521739130434782, 0.8521739130434782, 0.8521739130434782, 0.8521739130434782, 0.8521739130434782, 0.8521739130434782]\n"
     ]
    }
   ],
   "source": [
    "k = range(1600,1900,10)\n",
    "k_score = []\n",
    "for i in k:  \n",
    "    count_pp_vec = CountVectorizer(analyzer='word', max_features = i)  \n",
    "    X_count_pp_train = count_pp_vec.fit_transform(X_train2)\n",
    "    X_count_pp_test = count_pp_vec.transform(X_test2)\n",
    "    mnb_count_pp = MultinomialNB(3)  \n",
    "    mnb_count_pp.fit(X_count_pp_train, y_train2)\n",
    "    score = mnb_count_pp.score(X_count_pp_test, y_test2) \n",
    "    k_score.append(score)  \n",
    "plt.plot(k,k_score)  \n",
    "plt.show()\n",
    "print k_score"
   ]
  },
  {
   "cell_type": "markdown",
   "metadata": {},
   "source": [
    "### cancel stop words"
   ]
  },
  {
   "cell_type": "code",
   "execution_count": 360,
   "metadata": {},
   "outputs": [
    {
     "data": {
      "text/html": [
       "<div>\n",
       "<style scoped>\n",
       "    .dataframe tbody tr th:only-of-type {\n",
       "        vertical-align: middle;\n",
       "    }\n",
       "\n",
       "    .dataframe tbody tr th {\n",
       "        vertical-align: top;\n",
       "    }\n",
       "\n",
       "    .dataframe thead th {\n",
       "        text-align: right;\n",
       "    }\n",
       "</style>\n",
       "<table border=\"1\" class=\"dataframe\">\n",
       "  <thead>\n",
       "    <tr style=\"text-align: right;\">\n",
       "      <th></th>\n",
       "      <th>TweetID</th>\n",
       "      <th>TweetText</th>\n",
       "      <th>InformationSource</th>\n",
       "      <th>InformationType</th>\n",
       "      <th>Informativeness</th>\n",
       "      <th>label</th>\n",
       "      <th>ProcessedText</th>\n",
       "    </tr>\n",
       "  </thead>\n",
       "  <tbody>\n",
       "    <tr>\n",
       "      <th>0</th>\n",
       "      <td>323808103780990976</td>\n",
       "      <td>RT @VitoCaro7: Good luck to @kyle_piersma toda...</td>\n",
       "      <td>Not labeled</td>\n",
       "      <td>Not labeled</td>\n",
       "      <td>Not related</td>\n",
       "      <td>Not related or not informative</td>\n",
       "      <td>rt @vitocaro7 : good luck to @kyle_piersma tod...</td>\n",
       "    </tr>\n",
       "    <tr>\n",
       "      <th>1</th>\n",
       "      <td>323873597825355778</td>\n",
       "      <td>RT @DianneG: wow. RT @AntDeRosa Photo captures...</td>\n",
       "      <td>Outsiders</td>\n",
       "      <td>Other Useful Information</td>\n",
       "      <td>Related and informative</td>\n",
       "      <td>Related and informative</td>\n",
       "      <td>rt @dianneg : wow . rt @antderosa photo captur...</td>\n",
       "    </tr>\n",
       "    <tr>\n",
       "      <th>2</th>\n",
       "      <td>323874466063085568</td>\n",
       "      <td>Awful scenes at the #BostonMarathon. The photo...</td>\n",
       "      <td>Not applicable</td>\n",
       "      <td>Other Useful Information</td>\n",
       "      <td>Related - but not informative</td>\n",
       "      <td>Not related or not informative</td>\n",
       "      <td>awful scene at the #bostonmarathon . the photo...</td>\n",
       "    </tr>\n",
       "    <tr>\n",
       "      <th>3</th>\n",
       "      <td>323874558325161984</td>\n",
       "      <td>Holy shit RT @theoriginalwak: What the fuck ju...</td>\n",
       "      <td>Outsiders</td>\n",
       "      <td>Other Useful Information</td>\n",
       "      <td>Related - but not informative</td>\n",
       "      <td>Not related or not informative</td>\n",
       "      <td>holy shit rt @theoriginalwak : what the fuck j...</td>\n",
       "    </tr>\n",
       "    <tr>\n",
       "      <th>4</th>\n",
       "      <td>323875384603058176</td>\n",
       "      <td>RT @russian_market: BOMB EXPLOSION IN BOSTON (...</td>\n",
       "      <td>Media</td>\n",
       "      <td>Other Useful Information</td>\n",
       "      <td>Related and informative</td>\n",
       "      <td>Related and informative</td>\n",
       "      <td>rt @russian_market : bomb elosion in boston ( ...</td>\n",
       "    </tr>\n",
       "  </tbody>\n",
       "</table>\n",
       "</div>"
      ],
      "text/plain": [
       "              TweetID                                          TweetText  \\\n",
       "0  323808103780990976  RT @VitoCaro7: Good luck to @kyle_piersma toda...   \n",
       "1  323873597825355778  RT @DianneG: wow. RT @AntDeRosa Photo captures...   \n",
       "2  323874466063085568  Awful scenes at the #BostonMarathon. The photo...   \n",
       "3  323874558325161984  Holy shit RT @theoriginalwak: What the fuck ju...   \n",
       "4  323875384603058176  RT @russian_market: BOMB EXPLOSION IN BOSTON (...   \n",
       "\n",
       "  InformationSource           InformationType                Informativeness  \\\n",
       "0       Not labeled               Not labeled                    Not related   \n",
       "1         Outsiders  Other Useful Information        Related and informative   \n",
       "2    Not applicable  Other Useful Information  Related - but not informative   \n",
       "3         Outsiders  Other Useful Information  Related - but not informative   \n",
       "4             Media  Other Useful Information        Related and informative   \n",
       "\n",
       "                            label  \\\n",
       "0  Not related or not informative   \n",
       "1         Related and informative   \n",
       "2  Not related or not informative   \n",
       "3  Not related or not informative   \n",
       "4         Related and informative   \n",
       "\n",
       "                                       ProcessedText  \n",
       "0  rt @vitocaro7 : good luck to @kyle_piersma tod...  \n",
       "1  rt @dianneg : wow . rt @antderosa photo captur...  \n",
       "2  awful scene at the #bostonmarathon . the photo...  \n",
       "3  holy shit rt @theoriginalwak : what the fuck j...  \n",
       "4  rt @russian_market : bomb elosion in boston ( ...  "
      ]
     },
     "execution_count": 360,
     "metadata": {},
     "output_type": "execute_result"
    }
   ],
   "source": [
    "p.set_options(p.OPT.URL, p.OPT.EMOJI, p.OPT.SMILEY)\n",
    "all_tweets = [p.clean(t).lower() for t in df.TweetText]\n",
    "\n",
    "tknzr = TweetTokenizer()\n",
    "all_tokens = [tknzr.tokenize(t) for t in all_tweets]\n",
    "#en_stop = set(stopwords.words('english'))\n",
    "lemmatizer = WordNetLemmatizer()\n",
    "processed_texts = []  # preprocessed tweets\n",
    "\n",
    "for i in range(len(all_tokens)):\n",
    "    processed_texts.append(' '.join([lemmatizer.lemmatize(t) for t in all_tokens[i]]))\n",
    "\n",
    "df['ProcessedText'] = pd.Series(processed_texts)\n",
    "df.head()"
   ]
  },
  {
   "cell_type": "code",
   "execution_count": 361,
   "metadata": {},
   "outputs": [],
   "source": [
    "split_percentage = 0.25\n",
    "X_train2, X_test2, y_train2, y_test2 = train_test_split(df.ProcessedText, df.label, test_size=split_percentage, random_state=42) \n",
    "count_pp_vec = CountVectorizer(analyzer='word')\n",
    "X_count_pp_train = count_pp_vec.fit_transform(X_train2)  \n",
    "X_count_pp_test = count_pp_vec.transform(X_test2)"
   ]
  },
  {
   "cell_type": "code",
   "execution_count": 362,
   "metadata": {},
   "outputs": [
    {
     "name": "stdout",
     "output_type": "stream",
     "text": [
      "[0.7826087  0.82608696 0.73913043 0.82608696 0.79710145 0.82608696\n",
      " 0.73913043 0.7826087  0.85507246 0.8115942 ]\n",
      "Mean score: 0.799 (+/-0.012)\n",
      "Accuracy for training: 0.947826086957\n",
      "Accuracy for testing: 0.869565217391\n"
     ]
    }
   ],
   "source": [
    "mnb_count_pp = MultinomialNB(1)  \n",
    "mnb_count_pp.fit(X_count_pp_train, y_train2)\n",
    "\n",
    "evaluate_cross_validation(mnb_count_pp, X_count_pp_train, y_train2, 10)\n",
    "\n",
    "print 'Accuracy for training: {}'.format(mnb_count_pp.score(X_count_pp_train, y_train2))\n",
    "print 'Accuracy for testing: {}'.format(mnb_count_pp.score(X_count_pp_test, y_test2))"
   ]
  },
  {
   "cell_type": "code",
   "execution_count": 363,
   "metadata": {},
   "outputs": [
    {
     "name": "stdout",
     "output_type": "stream",
     "text": [
      "Classification Report:\n",
      "                                precision    recall  f1-score   support\n",
      "\n",
      "Not related or not informative     0.8658    0.9281    0.8958       139\n",
      "       Related and informative     0.8765    0.7802    0.8256        91\n",
      "\n",
      "                   avg / total     0.8700    0.8696    0.8680       230\n",
      "\n",
      "Confusion Matrix:\n",
      "[[129  10]\n",
      " [ 20  71]]\n"
     ]
    }
   ],
   "source": [
    "y_count_pp_predict = mnb_count_pp.predict(X_count_pp_test) \n",
    "print \"Classification Report:\" \n",
    "print metrics.classification_report(y_test2,y_count_pp_predict, digits=4) \n",
    "print \"Confusion Matrix:\" \n",
    "print metrics.confusion_matrix(y_test2,y_count_pp_predict)"
   ]
  },
  {
   "cell_type": "code",
   "execution_count": 364,
   "metadata": {},
   "outputs": [
    {
     "data": {
      "text/plain": [
       "(230, 2517)"
      ]
     },
     "execution_count": 364,
     "metadata": {},
     "output_type": "execute_result"
    }
   ],
   "source": [
    "X_count_pp_test.shape"
   ]
  },
  {
   "cell_type": "code",
   "execution_count": 365,
   "metadata": {},
   "outputs": [
    {
     "data": {
      "image/png": "[encoded data removed]",
      "text/plain": [
       "<matplotlib.figure.Figure at 0x163ef6a0>"
      ]
     },
     "metadata": {},
     "output_type": "display_data"
    },
    {
     "name": "stdout",
     "output_type": "stream",
     "text": [
      "[0.8217391304347826, 0.8521739130434782, 0.8608695652173913, 0.8478260869565217, 0.8434782608695652, 0.8347826086956521, 0.8260869565217391, 0.8391304347826087, 0.8391304347826087, 0.8434782608695652, 0.8521739130434782, 0.8565217391304348, 0.8565217391304348, 0.8521739130434782, 0.8521739130434782, 0.8521739130434782, 0.8521739130434782, 0.8608695652173913, 0.8695652173913043, 0.8652173913043478, 0.8652173913043478, 0.8652173913043478, 0.8652173913043478, 0.8652173913043478, 0.8695652173913043, 0.8695652173913043]\n"
     ]
    }
   ],
   "source": [
    "k = range(100,2700,100)\n",
    "k_score = []\n",
    "for i in k:  \n",
    "    count_pp_vec = CountVectorizer(analyzer='word', max_features = i)  \n",
    "    X_count_pp_train = count_pp_vec.fit_transform(X_train2)\n",
    "    X_count_pp_test = count_pp_vec.transform(X_test2)\n",
    "    mnb_count_pp = MultinomialNB(1)  \n",
    "    mnb_count_pp.fit(X_count_pp_train, y_train2)\n",
    "    score = mnb_count_pp.score(X_count_pp_test, y_test2) \n",
    "    k_score.append(score)  \n",
    "plt.plot(k,k_score)  \n",
    "plt.show()\n",
    "print k_score"
   ]
  },
  {
   "cell_type": "code",
   "execution_count": null,
   "metadata": {},
   "outputs": [],
   "source": []
  }
 ],
 "metadata": {
  "kernelspec": {
   "display_name": "Python 2",
   "language": "python",
   "name": "python2"
  },
  "language_info": {
   "codemirror_mode": {
    "name": "ipython",
    "version": 2
   },
   "file_extension": ".py",
   "mimetype": "text/x-python",
   "name": "python",
   "nbconvert_exporter": "python",
   "pygments_lexer": "ipython2",
   "version": "2.7.14"
  }
 },
 "nbformat": 4,
 "nbformat_minor": 2
}
