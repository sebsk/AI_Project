{
 "cells": [
  {
   "cell_type": "code",
   "execution_count": 1,
   "metadata": {},
   "outputs": [
    {
     "name": "stderr",
     "output_type": "stream",
     "text": [
      "Using TensorFlow backend.\n"
     ]
    }
   ],
   "source": [
    "from Dataset import *\n",
    "from sklearn.linear_model import LogisticRegression\n",
    "from sklearn import metrics\n",
    "from sklearn.model_selection import cross_val_score\n",
    "from sklearn.model_selection import train_test_split\n",
    "import pandas as pd\n",
    "import numpy as np\n",
    "import matplotlib.pyplot as plt\n",
    "import seaborn as sns\n",
    "plt.style.use('ggplot')\n",
    "% matplotlib inline"
   ]
  },
  {
   "cell_type": "markdown",
   "metadata": {},
   "source": [
    "4 datasets are imported. These datasets have labeled tweets collected during disasters. The binary label is relatedness to the disaster. Colrado wildfire 2012 (col_fire_12) is used as the dataset to train the logistic regression model and the rest 3 are used as datasets to evaluate the performance of the model. We would like to see whether a machine learning model trained on 1 disaster is good at labeling tweets during other disastrous events."
   ]
  },
  {
   "cell_type": "code",
   "execution_count": 4,
   "metadata": {},
   "outputs": [],
   "source": [
    "col_fire_12 = dataset('2012_Colorado_wildfires/2012_Colorado_wildfires-tweets_labeled.csv')\n",
    "col_flood_13 = dataset('2013_Colorado_floods/2013_Colorado_floods-tweets_labeled.csv')\n",
    "aus_fire_13 = dataset('2013_Australia_bushfire/2013_Australia_bushfire-tweets_labeled.csv')\n",
    "aus_flood_13 = dataset('2013_Queensland_floods/2013_Queensland_floods-tweets_labeled.csv')\n",
    "x_col_fire = col_fire_12.hashing_vectorizer()  # train dataset\n",
    "x_col_flood = col_flood_13.hashing_vectorizer()\n",
    "x_aus_fire = aus_fire_13.hashing_vectorizer()\n",
    "x_aus_flood = aus_flood_13.hashing_vectorizer()\n",
    "y_col_fire = col_fire_12.df.label  # train label\n",
    "y_col_flood = col_flood_13.df.label\n",
    "y_aus_fire = aus_fire_13.df.label\n",
    "y_aus_flood = aus_flood_13.df.label"
   ]
  },
  {
   "cell_type": "markdown",
   "metadata": {},
   "source": [
    "Set up logistic regression, our baseline machine learning model."
   ]
  },
  {
   "cell_type": "code",
   "execution_count": 10,
   "metadata": {},
   "outputs": [
    {
     "name": "stdout",
     "output_type": "stream",
     "text": [
      "[ 0.85267857  0.81696429  0.80269058  0.82511211  0.80717489]\n",
      "The accuracy of the model on train datset is 0.820924087124\n"
     ]
    }
   ],
   "source": [
    "lr = LogisticRegression()\n",
    "print cross_val_score(lr, x_col_fire, y_col_fire, cv=5)\n",
    "print \"The accuracy of the model on train dataset is {}\".format(sum(cross_val_score(lr, x_col_fire, y_col_fire, cv=5))/5)"
   ]
  },
  {
   "cell_type": "code",
   "execution_count": 33,
   "metadata": {},
   "outputs": [
    {
     "name": "stdout",
     "output_type": "stream",
     "text": [
      "0.8847631242\n",
      "0.839285714286\n"
     ]
    }
   ],
   "source": [
    "x_train, x_test, y_train, y_test = train_test_split(x_col_fire, y_col_fire, test_size=0.3)\n",
    "lr = LogisticRegression()\n",
    "lr.fit(x_train, y_train)\n",
    "print lr.score(x_train, y_train)\n",
    "print lr.score(x_test, y_test)"
   ]
  },
  {
   "cell_type": "markdown",
   "metadata": {},
   "source": [
    "The test size is 0.3. Accuracy on train data is 0.88 and accuracy on test data is 0.84, which is desired. There is no overfitting and accuracy score is reasonable with respect to cv score."
   ]
  },
  {
   "cell_type": "code",
   "execution_count": 34,
   "metadata": {},
   "outputs": [],
   "source": [
    "y_pred1 = lr.predict(x_col_flood)\n",
    "y_pred2 = lr.predict(x_aus_fire)\n",
    "y_pred3 = lr.predict(x_aus_flood)\n",
    "accuracy1 = metrics.accuracy_score(y_col_flood, y_pred1)\n",
    "accuracy2 = metrics.accuracy_score(y_aus_fire, y_pred2)\n",
    "accuracy3 = metrics.accuracy_score(y_aus_flood, y_pred3)"
   ]
  },
  {
   "cell_type": "code",
   "execution_count": 42,
   "metadata": {},
   "outputs": [
    {
     "name": "stdout",
     "output_type": "stream",
     "text": [
      "accuracy on Colrado flood 2013 is 0.413304252999\n",
      "accuracy on Australia fire 2013 is 0.656163113994\n",
      "accuracy on Australia flood 2013 is 0.597122302158\n"
     ]
    }
   ],
   "source": [
    "print 'accuracy on Colrado flood 2013 is {}'.format(accuracy1)\n",
    "print 'accuracy on Australia fire 2013 is {}'.format(accuracy2)\n",
    "print 'accuracy on Australia flood 2013 is {}'.format(accuracy3)"
   ]
  },
  {
   "cell_type": "code",
   "execution_count": 40,
   "metadata": {},
   "outputs": [
    {
     "name": "stdout",
     "output_type": "stream",
     "text": [
      "precision on Colrado flood 2013 is 0.892307692308\n",
      "precision on Australia fire 2013 is 0.658002735978\n",
      "precision on Australia flood 2013 is 0.85342019544\n"
     ]
    }
   ],
   "source": [
    "precision1 = metrics.precision_score(y_col_flood, y_pred1)\n",
    "precision2 = metrics.precision_score(y_aus_fire, y_pred2)\n",
    "precision3 = metrics.precision_score(y_aus_flood, y_pred3)\n",
    "print 'precision on Colrado flood 2013 is {}'.format(precision1)\n",
    "print 'precision on Australia fire 2013 is {}'.format(precision2)\n",
    "print 'precision on Australia flood 2013 is {}'.format(precision3)"
   ]
  },
  {
   "cell_type": "code",
   "execution_count": 43,
   "metadata": {},
   "outputs": [
    {
     "name": "stdout",
     "output_type": "stream",
     "text": [
      "recall on Colrado flood 2013 is 0.251808972504\n",
      "recall on Australia fire 2013 is 0.799003322259\n",
      "recall on Australia flood 2013 is 0.393984962406\n"
     ]
    }
   ],
   "source": [
    "recall1 = metrics.recall_score(y_col_flood, y_pred1)\n",
    "recall2 = metrics.recall_score(y_aus_fire, y_pred2)\n",
    "recall3 = metrics.recall_score(y_aus_flood, y_pred3)\n",
    "print 'recall on Colrado flood 2013 is {}'.format(recall1)\n",
    "print 'recall on Australia fire 2013 is {}'.format(recall2)\n",
    "print 'recall on Australia flood 2013 is {}'.format(recall3)"
   ]
  },
  {
   "cell_type": "code",
   "execution_count": 44,
   "metadata": {},
   "outputs": [
    {
     "name": "stdout",
     "output_type": "stream",
     "text": [
      "f1-score on Colrado flood 2013 is 0.392776523702\n",
      "f1-score on Australia fire 2013 is 0.721680420105\n",
      "f1-score on Australia flood 2013 is 0.539094650206\n"
     ]
    }
   ],
   "source": [
    "f11 = metrics.f1_score(y_col_flood, y_pred1)\n",
    "f12 = metrics.f1_score(y_aus_fire, y_pred2)\n",
    "f13 = metrics.f1_score(y_aus_flood, y_pred3)\n",
    "print 'f1-score on Colrado flood 2013 is {}'.format(f11)\n",
    "print 'f1-score on Australia fire 2013 is {}'.format(f12)\n",
    "print 'f1-score on Australia flood 2013 is {}'.format(f13)"
   ]
  },
  {
   "cell_type": "code",
   "execution_count": 65,
   "metadata": {},
   "outputs": [
    {
     "data": {
      "image/png": "[encoded data removed]",
      "text/plain": [
       "<Figure size 432x288 with 1 Axes>"
      ]
     },
     "metadata": {},
     "output_type": "display_data"
    }
   ],
   "source": [
    "sns.set()\n",
    "plt.bar([0.9,1.9,2.9], [precision1,precision2,precision3], width=0.1, label='precision')\n",
    "plt.bar([1,2,3], [recall1,recall2,recall3], width=0.1, label='recall')\n",
    "plt.bar([1.1,2.1,3.1], [f11,f12,f13], width=0.1, label='f1-score')\n",
    "plt.xticks([1,2,3], ['col_flood_13', 'aus_fire_13', 'aus_flood_13'])\n",
    "plt.ylim([0,1])\n",
    "plt.legend(loc='best')\n",
    "plt.xlabel('disaster')\n",
    "plt.ylabel('score')\n",
    "plt.show()"
   ]
  }
 ],
 "metadata": {
  "kernelspec": {
   "display_name": "Python 2",
   "language": "python",
   "name": "python2"
  },
  "language_info": {
   "codemirror_mode": {
    "name": "ipython",
    "version": 2
   },
   "file_extension": ".py",
   "mimetype": "text/x-python",
   "name": "python",
   "nbconvert_exporter": "python",
   "pygments_lexer": "ipython2",
   "version": "2.7.14"
  }
 },
 "nbformat": 4,
 "nbformat_minor": 2
}
